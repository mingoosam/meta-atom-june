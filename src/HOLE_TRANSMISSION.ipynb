{
 "cells": [
  {
   "cell_type": "code",
   "execution_count": 1,
   "id": "f4622ab2-cd39-48ff-aa84-09f957d1e8b8",
   "metadata": {},
   "outputs": [
    {
     "name": "stdout",
     "output_type": "stream",
     "text": [
      "Using MPI version 4.0, 1 processes\n"
     ]
    },
    {
     "name": "stderr",
     "output_type": "stream",
     "text": [
      "hwloc/linux: Ignoring PCI device with non-16bit domain.\n",
      "Pass --enable-32bits-pci-domain to configure to support such devices\n",
      "(warning: it would break the library ABI, don't enable unless really needed).\n"
     ]
    }
   ],
   "source": [
    "import os\n",
    "import pickle\n",
    "import shutil \n",
    "\n",
    "import meep as mp\n",
    "import numpy as np\n",
    "import matplotlib.pyplot as plt\n",
    "from tqdm import tqdm\n",
    "import math\n",
    "from IPython import embed"
   ]
  },
  {
   "cell_type": "code",
   "execution_count": 2,
   "id": "75be1cd4-5833-4686-8a49-46be2da84268",
   "metadata": {},
   "outputs": [],
   "source": [
    "# set up simulation constants\n",
    "\n",
    "resolution = 20\n",
    "\n",
    "n_air = 1.0000003\n",
    "n_Si = 1.45\n",
    "n_SiO2 = 3.48\n",
    "\n",
    "a = 0.5   # lattice period \n",
    "\n",
    "#pml_thickness = round(wavelength / 2,3)\n",
    "pml_thickness = 0.780\n",
    "height_hole = 5\n",
    "height_SiO2 = height_hole\n",
    "height_air = 7+2*pml_thickness\n",
    "height_Si_initial= 0.5*(height_air-height_hole)\n",
    "height_Si_add = 0.75*0.5*height_SiO2\n",
    "\n",
    "\n",
    "cell_x = a\n",
    "cell_y = a\n",
    "cell_z = height_air\n",
    "\n",
    "z_air = height_air\n",
    "\n",
    "center_air = 0 \n",
    "center_SiO2 = 0 \n",
    "center_hole = 0\n",
    "center_Si_initial = -0.5*height_hole -0.25*(height_air-height_hole)+0.005\n",
    "center_Si_add = 0.5*height_Si_add\n",
    "\n",
    "min = 0.0\n",
    "max = 0.245\n",
    "\n",
    "\n",
    "#z_siox = pml_thickness + height_siox +height_space\n"
   ]
  },
  {
   "cell_type": "code",
   "execution_count": 3,
   "id": "3b8c3b22-82b3-4dc5-b32d-8c73111c0c79",
   "metadata": {},
   "outputs": [
    {
     "name": "stderr",
     "output_type": "stream",
     "text": [
      "Warning: grid volume is not an integer number of pixels; cell size will be rounded to nearest pixel.\n"
     ]
    },
    {
     "name": "stdout",
     "output_type": "stream",
     "text": [
      "-----------\n",
      "Initializing structure...\n",
      "Halving computational cell along direction x\n",
      "Halving computational cell along direction y\n",
      "time for choose_chunkdivision = 0.00176406 s\n",
      "Working in 3D dimensions.\n",
      "Computational cell is 0.5 x 0.5 x 8.55 with resolution 20\n",
      "     block, center = (0,0,0)\n",
      "          size (1e+20,1e+20,8.56)\n",
      "          axes (1,0,0), (0,1,0), (0,0,1)\n",
      "          dielectric constant epsilon diagonal = (1,1,1)\n",
      "     block, center = (0,0,-3.385)\n",
      "          size (1e+20,1e+20,1.78)\n",
      "          axes (1,0,0), (0,1,0), (0,0,1)\n",
      "          dielectric constant epsilon diagonal = (2.1025,2.1025,2.1025)\n",
      "time for set_epsilon = 0.042686 s\n",
      "-----------\n"
     ]
    },
    {
     "data": {
      "application/vnd.jupyter.widget-view+json": {
       "model_id": "93955e79c33d45d289455ec3925d9ce6",
       "version_major": 2,
       "version_minor": 0
      },
      "text/plain": [
       "FloatProgress(value=0.0, description='0% done ', max=200.0)"
      ]
     },
     "metadata": {},
     "output_type": "display_data"
    },
    {
     "name": "stderr",
     "output_type": "stream",
     "text": [
      "Warning: grid volume is not an integer number of pixels; cell size will be rounded to nearest pixel.\n"
     ]
    },
    {
     "name": "stdout",
     "output_type": "stream",
     "text": [
      "run 0 finished at t = 200.0 (8000 timesteps)\n",
      "     block, center = (0,0,0)\n",
      "          size (1e+20,1e+20,8.56)\n",
      "          axes (1,0,0), (0,1,0), (0,0,1)\n",
      "          dielectric constant epsilon diagonal = (1,1,1)\n",
      "     block, center = (0,0,-3.385)\n",
      "          size (1e+20,1e+20,1.78)\n",
      "          axes (1,0,0), (0,1,0), (0,0,1)\n",
      "          dielectric constant epsilon diagonal = (2.1025,2.1025,2.1025)\n",
      "62.56561325697375\n"
     ]
    },
    {
     "data": {
      "image/png": "[encoded data removed]",
      "text/plain": [
       "<Figure size 1000x1000 with 1 Axes>"
      ]
     },
     "metadata": {},
     "output_type": "display_data"
    }
   ],
   "source": [
    "#initial_geometry setup\n",
    "\n",
    "cell_size = mp.Vector3(cell_x,cell_y,cell_z)\n",
    "pml_layers = [mp.PML(thickness = pml_thickness, direction = mp.Z)]\n",
    "\n",
    "geometry = [mp.Block(size=mp.Vector3(mp.inf,mp.inf,height_air), \n",
    "                    center=mp.Vector3(0,0,center_air),\n",
    "                    material=mp.Medium(index=n_air)),\n",
    "           mp.Block(size=mp.Vector3(mp.inf,mp.inf,height_Si_initial),\n",
    "                   center=mp.Vector3(0,0,center_Si_initial),\n",
    "                   material=mp.Medium(index=n_Si))]\n",
    "\n",
    "\n",
    "k_point = mp.Vector3(0,0,0)\n",
    "\n",
    "## source ##\n",
    "center_source = -0.5*height_hole-0.125*(height_air-height_hole) \n",
    "source_cmpt = mp.Ey\n",
    "\n",
    "wavelength = 1.55\n",
    "freq = 1 / wavelength\n",
    "\n",
    "\n",
    "sources = [mp.Source(mp.ContinuousSource(frequency=freq),\n",
    "                    component=source_cmpt,\n",
    "                    center=mp.Vector3(0,0,center_source),\n",
    "                    size=mp.Vector3(cell_x,cell_y,0))]\n",
    "\n",
    "\n",
    "## flux monitor ##\n",
    "nfreq = 1\n",
    "df = 0\n",
    "fr_center = 0.5*height_hole+0.125*(height_air-height_hole)\n",
    "fr = mp.FluxRegion(center=mp.Vector3(0,0,fr_center), \n",
    "            size=mp.Vector3(cell_x, cell_y, 0))\n",
    "\n",
    "\n",
    "\n",
    "if source_cmpt == mp.Ey:\n",
    "    symmetries = [mp.Mirror(mp.X, phase=+1), #epsilon has mirror symmetry in x and y, phase doesn't matter\n",
    "                  mp.Mirror(mp.Y, phase=-1)] #but sources have -1 phase when reflected normal to their direction\n",
    "elif src_cmpt == mp.Ex:                      #use of symmetries important here, significantly speeds up sim\n",
    "    symmetries = [mp.Mirror(mp.X, phase=-1),\n",
    "                  mp.Mirror(mp.Y, phase=+1)]\n",
    "elif src_cmpt == mp.Ez:\n",
    "    symmetries = [mp.Mirror(mp.X, phase=+1),\n",
    "                  mp.Mirror(mp.Y, phase=+1)]\n",
    "\n",
    "\n",
    "sim = mp.Simulation(cell_size=cell_size,\n",
    "                    geometry=geometry,\n",
    "                    sources=sources,\n",
    "                    k_point=k_point,\n",
    "                    boundary_layers=pml_layers,\n",
    "                    symmetries=symmetries,\n",
    "                    resolution=resolution)\n",
    "flux_object = sim.add_flux(freq, df, nfreq, fr)\n",
    "\n",
    "\n",
    "sim.run(until=200)\n",
    "\n",
    "\n",
    "## plot initial geometry ##\n",
    "fig = plt.figure(figsize=(10,10))\n",
    "plot_plane = mp.Volume(center=mp.Vector3(0,0.0*a,0),\n",
    "                            size=mp.Vector3(a,0,cell_z))\n",
    "sim.plot2D(output_plane=plot_plane\n",
    "           #fields=mp.Ey\n",
    "           )\n",
    "plt.grid(False)\n",
    "\n",
    "initial_flux = mp.get_fluxes(flux_object)[0]\n",
    "print(initial_flux)\n"
   ]
  },
  {
   "cell_type": "code",
   "execution_count": 4,
   "id": "46169a28-6fe8-44b9-ab80-55a250caa8de",
   "metadata": {},
   "outputs": [
    {
     "name": "stderr",
     "output_type": "stream",
     "text": [
      "Warning: grid volume is not an integer number of pixels; cell size will be rounded to nearest pixel.\n"
     ]
    },
    {
     "name": "stdout",
     "output_type": "stream",
     "text": [
      "     block, center = (0,0,0)\n",
      "          size (1e+20,1e+20,8.56)\n",
      "          axes (1,0,0), (0,1,0), (0,0,1)\n",
      "          dielectric constant epsilon diagonal = (1,1,1)\n",
      "     block, center = (0,0,-3.385)\n",
      "          size (1e+20,1e+20,1.78)\n",
      "          axes (1,0,0), (0,1,0), (0,0,1)\n",
      "          dielectric constant epsilon diagonal = (2.1025,2.1025,2.1025)\n",
      "     block, center = (0,0,0)\n",
      "          size (1e+20,1e+20,5)\n",
      "          axes (1,0,0), (0,1,0), (0,0,1)\n",
      "          dielectric constant epsilon diagonal = (12.1104,12.1104,12.1104)\n",
      "     block, center = (0,0,0.9375)\n",
      "          size (1e+20,1e+20,1.875)\n",
      "          axes (1,0,0), (0,1,0), (0,0,1)\n",
      "          dielectric constant epsilon diagonal = (2.1025,2.1025,2.1025)\n"
     ]
    },
    {
     "data": {
      "image/png": "[encoded data removed]",
      "text/plain": [
       "<Figure size 1000x1000 with 1 Axes>"
      ]
     },
     "metadata": {},
     "output_type": "display_data"
    }
   ],
   "source": [
    "geometry.append(mp.Block(size=mp.Vector3(mp.inf,mp.inf,height_SiO2), \n",
    "                    center=mp.Vector3(0,0,center_SiO2),\n",
    "                    material=mp.Medium(index=n_SiO2)))\n",
    "\n",
    "geometry.append(mp.Block(size=mp.Vector3(mp.inf,mp.inf,height_Si_add), \n",
    "                    center=mp.Vector3(0,0,center_Si_add),\n",
    "                    material=mp.Medium(index=n_Si)))\n",
    "                \n",
    "fig = plt.figure(figsize=(10,10))\n",
    "plot_plane = mp.Volume(center=mp.Vector3(0,0.0*a,0),\n",
    "                            size=mp.Vector3(a,0,cell_z))\n",
    "sim.plot2D(output_plane=plot_plane\n",
    "           #fields=mp.Ey\n",
    "           )\n",
    "plt.grid(False)\n",
    "\n",
    "\n",
    "## initialize matrix for data collection ##\n",
    "##########################################\n",
    "\n",
    "num = 15 # this is the number of pillars we will build\n",
    "data = np.zeros((3,num))\n",
    "\n",
    "\n",
    "\n"
   ]
  },
  {
   "cell_type": "code",
   "execution_count": 5,
   "id": "cc65a433-549b-40c3-a389-8c1c11b163ab",
   "metadata": {
    "scrolled": true
   },
   "outputs": [
    {
     "name": "stderr",
     "output_type": "stream",
     "text": [
      "  0%|                                                                          | 0/15 [00:00<?, ?it/s]Warning: grid volume is not an integer number of pixels; cell size will be rounded to nearest pixel.\n"
     ]
    },
    {
     "name": "stdout",
     "output_type": "stream",
     "text": [
      "-----------\n",
      "Initializing structure...\n",
      "Halving computational cell along direction x\n",
      "Halving computational cell along direction y\n",
      "time for choose_chunkdivision = 0.00184989 s\n",
      "Working in 3D dimensions.\n",
      "Computational cell is 0.5 x 0.5 x 8.55 with resolution 20\n",
      "     block, center = (0,0,0)\n",
      "          size (1e+20,1e+20,8.56)\n",
      "          axes (1,0,0), (0,1,0), (0,0,1)\n",
      "          dielectric constant epsilon diagonal = (1,1,1)\n",
      "     block, center = (0,0,-3.385)\n",
      "          size (1e+20,1e+20,1.78)\n",
      "          axes (1,0,0), (0,1,0), (0,0,1)\n",
      "          dielectric constant epsilon diagonal = (2.1025,2.1025,2.1025)\n",
      "     block, center = (0,0,0)\n",
      "          size (1e+20,1e+20,5)\n",
      "          axes (1,0,0), (0,1,0), (0,0,1)\n",
      "          dielectric constant epsilon diagonal = (12.1104,12.1104,12.1104)\n",
      "     block, center = (0,0,0.9375)\n",
      "          size (1e+20,1e+20,1.875)\n",
      "          axes (1,0,0), (0,1,0), (0,0,1)\n",
      "          dielectric constant epsilon diagonal = (2.1025,2.1025,2.1025)\n",
      "     cylinder, center = (0,0,0)\n",
      "          radius 0, height 5, axis (0, 0, 1)\n",
      "          dielectric constant epsilon diagonal = (1,1,1)\n",
      "time for set_epsilon = 0.0490241 s\n",
      "-----------\n"
     ]
    },
    {
     "data": {
      "application/vnd.jupyter.widget-view+json": {
       "model_id": "a608cb0c0fb048ee84595dae20102007",
       "version_major": 2,
       "version_minor": 0
      },
      "text/plain": [
       "FloatProgress(value=0.0, description='0% done ', max=200.0)"
      ]
     },
     "metadata": {},
     "output_type": "display_data"
    },
    {
     "name": "stdout",
     "output_type": "stream",
     "text": [
      "run 0 finished at t = 200.0 (8000 timesteps)\n",
      "MPB solved for frequency_1(0,0,0.645161) = 0.645161 after 6 iters\n",
      "Dominant planewave for band 1: (0.000000,0.000000,0.645161)\n"
     ]
    },
    {
     "name": "stderr",
     "output_type": "stream",
     "text": [
      "  7%|████▍                                                             | 1/15 [00:01<00:19,  1.40s/it]Warning: grid volume is not an integer number of pixels; cell size will be rounded to nearest pixel.\n"
     ]
    },
    {
     "name": "stdout",
     "output_type": "stream",
     "text": [
      "i= 0,radius=0.0\n",
      "-----------\n",
      "Initializing structure...\n",
      "Halving computational cell along direction x\n",
      "Halving computational cell along direction y\n",
      "time for choose_chunkdivision = 0.00170708 s\n",
      "Working in 3D dimensions.\n",
      "Computational cell is 0.5 x 0.5 x 8.55 with resolution 20\n",
      "     block, center = (0,0,0)\n",
      "          size (1e+20,1e+20,8.56)\n",
      "          axes (1,0,0), (0,1,0), (0,0,1)\n",
      "          dielectric constant epsilon diagonal = (1,1,1)\n",
      "     block, center = (0,0,-3.385)\n",
      "          size (1e+20,1e+20,1.78)\n",
      "          axes (1,0,0), (0,1,0), (0,0,1)\n",
      "          dielectric constant epsilon diagonal = (2.1025,2.1025,2.1025)\n",
      "     block, center = (0,0,0)\n",
      "          size (1e+20,1e+20,5)\n",
      "          axes (1,0,0), (0,1,0), (0,0,1)\n",
      "          dielectric constant epsilon diagonal = (12.1104,12.1104,12.1104)\n",
      "     block, center = (0,0,0.9375)\n",
      "          size (1e+20,1e+20,1.875)\n",
      "          axes (1,0,0), (0,1,0), (0,0,1)\n",
      "          dielectric constant epsilon diagonal = (2.1025,2.1025,2.1025)\n",
      "     cylinder, center = (0,0,0)\n",
      "          radius 0.0175, height 5, axis (0, 0, 1)\n",
      "          dielectric constant epsilon diagonal = (1,1,1)\n",
      "time for set_epsilon = 0.047157 s\n",
      "-----------\n"
     ]
    },
    {
     "data": {
      "application/vnd.jupyter.widget-view+json": {
       "model_id": "c302e46dcc984b229a1ed27462ea4021",
       "version_major": 2,
       "version_minor": 0
      },
      "text/plain": [
       "FloatProgress(value=0.0, description='0% done ', max=200.0)"
      ]
     },
     "metadata": {},
     "output_type": "display_data"
    },
    {
     "name": "stdout",
     "output_type": "stream",
     "text": [
      "run 0 finished at t = 200.0 (8000 timesteps)\n",
      "MPB solved for frequency_1(0,0,0.645161) = 0.645161 after 6 iters\n",
      "Dominant planewave for band 1: (0.000000,0.000000,0.645161)\n"
     ]
    },
    {
     "name": "stderr",
     "output_type": "stream",
     "text": [
      " 13%|████████▊                                                         | 2/15 [00:02<00:18,  1.39s/it]Warning: grid volume is not an integer number of pixels; cell size will be rounded to nearest pixel.\n"
     ]
    },
    {
     "name": "stdout",
     "output_type": "stream",
     "text": [
      "i= 1,radius=0.017499999999999998\n",
      "-----------\n",
      "Initializing structure...\n",
      "Halving computational cell along direction x\n",
      "Halving computational cell along direction y\n",
      "time for choose_chunkdivision = 0.00170088 s\n",
      "Working in 3D dimensions.\n",
      "Computational cell is 0.5 x 0.5 x 8.55 with resolution 20\n",
      "     block, center = (0,0,0)\n",
      "          size (1e+20,1e+20,8.56)\n",
      "          axes (1,0,0), (0,1,0), (0,0,1)\n",
      "          dielectric constant epsilon diagonal = (1,1,1)\n",
      "     block, center = (0,0,-3.385)\n",
      "          size (1e+20,1e+20,1.78)\n",
      "          axes (1,0,0), (0,1,0), (0,0,1)\n",
      "          dielectric constant epsilon diagonal = (2.1025,2.1025,2.1025)\n",
      "     block, center = (0,0,0)\n",
      "          size (1e+20,1e+20,5)\n",
      "          axes (1,0,0), (0,1,0), (0,0,1)\n",
      "          dielectric constant epsilon diagonal = (12.1104,12.1104,12.1104)\n",
      "     block, center = (0,0,0.9375)\n",
      "          size (1e+20,1e+20,1.875)\n",
      "          axes (1,0,0), (0,1,0), (0,0,1)\n",
      "          dielectric constant epsilon diagonal = (2.1025,2.1025,2.1025)\n",
      "     cylinder, center = (0,0,0)\n",
      "          radius 0.035, height 5, axis (0, 0, 1)\n",
      "          dielectric constant epsilon diagonal = (1,1,1)\n",
      "time for set_epsilon = 0.0573449 s\n",
      "-----------\n"
     ]
    },
    {
     "data": {
      "application/vnd.jupyter.widget-view+json": {
       "model_id": "13e38bb82b224bc2a3a1795cc8c8e8d3",
       "version_major": 2,
       "version_minor": 0
      },
      "text/plain": [
       "FloatProgress(value=0.0, description='0% done ', max=200.0)"
      ]
     },
     "metadata": {},
     "output_type": "display_data"
    },
    {
     "name": "stdout",
     "output_type": "stream",
     "text": [
      "run 0 finished at t = 200.0 (8000 timesteps)\n",
      "MPB solved for frequency_1(0,0,0.645161) = 0.645161 after 6 iters\n",
      "Dominant planewave for band 1: (0.000000,0.000000,0.645161)\n"
     ]
    },
    {
     "name": "stderr",
     "output_type": "stream",
     "text": [
      " 20%|█████████████▏                                                    | 3/15 [00:04<00:16,  1.40s/it]Warning: grid volume is not an integer number of pixels; cell size will be rounded to nearest pixel.\n"
     ]
    },
    {
     "name": "stdout",
     "output_type": "stream",
     "text": [
      "i= 2,radius=0.034999999999999996\n",
      "-----------\n",
      "Initializing structure...\n",
      "Halving computational cell along direction x\n",
      "Halving computational cell along direction y\n",
      "time for choose_chunkdivision = 0.0016861 s\n",
      "Working in 3D dimensions.\n",
      "Computational cell is 0.5 x 0.5 x 8.55 with resolution 20\n",
      "     block, center = (0,0,0)\n",
      "          size (1e+20,1e+20,8.56)\n",
      "          axes (1,0,0), (0,1,0), (0,0,1)\n",
      "          dielectric constant epsilon diagonal = (1,1,1)\n",
      "     block, center = (0,0,-3.385)\n",
      "          size (1e+20,1e+20,1.78)\n",
      "          axes (1,0,0), (0,1,0), (0,0,1)\n",
      "          dielectric constant epsilon diagonal = (2.1025,2.1025,2.1025)\n",
      "     block, center = (0,0,0)\n",
      "          size (1e+20,1e+20,5)\n",
      "          axes (1,0,0), (0,1,0), (0,0,1)\n",
      "          dielectric constant epsilon diagonal = (12.1104,12.1104,12.1104)\n",
      "     block, center = (0,0,0.9375)\n",
      "          size (1e+20,1e+20,1.875)\n",
      "          axes (1,0,0), (0,1,0), (0,0,1)\n",
      "          dielectric constant epsilon diagonal = (2.1025,2.1025,2.1025)\n",
      "     cylinder, center = (0,0,0)\n",
      "          radius 0.0525, height 5, axis (0, 0, 1)\n",
      "          dielectric constant epsilon diagonal = (1,1,1)\n",
      "time for set_epsilon = 0.09091 s\n",
      "-----------\n"
     ]
    },
    {
     "data": {
      "application/vnd.jupyter.widget-view+json": {
       "model_id": "e4e1f577f8eb4bc3912109f911851806",
       "version_major": 2,
       "version_minor": 0
      },
      "text/plain": [
       "FloatProgress(value=0.0, description='0% done ', max=200.0)"
      ]
     },
     "metadata": {},
     "output_type": "display_data"
    },
    {
     "name": "stdout",
     "output_type": "stream",
     "text": [
      "run 0 finished at t = 200.0 (8000 timesteps)\n",
      "MPB solved for frequency_1(0,0,0.645161) = 0.645161 after 6 iters\n",
      "Dominant planewave for band 1: (0.000000,0.000000,0.645161)\n"
     ]
    },
    {
     "name": "stderr",
     "output_type": "stream",
     "text": [
      " 27%|█████████████████▌                                                | 4/15 [00:05<00:15,  1.45s/it]Warning: grid volume is not an integer number of pixels; cell size will be rounded to nearest pixel.\n"
     ]
    },
    {
     "name": "stdout",
     "output_type": "stream",
     "text": [
      "i= 3,radius=0.05249999999999999\n",
      "-----------\n",
      "Initializing structure...\n",
      "Halving computational cell along direction x\n",
      "Halving computational cell along direction y\n",
      "time for choose_chunkdivision = 0.00169301 s\n",
      "Working in 3D dimensions.\n",
      "Computational cell is 0.5 x 0.5 x 8.55 with resolution 20\n",
      "     block, center = (0,0,0)\n",
      "          size (1e+20,1e+20,8.56)\n",
      "          axes (1,0,0), (0,1,0), (0,0,1)\n",
      "          dielectric constant epsilon diagonal = (1,1,1)\n",
      "     block, center = (0,0,-3.385)\n",
      "          size (1e+20,1e+20,1.78)\n",
      "          axes (1,0,0), (0,1,0), (0,0,1)\n",
      "          dielectric constant epsilon diagonal = (2.1025,2.1025,2.1025)\n",
      "     block, center = (0,0,0)\n",
      "          size (1e+20,1e+20,5)\n",
      "          axes (1,0,0), (0,1,0), (0,0,1)\n",
      "          dielectric constant epsilon diagonal = (12.1104,12.1104,12.1104)\n",
      "     block, center = (0,0,0.9375)\n",
      "          size (1e+20,1e+20,1.875)\n",
      "          axes (1,0,0), (0,1,0), (0,0,1)\n",
      "          dielectric constant epsilon diagonal = (2.1025,2.1025,2.1025)\n",
      "     cylinder, center = (0,0,0)\n",
      "          radius 0.07, height 5, axis (0, 0, 1)\n",
      "          dielectric constant epsilon diagonal = (1,1,1)\n",
      "time for set_epsilon = 0.0908811 s\n",
      "-----------\n"
     ]
    },
    {
     "data": {
      "application/vnd.jupyter.widget-view+json": {
       "model_id": "3dbbfe1c7e2541e1ad0f7722b8a98cfd",
       "version_major": 2,
       "version_minor": 0
      },
      "text/plain": [
       "FloatProgress(value=0.0, description='0% done ', max=200.0)"
      ]
     },
     "metadata": {},
     "output_type": "display_data"
    },
    {
     "name": "stdout",
     "output_type": "stream",
     "text": [
      "run 0 finished at t = 200.0 (8000 timesteps)\n",
      "MPB solved for frequency_1(0,0,0.645161) = 0.645161 after 6 iters\n",
      "Dominant planewave for band 1: (0.000000,0.000000,0.645161)\n"
     ]
    },
    {
     "name": "stderr",
     "output_type": "stream",
     "text": [
      " 33%|██████████████████████                                            | 5/15 [00:07<00:14,  1.48s/it]Warning: grid volume is not an integer number of pixels; cell size will be rounded to nearest pixel.\n"
     ]
    },
    {
     "name": "stdout",
     "output_type": "stream",
     "text": [
      "i= 4,radius=0.06999999999999999\n",
      "-----------\n",
      "Initializing structure...\n",
      "Halving computational cell along direction x\n",
      "Halving computational cell along direction y\n",
      "time for choose_chunkdivision = 0.00170016 s\n",
      "Working in 3D dimensions.\n",
      "Computational cell is 0.5 x 0.5 x 8.55 with resolution 20\n",
      "     block, center = (0,0,0)\n",
      "          size (1e+20,1e+20,8.56)\n",
      "          axes (1,0,0), (0,1,0), (0,0,1)\n",
      "          dielectric constant epsilon diagonal = (1,1,1)\n",
      "     block, center = (0,0,-3.385)\n",
      "          size (1e+20,1e+20,1.78)\n",
      "          axes (1,0,0), (0,1,0), (0,0,1)\n",
      "          dielectric constant epsilon diagonal = (2.1025,2.1025,2.1025)\n",
      "     block, center = (0,0,0)\n",
      "          size (1e+20,1e+20,5)\n",
      "          axes (1,0,0), (0,1,0), (0,0,1)\n",
      "          dielectric constant epsilon diagonal = (12.1104,12.1104,12.1104)\n",
      "     block, center = (0,0,0.9375)\n",
      "          size (1e+20,1e+20,1.875)\n",
      "          axes (1,0,0), (0,1,0), (0,0,1)\n",
      "          dielectric constant epsilon diagonal = (2.1025,2.1025,2.1025)\n",
      "     cylinder, center = (0,0,0)\n",
      "          radius 0.0875, height 5, axis (0, 0, 1)\n",
      "          dielectric constant epsilon diagonal = (1,1,1)\n",
      "time for set_epsilon = 0.0931761 s\n",
      "-----------\n"
     ]
    },
    {
     "data": {
      "application/vnd.jupyter.widget-view+json": {
       "model_id": "3ed8db3662964d4faf9d0d0fe263e9d1",
       "version_major": 2,
       "version_minor": 0
      },
      "text/plain": [
       "FloatProgress(value=0.0, description='0% done ', max=200.0)"
      ]
     },
     "metadata": {},
     "output_type": "display_data"
    },
    {
     "name": "stdout",
     "output_type": "stream",
     "text": [
      "run 0 finished at t = 200.0 (8000 timesteps)\n",
      "MPB solved for frequency_1(0,0,0.645161) = 0.645161 after 6 iters\n",
      "Dominant planewave for band 1: (0.000000,0.000000,0.645161)\n"
     ]
    },
    {
     "name": "stderr",
     "output_type": "stream",
     "text": [
      " 40%|██████████████████████████▍                                       | 6/15 [00:08<00:13,  1.49s/it]Warning: grid volume is not an integer number of pixels; cell size will be rounded to nearest pixel.\n"
     ]
    },
    {
     "name": "stdout",
     "output_type": "stream",
     "text": [
      "i= 5,radius=0.0875\n",
      "-----------\n",
      "Initializing structure...\n",
      "Halving computational cell along direction x\n",
      "Halving computational cell along direction y\n",
      "time for choose_chunkdivision = 0.00165987 s\n",
      "Working in 3D dimensions.\n",
      "Computational cell is 0.5 x 0.5 x 8.55 with resolution 20\n",
      "     block, center = (0,0,0)\n",
      "          size (1e+20,1e+20,8.56)\n",
      "          axes (1,0,0), (0,1,0), (0,0,1)\n",
      "          dielectric constant epsilon diagonal = (1,1,1)\n",
      "     block, center = (0,0,-3.385)\n",
      "          size (1e+20,1e+20,1.78)\n",
      "          axes (1,0,0), (0,1,0), (0,0,1)\n",
      "          dielectric constant epsilon diagonal = (2.1025,2.1025,2.1025)\n",
      "     block, center = (0,0,0)\n",
      "          size (1e+20,1e+20,5)\n",
      "          axes (1,0,0), (0,1,0), (0,0,1)\n",
      "          dielectric constant epsilon diagonal = (12.1104,12.1104,12.1104)\n",
      "     block, center = (0,0,0.9375)\n",
      "          size (1e+20,1e+20,1.875)\n",
      "          axes (1,0,0), (0,1,0), (0,0,1)\n",
      "          dielectric constant epsilon diagonal = (2.1025,2.1025,2.1025)\n",
      "     cylinder, center = (0,0,0)\n",
      "          radius 0.105, height 5, axis (0, 0, 1)\n",
      "          dielectric constant epsilon diagonal = (1,1,1)\n",
      "time for set_epsilon = 0.095361 s\n",
      "-----------\n"
     ]
    },
    {
     "data": {
      "application/vnd.jupyter.widget-view+json": {
       "model_id": "ab611e659e824e64b3d7944d5442f9d4",
       "version_major": 2,
       "version_minor": 0
      },
      "text/plain": [
       "FloatProgress(value=0.0, description='0% done ', max=200.0)"
      ]
     },
     "metadata": {},
     "output_type": "display_data"
    },
    {
     "name": "stdout",
     "output_type": "stream",
     "text": [
      "run 0 finished at t = 200.0 (8000 timesteps)\n",
      "MPB solved for frequency_1(0,0,0.645161) = 0.645161 after 6 iters\n",
      "Dominant planewave for band 1: (0.000000,0.000000,0.645161)\n"
     ]
    },
    {
     "name": "stderr",
     "output_type": "stream",
     "text": [
      " 47%|██████████████████████████████▊                                   | 7/15 [00:10<00:12,  1.51s/it]Warning: grid volume is not an integer number of pixels; cell size will be rounded to nearest pixel.\n"
     ]
    },
    {
     "name": "stdout",
     "output_type": "stream",
     "text": [
      "i= 6,radius=0.10499999999999998\n",
      "-----------\n",
      "Initializing structure...\n",
      "Halving computational cell along direction x\n",
      "Halving computational cell along direction y\n",
      "time for choose_chunkdivision = 0.00166202 s\n",
      "Working in 3D dimensions.\n",
      "Computational cell is 0.5 x 0.5 x 8.55 with resolution 20\n",
      "     block, center = (0,0,0)\n",
      "          size (1e+20,1e+20,8.56)\n",
      "          axes (1,0,0), (0,1,0), (0,0,1)\n",
      "          dielectric constant epsilon diagonal = (1,1,1)\n",
      "     block, center = (0,0,-3.385)\n",
      "          size (1e+20,1e+20,1.78)\n",
      "          axes (1,0,0), (0,1,0), (0,0,1)\n",
      "          dielectric constant epsilon diagonal = (2.1025,2.1025,2.1025)\n",
      "     block, center = (0,0,0)\n",
      "          size (1e+20,1e+20,5)\n",
      "          axes (1,0,0), (0,1,0), (0,0,1)\n",
      "          dielectric constant epsilon diagonal = (12.1104,12.1104,12.1104)\n",
      "     block, center = (0,0,0.9375)\n",
      "          size (1e+20,1e+20,1.875)\n",
      "          axes (1,0,0), (0,1,0), (0,0,1)\n",
      "          dielectric constant epsilon diagonal = (2.1025,2.1025,2.1025)\n",
      "     cylinder, center = (0,0,0)\n",
      "          radius 0.1225, height 5, axis (0, 0, 1)\n",
      "          dielectric constant epsilon diagonal = (1,1,1)\n",
      "time for set_epsilon = 0.0890789 s\n",
      "-----------\n"
     ]
    },
    {
     "data": {
      "application/vnd.jupyter.widget-view+json": {
       "model_id": "b8998678c6034bc29451813577a5cda2",
       "version_major": 2,
       "version_minor": 0
      },
      "text/plain": [
       "FloatProgress(value=0.0, description='0% done ', max=200.0)"
      ]
     },
     "metadata": {},
     "output_type": "display_data"
    },
    {
     "name": "stdout",
     "output_type": "stream",
     "text": [
      "run 0 finished at t = 200.0 (8000 timesteps)\n",
      "MPB solved for frequency_1(0,0,0.645161) = 0.645161 after 6 iters\n",
      "Dominant planewave for band 1: (0.000000,0.000000,0.645161)\n"
     ]
    },
    {
     "name": "stderr",
     "output_type": "stream",
     "text": [
      " 53%|███████████████████████████████████▏                              | 8/15 [00:11<00:10,  1.50s/it]Warning: grid volume is not an integer number of pixels; cell size will be rounded to nearest pixel.\n"
     ]
    },
    {
     "name": "stdout",
     "output_type": "stream",
     "text": [
      "i= 7,radius=0.12249999999999998\n",
      "-----------\n",
      "Initializing structure...\n",
      "Halving computational cell along direction x\n",
      "Halving computational cell along direction y\n",
      "time for choose_chunkdivision = 0.00169897 s\n",
      "Working in 3D dimensions.\n",
      "Computational cell is 0.5 x 0.5 x 8.55 with resolution 20\n",
      "     block, center = (0,0,0)\n",
      "          size (1e+20,1e+20,8.56)\n",
      "          axes (1,0,0), (0,1,0), (0,0,1)\n",
      "          dielectric constant epsilon diagonal = (1,1,1)\n",
      "     block, center = (0,0,-3.385)\n",
      "          size (1e+20,1e+20,1.78)\n",
      "          axes (1,0,0), (0,1,0), (0,0,1)\n",
      "          dielectric constant epsilon diagonal = (2.1025,2.1025,2.1025)\n",
      "     block, center = (0,0,0)\n",
      "          size (1e+20,1e+20,5)\n",
      "          axes (1,0,0), (0,1,0), (0,0,1)\n",
      "          dielectric constant epsilon diagonal = (12.1104,12.1104,12.1104)\n",
      "     block, center = (0,0,0.9375)\n",
      "          size (1e+20,1e+20,1.875)\n",
      "          axes (1,0,0), (0,1,0), (0,0,1)\n",
      "          dielectric constant epsilon diagonal = (2.1025,2.1025,2.1025)\n",
      "     cylinder, center = (0,0,0)\n",
      "          radius 0.14, height 5, axis (0, 0, 1)\n",
      "          dielectric constant epsilon diagonal = (1,1,1)\n",
      "time for set_epsilon = 0.0977211 s\n",
      "-----------\n"
     ]
    },
    {
     "data": {
      "application/vnd.jupyter.widget-view+json": {
       "model_id": "ec622fdf0c8341ffac86bcbca9ca6fd4",
       "version_major": 2,
       "version_minor": 0
      },
      "text/plain": [
       "FloatProgress(value=0.0, description='0% done ', max=200.0)"
      ]
     },
     "metadata": {},
     "output_type": "display_data"
    },
    {
     "name": "stdout",
     "output_type": "stream",
     "text": [
      "run 0 finished at t = 200.0 (8000 timesteps)\n",
      "MPB solved for frequency_1(0,0,0.645161) = 0.645161 after 6 iters\n",
      "Dominant planewave for band 1: (0.000000,0.000000,0.645161)\n"
     ]
    },
    {
     "name": "stderr",
     "output_type": "stream",
     "text": [
      " 60%|███████████████████████████████████████▌                          | 9/15 [00:13<00:09,  1.51s/it]Warning: grid volume is not an integer number of pixels; cell size will be rounded to nearest pixel.\n"
     ]
    },
    {
     "name": "stdout",
     "output_type": "stream",
     "text": [
      "i= 8,radius=0.13999999999999999\n",
      "-----------\n",
      "Initializing structure...\n",
      "Halving computational cell along direction x\n",
      "Halving computational cell along direction y\n",
      "time for choose_chunkdivision = 0.00166082 s\n",
      "Working in 3D dimensions.\n",
      "Computational cell is 0.5 x 0.5 x 8.55 with resolution 20\n",
      "     block, center = (0,0,0)\n",
      "          size (1e+20,1e+20,8.56)\n",
      "          axes (1,0,0), (0,1,0), (0,0,1)\n",
      "          dielectric constant epsilon diagonal = (1,1,1)\n",
      "     block, center = (0,0,-3.385)\n",
      "          size (1e+20,1e+20,1.78)\n",
      "          axes (1,0,0), (0,1,0), (0,0,1)\n",
      "          dielectric constant epsilon diagonal = (2.1025,2.1025,2.1025)\n",
      "     block, center = (0,0,0)\n",
      "          size (1e+20,1e+20,5)\n",
      "          axes (1,0,0), (0,1,0), (0,0,1)\n",
      "          dielectric constant epsilon diagonal = (12.1104,12.1104,12.1104)\n",
      "     block, center = (0,0,0.9375)\n",
      "          size (1e+20,1e+20,1.875)\n",
      "          axes (1,0,0), (0,1,0), (0,0,1)\n",
      "          dielectric constant epsilon diagonal = (2.1025,2.1025,2.1025)\n",
      "     cylinder, center = (0,0,0)\n",
      "          radius 0.1575, height 5, axis (0, 0, 1)\n",
      "          dielectric constant epsilon diagonal = (1,1,1)\n",
      "time for set_epsilon = 0.101441 s\n",
      "-----------\n"
     ]
    },
    {
     "data": {
      "application/vnd.jupyter.widget-view+json": {
       "model_id": "eb52ecb544cb4768b76093ccf5f005ed",
       "version_major": 2,
       "version_minor": 0
      },
      "text/plain": [
       "FloatProgress(value=0.0, description='0% done ', max=200.0)"
      ]
     },
     "metadata": {},
     "output_type": "display_data"
    },
    {
     "name": "stdout",
     "output_type": "stream",
     "text": [
      "run 0 finished at t = 200.0 (8000 timesteps)\n",
      "MPB solved for frequency_1(0,0,0.645161) = 0.645161 after 6 iters\n",
      "Dominant planewave for band 1: (0.000000,0.000000,0.645161)\n"
     ]
    },
    {
     "name": "stderr",
     "output_type": "stream",
     "text": [
      " 67%|███████████████████████████████████████████▎                     | 10/15 [00:14<00:07,  1.52s/it]Warning: grid volume is not an integer number of pixels; cell size will be rounded to nearest pixel.\n"
     ]
    },
    {
     "name": "stdout",
     "output_type": "stream",
     "text": [
      "i= 9,radius=0.15749999999999997\n",
      "-----------\n",
      "Initializing structure...\n",
      "Halving computational cell along direction x\n",
      "Halving computational cell along direction y\n",
      "time for choose_chunkdivision = 0.00167203 s\n",
      "Working in 3D dimensions.\n",
      "Computational cell is 0.5 x 0.5 x 8.55 with resolution 20\n",
      "     block, center = (0,0,0)\n",
      "          size (1e+20,1e+20,8.56)\n",
      "          axes (1,0,0), (0,1,0), (0,0,1)\n",
      "          dielectric constant epsilon diagonal = (1,1,1)\n",
      "     block, center = (0,0,-3.385)\n",
      "          size (1e+20,1e+20,1.78)\n",
      "          axes (1,0,0), (0,1,0), (0,0,1)\n",
      "          dielectric constant epsilon diagonal = (2.1025,2.1025,2.1025)\n",
      "     block, center = (0,0,0)\n",
      "          size (1e+20,1e+20,5)\n",
      "          axes (1,0,0), (0,1,0), (0,0,1)\n",
      "          dielectric constant epsilon diagonal = (12.1104,12.1104,12.1104)\n",
      "     block, center = (0,0,0.9375)\n",
      "          size (1e+20,1e+20,1.875)\n",
      "          axes (1,0,0), (0,1,0), (0,0,1)\n",
      "          dielectric constant epsilon diagonal = (2.1025,2.1025,2.1025)\n",
      "     cylinder, center = (0,0,0)\n",
      "          radius 0.175, height 5, axis (0, 0, 1)\n",
      "          dielectric constant epsilon diagonal = (1,1,1)\n",
      "time for set_epsilon = 0.0911319 s\n",
      "-----------\n"
     ]
    },
    {
     "data": {
      "application/vnd.jupyter.widget-view+json": {
       "model_id": "2717ba54955c4c049386c7acd7568edb",
       "version_major": 2,
       "version_minor": 0
      },
      "text/plain": [
       "FloatProgress(value=0.0, description='0% done ', max=200.0)"
      ]
     },
     "metadata": {},
     "output_type": "display_data"
    },
    {
     "name": "stdout",
     "output_type": "stream",
     "text": [
      "run 0 finished at t = 200.0 (8000 timesteps)\n",
      "MPB solved for frequency_1(0,0,0.645161) = 0.645161 after 6 iters\n",
      "Dominant planewave for band 1: (0.000000,0.000000,0.645161)\n"
     ]
    },
    {
     "name": "stderr",
     "output_type": "stream",
     "text": [
      " 73%|███████████████████████████████████████████████▋                 | 11/15 [00:16<00:06,  1.51s/it]Warning: grid volume is not an integer number of pixels; cell size will be rounded to nearest pixel.\n"
     ]
    },
    {
     "name": "stdout",
     "output_type": "stream",
     "text": [
      "i= 10,radius=0.175\n",
      "-----------\n",
      "Initializing structure...\n",
      "Halving computational cell along direction x\n",
      "Halving computational cell along direction y\n",
      "time for choose_chunkdivision = 0.0016582 s\n",
      "Working in 3D dimensions.\n",
      "Computational cell is 0.5 x 0.5 x 8.55 with resolution 20\n",
      "     block, center = (0,0,0)\n",
      "          size (1e+20,1e+20,8.56)\n",
      "          axes (1,0,0), (0,1,0), (0,0,1)\n",
      "          dielectric constant epsilon diagonal = (1,1,1)\n",
      "     block, center = (0,0,-3.385)\n",
      "          size (1e+20,1e+20,1.78)\n",
      "          axes (1,0,0), (0,1,0), (0,0,1)\n",
      "          dielectric constant epsilon diagonal = (2.1025,2.1025,2.1025)\n",
      "     block, center = (0,0,0)\n",
      "          size (1e+20,1e+20,5)\n",
      "          axes (1,0,0), (0,1,0), (0,0,1)\n",
      "          dielectric constant epsilon diagonal = (12.1104,12.1104,12.1104)\n",
      "     block, center = (0,0,0.9375)\n",
      "          size (1e+20,1e+20,1.875)\n",
      "          axes (1,0,0), (0,1,0), (0,0,1)\n",
      "          dielectric constant epsilon diagonal = (2.1025,2.1025,2.1025)\n",
      "     cylinder, center = (0,0,0)\n",
      "          radius 0.1925, height 5, axis (0, 0, 1)\n",
      "          dielectric constant epsilon diagonal = (1,1,1)\n",
      "time for set_epsilon = 0.112107 s\n",
      "-----------\n"
     ]
    },
    {
     "data": {
      "application/vnd.jupyter.widget-view+json": {
       "model_id": "f5ca908cb8234fcd8886dbaf5c462e2f",
       "version_major": 2,
       "version_minor": 0
      },
      "text/plain": [
       "FloatProgress(value=0.0, description='0% done ', max=200.0)"
      ]
     },
     "metadata": {},
     "output_type": "display_data"
    },
    {
     "name": "stdout",
     "output_type": "stream",
     "text": [
      "run 0 finished at t = 200.0 (8000 timesteps)\n",
      "MPB solved for frequency_1(0,0,0.645161) = 0.645161 after 6 iters\n",
      "Dominant planewave for band 1: (0.000000,0.000000,0.645161)\n"
     ]
    },
    {
     "name": "stderr",
     "output_type": "stream",
     "text": [
      " 80%|████████████████████████████████████████████████████             | 12/15 [00:17<00:04,  1.52s/it]Warning: grid volume is not an integer number of pixels; cell size will be rounded to nearest pixel.\n"
     ]
    },
    {
     "name": "stdout",
     "output_type": "stream",
     "text": [
      "i= 11,radius=0.19249999999999998\n",
      "-----------\n",
      "Initializing structure...\n",
      "Halving computational cell along direction x\n",
      "Halving computational cell along direction y\n",
      "time for choose_chunkdivision = 0.00163698 s\n",
      "Working in 3D dimensions.\n",
      "Computational cell is 0.5 x 0.5 x 8.55 with resolution 20\n",
      "     block, center = (0,0,0)\n",
      "          size (1e+20,1e+20,8.56)\n",
      "          axes (1,0,0), (0,1,0), (0,0,1)\n",
      "          dielectric constant epsilon diagonal = (1,1,1)\n",
      "     block, center = (0,0,-3.385)\n",
      "          size (1e+20,1e+20,1.78)\n",
      "          axes (1,0,0), (0,1,0), (0,0,1)\n",
      "          dielectric constant epsilon diagonal = (2.1025,2.1025,2.1025)\n",
      "     block, center = (0,0,0)\n",
      "          size (1e+20,1e+20,5)\n",
      "          axes (1,0,0), (0,1,0), (0,0,1)\n",
      "          dielectric constant epsilon diagonal = (12.1104,12.1104,12.1104)\n",
      "     block, center = (0,0,0.9375)\n",
      "          size (1e+20,1e+20,1.875)\n",
      "          axes (1,0,0), (0,1,0), (0,0,1)\n",
      "          dielectric constant epsilon diagonal = (2.1025,2.1025,2.1025)\n",
      "     cylinder, center = (0,0,0)\n",
      "          radius 0.21, height 5, axis (0, 0, 1)\n",
      "          dielectric constant epsilon diagonal = (1,1,1)\n",
      "time for set_epsilon = 0.114666 s\n",
      "-----------\n"
     ]
    },
    {
     "data": {
      "application/vnd.jupyter.widget-view+json": {
       "model_id": "5a8a90f24cfa4118ad68ddbc00785fa5",
       "version_major": 2,
       "version_minor": 0
      },
      "text/plain": [
       "FloatProgress(value=0.0, description='0% done ', max=200.0)"
      ]
     },
     "metadata": {},
     "output_type": "display_data"
    },
    {
     "name": "stdout",
     "output_type": "stream",
     "text": [
      "run 0 finished at t = 200.0 (8000 timesteps)\n",
      "MPB solved for frequency_1(0,0,0.645161) = 0.645161 after 6 iters\n",
      "Dominant planewave for band 1: (0.000000,0.000000,0.645161)\n"
     ]
    },
    {
     "name": "stderr",
     "output_type": "stream",
     "text": [
      " 87%|████████████████████████████████████████████████████████▎        | 13/15 [00:19<00:03,  1.53s/it]Warning: grid volume is not an integer number of pixels; cell size will be rounded to nearest pixel.\n"
     ]
    },
    {
     "name": "stdout",
     "output_type": "stream",
     "text": [
      "i= 12,radius=0.20999999999999996\n",
      "-----------\n",
      "Initializing structure...\n",
      "Halving computational cell along direction x\n",
      "Halving computational cell along direction y\n",
      "time for choose_chunkdivision = 0.00166893 s\n",
      "Working in 3D dimensions.\n",
      "Computational cell is 0.5 x 0.5 x 8.55 with resolution 20\n",
      "     block, center = (0,0,0)\n",
      "          size (1e+20,1e+20,8.56)\n",
      "          axes (1,0,0), (0,1,0), (0,0,1)\n",
      "          dielectric constant epsilon diagonal = (1,1,1)\n",
      "     block, center = (0,0,-3.385)\n",
      "          size (1e+20,1e+20,1.78)\n",
      "          axes (1,0,0), (0,1,0), (0,0,1)\n",
      "          dielectric constant epsilon diagonal = (2.1025,2.1025,2.1025)\n",
      "     block, center = (0,0,0)\n",
      "          size (1e+20,1e+20,5)\n",
      "          axes (1,0,0), (0,1,0), (0,0,1)\n",
      "          dielectric constant epsilon diagonal = (12.1104,12.1104,12.1104)\n",
      "     block, center = (0,0,0.9375)\n",
      "          size (1e+20,1e+20,1.875)\n",
      "          axes (1,0,0), (0,1,0), (0,0,1)\n",
      "          dielectric constant epsilon diagonal = (2.1025,2.1025,2.1025)\n",
      "     cylinder, center = (0,0,0)\n",
      "          radius 0.2275, height 5, axis (0, 0, 1)\n",
      "          dielectric constant epsilon diagonal = (1,1,1)\n",
      "time for set_epsilon = 0.113587 s\n",
      "-----------\n"
     ]
    },
    {
     "data": {
      "application/vnd.jupyter.widget-view+json": {
       "model_id": "e435ff0aea6b4f01a573bbbfe93b9a4e",
       "version_major": 2,
       "version_minor": 0
      },
      "text/plain": [
       "FloatProgress(value=0.0, description='0% done ', max=200.0)"
      ]
     },
     "metadata": {},
     "output_type": "display_data"
    },
    {
     "name": "stdout",
     "output_type": "stream",
     "text": [
      "run 0 finished at t = 200.0 (8000 timesteps)\n",
      "MPB solved for frequency_1(0,0,0.645161) = 0.645161 after 6 iters\n",
      "Dominant planewave for band 1: (0.000000,0.000000,0.645161)\n"
     ]
    },
    {
     "name": "stderr",
     "output_type": "stream",
     "text": [
      " 93%|████████████████████████████████████████████████████████████▋    | 14/15 [00:20<00:01,  1.53s/it]Warning: grid volume is not an integer number of pixels; cell size will be rounded to nearest pixel.\n"
     ]
    },
    {
     "name": "stdout",
     "output_type": "stream",
     "text": [
      "i= 13,radius=0.22749999999999998\n",
      "-----------\n",
      "Initializing structure...\n",
      "Halving computational cell along direction x\n",
      "Halving computational cell along direction y\n",
      "time for choose_chunkdivision = 0.00164795 s\n",
      "Working in 3D dimensions.\n",
      "Computational cell is 0.5 x 0.5 x 8.55 with resolution 20\n",
      "     block, center = (0,0,0)\n",
      "          size (1e+20,1e+20,8.56)\n",
      "          axes (1,0,0), (0,1,0), (0,0,1)\n",
      "          dielectric constant epsilon diagonal = (1,1,1)\n",
      "     block, center = (0,0,-3.385)\n",
      "          size (1e+20,1e+20,1.78)\n",
      "          axes (1,0,0), (0,1,0), (0,0,1)\n",
      "          dielectric constant epsilon diagonal = (2.1025,2.1025,2.1025)\n",
      "     block, center = (0,0,0)\n",
      "          size (1e+20,1e+20,5)\n",
      "          axes (1,0,0), (0,1,0), (0,0,1)\n",
      "          dielectric constant epsilon diagonal = (12.1104,12.1104,12.1104)\n",
      "     block, center = (0,0,0.9375)\n",
      "          size (1e+20,1e+20,1.875)\n",
      "          axes (1,0,0), (0,1,0), (0,0,1)\n",
      "          dielectric constant epsilon diagonal = (2.1025,2.1025,2.1025)\n",
      "     cylinder, center = (0,0,0)\n",
      "          radius 0.245, height 5, axis (0, 0, 1)\n",
      "          dielectric constant epsilon diagonal = (1,1,1)\n",
      "time for set_epsilon = 0.0968139 s\n",
      "-----------\n"
     ]
    },
    {
     "data": {
      "application/vnd.jupyter.widget-view+json": {
       "model_id": "7e553ed6327942969cb2bb490008aa78",
       "version_major": 2,
       "version_minor": 0
      },
      "text/plain": [
       "FloatProgress(value=0.0, description='0% done ', max=200.0)"
      ]
     },
     "metadata": {},
     "output_type": "display_data"
    },
    {
     "name": "stdout",
     "output_type": "stream",
     "text": [
      "run 0 finished at t = 200.0 (8000 timesteps)\n",
      "MPB solved for frequency_1(0,0,0.645161) = 0.645161 after 6 iters\n",
      "Dominant planewave for band 1: (0.000000,0.000000,0.645161)\n"
     ]
    },
    {
     "name": "stderr",
     "output_type": "stream",
     "text": [
      "                                                                                                      \r"
     ]
    }
   ],
   "source": [
    "sim.reset_meep()\n",
    "\n",
    "pbar = tqdm(total=num,leave=False)\n",
    "for i,radius in enumerate(np.linspace(min,max,num=num)):\n",
    "\n",
    "    geometry.append(mp.Cylinder(radius=radius,\n",
    "                        height=height_hole,\n",
    "                        axis=mp.Vector3(0,0,1),\n",
    "                        center=mp.Vector3(0,0,center_hole),\n",
    "                        material=mp.Medium(index=n_air)))\n",
    "                                \n",
    "    #geometry=mp.Cylinder(radius=radius,\n",
    "\n",
    "\n",
    "    sim = mp.Simulation(cell_size=cell_size,\n",
    "                        geometry=geometry,\n",
    "                        sources=sources,\n",
    "                        k_point=k_point,\n",
    "                        boundary_layers=pml_layers,\n",
    "                        symmetries=symmetries,\n",
    "                        resolution=resolution)\n",
    "\n",
    "    flux_object = sim.add_flux(freq, df, nfreq, fr)  \n",
    "\n",
    "    sim.run(until=200)\n",
    "    \n",
    "    res = sim.get_eigenmode_coefficients(flux_object, [1], eig_parity=mp.ODD_Y)\n",
    "    coeffs = res.alpha\n",
    "\n",
    "    flux = abs(coeffs[0,0,0]**2)\n",
    "    phase = np.angle(coeffs[0,0,0]) \n",
    "    \n",
    "    data[0,i] = radius\n",
    "    data[1,i] = flux\n",
    "    data[2,i] = phase\n",
    "\n",
    "    \n",
    "    if(radius!=max):\n",
    "        sim.reset_meep()\n",
    "        print(f\"i= {i},radius={radius}\")\n",
    "        geometry.pop(-1)\n",
    "    pbar.update(1)\n",
    "pbar.close()\n",
    "\n",
    "## pickle operations\n",
    "\n",
    "#from IPython import embed; embed()"
   ]
  },
  {
   "cell_type": "code",
   "execution_count": 7,
   "id": "1f5972a7-fe42-4b3b-8e86-331150fc451e",
   "metadata": {},
   "outputs": [
    {
     "name": "stderr",
     "output_type": "stream",
     "text": [
      "Warning: grid volume is not an integer number of pixels; cell size will be rounded to nearest pixel.\n"
     ]
    },
    {
     "name": "stdout",
     "output_type": "stream",
     "text": [
      "     block, center = (0,0,0)\n",
      "          size (1e+20,1e+20,8.56)\n",
      "          axes (1,0,0), (0,1,0), (0,0,1)\n",
      "          dielectric constant epsilon diagonal = (1,1,1)\n",
      "     block, center = (0,0,-3.385)\n",
      "          size (1e+20,1e+20,1.78)\n",
      "          axes (1,0,0), (0,1,0), (0,0,1)\n",
      "          dielectric constant epsilon diagonal = (2.1025,2.1025,2.1025)\n",
      "     block, center = (0,0,0)\n",
      "          size (1e+20,1e+20,5)\n",
      "          axes (1,0,0), (0,1,0), (0,0,1)\n",
      "          dielectric constant epsilon diagonal = (12.1104,12.1104,12.1104)\n",
      "     block, center = (0,0,0.9375)\n",
      "          size (1e+20,1e+20,1.875)\n",
      "          axes (1,0,0), (0,1,0), (0,0,1)\n",
      "          dielectric constant epsilon diagonal = (2.1025,2.1025,2.1025)\n",
      "     cylinder, center = (0,0,0)\n",
      "          radius 0.245, height 5, axis (0, 0, 1)\n",
      "          dielectric constant epsilon diagonal = (1,1,1)\n",
      "\n"
     ]
    },
    {
     "data": {
      "image/png": "[encoded data removed]",
      "text/plain": [
       "<Figure size 1000x1000 with 1 Axes>"
      ]
     },
     "metadata": {},
     "output_type": "display_data"
    }
   ],
   "source": [
    "plt.figure(figsize=(10,10))\n",
    "plot_plane = mp.Volume(center=mp.Vector3(0,0.0*a,0),\n",
    "                            size=mp.Vector3(a,0,cell_z))\n",
    "field_func = lambda x: 20*np.log10(np.abs(x))\n",
    "sim.plot2D(output_plane=plot_plane,\n",
    "           #fields=mp.Ey\n",
    "           )\n",
    "plt.grid(False)\n",
    "\n",
    "print()"
   ]
  },
  {
   "cell_type": "code",
   "execution_count": null,
   "id": "464f6968-075e-4c70-a1af-7b728fff5376",
   "metadata": {},
   "outputs": [],
   "source": [
    "import pickle\n",
    "data = pickle.load(open(\"data.pkl\", \"rb\"))\n",
    "initial_flux = pickle.load(open(\"initial_flux.pkl\",\"rb\"))"
   ]
  },
  {
   "cell_type": "code",
   "execution_count": null,
   "id": "108e8f83-00fa-4d9c-a29b-c2383bb4f688",
   "metadata": {},
   "outputs": [],
   "source": [
    "radii = data[0,:]\n",
    "flux_list = data[1,0:] / initial_flux\n",
    "phase_list = data[2,0:]\n",
    "\n",
    "#plt.style.use('seaborn')\n",
    "\n",
    "results = {\"radii\": radii, \"flux\": flux_list, \"phase\": phase_list}\n",
    "# this section plots radius vs. phas and transmission\n",
    "\n",
    "tickfontsize=22\n",
    "labelfontsize=26\n",
    "titlefontsize=30\n",
    "\n",
    "fig,ax = plt.subplots(figsize=(8,5)) # may want to change. Also see DPI keyword\n",
    "\n",
    "fig.suptitle(\"Meta-atom Transmission\",fontsize=titlefontsize)\n",
    "\n",
    "#ax.set_title(\"Transmission Magnitude\",fontsize=titlefontsize)\n",
    "\n",
    "ax.set_xlabel(\"Radius\",fontsize=labelfontsize)\n",
    "ax.set_xticks([0.000,0.050,0.100,0.150,0.200,0.250])\n",
    "ax.set_xticklabels([0,50,100,150,200,250],fontsize=tickfontsize)\n",
    "ax.set_ylim([0,1])\n",
    "ax.set_ylabel(r'Percent Transmitted ($\\%$)',fontsize=labelfontsize, color = 'blue')\n",
    "#ax.plot(radii,flux_list,'b',label='Transmission')\n",
    "ax.plot(radii, flux_list, 'b', label='Transmission')\n",
    "ax.tick_params(axis='y', labelcolor = 'blue')\n",
    "\n",
    "ax.set_yticks([0,0.2,0.4,0.6,0.8,1])\n",
    "ax.set_yticklabels([0, 20,40,60,80,100],fontsize=tickfontsize)\n",
    "#ax.set_yticks([0.6,0.7,0.8,0.9,1])\n",
    "#ax.set_yticklabels([60,70,80,90,100],fontsize=ticgit config --global user.email \"you@example.com\"kfontsize)\n",
    "\n",
    "twin1 = ax.twinx()\n",
    "#ax[1].set_title(\"Transmission Phase\",fontsize=titlefontsize)S\n",
    "#ax[1].set_xlabel(\"Radius (nm)\",fontsize=labelfontsize)\n",
    "#ax[1].set_xticks([0.075,0.100,0.125,0.150,0.175,0.200,0.225,0.250])cd meep\n",
    "\n",
    "#ax[1].set_xticklabels([75,100,125,150,175,200,225,250],fontsize=tickfontsize)\n",
    "twin1.set_ylim([-np.pi,np.pi])\n",
    "twin1.set_ylabel(r'Phase Delay (rad)',fontsize=labelfontsize, color = 'red')\n",
    "twin1.set_yticks([-np.pi, -(0.5*np.pi),0, np.pi / 2, np.pi])\n",
    "twin1.set_yticklabels([r'-$\\pi$',r'-$\\frac{\\pi}{2}$',r'0',r'$\\frac{\\pi}{2}$',r'$\\pi$'],fontsize=tickfontsize+4)\n",
    "twin1.plot(radii,phase_list,'r',label='Phase')\n",
    "twin1.tick_params(axis='y', labelcolor = 'red')\n",
    "#ax[1].legend(loc=\"upper right\")\n",
    "#plt.legend(loc=\"upper right\")\n",
    "plt.grid(False)\n",
    "plt.tight_layout()\n",
    "\n",
    "\n"
   ]
  },
  {
   "cell_type": "code",
   "execution_count": null,
   "id": "0905c898-ca2e-4d72-953d-d639e7214116",
   "metadata": {},
   "outputs": [],
   "source": [
    "print(flux_list)"
   ]
  },
  {
   "cell_type": "code",
   "execution_count": null,
   "id": "6ef312a1-187e-4e7c-b411-b27f6b3fb696",
   "metadata": {},
   "outputs": [],
   "source": []
  }
 ],
 "metadata": {
  "kernelspec": {
   "display_name": "Python 3 (ipykernel)",
   "language": "python",
   "name": "python3"
  },
  "language_info": {
   "codemirror_mode": {
    "name": "ipython",
    "version": 3
   },
   "file_extension": ".py",
   "mimetype": "text/x-python",
   "name": "python",
   "nbconvert_exporter": "python",
   "pygments_lexer": "ipython3",
   "version": "3.10.10"
  }
 },
 "nbformat": 4,
 "nbformat_minor": 5
}
