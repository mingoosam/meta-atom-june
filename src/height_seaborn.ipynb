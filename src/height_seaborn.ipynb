{
 "cells": [
  {
   "cell_type": "code",
   "execution_count": 3,
   "id": "6d1a8499",
   "metadata": {},
   "outputs": [
    {
     "name": "stdout",
     "output_type": "stream",
     "text": [
      "Using MPI version 4.0, 1 processes\n"
     ]
    },
    {
     "name": "stderr",
     "output_type": "stream",
     "text": [
      "hwloc/linux: Ignoring PCI device with non-16bit domain.\n",
      "Pass --enable-32bits-pci-domain to configure to support such devices\n",
      "(warning: it would break the library ABI, don't enable unless really needed).\n"
     ]
    }
   ],
   "source": [
    "import os\n",
    "import pickle\n",
    "import shutil \n",
    "import meep as mp\n",
    "import numpy as np\n",
    "import matplotlib.pyplot as plt\n",
    "\n",
    "from mpl_toolkits.mplot3d import Axes3D\n",
    "from tqdm import tqdm\n",
    "import math\n",
    "from IPython import embed"
   ]
  },
  {
   "cell_type": "code",
   "execution_count": 4,
   "id": "5ca5e226",
   "metadata": {},
   "outputs": [],
   "source": [
    "# set up simulation constants\n",
    "\n",
    "rresolution =30\n",
    "\n",
    "n_air = 1.0000003\n",
    "n_Si = 1.45\n",
    "n_SiO2 = 3.48\n",
    "\n",
    "a = 0.5   # lattice period \n",
    "\n",
    "#pml_thickness = round(wavelength / 2,3)\n",
    "pml_thickness = 0.780\n",
    "height_hole = 5\n",
    "height_SiO2 = height_hole\n",
    "height_air = 7+2*pml_thickness\n",
    "height_Si_initial= 0.5*(height_air-height_hole)\n",
    "height_Si_add = 0.75*0.5*height_SiO2\n",
    "\n",
    "\n",
    "cell_x = a\n",
    "cell_y = a\n",
    "cell_z = height_air\n",
    "\n",
    "z_air = height_air\n",
    "\n",
    "center_air = 0 \n",
    "center_SiO2 = 0 \n",
    "center_hole = 0\n",
    "center_Si_initial = -0.5*height_hole -0.25*(height_air-height_hole)+0.005\n",
    "center_Si_add = 0.5*height_Si_add"
   ]
  },
  {
   "cell_type": "code",
   "execution_count": 5,
   "id": "38cef094",
   "metadata": {},
   "outputs": [],
   "source": [
    "\n",
    "#initial_geometry setup\n",
    "\n",
    "cell_size = mp.Vector3(cell_x,cell_y,cell_z)\n",
    "pml_layers = [mp.PML(thickness = pml_thickness, direction = mp.Z)]\n",
    "\n",
    "geometry = [mp.Block(size=mp.Vector3(mp.inf,mp.inf,height_air), \n",
    "                    center=mp.Vector3(0,0,center_air),\n",
    "                    material=mp.Medium(index=n_air)),\n",
    "           mp.Block(size=mp.Vector3(mp.inf,mp.inf,height_Si_initial),\n",
    "                   center=mp.Vector3(0,0,center_Si_initial),\n",
    "                   material=mp.Medium(index=n_Si))]\n",
    "\n",
    "\n",
    "k_point = mp.Vector3(0,0,0)\n",
    "\n",
    "## source ##\n",
    "center_source = -0.5*height_hole-0.125*(height_air-height_hole) \n",
    "source_cmpt = mp.Ey\n",
    "\n",
    "wavelength = 1.55\n",
    "freq = 1 / wavelength\n",
    "\n",
    "\n",
    "sources = [mp.Source(mp.ContinuousSource(frequency=freq),\n",
    "                    component=source_cmpt,\n",
    "                    center=mp.Vector3(0,0,center_source),\n",
    "                    size=mp.Vector3(cell_x,cell_y,0))]\n",
    "\n",
    "\n",
    "## flux monitor ##\n",
    "nfreq = 1\n",
    "df = 0\n",
    "fr_center = 0.5*height_hole+0.125*(height_air-height_hole)\n",
    "fr = mp.FluxRegion(center=mp.Vector3(0,0,fr_center), \n",
    "            size=mp.Vector3(cell_x, cell_y, 0))\n",
    "\n",
    "\n",
    "\n",
    "if source_cmpt == mp.Ey:\n",
    "    symmetries = [mp.Mirror(mp.X, phase=+1), #epsilon has mirror symmetry in x and y, phase doesn't matter\n",
    "                  mp.Mirror(mp.Y, phase=-1)] #but sources have -1 phase when reflected normal to their direction\n",
    "elif src_cmpt == mp.Ex:                      #use of symmetries important here, significantly speeds up sim\n",
    "    symmetries = [mp.Mirror(mp.X, phase=-1),\n",
    "                  mp.Mirror(mp.Y, phase=+1)]\n",
    "elif src_cmpt == mp.Ez:\n",
    "    symmetries = [mp.Mirror(mp.X, phase=+1),\n",
    "                  mp.Mirror(mp.Y, phase=+1)]\n",
    "\n",
    "\n"
   ]
  },
  {
   "cell_type": "code",
   "execution_count": 6,
   "id": "8791d7c6",
   "metadata": {},
   "outputs": [
    {
     "ename": "NameError",
     "evalue": "name 'resolution' is not defined",
     "output_type": "error",
     "traceback": [
      "\u001b[0;31m---------------------------------------------------------------------------\u001b[0m",
      "\u001b[0;31mNameError\u001b[0m                                 Traceback (most recent call last)",
      "Cell \u001b[0;32mIn[6], line 7\u001b[0m\n\u001b[1;32m      1\u001b[0m sim \u001b[38;5;241m=\u001b[39m mp\u001b[38;5;241m.\u001b[39mSimulation(cell_size\u001b[38;5;241m=\u001b[39mcell_size,\n\u001b[1;32m      2\u001b[0m                     geometry\u001b[38;5;241m=\u001b[39mgeometry,\n\u001b[1;32m      3\u001b[0m                     sources\u001b[38;5;241m=\u001b[39msources,\n\u001b[1;32m      4\u001b[0m                     k_point\u001b[38;5;241m=\u001b[39mk_point,\n\u001b[1;32m      5\u001b[0m                     boundary_layers\u001b[38;5;241m=\u001b[39mpml_layers,\n\u001b[1;32m      6\u001b[0m                     symmetries\u001b[38;5;241m=\u001b[39msymmetries,\n\u001b[0;32m----> 7\u001b[0m                     resolution\u001b[38;5;241m=\u001b[39m\u001b[43mresolution\u001b[49m)\n\u001b[1;32m      8\u001b[0m flux_object \u001b[38;5;241m=\u001b[39m sim\u001b[38;5;241m.\u001b[39madd_flux(freq, df, nfreq, fr)\n\u001b[1;32m     11\u001b[0m sim\u001b[38;5;241m.\u001b[39mrun(until\u001b[38;5;241m=\u001b[39m\u001b[38;5;241m200\u001b[39m)\n",
      "\u001b[0;31mNameError\u001b[0m: name 'resolution' is not defined"
     ]
    }
   ],
   "source": [
    "sim = mp.Simulation(cell_size=cell_size,\n",
    "                    geometry=geometry,\n",
    "                    sources=sources,\n",
    "                    k_point=k_point,\n",
    "                    boundary_layers=pml_layers,\n",
    "                    symmetries=symmetries,\n",
    "                    resolution=resolution)\n",
    "flux_object = sim.add_flux(freq, df, nfreq, fr)\n",
    "\n",
    "\n",
    "sim.run(until=200)\n",
    "\n",
    "\n",
    "combined_initial_flux = mp.get_fluxes(flux_object)[0]\n",
    "\n",
    "\n",
    "\n",
    "# In[4]:\n",
    "\n",
    "\n",
    "geometry.append(mp.Block(size=mp.Vector3(mp.inf,mp.inf,height_SiO2), \n",
    "                    center=mp.Vector3(0,0,center_SiO2),\n",
    "                    material=mp.Medium(index=n_SiO2)))\n",
    "\n",
    "geometry.append(mp.Block(size=mp.Vector3(mp.inf,mp.inf,height_Si_add), \n",
    "                    center=mp.Vector3(0,0,center_Si_add),\n",
    "                    material=mp.Medium(index=n_Si)))\n",
    "\n",
    "\n",
    "## initialize matrix for data collection ##\n",
    "##########################################\n",
    "\n",
    "num_holes = 15  # this is the number of pillars we will build\n",
    "num_height = 15\n",
    "min_r = 0.1\n",
    "max_r = 0.245\n",
    "min_h = 1.02\n",
    "max_h = 5\n",
    "data = np.zeros((4,num_holes))\n",
    "\n",
    "\n",
    "\n",
    "\n"
   ]
  },
  {
   "cell_type": "code",
   "execution_count": 5,
   "id": "e5c15aa8-3b1b-44c6-99b2-66f70f3c1ca9",
   "metadata": {
    "collapsed": true,
    "jupyter": {
     "outputs_hidden": true
    },
    "scrolled": true
   },
   "outputs": [
    {
     "name": "stderr",
     "output_type": "stream",
     "text": [
      "Warning: grid volume is not an integer number of pixels; cell size will be rounded to nearest pixel.\n"
     ]
    },
    {
     "name": "stdout",
     "output_type": "stream",
     "text": [
      "-----------\n",
      "Initializing structure...\n",
      "Halving computational cell along direction x\n",
      "Halving computational cell along direction y\n",
      "time for choose_chunkdivision = 0.000627995 s\n",
      "Working in 3D dimensions.\n",
      "Computational cell is 0.5 x 0.5 x 7.65 with resolution 20\n",
      "     block, center = (0,0,-0.15)\n",
      "          size (1e+20,1e+20,5)\n",
      "          axes (1,0,0), (0,1,0), (0,0,1)\n",
      "          dielectric constant epsilon diagonal = (1,1,1)\n",
      "     block, center = (0,0,-0.15)\n",
      "          size (1e+20,1e+20,5.78)\n",
      "          axes (1,0,0), (0,1,0), (0,0,1)\n",
      "          dielectric constant epsilon diagonal = (1,1,1)\n",
      "time for set_epsilon = 0.0315959 s\n",
      "-----------\n"
     ]
    },
    {
     "data": {
      "application/vnd.jupyter.widget-view+json": {
       "model_id": "a0f2dee39ccb4d9293942ace3f191eb5",
       "version_major": 2,
       "version_minor": 0
      },
      "text/plain": [
       "FloatProgress(value=0.0, description='0% done ', max=200.0)"
      ]
     },
     "metadata": {},
     "output_type": "display_data"
    },
    {
     "name": "stdout",
     "output_type": "stream",
     "text": [
      "run 0 finished at t = 200.0 (8000 timesteps)\n"
     ]
    },
    {
     "name": "stderr",
     "output_type": "stream",
     "text": [
      "  0%|                                                                                                                                                                               | 0/15 [00:00<?, ?it/s]Warning: grid volume is not an integer number of pixels; cell size will be rounded to nearest pixel.\n"
     ]
    },
    {
     "name": "stdout",
     "output_type": "stream",
     "text": [
      "0.0\n",
      "-----------\n",
      "Initializing structure...\n",
      "Halving computational cell along direction x\n",
      "Halving computational cell along direction y\n",
      "time for choose_chunkdivision = 0.00105095 s\n",
      "Working in 3D dimensions.\n",
      "Computational cell is 0.5 x 0.5 x 7.65 with resolution 20\n",
      "     block, center = (0,0,-0.15)\n",
      "          size (1e+20,1e+20,5)\n",
      "          axes (1,0,0), (0,1,0), (0,0,1)\n",
      "          dielectric constant epsilon diagonal = (2.1025,2.1025,2.1025)\n",
      "     block, center = (0,0,-0.15)\n",
      "          size (1e+20,1e+20,5.78)\n",
      "          axes (1,0,0), (0,1,0), (0,0,1)\n",
      "          dielectric constant epsilon diagonal = (2.1025,2.1025,2.1025)\n",
      "     cylinder, center = (0,0,2.23)\n",
      "          radius 0, height 1.02, axis (0, 0, 1)\n",
      "          dielectric constant epsilon diagonal = (1,1,1)\n",
      "time for set_epsilon = 0.0302 s\n",
      "-----------\n"
     ]
    },
    {
     "data": {
      "application/vnd.jupyter.widget-view+json": {
       "model_id": "3aa8e90b322441b2a3ebf5854ea92cb2",
       "version_major": 2,
       "version_minor": 0
      },
      "text/plain": [
       "FloatProgress(value=0.0, description='0% done ', max=200.0)"
      ]
     },
     "metadata": {},
     "output_type": "display_data"
    },
    {
     "name": "stdout",
     "output_type": "stream",
     "text": [
      "run 0 finished at t = 200.0 (8000 timesteps)\n",
      "MPB solved for frequency_1(0,0,0.645161) = 0.645161 after 6 iters\n",
      "Dominant planewave for band 1: (0.000000,0.000000,0.645161)\n"
     ]
    },
    {
     "name": "stderr",
     "output_type": "stream",
     "text": [
      "Warning: grid volume is not an integer number of pixels; cell size will be rounded to nearest pixel.\n"
     ]
    },
    {
     "name": "stdout",
     "output_type": "stream",
     "text": [
      "0.017499999999999998\n",
      "-----------\n",
      "Initializing structure...\n",
      "Halving computational cell along direction x\n",
      "Halving computational cell along direction y\n",
      "time for choose_chunkdivision = 0.000682831 s\n",
      "Working in 3D dimensions.\n",
      "Computational cell is 0.5 x 0.5 x 7.65 with resolution 20\n",
      "     block, center = (0,0,-0.15)\n",
      "          size (1e+20,1e+20,5)\n",
      "          axes (1,0,0), (0,1,0), (0,0,1)\n",
      "          dielectric constant epsilon diagonal = (2.1025,2.1025,2.1025)\n",
      "     block, center = (0,0,-0.15)\n",
      "          size (1e+20,1e+20,5.78)\n",
      "          axes (1,0,0), (0,1,0), (0,0,1)\n",
      "          dielectric constant epsilon diagonal = (2.1025,2.1025,2.1025)\n",
      "     cylinder, center = (0,0,2.23)\n",
      "          radius 0.0175, height 1.02, axis (0, 0, 1)\n",
      "          dielectric constant epsilon diagonal = (1,1,1)\n",
      "time for set_epsilon = 0.03125 s\n",
      "-----------\n"
     ]
    },
    {
     "data": {
      "application/vnd.jupyter.widget-view+json": {
       "model_id": "ef6a83347eca4d0588c328cff0e9659b",
       "version_major": 2,
       "version_minor": 0
      },
      "text/plain": [
       "FloatProgress(value=0.0, description='0% done ', max=200.0)"
      ]
     },
     "metadata": {},
     "output_type": "display_data"
    },
    {
     "name": "stdout",
     "output_type": "stream",
     "text": [
      "run 0 finished at t = 200.0 (8000 timesteps)\n",
      "MPB solved for frequency_1(0,0,0.645161) = 0.645161 after 6 iters\n",
      "Dominant planewave for band 1: (0.000000,0.000000,0.645161)\n"
     ]
    },
    {
     "name": "stderr",
     "output_type": "stream",
     "text": [
      "Warning: grid volume is not an integer number of pixels; cell size will be rounded to nearest pixel.\n"
     ]
    },
    {
     "name": "stdout",
     "output_type": "stream",
     "text": [
      "0.034999999999999996\n",
      "-----------\n",
      "Initializing structure...\n",
      "Halving computational cell along direction x\n",
      "Halving computational cell along direction y\n",
      "time for choose_chunkdivision = 0.00128293 s\n",
      "Working in 3D dimensions.\n",
      "Computational cell is 0.5 x 0.5 x 7.65 with resolution 20\n",
      "     block, center = (0,0,-0.15)\n",
      "          size (1e+20,1e+20,5)\n",
      "          axes (1,0,0), (0,1,0), (0,0,1)\n",
      "          dielectric constant epsilon diagonal = (2.1025,2.1025,2.1025)\n",
      "     block, center = (0,0,-0.15)\n",
      "          size (1e+20,1e+20,5.78)\n",
      "          axes (1,0,0), (0,1,0), (0,0,1)\n",
      "          dielectric constant epsilon diagonal = (2.1025,2.1025,2.1025)\n",
      "     cylinder, center = (0,0,2.23)\n",
      "          radius 0.035, height 1.02, axis (0, 0, 1)\n",
      "          dielectric constant epsilon diagonal = (1,1,1)\n",
      "time for set_epsilon = 0.0331619 s\n",
      "-----------\n"
     ]
    },
    {
     "data": {
      "application/vnd.jupyter.widget-view+json": {
       "model_id": "d257af0c2d27434bb70c8ba14a04f6c7",
       "version_major": 2,
       "version_minor": 0
      },
      "text/plain": [
       "FloatProgress(value=0.0, description='0% done ', max=200.0)"
      ]
     },
     "metadata": {},
     "output_type": "display_data"
    },
    {
     "name": "stdout",
     "output_type": "stream",
     "text": [
      "run 0 finished at t = 200.0 (8000 timesteps)\n",
      "MPB solved for frequency_1(0,0,0.645161) = 0.645161 after 6 iters\n",
      "Dominant planewave for band 1: (0.000000,0.000000,0.645161)\n"
     ]
    },
    {
     "name": "stderr",
     "output_type": "stream",
     "text": [
      "Warning: grid volume is not an integer number of pixels; cell size will be rounded to nearest pixel.\n"
     ]
    },
    {
     "name": "stdout",
     "output_type": "stream",
     "text": [
      "0.05249999999999999\n",
      "-----------\n",
      "Initializing structure...\n",
      "Halving computational cell along direction x\n",
      "Halving computational cell along direction y\n",
      "time for choose_chunkdivision = 0.000745058 s\n",
      "Working in 3D dimensions.\n",
      "Computational cell is 0.5 x 0.5 x 7.65 with resolution 20\n",
      "     block, center = (0,0,-0.15)\n",
      "          size (1e+20,1e+20,5)\n",
      "          axes (1,0,0), (0,1,0), (0,0,1)\n",
      "          dielectric constant epsilon diagonal = (2.1025,2.1025,2.1025)\n",
      "     block, center = (0,0,-0.15)\n",
      "          size (1e+20,1e+20,5.78)\n",
      "          axes (1,0,0), (0,1,0), (0,0,1)\n",
      "          dielectric constant epsilon diagonal = (2.1025,2.1025,2.1025)\n",
      "     cylinder, center = (0,0,2.23)\n",
      "          radius 0.0525, height 1.02, axis (0, 0, 1)\n",
      "          dielectric constant epsilon diagonal = (1,1,1)\n",
      "time for set_epsilon = 0.043268 s\n",
      "-----------\n"
     ]
    },
    {
     "data": {
      "application/vnd.jupyter.widget-view+json": {
       "model_id": "7b5753a46bb64372872a29470a043ca3",
       "version_major": 2,
       "version_minor": 0
      },
      "text/plain": [
       "FloatProgress(value=0.0, description='0% done ', max=200.0)"
      ]
     },
     "metadata": {},
     "output_type": "display_data"
    },
    {
     "name": "stdout",
     "output_type": "stream",
     "text": [
      "run 0 finished at t = 200.0 (8000 timesteps)\n",
      "MPB solved for frequency_1(0,0,0.645161) = 0.645161 after 6 iters\n",
      "Dominant planewave for band 1: (0.000000,0.000000,0.645161)\n"
     ]
    },
    {
     "name": "stderr",
     "output_type": "stream",
     "text": [
      "Warning: grid volume is not an integer number of pixels; cell size will be rounded to nearest pixel.\n"
     ]
    },
    {
     "name": "stdout",
     "output_type": "stream",
     "text": [
      "0.06999999999999999\n",
      "-----------\n",
      "Initializing structure...\n",
      "Halving computational cell along direction x\n",
      "Halving computational cell along direction y\n",
      "time for choose_chunkdivision = 0.00158691 s\n",
      "Working in 3D dimensions.\n",
      "Computational cell is 0.5 x 0.5 x 7.65 with resolution 20\n",
      "     block, center = (0,0,-0.15)\n",
      "          size (1e+20,1e+20,5)\n",
      "          axes (1,0,0), (0,1,0), (0,0,1)\n",
      "          dielectric constant epsilon diagonal = (2.1025,2.1025,2.1025)\n",
      "     block, center = (0,0,-0.15)\n",
      "          size (1e+20,1e+20,5.78)\n",
      "          axes (1,0,0), (0,1,0), (0,0,1)\n",
      "          dielectric constant epsilon diagonal = (2.1025,2.1025,2.1025)\n",
      "     cylinder, center = (0,0,2.23)\n",
      "          radius 0.07, height 1.02, axis (0, 0, 1)\n",
      "          dielectric constant epsilon diagonal = (1,1,1)\n",
      "time for set_epsilon = 0.0435822 s\n",
      "-----------\n"
     ]
    },
    {
     "data": {
      "application/vnd.jupyter.widget-view+json": {
       "model_id": "695fa58725644c37899e75de1feb8140",
       "version_major": 2,
       "version_minor": 0
      },
      "text/plain": [
       "FloatProgress(value=0.0, description='0% done ', max=200.0)"
      ]
     },
     "metadata": {},
     "output_type": "display_data"
    },
    {
     "name": "stdout",
     "output_type": "stream",
     "text": [
      "run 0 finished at t = 200.0 (8000 timesteps)\n",
      "MPB solved for frequency_1(0,0,0.645161) = 0.645161 after 6 iters\n",
      "Dominant planewave for band 1: (0.000000,0.000000,0.645161)\n"
     ]
    },
    {
     "name": "stderr",
     "output_type": "stream",
     "text": [
      "Warning: grid volume is not an integer number of pixels; cell size will be rounded to nearest pixel.\n"
     ]
    },
    {
     "name": "stdout",
     "output_type": "stream",
     "text": [
      "0.0875\n",
      "-----------\n",
      "Initializing structure...\n",
      "Halving computational cell along direction x\n",
      "Halving computational cell along direction y\n",
      "time for choose_chunkdivision = 0.000882149 s\n",
      "Working in 3D dimensions.\n",
      "Computational cell is 0.5 x 0.5 x 7.65 with resolution 20\n",
      "     block, center = (0,0,-0.15)\n",
      "          size (1e+20,1e+20,5)\n",
      "          axes (1,0,0), (0,1,0), (0,0,1)\n",
      "          dielectric constant epsilon diagonal = (2.1025,2.1025,2.1025)\n",
      "     block, center = (0,0,-0.15)\n",
      "          size (1e+20,1e+20,5.78)\n",
      "          axes (1,0,0), (0,1,0), (0,0,1)\n",
      "          dielectric constant epsilon diagonal = (2.1025,2.1025,2.1025)\n",
      "     cylinder, center = (0,0,2.23)\n",
      "          radius 0.0875, height 1.02, axis (0, 0, 1)\n",
      "          dielectric constant epsilon diagonal = (1,1,1)\n",
      "time for set_epsilon = 0.044399 s\n",
      "-----------\n"
     ]
    },
    {
     "data": {
      "application/vnd.jupyter.widget-view+json": {
       "model_id": "45358346531c45078584cf0cd580d78e",
       "version_major": 2,
       "version_minor": 0
      },
      "text/plain": [
       "FloatProgress(value=0.0, description='0% done ', max=200.0)"
      ]
     },
     "metadata": {},
     "output_type": "display_data"
    },
    {
     "name": "stdout",
     "output_type": "stream",
     "text": [
      "run 0 finished at t = 200.0 (8000 timesteps)\n",
      "MPB solved for frequency_1(0,0,0.645161) = 0.645161 after 6 iters\n",
      "Dominant planewave for band 1: (0.000000,0.000000,0.645161)\n"
     ]
    },
    {
     "name": "stderr",
     "output_type": "stream",
     "text": [
      "Warning: grid volume is not an integer number of pixels; cell size will be rounded to nearest pixel.\n"
     ]
    },
    {
     "name": "stdout",
     "output_type": "stream",
     "text": [
      "0.10499999999999998\n",
      "-----------\n",
      "Initializing structure...\n",
      "Halving computational cell along direction x\n",
      "Halving computational cell along direction y\n",
      "time for choose_chunkdivision = 0.000880957 s\n",
      "Working in 3D dimensions.\n",
      "Computational cell is 0.5 x 0.5 x 7.65 with resolution 20\n",
      "     block, center = (0,0,-0.15)\n",
      "          size (1e+20,1e+20,5)\n",
      "          axes (1,0,0), (0,1,0), (0,0,1)\n",
      "          dielectric constant epsilon diagonal = (2.1025,2.1025,2.1025)\n",
      "     block, center = (0,0,-0.15)\n",
      "          size (1e+20,1e+20,5.78)\n",
      "          axes (1,0,0), (0,1,0), (0,0,1)\n",
      "          dielectric constant epsilon diagonal = (2.1025,2.1025,2.1025)\n",
      "     cylinder, center = (0,0,2.23)\n",
      "          radius 0.105, height 1.02, axis (0, 0, 1)\n",
      "          dielectric constant epsilon diagonal = (1,1,1)\n",
      "time for set_epsilon = 0.042794 s\n",
      "-----------\n"
     ]
    },
    {
     "data": {
      "application/vnd.jupyter.widget-view+json": {
       "model_id": "fe054273266f4daba6baad7109a05073",
       "version_major": 2,
       "version_minor": 0
      },
      "text/plain": [
       "FloatProgress(value=0.0, description='0% done ', max=200.0)"
      ]
     },
     "metadata": {},
     "output_type": "display_data"
    },
    {
     "name": "stdout",
     "output_type": "stream",
     "text": [
      "run 0 finished at t = 200.0 (8000 timesteps)\n",
      "MPB solved for frequency_1(0,0,0.645161) = 0.645161 after 6 iters\n",
      "Dominant planewave for band 1: (0.000000,0.000000,0.645161)\n"
     ]
    },
    {
     "name": "stderr",
     "output_type": "stream",
     "text": [
      "Warning: grid volume is not an integer number of pixels; cell size will be rounded to nearest pixel.\n"
     ]
    },
    {
     "name": "stdout",
     "output_type": "stream",
     "text": [
      "0.12249999999999998\n",
      "-----------\n",
      "Initializing structure...\n",
      "Halving computational cell along direction x\n",
      "Halving computational cell along direction y\n",
      "time for choose_chunkdivision = 0.00250196 s\n",
      "Working in 3D dimensions.\n",
      "Computational cell is 0.5 x 0.5 x 7.65 with resolution 20\n",
      "     block, center = (0,0,-0.15)\n",
      "          size (1e+20,1e+20,5)\n",
      "          axes (1,0,0), (0,1,0), (0,0,1)\n",
      "          dielectric constant epsilon diagonal = (2.1025,2.1025,2.1025)\n",
      "     block, center = (0,0,-0.15)\n",
      "          size (1e+20,1e+20,5.78)\n",
      "          axes (1,0,0), (0,1,0), (0,0,1)\n",
      "          dielectric constant epsilon diagonal = (2.1025,2.1025,2.1025)\n",
      "     cylinder, center = (0,0,2.23)\n",
      "          radius 0.1225, height 1.02, axis (0, 0, 1)\n",
      "          dielectric constant epsilon diagonal = (1,1,1)\n",
      "time for set_epsilon = 0.0426979 s\n",
      "-----------\n"
     ]
    },
    {
     "data": {
      "application/vnd.jupyter.widget-view+json": {
       "model_id": "e2c9376e523141bdb6d4dc801dd97fde",
       "version_major": 2,
       "version_minor": 0
      },
      "text/plain": [
       "FloatProgress(value=0.0, description='0% done ', max=200.0)"
      ]
     },
     "metadata": {},
     "output_type": "display_data"
    },
    {
     "name": "stdout",
     "output_type": "stream",
     "text": [
      "run 0 finished at t = 200.0 (8000 timesteps)\n",
      "MPB solved for frequency_1(0,0,0.645161) = 0.645161 after 6 iters\n",
      "Dominant planewave for band 1: (0.000000,0.000000,0.645161)\n"
     ]
    },
    {
     "name": "stderr",
     "output_type": "stream",
     "text": [
      "Warning: grid volume is not an integer number of pixels; cell size will be rounded to nearest pixel.\n"
     ]
    },
    {
     "name": "stdout",
     "output_type": "stream",
     "text": [
      "0.13999999999999999\n",
      "-----------\n",
      "Initializing structure...\n",
      "Halving computational cell along direction x\n",
      "Halving computational cell along direction y\n",
      "time for choose_chunkdivision = 0.000916004 s\n",
      "Working in 3D dimensions.\n",
      "Computational cell is 0.5 x 0.5 x 7.65 with resolution 20\n",
      "     block, center = (0,0,-0.15)\n",
      "          size (1e+20,1e+20,5)\n",
      "          axes (1,0,0), (0,1,0), (0,0,1)\n",
      "          dielectric constant epsilon diagonal = (2.1025,2.1025,2.1025)\n",
      "     block, center = (0,0,-0.15)\n",
      "          size (1e+20,1e+20,5.78)\n",
      "          axes (1,0,0), (0,1,0), (0,0,1)\n",
      "          dielectric constant epsilon diagonal = (2.1025,2.1025,2.1025)\n",
      "     cylinder, center = (0,0,2.23)\n",
      "          radius 0.14, height 1.02, axis (0, 0, 1)\n",
      "          dielectric constant epsilon diagonal = (1,1,1)\n",
      "time for set_epsilon = 0.04579 s\n",
      "-----------\n"
     ]
    },
    {
     "data": {
      "application/vnd.jupyter.widget-view+json": {
       "model_id": "086eaab95e9d4bde9d1c3d015e17e814",
       "version_major": 2,
       "version_minor": 0
      },
      "text/plain": [
       "FloatProgress(value=0.0, description='0% done ', max=200.0)"
      ]
     },
     "metadata": {},
     "output_type": "display_data"
    },
    {
     "name": "stdout",
     "output_type": "stream",
     "text": [
      "run 0 finished at t = 200.0 (8000 timesteps)\n",
      "MPB solved for frequency_1(0,0,0.645161) = 0.645161 after 6 iters\n",
      "Dominant planewave for band 1: (0.000000,0.000000,0.645161)\n"
     ]
    },
    {
     "name": "stderr",
     "output_type": "stream",
     "text": [
      "Warning: grid volume is not an integer number of pixels; cell size will be rounded to nearest pixel.\n"
     ]
    },
    {
     "name": "stdout",
     "output_type": "stream",
     "text": [
      "0.15749999999999997\n",
      "-----------\n",
      "Initializing structure...\n",
      "Halving computational cell along direction x\n",
      "Halving computational cell along direction y\n",
      "time for choose_chunkdivision = 0.000880957 s\n",
      "Working in 3D dimensions.\n",
      "Computational cell is 0.5 x 0.5 x 7.65 with resolution 20\n",
      "     block, center = (0,0,-0.15)\n",
      "          size (1e+20,1e+20,5)\n",
      "          axes (1,0,0), (0,1,0), (0,0,1)\n",
      "          dielectric constant epsilon diagonal = (2.1025,2.1025,2.1025)\n",
      "     block, center = (0,0,-0.15)\n",
      "          size (1e+20,1e+20,5.78)\n",
      "          axes (1,0,0), (0,1,0), (0,0,1)\n",
      "          dielectric constant epsilon diagonal = (2.1025,2.1025,2.1025)\n",
      "     cylinder, center = (0,0,2.23)\n",
      "          radius 0.1575, height 1.02, axis (0, 0, 1)\n",
      "          dielectric constant epsilon diagonal = (1,1,1)\n",
      "time for set_epsilon = 0.0473802 s\n",
      "-----------\n"
     ]
    },
    {
     "data": {
      "application/vnd.jupyter.widget-view+json": {
       "model_id": "e516016959034548a749f57637b85a4a",
       "version_major": 2,
       "version_minor": 0
      },
      "text/plain": [
       "FloatProgress(value=0.0, description='0% done ', max=200.0)"
      ]
     },
     "metadata": {},
     "output_type": "display_data"
    },
    {
     "name": "stdout",
     "output_type": "stream",
     "text": [
      "run 0 finished at t = 200.0 (8000 timesteps)\n",
      "MPB solved for frequency_1(0,0,0.645161) = 0.645161 after 6 iters\n",
      "Dominant planewave for band 1: (0.000000,0.000000,0.645161)\n"
     ]
    },
    {
     "name": "stderr",
     "output_type": "stream",
     "text": [
      "Warning: grid volume is not an integer number of pixels; cell size will be rounded to nearest pixel.\n"
     ]
    },
    {
     "name": "stdout",
     "output_type": "stream",
     "text": [
      "0.175\n",
      "-----------\n",
      "Initializing structure...\n",
      "Halving computational cell along direction x\n",
      "Halving computational cell along direction y\n",
      "time for choose_chunkdivision = 0.000727177 s\n",
      "Working in 3D dimensions.\n",
      "Computational cell is 0.5 x 0.5 x 7.65 with resolution 20\n",
      "     block, center = (0,0,-0.15)\n",
      "          size (1e+20,1e+20,5)\n",
      "          axes (1,0,0), (0,1,0), (0,0,1)\n",
      "          dielectric constant epsilon diagonal = (2.1025,2.1025,2.1025)\n",
      "     block, center = (0,0,-0.15)\n",
      "          size (1e+20,1e+20,5.78)\n",
      "          axes (1,0,0), (0,1,0), (0,0,1)\n",
      "          dielectric constant epsilon diagonal = (2.1025,2.1025,2.1025)\n",
      "     cylinder, center = (0,0,2.23)\n",
      "          radius 0.175, height 1.02, axis (0, 0, 1)\n",
      "          dielectric constant epsilon diagonal = (1,1,1)\n",
      "time for set_epsilon = 0.046345 s\n",
      "-----------\n"
     ]
    },
    {
     "data": {
      "application/vnd.jupyter.widget-view+json": {
       "model_id": "ccaaccd5524c43c4813d378e856187a6",
       "version_major": 2,
       "version_minor": 0
      },
      "text/plain": [
       "FloatProgress(value=0.0, description='0% done ', max=200.0)"
      ]
     },
     "metadata": {},
     "output_type": "display_data"
    },
    {
     "name": "stdout",
     "output_type": "stream",
     "text": [
      "run 0 finished at t = 200.0 (8000 timesteps)\n",
      "MPB solved for frequency_1(0,0,0.645161) = 0.645161 after 6 iters\n",
      "Dominant planewave for band 1: (0.000000,0.000000,0.645161)\n"
     ]
    },
    {
     "name": "stderr",
     "output_type": "stream",
     "text": [
      "Warning: grid volume is not an integer number of pixels; cell size will be rounded to nearest pixel.\n"
     ]
    },
    {
     "name": "stdout",
     "output_type": "stream",
     "text": [
      "0.19249999999999998\n",
      "-----------\n",
      "Initializing structure...\n",
      "Halving computational cell along direction x\n",
      "Halving computational cell along direction y\n",
      "time for choose_chunkdivision = 0.00110698 s\n",
      "Working in 3D dimensions.\n",
      "Computational cell is 0.5 x 0.5 x 7.65 with resolution 20\n",
      "     block, center = (0,0,-0.15)\n",
      "          size (1e+20,1e+20,5)\n",
      "          axes (1,0,0), (0,1,0), (0,0,1)\n",
      "          dielectric constant epsilon diagonal = (2.1025,2.1025,2.1025)\n",
      "     block, center = (0,0,-0.15)\n",
      "          size (1e+20,1e+20,5.78)\n",
      "          axes (1,0,0), (0,1,0), (0,0,1)\n",
      "          dielectric constant epsilon diagonal = (2.1025,2.1025,2.1025)\n",
      "     cylinder, center = (0,0,2.23)\n",
      "          radius 0.1925, height 1.02, axis (0, 0, 1)\n",
      "          dielectric constant epsilon diagonal = (1,1,1)\n",
      "time for set_epsilon = 0.047986 s\n",
      "-----------\n"
     ]
    },
    {
     "data": {
      "application/vnd.jupyter.widget-view+json": {
       "model_id": "981895f8004f4e72868cf4399a1f716f",
       "version_major": 2,
       "version_minor": 0
      },
      "text/plain": [
       "FloatProgress(value=0.0, description='0% done ', max=200.0)"
      ]
     },
     "metadata": {},
     "output_type": "display_data"
    },
    {
     "name": "stdout",
     "output_type": "stream",
     "text": [
      "run 0 finished at t = 200.0 (8000 timesteps)\n",
      "MPB solved for frequency_1(0,0,0.645161) = 0.645161 after 6 iters\n",
      "Dominant planewave for band 1: (0.000000,0.000000,0.645161)\n"
     ]
    },
    {
     "name": "stderr",
     "output_type": "stream",
     "text": [
      "Warning: grid volume is not an integer number of pixels; cell size will be rounded to nearest pixel.\n"
     ]
    },
    {
     "name": "stdout",
     "output_type": "stream",
     "text": [
      "0.20999999999999996\n",
      "-----------\n",
      "Initializing structure...\n",
      "Halving computational cell along direction x\n",
      "Halving computational cell along direction y\n",
      "time for choose_chunkdivision = 0.00176096 s\n",
      "Working in 3D dimensions.\n",
      "Computational cell is 0.5 x 0.5 x 7.65 with resolution 20\n",
      "     block, center = (0,0,-0.15)\n",
      "          size (1e+20,1e+20,5)\n",
      "          axes (1,0,0), (0,1,0), (0,0,1)\n",
      "          dielectric constant epsilon diagonal = (2.1025,2.1025,2.1025)\n",
      "     block, center = (0,0,-0.15)\n",
      "          size (1e+20,1e+20,5.78)\n",
      "          axes (1,0,0), (0,1,0), (0,0,1)\n",
      "          dielectric constant epsilon diagonal = (2.1025,2.1025,2.1025)\n",
      "     cylinder, center = (0,0,2.23)\n",
      "          radius 0.21, height 1.02, axis (0, 0, 1)\n",
      "          dielectric constant epsilon diagonal = (1,1,1)\n",
      "time for set_epsilon = 0.053323 s\n",
      "-----------\n"
     ]
    },
    {
     "data": {
      "application/vnd.jupyter.widget-view+json": {
       "model_id": "a8b7445e3590436ea3407129e24c2704",
       "version_major": 2,
       "version_minor": 0
      },
      "text/plain": [
       "FloatProgress(value=0.0, description='0% done ', max=200.0)"
      ]
     },
     "metadata": {},
     "output_type": "display_data"
    },
    {
     "name": "stdout",
     "output_type": "stream",
     "text": [
      "run 0 finished at t = 200.0 (8000 timesteps)\n",
      "MPB solved for frequency_1(0,0,0.645161) = 0.645161 after 6 iters\n",
      "Dominant planewave for band 1: (0.000000,0.000000,0.645161)\n"
     ]
    },
    {
     "name": "stderr",
     "output_type": "stream",
     "text": [
      "Warning: grid volume is not an integer number of pixels; cell size will be rounded to nearest pixel.\n"
     ]
    },
    {
     "name": "stdout",
     "output_type": "stream",
     "text": [
      "0.22749999999999998\n",
      "-----------\n",
      "Initializing structure...\n",
      "Halving computational cell along direction x\n",
      "Halving computational cell along direction y\n",
      "time for choose_chunkdivision = 0.000841856 s\n",
      "Working in 3D dimensions.\n",
      "Computational cell is 0.5 x 0.5 x 7.65 with resolution 20\n",
      "     block, center = (0,0,-0.15)\n",
      "          size (1e+20,1e+20,5)\n",
      "          axes (1,0,0), (0,1,0), (0,0,1)\n",
      "          dielectric constant epsilon diagonal = (2.1025,2.1025,2.1025)\n",
      "     block, center = (0,0,-0.15)\n",
      "          size (1e+20,1e+20,5.78)\n",
      "          axes (1,0,0), (0,1,0), (0,0,1)\n",
      "          dielectric constant epsilon diagonal = (2.1025,2.1025,2.1025)\n",
      "     cylinder, center = (0,0,2.23)\n",
      "          radius 0.2275, height 1.02, axis (0, 0, 1)\n",
      "          dielectric constant epsilon diagonal = (1,1,1)\n",
      "time for set_epsilon = 0.049973 s\n",
      "-----------\n"
     ]
    },
    {
     "data": {
      "application/vnd.jupyter.widget-view+json": {
       "model_id": "bb0588ce710241c49068d8cd9f9e5304",
       "version_major": 2,
       "version_minor": 0
      },
      "text/plain": [
       "FloatProgress(value=0.0, description='0% done ', max=200.0)"
      ]
     },
     "metadata": {},
     "output_type": "display_data"
    },
    {
     "name": "stdout",
     "output_type": "stream",
     "text": [
      "run 0 finished at t = 200.0 (8000 timesteps)\n",
      "MPB solved for frequency_1(0,0,0.645161) = 0.645161 after 6 iters\n",
      "Dominant planewave for band 1: (0.000000,0.000000,0.645161)\n"
     ]
    },
    {
     "name": "stderr",
     "output_type": "stream",
     "text": [
      "Warning: grid volume is not an integer number of pixels; cell size will be rounded to nearest pixel.\n"
     ]
    },
    {
     "name": "stdout",
     "output_type": "stream",
     "text": [
      "0.245\n",
      "-----------\n",
      "Initializing structure...\n",
      "Halving computational cell along direction x\n",
      "Halving computational cell along direction y\n",
      "time for choose_chunkdivision = 0.000888109 s\n",
      "Working in 3D dimensions.\n",
      "Computational cell is 0.5 x 0.5 x 7.65 with resolution 20\n",
      "     block, center = (0,0,-0.15)\n",
      "          size (1e+20,1e+20,5)\n",
      "          axes (1,0,0), (0,1,0), (0,0,1)\n",
      "          dielectric constant epsilon diagonal = (2.1025,2.1025,2.1025)\n",
      "     block, center = (0,0,-0.15)\n",
      "          size (1e+20,1e+20,5.78)\n",
      "          axes (1,0,0), (0,1,0), (0,0,1)\n",
      "          dielectric constant epsilon diagonal = (2.1025,2.1025,2.1025)\n",
      "     cylinder, center = (0,0,2.23)\n",
      "          radius 0.245, height 1.02, axis (0, 0, 1)\n",
      "          dielectric constant epsilon diagonal = (1,1,1)\n",
      "time for set_epsilon = 0.045244 s\n",
      "-----------\n"
     ]
    },
    {
     "data": {
      "application/vnd.jupyter.widget-view+json": {
       "model_id": "57807eb273cd47a0827c5041a48d38d7",
       "version_major": 2,
       "version_minor": 0
      },
      "text/plain": [
       "FloatProgress(value=0.0, description='0% done ', max=200.0)"
      ]
     },
     "metadata": {},
     "output_type": "display_data"
    },
    {
     "name": "stdout",
     "output_type": "stream",
     "text": [
      "run 0 finished at t = 200.0 (8000 timesteps)\n",
      "MPB solved for frequency_1(0,0,0.645161) = 0.645161 after 6 iters\n",
      "Dominant planewave for band 1: (0.000000,0.000000,0.645161)\n"
     ]
    },
    {
     "name": "stderr",
     "output_type": "stream",
     "text": [
      "Warning: grid volume is not an integer number of pixels; cell size will be rounded to nearest pixel.\n"
     ]
    },
    {
     "name": "stdout",
     "output_type": "stream",
     "text": [
      "0.0\n",
      "-----------\n",
      "Initializing structure...\n",
      "Halving computational cell along direction x\n",
      "Halving computational cell along direction y\n",
      "time for choose_chunkdivision = 0.00126004 s\n",
      "Working in 3D dimensions.\n",
      "Computational cell is 0.5 x 0.5 x 7.65 with resolution 20\n",
      "     block, center = (0,0,-0.15)\n",
      "          size (1e+20,1e+20,5)\n",
      "          axes (1,0,0), (0,1,0), (0,0,1)\n",
      "          dielectric constant epsilon diagonal = (2.1025,2.1025,2.1025)\n",
      "     block, center = (0,0,-0.15)\n",
      "          size (1e+20,1e+20,5.78)\n",
      "          axes (1,0,0), (0,1,0), (0,0,1)\n",
      "          dielectric constant epsilon diagonal = (2.1025,2.1025,2.1025)\n",
      "     cylinder, center = (0,0,1.235)\n",
      "          radius 0, height 3.01, axis (0, 0, 1)\n",
      "          dielectric constant epsilon diagonal = (1,1,1)\n",
      "time for set_epsilon = 0.0281138 s\n",
      "-----------\n"
     ]
    },
    {
     "data": {
      "application/vnd.jupyter.widget-view+json": {
       "model_id": "9856e9b80c5f4fc5999459f4f3b51184",
       "version_major": 2,
       "version_minor": 0
      },
      "text/plain": [
       "FloatProgress(value=0.0, description='0% done ', max=200.0)"
      ]
     },
     "metadata": {},
     "output_type": "display_data"
    },
    {
     "name": "stdout",
     "output_type": "stream",
     "text": [
      "run 0 finished at t = 200.0 (8000 timesteps)\n",
      "MPB solved for frequency_1(0,0,0.645161) = 0.645161 after 6 iters\n",
      "Dominant planewave for band 1: (0.000000,0.000000,0.645161)\n"
     ]
    },
    {
     "name": "stderr",
     "output_type": "stream",
     "text": [
      "Warning: grid volume is not an integer number of pixels; cell size will be rounded to nearest pixel.\n"
     ]
    },
    {
     "name": "stdout",
     "output_type": "stream",
     "text": [
      "0.017499999999999998\n",
      "-----------\n",
      "Initializing structure...\n",
      "Halving computational cell along direction x\n",
      "Halving computational cell along direction y\n",
      "time for choose_chunkdivision = 0.000642061 s\n",
      "Working in 3D dimensions.\n",
      "Computational cell is 0.5 x 0.5 x 7.65 with resolution 20\n",
      "     block, center = (0,0,-0.15)\n",
      "          size (1e+20,1e+20,5)\n",
      "          axes (1,0,0), (0,1,0), (0,0,1)\n",
      "          dielectric constant epsilon diagonal = (2.1025,2.1025,2.1025)\n",
      "     block, center = (0,0,-0.15)\n",
      "          size (1e+20,1e+20,5.78)\n",
      "          axes (1,0,0), (0,1,0), (0,0,1)\n",
      "          dielectric constant epsilon diagonal = (2.1025,2.1025,2.1025)\n",
      "     cylinder, center = (0,0,1.235)\n",
      "          radius 0.0175, height 3.01, axis (0, 0, 1)\n",
      "          dielectric constant epsilon diagonal = (1,1,1)\n",
      "time for set_epsilon = 0.0293179 s\n",
      "-----------\n"
     ]
    },
    {
     "data": {
      "application/vnd.jupyter.widget-view+json": {
       "model_id": "c9af3353f2b640e9b27ffa541380c03e",
       "version_major": 2,
       "version_minor": 0
      },
      "text/plain": [
       "FloatProgress(value=0.0, description='0% done ', max=200.0)"
      ]
     },
     "metadata": {},
     "output_type": "display_data"
    },
    {
     "name": "stdout",
     "output_type": "stream",
     "text": [
      "run 0 finished at t = 200.0 (8000 timesteps)\n",
      "MPB solved for frequency_1(0,0,0.645161) = 0.645161 after 6 iters\n",
      "Dominant planewave for band 1: (0.000000,0.000000,0.645161)\n"
     ]
    },
    {
     "name": "stderr",
     "output_type": "stream",
     "text": [
      "Warning: grid volume is not an integer number of pixels; cell size will be rounded to nearest pixel.\n"
     ]
    },
    {
     "name": "stdout",
     "output_type": "stream",
     "text": [
      "0.034999999999999996\n",
      "-----------\n",
      "Initializing structure...\n",
      "Halving computational cell along direction x\n",
      "Halving computational cell along direction y\n",
      "time for choose_chunkdivision = 0.000617981 s\n",
      "Working in 3D dimensions.\n",
      "Computational cell is 0.5 x 0.5 x 7.65 with resolution 20\n",
      "     block, center = (0,0,-0.15)\n",
      "          size (1e+20,1e+20,5)\n",
      "          axes (1,0,0), (0,1,0), (0,0,1)\n",
      "          dielectric constant epsilon diagonal = (2.1025,2.1025,2.1025)\n",
      "     block, center = (0,0,-0.15)\n",
      "          size (1e+20,1e+20,5.78)\n",
      "          axes (1,0,0), (0,1,0), (0,0,1)\n",
      "          dielectric constant epsilon diagonal = (2.1025,2.1025,2.1025)\n",
      "     cylinder, center = (0,0,1.235)\n",
      "          radius 0.035, height 3.01, axis (0, 0, 1)\n",
      "          dielectric constant epsilon diagonal = (1,1,1)\n",
      "time for set_epsilon = 0.0371671 s\n",
      "-----------\n"
     ]
    },
    {
     "data": {
      "application/vnd.jupyter.widget-view+json": {
       "model_id": "422538b948704a73bd43ae562feec034",
       "version_major": 2,
       "version_minor": 0
      },
      "text/plain": [
       "FloatProgress(value=0.0, description='0% done ', max=200.0)"
      ]
     },
     "metadata": {},
     "output_type": "display_data"
    },
    {
     "name": "stdout",
     "output_type": "stream",
     "text": [
      "run 0 finished at t = 200.0 (8000 timesteps)\n",
      "MPB solved for frequency_1(0,0,0.645161) = 0.645161 after 6 iters\n",
      "Dominant planewave for band 1: (0.000000,0.000000,0.645161)\n"
     ]
    },
    {
     "name": "stderr",
     "output_type": "stream",
     "text": [
      "Warning: grid volume is not an integer number of pixels; cell size will be rounded to nearest pixel.\n"
     ]
    },
    {
     "name": "stdout",
     "output_type": "stream",
     "text": [
      "0.05249999999999999\n",
      "-----------\n",
      "Initializing structure...\n",
      "Halving computational cell along direction x\n",
      "Halving computational cell along direction y\n",
      "time for choose_chunkdivision = 0.00115585 s\n",
      "Working in 3D dimensions.\n",
      "Computational cell is 0.5 x 0.5 x 7.65 with resolution 20\n",
      "     block, center = (0,0,-0.15)\n",
      "          size (1e+20,1e+20,5)\n",
      "          axes (1,0,0), (0,1,0), (0,0,1)\n",
      "          dielectric constant epsilon diagonal = (2.1025,2.1025,2.1025)\n",
      "     block, center = (0,0,-0.15)\n",
      "          size (1e+20,1e+20,5.78)\n",
      "          axes (1,0,0), (0,1,0), (0,0,1)\n",
      "          dielectric constant epsilon diagonal = (2.1025,2.1025,2.1025)\n",
      "     cylinder, center = (0,0,1.235)\n",
      "          radius 0.0525, height 3.01, axis (0, 0, 1)\n",
      "          dielectric constant epsilon diagonal = (1,1,1)\n",
      "time for set_epsilon = 0.0634458 s\n",
      "-----------\n"
     ]
    },
    {
     "data": {
      "application/vnd.jupyter.widget-view+json": {
       "model_id": "1c5f4ad757f547e1afb9423bf4e968a6",
       "version_major": 2,
       "version_minor": 0
      },
      "text/plain": [
       "FloatProgress(value=0.0, description='0% done ', max=200.0)"
      ]
     },
     "metadata": {},
     "output_type": "display_data"
    },
    {
     "name": "stdout",
     "output_type": "stream",
     "text": [
      "run 0 finished at t = 200.0 (8000 timesteps)\n",
      "MPB solved for frequency_1(0,0,0.645161) = 0.645161 after 6 iters\n",
      "Dominant planewave for band 1: (0.000000,0.000000,0.645161)\n"
     ]
    },
    {
     "name": "stderr",
     "output_type": "stream",
     "text": [
      "Warning: grid volume is not an integer number of pixels; cell size will be rounded to nearest pixel.\n"
     ]
    },
    {
     "name": "stdout",
     "output_type": "stream",
     "text": [
      "0.06999999999999999\n",
      "-----------\n",
      "Initializing structure...\n",
      "Halving computational cell along direction x\n",
      "Halving computational cell along direction y\n",
      "time for choose_chunkdivision = 0.00134182 s\n",
      "Working in 3D dimensions.\n",
      "Computational cell is 0.5 x 0.5 x 7.65 with resolution 20\n",
      "     block, center = (0,0,-0.15)\n",
      "          size (1e+20,1e+20,5)\n",
      "          axes (1,0,0), (0,1,0), (0,0,1)\n",
      "          dielectric constant epsilon diagonal = (2.1025,2.1025,2.1025)\n",
      "     block, center = (0,0,-0.15)\n",
      "          size (1e+20,1e+20,5.78)\n",
      "          axes (1,0,0), (0,1,0), (0,0,1)\n",
      "          dielectric constant epsilon diagonal = (2.1025,2.1025,2.1025)\n",
      "     cylinder, center = (0,0,1.235)\n",
      "          radius 0.07, height 3.01, axis (0, 0, 1)\n",
      "          dielectric constant epsilon diagonal = (1,1,1)\n",
      "time for set_epsilon = 0.0625091 s\n",
      "-----------\n"
     ]
    },
    {
     "data": {
      "application/vnd.jupyter.widget-view+json": {
       "model_id": "2765e6324c704e76b08de3592875a801",
       "version_major": 2,
       "version_minor": 0
      },
      "text/plain": [
       "FloatProgress(value=0.0, description='0% done ', max=200.0)"
      ]
     },
     "metadata": {},
     "output_type": "display_data"
    },
    {
     "name": "stdout",
     "output_type": "stream",
     "text": [
      "run 0 finished at t = 200.0 (8000 timesteps)\n",
      "MPB solved for frequency_1(0,0,0.645161) = 0.645161 after 6 iters\n",
      "Dominant planewave for band 1: (0.000000,0.000000,0.645161)\n"
     ]
    },
    {
     "name": "stderr",
     "output_type": "stream",
     "text": [
      "Warning: grid volume is not an integer number of pixels; cell size will be rounded to nearest pixel.\n"
     ]
    },
    {
     "name": "stdout",
     "output_type": "stream",
     "text": [
      "0.0875\n",
      "-----------\n",
      "Initializing structure...\n",
      "Halving computational cell along direction x\n",
      "Halving computational cell along direction y\n",
      "time for choose_chunkdivision = 0.000776052 s\n",
      "Working in 3D dimensions.\n",
      "Computational cell is 0.5 x 0.5 x 7.65 with resolution 20\n",
      "     block, center = (0,0,-0.15)\n",
      "          size (1e+20,1e+20,5)\n",
      "          axes (1,0,0), (0,1,0), (0,0,1)\n",
      "          dielectric constant epsilon diagonal = (2.1025,2.1025,2.1025)\n",
      "     block, center = (0,0,-0.15)\n",
      "          size (1e+20,1e+20,5.78)\n",
      "          axes (1,0,0), (0,1,0), (0,0,1)\n",
      "          dielectric constant epsilon diagonal = (2.1025,2.1025,2.1025)\n",
      "     cylinder, center = (0,0,1.235)\n",
      "          radius 0.0875, height 3.01, axis (0, 0, 1)\n",
      "          dielectric constant epsilon diagonal = (1,1,1)\n",
      "time for set_epsilon = 0.0642252 s\n",
      "-----------\n"
     ]
    },
    {
     "data": {
      "application/vnd.jupyter.widget-view+json": {
       "model_id": "d7ae044d35414b528ef3b13a6673e25b",
       "version_major": 2,
       "version_minor": 0
      },
      "text/plain": [
       "FloatProgress(value=0.0, description='0% done ', max=200.0)"
      ]
     },
     "metadata": {},
     "output_type": "display_data"
    },
    {
     "name": "stdout",
     "output_type": "stream",
     "text": [
      "run 0 finished at t = 200.0 (8000 timesteps)\n",
      "MPB solved for frequency_1(0,0,0.645161) = 0.645161 after 6 iters\n",
      "Dominant planewave for band 1: (0.000000,0.000000,0.645161)\n"
     ]
    },
    {
     "name": "stderr",
     "output_type": "stream",
     "text": [
      "Warning: grid volume is not an integer number of pixels; cell size will be rounded to nearest pixel.\n"
     ]
    },
    {
     "name": "stdout",
     "output_type": "stream",
     "text": [
      "0.10499999999999998\n",
      "-----------\n",
      "Initializing structure...\n",
      "Halving computational cell along direction x\n",
      "Halving computational cell along direction y\n",
      "time for choose_chunkdivision = 0.000735998 s\n",
      "Working in 3D dimensions.\n",
      "Computational cell is 0.5 x 0.5 x 7.65 with resolution 20\n",
      "     block, center = (0,0,-0.15)\n",
      "          size (1e+20,1e+20,5)\n",
      "          axes (1,0,0), (0,1,0), (0,0,1)\n",
      "          dielectric constant epsilon diagonal = (2.1025,2.1025,2.1025)\n",
      "     block, center = (0,0,-0.15)\n",
      "          size (1e+20,1e+20,5.78)\n",
      "          axes (1,0,0), (0,1,0), (0,0,1)\n",
      "          dielectric constant epsilon diagonal = (2.1025,2.1025,2.1025)\n",
      "     cylinder, center = (0,0,1.235)\n",
      "          radius 0.105, height 3.01, axis (0, 0, 1)\n",
      "          dielectric constant epsilon diagonal = (1,1,1)\n",
      "time for set_epsilon = 0.0659301 s\n",
      "-----------\n"
     ]
    },
    {
     "data": {
      "application/vnd.jupyter.widget-view+json": {
       "model_id": "7242e0ff4c3544e1848dc1ae0e8d638f",
       "version_major": 2,
       "version_minor": 0
      },
      "text/plain": [
       "FloatProgress(value=0.0, description='0% done ', max=200.0)"
      ]
     },
     "metadata": {},
     "output_type": "display_data"
    },
    {
     "name": "stdout",
     "output_type": "stream",
     "text": [
      "run 0 finished at t = 200.0 (8000 timesteps)\n",
      "MPB solved for frequency_1(0,0,0.645161) = 0.645161 after 6 iters\n",
      "Dominant planewave for band 1: (0.000000,0.000000,0.645161)\n"
     ]
    },
    {
     "name": "stderr",
     "output_type": "stream",
     "text": [
      "Warning: grid volume is not an integer number of pixels; cell size will be rounded to nearest pixel.\n"
     ]
    },
    {
     "name": "stdout",
     "output_type": "stream",
     "text": [
      "0.12249999999999998\n",
      "-----------\n",
      "Initializing structure...\n",
      "Halving computational cell along direction x\n",
      "Halving computational cell along direction y\n",
      "time for choose_chunkdivision = 0.000798941 s\n",
      "Working in 3D dimensions.\n",
      "Computational cell is 0.5 x 0.5 x 7.65 with resolution 20\n",
      "     block, center = (0,0,-0.15)\n",
      "          size (1e+20,1e+20,5)\n",
      "          axes (1,0,0), (0,1,0), (0,0,1)\n",
      "          dielectric constant epsilon diagonal = (2.1025,2.1025,2.1025)\n",
      "     block, center = (0,0,-0.15)\n",
      "          size (1e+20,1e+20,5.78)\n",
      "          axes (1,0,0), (0,1,0), (0,0,1)\n",
      "          dielectric constant epsilon diagonal = (2.1025,2.1025,2.1025)\n",
      "     cylinder, center = (0,0,1.235)\n",
      "          radius 0.1225, height 3.01, axis (0, 0, 1)\n",
      "          dielectric constant epsilon diagonal = (1,1,1)\n",
      "time for set_epsilon = 0.062295 s\n",
      "-----------\n"
     ]
    },
    {
     "data": {
      "application/vnd.jupyter.widget-view+json": {
       "model_id": "3e6cc8fa6e514376a34bec417a1b4ccf",
       "version_major": 2,
       "version_minor": 0
      },
      "text/plain": [
       "FloatProgress(value=0.0, description='0% done ', max=200.0)"
      ]
     },
     "metadata": {},
     "output_type": "display_data"
    },
    {
     "name": "stdout",
     "output_type": "stream",
     "text": [
      "run 0 finished at t = 200.0 (8000 timesteps)\n",
      "MPB solved for frequency_1(0,0,0.645161) = 0.645161 after 6 iters\n",
      "Dominant planewave for band 1: (0.000000,0.000000,0.645161)\n"
     ]
    },
    {
     "name": "stderr",
     "output_type": "stream",
     "text": [
      "Warning: grid volume is not an integer number of pixels; cell size will be rounded to nearest pixel.\n"
     ]
    },
    {
     "name": "stdout",
     "output_type": "stream",
     "text": [
      "0.13999999999999999\n",
      "-----------\n",
      "Initializing structure...\n",
      "Halving computational cell along direction x\n",
      "Halving computational cell along direction y\n",
      "time for choose_chunkdivision = 0.000772953 s\n",
      "Working in 3D dimensions.\n",
      "Computational cell is 0.5 x 0.5 x 7.65 with resolution 20\n",
      "     block, center = (0,0,-0.15)\n",
      "          size (1e+20,1e+20,5)\n",
      "          axes (1,0,0), (0,1,0), (0,0,1)\n",
      "          dielectric constant epsilon diagonal = (2.1025,2.1025,2.1025)\n",
      "     block, center = (0,0,-0.15)\n",
      "          size (1e+20,1e+20,5.78)\n",
      "          axes (1,0,0), (0,1,0), (0,0,1)\n",
      "          dielectric constant epsilon diagonal = (2.1025,2.1025,2.1025)\n",
      "     cylinder, center = (0,0,1.235)\n",
      "          radius 0.14, height 3.01, axis (0, 0, 1)\n",
      "          dielectric constant epsilon diagonal = (1,1,1)\n",
      "time for set_epsilon = 0.066365 s\n",
      "-----------\n"
     ]
    },
    {
     "data": {
      "application/vnd.jupyter.widget-view+json": {
       "model_id": "c9417db4ee004da999a6893666b9ceec",
       "version_major": 2,
       "version_minor": 0
      },
      "text/plain": [
       "FloatProgress(value=0.0, description='0% done ', max=200.0)"
      ]
     },
     "metadata": {},
     "output_type": "display_data"
    },
    {
     "name": "stdout",
     "output_type": "stream",
     "text": [
      "run 0 finished at t = 200.0 (8000 timesteps)\n",
      "MPB solved for frequency_1(0,0,0.645161) = 0.645161 after 6 iters\n",
      "Dominant planewave for band 1: (0.000000,0.000000,0.645161)\n"
     ]
    },
    {
     "name": "stderr",
     "output_type": "stream",
     "text": [
      "Warning: grid volume is not an integer number of pixels; cell size will be rounded to nearest pixel.\n"
     ]
    },
    {
     "name": "stdout",
     "output_type": "stream",
     "text": [
      "0.15749999999999997\n",
      "-----------\n",
      "Initializing structure...\n",
      "Halving computational cell along direction x\n",
      "Halving computational cell along direction y\n",
      "time for choose_chunkdivision = 0.00123787 s\n",
      "Working in 3D dimensions.\n",
      "Computational cell is 0.5 x 0.5 x 7.65 with resolution 20\n",
      "     block, center = (0,0,-0.15)\n",
      "          size (1e+20,1e+20,5)\n",
      "          axes (1,0,0), (0,1,0), (0,0,1)\n",
      "          dielectric constant epsilon diagonal = (2.1025,2.1025,2.1025)\n",
      "     block, center = (0,0,-0.15)\n",
      "          size (1e+20,1e+20,5.78)\n",
      "          axes (1,0,0), (0,1,0), (0,0,1)\n",
      "          dielectric constant epsilon diagonal = (2.1025,2.1025,2.1025)\n",
      "     cylinder, center = (0,0,1.235)\n",
      "          radius 0.1575, height 3.01, axis (0, 0, 1)\n",
      "          dielectric constant epsilon diagonal = (1,1,1)\n",
      "time for set_epsilon = 0.0698471 s\n",
      "-----------\n"
     ]
    },
    {
     "data": {
      "application/vnd.jupyter.widget-view+json": {
       "model_id": "d52cfff56bab421180b5b87bbdbe5873",
       "version_major": 2,
       "version_minor": 0
      },
      "text/plain": [
       "FloatProgress(value=0.0, description='0% done ', max=200.0)"
      ]
     },
     "metadata": {},
     "output_type": "display_data"
    },
    {
     "name": "stdout",
     "output_type": "stream",
     "text": [
      "run 0 finished at t = 200.0 (8000 timesteps)\n",
      "MPB solved for frequency_1(0,0,0.645161) = 0.645161 after 6 iters\n",
      "Dominant planewave for band 1: (0.000000,0.000000,0.645161)\n"
     ]
    },
    {
     "name": "stderr",
     "output_type": "stream",
     "text": [
      "Warning: grid volume is not an integer number of pixels; cell size will be rounded to nearest pixel.\n"
     ]
    },
    {
     "name": "stdout",
     "output_type": "stream",
     "text": [
      "0.175\n",
      "-----------\n",
      "Initializing structure...\n",
      "Halving computational cell along direction x\n",
      "Halving computational cell along direction y\n",
      "time for choose_chunkdivision = 0.000829935 s\n",
      "Working in 3D dimensions.\n",
      "Computational cell is 0.5 x 0.5 x 7.65 with resolution 20\n",
      "     block, center = (0,0,-0.15)\n",
      "          size (1e+20,1e+20,5)\n",
      "          axes (1,0,0), (0,1,0), (0,0,1)\n",
      "          dielectric constant epsilon diagonal = (2.1025,2.1025,2.1025)\n",
      "     block, center = (0,0,-0.15)\n",
      "          size (1e+20,1e+20,5.78)\n",
      "          axes (1,0,0), (0,1,0), (0,0,1)\n",
      "          dielectric constant epsilon diagonal = (2.1025,2.1025,2.1025)\n",
      "     cylinder, center = (0,0,1.235)\n",
      "          radius 0.175, height 3.01, axis (0, 0, 1)\n",
      "          dielectric constant epsilon diagonal = (1,1,1)\n",
      "time for set_epsilon = 0.0647588 s\n",
      "-----------\n"
     ]
    },
    {
     "data": {
      "application/vnd.jupyter.widget-view+json": {
       "model_id": "5efd28e047e140a498ea01d9ef97a307",
       "version_major": 2,
       "version_minor": 0
      },
      "text/plain": [
       "FloatProgress(value=0.0, description='0% done ', max=200.0)"
      ]
     },
     "metadata": {},
     "output_type": "display_data"
    },
    {
     "name": "stdout",
     "output_type": "stream",
     "text": [
      "run 0 finished at t = 200.0 (8000 timesteps)\n",
      "MPB solved for frequency_1(0,0,0.645161) = 0.645161 after 6 iters\n",
      "Dominant planewave for band 1: (0.000000,0.000000,0.645161)\n"
     ]
    },
    {
     "name": "stderr",
     "output_type": "stream",
     "text": [
      "Warning: grid volume is not an integer number of pixels; cell size will be rounded to nearest pixel.\n"
     ]
    },
    {
     "name": "stdout",
     "output_type": "stream",
     "text": [
      "0.19249999999999998\n",
      "-----------\n",
      "Initializing structure...\n",
      "Halving computational cell along direction x\n",
      "Halving computational cell along direction y\n",
      "time for choose_chunkdivision = 0.000782013 s\n",
      "Working in 3D dimensions.\n",
      "Computational cell is 0.5 x 0.5 x 7.65 with resolution 20\n",
      "     block, center = (0,0,-0.15)\n",
      "          size (1e+20,1e+20,5)\n",
      "          axes (1,0,0), (0,1,0), (0,0,1)\n",
      "          dielectric constant epsilon diagonal = (2.1025,2.1025,2.1025)\n",
      "     block, center = (0,0,-0.15)\n",
      "          size (1e+20,1e+20,5.78)\n",
      "          axes (1,0,0), (0,1,0), (0,0,1)\n",
      "          dielectric constant epsilon diagonal = (2.1025,2.1025,2.1025)\n",
      "     cylinder, center = (0,0,1.235)\n",
      "          radius 0.1925, height 3.01, axis (0, 0, 1)\n",
      "          dielectric constant epsilon diagonal = (1,1,1)\n",
      "time for set_epsilon = 0.077462 s\n",
      "-----------\n"
     ]
    },
    {
     "data": {
      "application/vnd.jupyter.widget-view+json": {
       "model_id": "3ca359c88d114bf79377053ddd6b9f94",
       "version_major": 2,
       "version_minor": 0
      },
      "text/plain": [
       "FloatProgress(value=0.0, description='0% done ', max=200.0)"
      ]
     },
     "metadata": {},
     "output_type": "display_data"
    },
    {
     "name": "stdout",
     "output_type": "stream",
     "text": [
      "run 0 finished at t = 200.0 (8000 timesteps)\n",
      "MPB solved for frequency_1(0,0,0.645161) = 0.645161 after 6 iters\n",
      "Dominant planewave for band 1: (0.000000,0.000000,0.645161)\n"
     ]
    },
    {
     "name": "stderr",
     "output_type": "stream",
     "text": [
      "Warning: grid volume is not an integer number of pixels; cell size will be rounded to nearest pixel.\n"
     ]
    },
    {
     "name": "stdout",
     "output_type": "stream",
     "text": [
      "0.20999999999999996\n",
      "-----------\n",
      "Initializing structure...\n",
      "Halving computational cell along direction x\n",
      "Halving computational cell along direction y\n",
      "time for choose_chunkdivision = 0.000833988 s\n",
      "Working in 3D dimensions.\n",
      "Computational cell is 0.5 x 0.5 x 7.65 with resolution 20\n",
      "     block, center = (0,0,-0.15)\n",
      "          size (1e+20,1e+20,5)\n",
      "          axes (1,0,0), (0,1,0), (0,0,1)\n",
      "          dielectric constant epsilon diagonal = (2.1025,2.1025,2.1025)\n",
      "     block, center = (0,0,-0.15)\n",
      "          size (1e+20,1e+20,5.78)\n",
      "          axes (1,0,0), (0,1,0), (0,0,1)\n",
      "          dielectric constant epsilon diagonal = (2.1025,2.1025,2.1025)\n",
      "     cylinder, center = (0,0,1.235)\n",
      "          radius 0.21, height 3.01, axis (0, 0, 1)\n",
      "          dielectric constant epsilon diagonal = (1,1,1)\n",
      "time for set_epsilon = 0.0836971 s\n",
      "-----------\n"
     ]
    },
    {
     "data": {
      "application/vnd.jupyter.widget-view+json": {
       "model_id": "ca6b36cff5174fc29fd3c40e2191d983",
       "version_major": 2,
       "version_minor": 0
      },
      "text/plain": [
       "FloatProgress(value=0.0, description='0% done ', max=200.0)"
      ]
     },
     "metadata": {},
     "output_type": "display_data"
    },
    {
     "name": "stdout",
     "output_type": "stream",
     "text": [
      "run 0 finished at t = 200.0 (8000 timesteps)\n",
      "MPB solved for frequency_1(0,0,0.645161) = 0.645161 after 6 iters\n",
      "Dominant planewave for band 1: (0.000000,0.000000,0.645161)\n"
     ]
    },
    {
     "name": "stderr",
     "output_type": "stream",
     "text": [
      "Warning: grid volume is not an integer number of pixels; cell size will be rounded to nearest pixel.\n"
     ]
    },
    {
     "name": "stdout",
     "output_type": "stream",
     "text": [
      "0.22749999999999998\n",
      "-----------\n",
      "Initializing structure...\n",
      "Halving computational cell along direction x\n",
      "Halving computational cell along direction y\n",
      "time for choose_chunkdivision = 0.000723839 s\n",
      "Working in 3D dimensions.\n",
      "Computational cell is 0.5 x 0.5 x 7.65 with resolution 20\n",
      "     block, center = (0,0,-0.15)\n",
      "          size (1e+20,1e+20,5)\n",
      "          axes (1,0,0), (0,1,0), (0,0,1)\n",
      "          dielectric constant epsilon diagonal = (2.1025,2.1025,2.1025)\n",
      "     block, center = (0,0,-0.15)\n",
      "          size (1e+20,1e+20,5.78)\n",
      "          axes (1,0,0), (0,1,0), (0,0,1)\n",
      "          dielectric constant epsilon diagonal = (2.1025,2.1025,2.1025)\n",
      "     cylinder, center = (0,0,1.235)\n",
      "          radius 0.2275, height 3.01, axis (0, 0, 1)\n",
      "          dielectric constant epsilon diagonal = (1,1,1)\n",
      "time for set_epsilon = 0.084295 s\n",
      "-----------\n"
     ]
    },
    {
     "data": {
      "application/vnd.jupyter.widget-view+json": {
       "model_id": "e21a7a385fb84512a5005face1b515c2",
       "version_major": 2,
       "version_minor": 0
      },
      "text/plain": [
       "FloatProgress(value=0.0, description='0% done ', max=200.0)"
      ]
     },
     "metadata": {},
     "output_type": "display_data"
    },
    {
     "name": "stdout",
     "output_type": "stream",
     "text": [
      "run 0 finished at t = 200.0 (8000 timesteps)\n",
      "MPB solved for frequency_1(0,0,0.645161) = 0.645161 after 6 iters\n",
      "Dominant planewave for band 1: (0.000000,0.000000,0.645161)\n"
     ]
    },
    {
     "name": "stderr",
     "output_type": "stream",
     "text": [
      "Warning: grid volume is not an integer number of pixels; cell size will be rounded to nearest pixel.\n"
     ]
    },
    {
     "name": "stdout",
     "output_type": "stream",
     "text": [
      "0.245\n",
      "-----------\n",
      "Initializing structure...\n",
      "Halving computational cell along direction x\n",
      "Halving computational cell along direction y\n",
      "time for choose_chunkdivision = 0.00109386 s\n",
      "Working in 3D dimensions.\n",
      "Computational cell is 0.5 x 0.5 x 7.65 with resolution 20\n",
      "     block, center = (0,0,-0.15)\n",
      "          size (1e+20,1e+20,5)\n",
      "          axes (1,0,0), (0,1,0), (0,0,1)\n",
      "          dielectric constant epsilon diagonal = (2.1025,2.1025,2.1025)\n",
      "     block, center = (0,0,-0.15)\n",
      "          size (1e+20,1e+20,5.78)\n",
      "          axes (1,0,0), (0,1,0), (0,0,1)\n",
      "          dielectric constant epsilon diagonal = (2.1025,2.1025,2.1025)\n",
      "     cylinder, center = (0,0,1.235)\n",
      "          radius 0.245, height 3.01, axis (0, 0, 1)\n",
      "          dielectric constant epsilon diagonal = (1,1,1)\n",
      "time for set_epsilon = 0.068718 s\n",
      "-----------\n"
     ]
    },
    {
     "data": {
      "application/vnd.jupyter.widget-view+json": {
       "model_id": "3ee0858d1f2c43c7a859c3178c2bd482",
       "version_major": 2,
       "version_minor": 0
      },
      "text/plain": [
       "FloatProgress(value=0.0, description='0% done ', max=200.0)"
      ]
     },
     "metadata": {},
     "output_type": "display_data"
    },
    {
     "name": "stdout",
     "output_type": "stream",
     "text": [
      "run 0 finished at t = 200.0 (8000 timesteps)\n",
      "MPB solved for frequency_1(0,0,0.645161) = 0.645161 after 6 iters\n",
      "Dominant planewave for band 1: (0.000000,0.000000,0.645161)\n"
     ]
    },
    {
     "name": "stderr",
     "output_type": "stream",
     "text": [
      "Warning: grid volume is not an integer number of pixels; cell size will be rounded to nearest pixel.\n"
     ]
    },
    {
     "name": "stdout",
     "output_type": "stream",
     "text": [
      "0.0\n",
      "-----------\n",
      "Initializing structure...\n",
      "Halving computational cell along direction x\n",
      "Halving computational cell along direction y\n",
      "time for choose_chunkdivision = 0.00087595 s\n",
      "Working in 3D dimensions.\n",
      "Computational cell is 0.5 x 0.5 x 7.65 with resolution 20\n",
      "     block, center = (0,0,-0.15)\n",
      "          size (1e+20,1e+20,5)\n",
      "          axes (1,0,0), (0,1,0), (0,0,1)\n",
      "          dielectric constant epsilon diagonal = (2.1025,2.1025,2.1025)\n",
      "     block, center = (0,0,-0.15)\n",
      "          size (1e+20,1e+20,5.78)\n",
      "          axes (1,0,0), (0,1,0), (0,0,1)\n",
      "          dielectric constant epsilon diagonal = (2.1025,2.1025,2.1025)\n",
      "     cylinder, center = (0,0,0.24)\n",
      "          radius 0, height 5, axis (0, 0, 1)\n",
      "          dielectric constant epsilon diagonal = (1,1,1)\n",
      "time for set_epsilon = 0.028301 s\n",
      "-----------\n"
     ]
    },
    {
     "data": {
      "application/vnd.jupyter.widget-view+json": {
       "model_id": "3cf0768c76dd4ce986bc077ac89a31eb",
       "version_major": 2,
       "version_minor": 0
      },
      "text/plain": [
       "FloatProgress(value=0.0, description='0% done ', max=200.0)"
      ]
     },
     "metadata": {},
     "output_type": "display_data"
    },
    {
     "name": "stdout",
     "output_type": "stream",
     "text": [
      "run 0 finished at t = 200.0 (8000 timesteps)\n",
      "MPB solved for frequency_1(0,0,0.645161) = 0.645161 after 6 iters\n",
      "Dominant planewave for band 1: (0.000000,0.000000,0.645161)\n"
     ]
    },
    {
     "name": "stderr",
     "output_type": "stream",
     "text": [
      "Warning: grid volume is not an integer number of pixels; cell size will be rounded to nearest pixel.\n"
     ]
    },
    {
     "name": "stdout",
     "output_type": "stream",
     "text": [
      "0.017499999999999998\n",
      "-----------\n",
      "Initializing structure...\n",
      "Halving computational cell along direction x\n",
      "Halving computational cell along direction y\n",
      "time for choose_chunkdivision = 0.000968933 s\n",
      "Working in 3D dimensions.\n",
      "Computational cell is 0.5 x 0.5 x 7.65 with resolution 20\n",
      "     block, center = (0,0,-0.15)\n",
      "          size (1e+20,1e+20,5)\n",
      "          axes (1,0,0), (0,1,0), (0,0,1)\n",
      "          dielectric constant epsilon diagonal = (2.1025,2.1025,2.1025)\n",
      "     block, center = (0,0,-0.15)\n",
      "          size (1e+20,1e+20,5.78)\n",
      "          axes (1,0,0), (0,1,0), (0,0,1)\n",
      "          dielectric constant epsilon diagonal = (2.1025,2.1025,2.1025)\n",
      "     cylinder, center = (0,0,0.24)\n",
      "          radius 0.0175, height 5, axis (0, 0, 1)\n",
      "          dielectric constant epsilon diagonal = (1,1,1)\n",
      "time for set_epsilon = 0.0320129 s\n",
      "-----------\n"
     ]
    },
    {
     "data": {
      "application/vnd.jupyter.widget-view+json": {
       "model_id": "2087744730f1464a9adf33df73ad4404",
       "version_major": 2,
       "version_minor": 0
      },
      "text/plain": [
       "FloatProgress(value=0.0, description='0% done ', max=200.0)"
      ]
     },
     "metadata": {},
     "output_type": "display_data"
    },
    {
     "name": "stdout",
     "output_type": "stream",
     "text": [
      "run 0 finished at t = 200.0 (8000 timesteps)\n",
      "MPB solved for frequency_1(0,0,0.645161) = 0.645161 after 6 iters\n",
      "Dominant planewave for band 1: (0.000000,0.000000,0.645161)\n"
     ]
    },
    {
     "name": "stderr",
     "output_type": "stream",
     "text": [
      "Warning: grid volume is not an integer number of pixels; cell size will be rounded to nearest pixel.\n"
     ]
    },
    {
     "name": "stdout",
     "output_type": "stream",
     "text": [
      "0.034999999999999996\n",
      "-----------\n",
      "Initializing structure...\n",
      "Halving computational cell along direction x\n",
      "Halving computational cell along direction y\n",
      "time for choose_chunkdivision = 0.0012331 s\n",
      "Working in 3D dimensions.\n",
      "Computational cell is 0.5 x 0.5 x 7.65 with resolution 20\n",
      "     block, center = (0,0,-0.15)\n",
      "          size (1e+20,1e+20,5)\n",
      "          axes (1,0,0), (0,1,0), (0,0,1)\n",
      "          dielectric constant epsilon diagonal = (2.1025,2.1025,2.1025)\n",
      "     block, center = (0,0,-0.15)\n",
      "          size (1e+20,1e+20,5.78)\n",
      "          axes (1,0,0), (0,1,0), (0,0,1)\n",
      "          dielectric constant epsilon diagonal = (2.1025,2.1025,2.1025)\n",
      "     cylinder, center = (0,0,0.24)\n",
      "          radius 0.035, height 5, axis (0, 0, 1)\n",
      "          dielectric constant epsilon diagonal = (1,1,1)\n",
      "time for set_epsilon = 0.047328 s\n",
      "-----------\n"
     ]
    },
    {
     "data": {
      "application/vnd.jupyter.widget-view+json": {
       "model_id": "b023db232708455b97b898e5f510111f",
       "version_major": 2,
       "version_minor": 0
      },
      "text/plain": [
       "FloatProgress(value=0.0, description='0% done ', max=200.0)"
      ]
     },
     "metadata": {},
     "output_type": "display_data"
    },
    {
     "name": "stdout",
     "output_type": "stream",
     "text": [
      "run 0 finished at t = 200.0 (8000 timesteps)\n",
      "MPB solved for frequency_1(0,0,0.645161) = 0.645161 after 6 iters\n",
      "Dominant planewave for band 1: (0.000000,0.000000,0.645161)\n"
     ]
    },
    {
     "name": "stderr",
     "output_type": "stream",
     "text": [
      "Warning: grid volume is not an integer number of pixels; cell size will be rounded to nearest pixel.\n"
     ]
    },
    {
     "name": "stdout",
     "output_type": "stream",
     "text": [
      "0.05249999999999999\n",
      "-----------\n",
      "Initializing structure...\n",
      "Halving computational cell along direction x\n",
      "Halving computational cell along direction y\n",
      "time for choose_chunkdivision = 0.000879049 s\n",
      "Working in 3D dimensions.\n",
      "Computational cell is 0.5 x 0.5 x 7.65 with resolution 20\n",
      "     block, center = (0,0,-0.15)\n",
      "          size (1e+20,1e+20,5)\n",
      "          axes (1,0,0), (0,1,0), (0,0,1)\n",
      "          dielectric constant epsilon diagonal = (2.1025,2.1025,2.1025)\n",
      "     block, center = (0,0,-0.15)\n",
      "          size (1e+20,1e+20,5.78)\n",
      "          axes (1,0,0), (0,1,0), (0,0,1)\n",
      "          dielectric constant epsilon diagonal = (2.1025,2.1025,2.1025)\n",
      "     cylinder, center = (0,0,0.24)\n",
      "          radius 0.0525, height 5, axis (0, 0, 1)\n",
      "          dielectric constant epsilon diagonal = (1,1,1)\n",
      "time for set_epsilon = 0.0939291 s\n",
      "-----------\n"
     ]
    },
    {
     "data": {
      "application/vnd.jupyter.widget-view+json": {
       "model_id": "6b5e19335a24441881214bc5089b4d4f",
       "version_major": 2,
       "version_minor": 0
      },
      "text/plain": [
       "FloatProgress(value=0.0, description='0% done ', max=200.0)"
      ]
     },
     "metadata": {},
     "output_type": "display_data"
    },
    {
     "name": "stdout",
     "output_type": "stream",
     "text": [
      "run 0 finished at t = 200.0 (8000 timesteps)\n",
      "MPB solved for frequency_1(0,0,0.645161) = 0.645161 after 6 iters\n",
      "Dominant planewave for band 1: (0.000000,0.000000,0.645161)\n"
     ]
    },
    {
     "name": "stderr",
     "output_type": "stream",
     "text": [
      "Warning: grid volume is not an integer number of pixels; cell size will be rounded to nearest pixel.\n"
     ]
    },
    {
     "name": "stdout",
     "output_type": "stream",
     "text": [
      "0.06999999999999999\n",
      "-----------\n",
      "Initializing structure...\n",
      "Halving computational cell along direction x\n",
      "Halving computational cell along direction y\n",
      "time for choose_chunkdivision = 0.000760078 s\n",
      "Working in 3D dimensions.\n",
      "Computational cell is 0.5 x 0.5 x 7.65 with resolution 20\n",
      "     block, center = (0,0,-0.15)\n",
      "          size (1e+20,1e+20,5)\n",
      "          axes (1,0,0), (0,1,0), (0,0,1)\n",
      "          dielectric constant epsilon diagonal = (2.1025,2.1025,2.1025)\n",
      "     block, center = (0,0,-0.15)\n",
      "          size (1e+20,1e+20,5.78)\n",
      "          axes (1,0,0), (0,1,0), (0,0,1)\n",
      "          dielectric constant epsilon diagonal = (2.1025,2.1025,2.1025)\n",
      "     cylinder, center = (0,0,0.24)\n",
      "          radius 0.07, height 5, axis (0, 0, 1)\n",
      "          dielectric constant epsilon diagonal = (1,1,1)\n",
      "time for set_epsilon = 0.0862651 s\n",
      "-----------\n"
     ]
    },
    {
     "data": {
      "application/vnd.jupyter.widget-view+json": {
       "model_id": "309145e9a9a04a259f61e269443401c4",
       "version_major": 2,
       "version_minor": 0
      },
      "text/plain": [
       "FloatProgress(value=0.0, description='0% done ', max=200.0)"
      ]
     },
     "metadata": {},
     "output_type": "display_data"
    },
    {
     "name": "stdout",
     "output_type": "stream",
     "text": [
      "run 0 finished at t = 200.0 (8000 timesteps)\n",
      "MPB solved for frequency_1(0,0,0.645161) = 0.645161 after 6 iters\n",
      "Dominant planewave for band 1: (0.000000,0.000000,0.645161)\n"
     ]
    },
    {
     "name": "stderr",
     "output_type": "stream",
     "text": [
      "Warning: grid volume is not an integer number of pixels; cell size will be rounded to nearest pixel.\n"
     ]
    },
    {
     "name": "stdout",
     "output_type": "stream",
     "text": [
      "0.0875\n",
      "-----------\n",
      "Initializing structure...\n",
      "Halving computational cell along direction x\n",
      "Halving computational cell along direction y\n",
      "time for choose_chunkdivision = 0.00159788 s\n",
      "Working in 3D dimensions.\n",
      "Computational cell is 0.5 x 0.5 x 7.65 with resolution 20\n",
      "     block, center = (0,0,-0.15)\n",
      "          size (1e+20,1e+20,5)\n",
      "          axes (1,0,0), (0,1,0), (0,0,1)\n",
      "          dielectric constant epsilon diagonal = (2.1025,2.1025,2.1025)\n",
      "     block, center = (0,0,-0.15)\n",
      "          size (1e+20,1e+20,5.78)\n",
      "          axes (1,0,0), (0,1,0), (0,0,1)\n",
      "          dielectric constant epsilon diagonal = (2.1025,2.1025,2.1025)\n",
      "     cylinder, center = (0,0,0.24)\n",
      "          radius 0.0875, height 5, axis (0, 0, 1)\n",
      "          dielectric constant epsilon diagonal = (1,1,1)\n",
      "time for set_epsilon = 0.0946269 s\n",
      "-----------\n"
     ]
    },
    {
     "data": {
      "application/vnd.jupyter.widget-view+json": {
       "model_id": "a75a2b848cd041b4bbc56911a4aa8067",
       "version_major": 2,
       "version_minor": 0
      },
      "text/plain": [
       "FloatProgress(value=0.0, description='0% done ', max=200.0)"
      ]
     },
     "metadata": {},
     "output_type": "display_data"
    },
    {
     "name": "stdout",
     "output_type": "stream",
     "text": [
      "run 0 finished at t = 200.0 (8000 timesteps)\n",
      "MPB solved for frequency_1(0,0,0.645161) = 0.645161 after 6 iters\n",
      "Dominant planewave for band 1: (0.000000,0.000000,0.645161)\n"
     ]
    },
    {
     "name": "stderr",
     "output_type": "stream",
     "text": [
      "Warning: grid volume is not an integer number of pixels; cell size will be rounded to nearest pixel.\n"
     ]
    },
    {
     "name": "stdout",
     "output_type": "stream",
     "text": [
      "0.10499999999999998\n",
      "-----------\n",
      "Initializing structure...\n",
      "Halving computational cell along direction x\n",
      "Halving computational cell along direction y\n",
      "time for choose_chunkdivision = 0.000735998 s\n",
      "Working in 3D dimensions.\n",
      "Computational cell is 0.5 x 0.5 x 7.65 with resolution 20\n",
      "     block, center = (0,0,-0.15)\n",
      "          size (1e+20,1e+20,5)\n",
      "          axes (1,0,0), (0,1,0), (0,0,1)\n",
      "          dielectric constant epsilon diagonal = (2.1025,2.1025,2.1025)\n",
      "     block, center = (0,0,-0.15)\n",
      "          size (1e+20,1e+20,5.78)\n",
      "          axes (1,0,0), (0,1,0), (0,0,1)\n",
      "          dielectric constant epsilon diagonal = (2.1025,2.1025,2.1025)\n",
      "     cylinder, center = (0,0,0.24)\n",
      "          radius 0.105, height 5, axis (0, 0, 1)\n",
      "          dielectric constant epsilon diagonal = (1,1,1)\n",
      "time for set_epsilon = 0.0916731 s\n",
      "-----------\n"
     ]
    },
    {
     "data": {
      "application/vnd.jupyter.widget-view+json": {
       "model_id": "e3cd8bad9af54652a8d2324291515f06",
       "version_major": 2,
       "version_minor": 0
      },
      "text/plain": [
       "FloatProgress(value=0.0, description='0% done ', max=200.0)"
      ]
     },
     "metadata": {},
     "output_type": "display_data"
    },
    {
     "name": "stdout",
     "output_type": "stream",
     "text": [
      "run 0 finished at t = 200.0 (8000 timesteps)\n",
      "MPB solved for frequency_1(0,0,0.645161) = 0.645161 after 6 iters\n",
      "Dominant planewave for band 1: (0.000000,0.000000,0.645161)\n"
     ]
    },
    {
     "name": "stderr",
     "output_type": "stream",
     "text": [
      "Warning: grid volume is not an integer number of pixels; cell size will be rounded to nearest pixel.\n"
     ]
    },
    {
     "name": "stdout",
     "output_type": "stream",
     "text": [
      "0.12249999999999998\n",
      "-----------\n",
      "Initializing structure...\n",
      "Halving computational cell along direction x\n",
      "Halving computational cell along direction y\n",
      "time for choose_chunkdivision = 0.000862122 s\n",
      "Working in 3D dimensions.\n",
      "Computational cell is 0.5 x 0.5 x 7.65 with resolution 20\n",
      "     block, center = (0,0,-0.15)\n",
      "          size (1e+20,1e+20,5)\n",
      "          axes (1,0,0), (0,1,0), (0,0,1)\n",
      "          dielectric constant epsilon diagonal = (2.1025,2.1025,2.1025)\n",
      "     block, center = (0,0,-0.15)\n",
      "          size (1e+20,1e+20,5.78)\n",
      "          axes (1,0,0), (0,1,0), (0,0,1)\n",
      "          dielectric constant epsilon diagonal = (2.1025,2.1025,2.1025)\n",
      "     cylinder, center = (0,0,0.24)\n",
      "          radius 0.1225, height 5, axis (0, 0, 1)\n",
      "          dielectric constant epsilon diagonal = (1,1,1)\n",
      "time for set_epsilon = 0.093534 s\n",
      "-----------\n"
     ]
    },
    {
     "data": {
      "application/vnd.jupyter.widget-view+json": {
       "model_id": "f83cb0eaed794f47a94c4a3e503c0648",
       "version_major": 2,
       "version_minor": 0
      },
      "text/plain": [
       "FloatProgress(value=0.0, description='0% done ', max=200.0)"
      ]
     },
     "metadata": {},
     "output_type": "display_data"
    },
    {
     "name": "stdout",
     "output_type": "stream",
     "text": [
      "run 0 finished at t = 200.0 (8000 timesteps)\n",
      "MPB solved for frequency_1(0,0,0.645161) = 0.645161 after 6 iters\n",
      "Dominant planewave for band 1: (0.000000,0.000000,0.645161)\n"
     ]
    },
    {
     "name": "stderr",
     "output_type": "stream",
     "text": [
      "Warning: grid volume is not an integer number of pixels; cell size will be rounded to nearest pixel.\n"
     ]
    },
    {
     "name": "stdout",
     "output_type": "stream",
     "text": [
      "0.13999999999999999\n",
      "-----------\n",
      "Initializing structure...\n",
      "Halving computational cell along direction x\n",
      "Halving computational cell along direction y\n",
      "time for choose_chunkdivision = 0.000766039 s\n",
      "Working in 3D dimensions.\n",
      "Computational cell is 0.5 x 0.5 x 7.65 with resolution 20\n",
      "     block, center = (0,0,-0.15)\n",
      "          size (1e+20,1e+20,5)\n",
      "          axes (1,0,0), (0,1,0), (0,0,1)\n",
      "          dielectric constant epsilon diagonal = (2.1025,2.1025,2.1025)\n",
      "     block, center = (0,0,-0.15)\n",
      "          size (1e+20,1e+20,5.78)\n",
      "          axes (1,0,0), (0,1,0), (0,0,1)\n",
      "          dielectric constant epsilon diagonal = (2.1025,2.1025,2.1025)\n",
      "     cylinder, center = (0,0,0.24)\n",
      "          radius 0.14, height 5, axis (0, 0, 1)\n",
      "          dielectric constant epsilon diagonal = (1,1,1)\n",
      "time for set_epsilon = 0.0910189 s\n",
      "-----------\n"
     ]
    },
    {
     "data": {
      "application/vnd.jupyter.widget-view+json": {
       "model_id": "c7835c71a3f24775aa0b63f5675a5458",
       "version_major": 2,
       "version_minor": 0
      },
      "text/plain": [
       "FloatProgress(value=0.0, description='0% done ', max=200.0)"
      ]
     },
     "metadata": {},
     "output_type": "display_data"
    },
    {
     "name": "stdout",
     "output_type": "stream",
     "text": [
      "run 0 finished at t = 200.0 (8000 timesteps)\n",
      "MPB solved for frequency_1(0,0,0.645161) = 0.645161 after 6 iters\n",
      "Dominant planewave for band 1: (0.000000,0.000000,0.645161)\n"
     ]
    },
    {
     "name": "stderr",
     "output_type": "stream",
     "text": [
      "Warning: grid volume is not an integer number of pixels; cell size will be rounded to nearest pixel.\n"
     ]
    },
    {
     "name": "stdout",
     "output_type": "stream",
     "text": [
      "0.15749999999999997\n",
      "-----------\n",
      "Initializing structure...\n",
      "Halving computational cell along direction x\n",
      "Halving computational cell along direction y\n",
      "time for choose_chunkdivision = 0.000833988 s\n",
      "Working in 3D dimensions.\n",
      "Computational cell is 0.5 x 0.5 x 7.65 with resolution 20\n",
      "     block, center = (0,0,-0.15)\n",
      "          size (1e+20,1e+20,5)\n",
      "          axes (1,0,0), (0,1,0), (0,0,1)\n",
      "          dielectric constant epsilon diagonal = (2.1025,2.1025,2.1025)\n",
      "     block, center = (0,0,-0.15)\n",
      "          size (1e+20,1e+20,5.78)\n",
      "          axes (1,0,0), (0,1,0), (0,0,1)\n",
      "          dielectric constant epsilon diagonal = (2.1025,2.1025,2.1025)\n",
      "     cylinder, center = (0,0,0.24)\n",
      "          radius 0.1575, height 5, axis (0, 0, 1)\n",
      "          dielectric constant epsilon diagonal = (1,1,1)\n",
      "time for set_epsilon = 0.0969238 s\n",
      "-----------\n"
     ]
    },
    {
     "data": {
      "application/vnd.jupyter.widget-view+json": {
       "model_id": "92d1eac9701b44859d85c90172bc3851",
       "version_major": 2,
       "version_minor": 0
      },
      "text/plain": [
       "FloatProgress(value=0.0, description='0% done ', max=200.0)"
      ]
     },
     "metadata": {},
     "output_type": "display_data"
    },
    {
     "name": "stdout",
     "output_type": "stream",
     "text": [
      "run 0 finished at t = 200.0 (8000 timesteps)\n",
      "MPB solved for frequency_1(0,0,0.645161) = 0.645161 after 6 iters\n",
      "Dominant planewave for band 1: (0.000000,0.000000,0.645161)\n"
     ]
    },
    {
     "name": "stderr",
     "output_type": "stream",
     "text": [
      "Warning: grid volume is not an integer number of pixels; cell size will be rounded to nearest pixel.\n"
     ]
    },
    {
     "name": "stdout",
     "output_type": "stream",
     "text": [
      "0.175\n",
      "-----------\n",
      "Initializing structure...\n",
      "Halving computational cell along direction x\n",
      "Halving computational cell along direction y\n",
      "time for choose_chunkdivision = 0.000886917 s\n",
      "Working in 3D dimensions.\n",
      "Computational cell is 0.5 x 0.5 x 7.65 with resolution 20\n",
      "     block, center = (0,0,-0.15)\n",
      "          size (1e+20,1e+20,5)\n",
      "          axes (1,0,0), (0,1,0), (0,0,1)\n",
      "          dielectric constant epsilon diagonal = (2.1025,2.1025,2.1025)\n",
      "     block, center = (0,0,-0.15)\n",
      "          size (1e+20,1e+20,5.78)\n",
      "          axes (1,0,0), (0,1,0), (0,0,1)\n",
      "          dielectric constant epsilon diagonal = (2.1025,2.1025,2.1025)\n",
      "     cylinder, center = (0,0,0.24)\n",
      "          radius 0.175, height 5, axis (0, 0, 1)\n",
      "          dielectric constant epsilon diagonal = (1,1,1)\n",
      "time for set_epsilon = 0.0880849 s\n",
      "-----------\n"
     ]
    },
    {
     "data": {
      "application/vnd.jupyter.widget-view+json": {
       "model_id": "bbbb56a4d6d14ecabe34b0ace86d379a",
       "version_major": 2,
       "version_minor": 0
      },
      "text/plain": [
       "FloatProgress(value=0.0, description='0% done ', max=200.0)"
      ]
     },
     "metadata": {},
     "output_type": "display_data"
    },
    {
     "name": "stdout",
     "output_type": "stream",
     "text": [
      "run 0 finished at t = 200.0 (8000 timesteps)\n",
      "MPB solved for frequency_1(0,0,0.645161) = 0.645161 after 6 iters\n",
      "Dominant planewave for band 1: (0.000000,0.000000,0.645161)\n"
     ]
    },
    {
     "name": "stderr",
     "output_type": "stream",
     "text": [
      "Warning: grid volume is not an integer number of pixels; cell size will be rounded to nearest pixel.\n"
     ]
    },
    {
     "name": "stdout",
     "output_type": "stream",
     "text": [
      "0.19249999999999998\n",
      "-----------\n",
      "Initializing structure...\n",
      "Halving computational cell along direction x\n",
      "Halving computational cell along direction y\n",
      "time for choose_chunkdivision = 0.000813961 s\n",
      "Working in 3D dimensions.\n",
      "Computational cell is 0.5 x 0.5 x 7.65 with resolution 20\n",
      "     block, center = (0,0,-0.15)\n",
      "          size (1e+20,1e+20,5)\n",
      "          axes (1,0,0), (0,1,0), (0,0,1)\n",
      "          dielectric constant epsilon diagonal = (2.1025,2.1025,2.1025)\n",
      "     block, center = (0,0,-0.15)\n",
      "          size (1e+20,1e+20,5.78)\n",
      "          axes (1,0,0), (0,1,0), (0,0,1)\n",
      "          dielectric constant epsilon diagonal = (2.1025,2.1025,2.1025)\n",
      "     cylinder, center = (0,0,0.24)\n",
      "          radius 0.1925, height 5, axis (0, 0, 1)\n",
      "          dielectric constant epsilon diagonal = (1,1,1)\n",
      "time for set_epsilon = 0.109184 s\n",
      "-----------\n"
     ]
    },
    {
     "data": {
      "application/vnd.jupyter.widget-view+json": {
       "model_id": "228ac6d2df1447d1852ea08c31671798",
       "version_major": 2,
       "version_minor": 0
      },
      "text/plain": [
       "FloatProgress(value=0.0, description='0% done ', max=200.0)"
      ]
     },
     "metadata": {},
     "output_type": "display_data"
    },
    {
     "name": "stdout",
     "output_type": "stream",
     "text": [
      "run 0 finished at t = 200.0 (8000 timesteps)\n",
      "MPB solved for frequency_1(0,0,0.645161) = 0.645161 after 6 iters\n",
      "Dominant planewave for band 1: (0.000000,0.000000,0.645161)\n"
     ]
    },
    {
     "name": "stderr",
     "output_type": "stream",
     "text": [
      "Warning: grid volume is not an integer number of pixels; cell size will be rounded to nearest pixel.\n"
     ]
    },
    {
     "name": "stdout",
     "output_type": "stream",
     "text": [
      "0.20999999999999996\n",
      "-----------\n",
      "Initializing structure...\n",
      "Halving computational cell along direction x\n",
      "Halving computational cell along direction y\n",
      "time for choose_chunkdivision = 0.00148821 s\n",
      "Working in 3D dimensions.\n",
      "Computational cell is 0.5 x 0.5 x 7.65 with resolution 20\n",
      "     block, center = (0,0,-0.15)\n",
      "          size (1e+20,1e+20,5)\n",
      "          axes (1,0,0), (0,1,0), (0,0,1)\n",
      "          dielectric constant epsilon diagonal = (2.1025,2.1025,2.1025)\n",
      "     block, center = (0,0,-0.15)\n",
      "          size (1e+20,1e+20,5.78)\n",
      "          axes (1,0,0), (0,1,0), (0,0,1)\n",
      "          dielectric constant epsilon diagonal = (2.1025,2.1025,2.1025)\n",
      "     cylinder, center = (0,0,0.24)\n",
      "          radius 0.21, height 5, axis (0, 0, 1)\n",
      "          dielectric constant epsilon diagonal = (1,1,1)\n",
      "time for set_epsilon = 0.115473 s\n",
      "-----------\n"
     ]
    },
    {
     "data": {
      "application/vnd.jupyter.widget-view+json": {
       "model_id": "38093290b87d4b89bde22caffc99e6d3",
       "version_major": 2,
       "version_minor": 0
      },
      "text/plain": [
       "FloatProgress(value=0.0, description='0% done ', max=200.0)"
      ]
     },
     "metadata": {},
     "output_type": "display_data"
    },
    {
     "name": "stdout",
     "output_type": "stream",
     "text": [
      "run 0 finished at t = 200.0 (8000 timesteps)\n",
      "MPB solved for frequency_1(0,0,0.645161) = 0.645161 after 6 iters\n",
      "Dominant planewave for band 1: (0.000000,0.000000,0.645161)\n"
     ]
    },
    {
     "name": "stderr",
     "output_type": "stream",
     "text": [
      "Warning: grid volume is not an integer number of pixels; cell size will be rounded to nearest pixel.\n"
     ]
    },
    {
     "name": "stdout",
     "output_type": "stream",
     "text": [
      "0.22749999999999998\n",
      "-----------\n",
      "Initializing structure...\n",
      "Halving computational cell along direction x\n",
      "Halving computational cell along direction y\n",
      "time for choose_chunkdivision = 0.000773191 s\n",
      "Working in 3D dimensions.\n",
      "Computational cell is 0.5 x 0.5 x 7.65 with resolution 20\n",
      "     block, center = (0,0,-0.15)\n",
      "          size (1e+20,1e+20,5)\n",
      "          axes (1,0,0), (0,1,0), (0,0,1)\n",
      "          dielectric constant epsilon diagonal = (2.1025,2.1025,2.1025)\n",
      "     block, center = (0,0,-0.15)\n",
      "          size (1e+20,1e+20,5.78)\n",
      "          axes (1,0,0), (0,1,0), (0,0,1)\n",
      "          dielectric constant epsilon diagonal = (2.1025,2.1025,2.1025)\n",
      "     cylinder, center = (0,0,0.24)\n",
      "          radius 0.2275, height 5, axis (0, 0, 1)\n",
      "          dielectric constant epsilon diagonal = (1,1,1)\n",
      "time for set_epsilon = 0.115645 s\n",
      "-----------\n"
     ]
    },
    {
     "data": {
      "application/vnd.jupyter.widget-view+json": {
       "model_id": "537f1aed99f74fb6b1f14f0daf5f322b",
       "version_major": 2,
       "version_minor": 0
      },
      "text/plain": [
       "FloatProgress(value=0.0, description='0% done ', max=200.0)"
      ]
     },
     "metadata": {},
     "output_type": "display_data"
    },
    {
     "name": "stdout",
     "output_type": "stream",
     "text": [
      "run 0 finished at t = 200.0 (8000 timesteps)\n",
      "MPB solved for frequency_1(0,0,0.645161) = 0.645161 after 6 iters\n",
      "Dominant planewave for band 1: (0.000000,0.000000,0.645161)\n"
     ]
    },
    {
     "name": "stderr",
     "output_type": "stream",
     "text": [
      "Warning: grid volume is not an integer number of pixels; cell size will be rounded to nearest pixel.\n"
     ]
    },
    {
     "name": "stdout",
     "output_type": "stream",
     "text": [
      "0.245\n",
      "-----------\n",
      "Initializing structure...\n",
      "Halving computational cell along direction x\n",
      "Halving computational cell along direction y\n",
      "time for choose_chunkdivision = 0.00097394 s\n",
      "Working in 3D dimensions.\n",
      "Computational cell is 0.5 x 0.5 x 7.65 with resolution 20\n",
      "     block, center = (0,0,-0.15)\n",
      "          size (1e+20,1e+20,5)\n",
      "          axes (1,0,0), (0,1,0), (0,0,1)\n",
      "          dielectric constant epsilon diagonal = (2.1025,2.1025,2.1025)\n",
      "     block, center = (0,0,-0.15)\n",
      "          size (1e+20,1e+20,5.78)\n",
      "          axes (1,0,0), (0,1,0), (0,0,1)\n",
      "          dielectric constant epsilon diagonal = (2.1025,2.1025,2.1025)\n",
      "     cylinder, center = (0,0,0.24)\n",
      "          radius 0.245, height 5, axis (0, 0, 1)\n",
      "          dielectric constant epsilon diagonal = (1,1,1)\n",
      "time for set_epsilon = 0.0928838 s\n",
      "-----------\n"
     ]
    },
    {
     "data": {
      "application/vnd.jupyter.widget-view+json": {
       "model_id": "7f500c38f5dc4c43bac72baf24a2609a",
       "version_major": 2,
       "version_minor": 0
      },
      "text/plain": [
       "FloatProgress(value=0.0, description='0% done ', max=200.0)"
      ]
     },
     "metadata": {},
     "output_type": "display_data"
    },
    {
     "name": "stdout",
     "output_type": "stream",
     "text": [
      "run 0 finished at t = 200.0 (8000 timesteps)\n",
      "MPB solved for frequency_1(0,0,0.645161) = 0.645161 after 6 iters\n",
      "Dominant planewave for band 1: (0.000000,0.000000,0.645161)\n"
     ]
    }
   ],
   "source": [
    "sim.reset_meep()\n",
    "\n",
    "combined_data = {}\n",
    "height_list = []\n",
    "\n",
    "def run_sim(radius,height,sim) :\n",
    "    print(radius)\n",
    "    \n",
    "    geometry.append(mp.Cylinder(radius=radius,\n",
    "                        height=height,\n",
    "                        axis=mp.Vector3(0,0,1),\n",
    "                        center=mp.Vector3(0,0,center_hole),\n",
    "                        material=mp.Medium(index=n_air)))\n",
    "                \n",
    "                \n",
    "    sim = mp.Simulation(cell_size=cell_size,\n",
    "                        geometry=geometry,\n",
    "                        sources=sources,\n",
    "                        k_point=k_point,\n",
    "                        boundary_layers=pml_layers,\n",
    "                        symmetries=symmetries,\n",
    "                        resolution=resolution)\n",
    "                    #save_geometry(sim, radius, height)\n",
    "                        \n",
    "    flux_object = sim.add_flux(freq, df, nfreq, fr)  \n",
    "    sim.run(until=200)\n",
    "    res = sim.get_eigenmode_coefficients(flux_object, [1], eig_parity=mp.ODD_Y)\n",
    "    coeffs = res.alpha\n",
    "\n",
    "    flux = abs(coeffs[0,0,0]**2)\n",
    "    phase = np.angle(coeffs[0,0,0]) \n",
    "\n",
    "    if phase<-np.pi:\n",
    "        phase = phase +2*np.pi\n",
    "    elif phase>-np.pi and phase<np.pi:\n",
    "        phase = phase\n",
    "    else:\n",
    "        phase = phase - 2*np.pi\n",
    "                                                    \n",
    "   #radii_list.append(radius)\n",
    "   # flux_list.append(flux)\n",
    "   # phase_list.append(phase)\n",
    "   # new_heightlist.append(height)\n",
    "                                                                        \n",
    "    \n",
    "    sim.reset_meep()\n",
    "    geometry.pop(-1)\n",
    "\n",
    "    return phase, flux\n",
    "\n",
    "def save_geometry(sim, radius, height):\n",
    "    fig = plt.figure(figsize=(10,10))\n",
    "    sim.plot2D(output_plane=plot_plane)\n",
    "\n",
    "pbar = tqdm(total=num_height*num_holes,leave=False)\n",
    "new_heightlist =[]\n",
    "for h, height in enumerate(np.linspace(min_h,max_h,num_height)):\n",
    "    radii_list=[] \n",
    "    flux_list, phase_list=[],[]\n",
    "    new_heightlist.append(height)\n",
    "    for r, radius in enumerate(np.linspace(min_r,max_r,num_holes)):\n",
    "        radii_list.append(radius)\n",
    "        phase, flux=run_sim(radius,height,sim)\n",
    "        phase_list.append(phase)\n",
    "        flux_list.append(flux)\n",
    "        \n",
    "        print(h,r)\n",
    "        print(\"#########################################\")\n",
    "        print(f\"phase: {phase} flux: {flux} radis:{radius} depth:{height}\")\n",
    "        pbar.update(1)\n",
    "    combined_data[h] = {\n",
    "            'height' : height,\n",
    "            'flux' : flux_list,\n",
    "            'phase' : phase_list,\n",
    "            'radii' : radii_list,\n",
    "            'new_height' : new_heightlist \n",
    "             }\n",
    "       \n",
    "pbar.close()"
   ]
  },
  {
   "cell_type": "code",
   "execution_count": 11,
   "id": "e6d7e6e7-c489-474e-9156-fb3bcfd1aac5",
   "metadata": {
    "scrolled": true
   },
   "outputs": [],
   "source": [
    "import pickle\n",
    "combined_data = pickle.load(open(\"/develop/results/combined_data.pkl\", \"rb\"))"
   ]
  },
  {
   "cell_type": "code",
   "execution_count": 12,
   "id": "a90a87a9-362b-4ba5-ad5b-71731005ad71",
   "metadata": {},
   "outputs": [],
   "source": [
    "# print(combined_data)\n",
    "# print(combined_initial_flux)"
   ]
  },
  {
   "cell_type": "code",
   "execution_count": 34,
   "id": "26ea74eb-8501-4c97-b1f0-7e94a6dab23c",
   "metadata": {},
   "outputs": [],
   "source": [
    "## pickle operations\n",
    "\n",
    "for k,j in enumerate(np.linspace(0,num_height-1,num_height)):\n",
    "    for v,l in enumerate(np.linspace(0,num_holes-1, num_holes)):\n",
    "        x=combined_data[k]['radii']\n",
    "        y=combined_data[k]['new_height']\n",
    "        z=combined_data[k]['phase']\n",
    "        z_1=combined_data[k]['flux']"
   ]
  },
  {
   "cell_type": "code",
   "execution_count": 70,
   "id": "6b49b5e5-2e44-467e-993c-c0a7b03ed753",
   "metadata": {},
   "outputs": [],
   "source": [
    "transmission = []\n",
    "x = []\n",
    "y = []\n",
    "phases = []\n",
    "\n",
    "\n",
    "for k,j in enumerate(np.linspace(0,num_height-1,15)):\n",
    "    y.append(combined_data[k]['height'])\n",
    "    # combined_data[][]\n",
    "    x.append(combined_data[k]['radii'])\n",
    "    #y.append(combined_data[k]['new_height'])\n",
    "    phases.append(combined_data[k]['phase'])\n",
    "    transmission.append(combined_data[k]['flux'])\n",
    "\n",
    "    \n",
    "#x = x[0]\n",
    "x = np.asarray(x[0])\n",
    "y = np.asarray(y)\n",
    "phases = np.asarray(phases)\n",
    "transmission = np.asarray(transmission)"
   ]
  },
  {
   "cell_type": "code",
   "execution_count": 13,
   "id": "e6ff5c0a-cce6-411d-9d77-9dbeec924812",
   "metadata": {},
   "outputs": [],
   "source": [
    "import seaborn as sns\n",
    "import csv\n",
    "import pandas as pd"
   ]
  },
  {
   "cell_type": "code",
   "execution_count": 14,
   "id": "eb529f44-de7b-49ee-a38f-918d4ca92748",
   "metadata": {},
   "outputs": [
    {
     "ename": "NameError",
     "evalue": "name 'combined' is not defined",
     "output_type": "error",
     "traceback": [
      "\u001b[0;31m---------------------------------------------------------------------------\u001b[0m",
      "\u001b[0;31mNameError\u001b[0m                                 Traceback (most recent call last)",
      "Cell \u001b[0;32mIn[14], line 8\u001b[0m\n\u001b[1;32m      5\u001b[0m     \u001b[38;5;28;01mreturn\u001b[39;00m average\n\u001b[1;32m      7\u001b[0m \u001b[38;5;28;01mfor\u001b[39;00m key \u001b[38;5;129;01min\u001b[39;00m combined_data:\n\u001b[0;32m----> 8\u001b[0m     data \u001b[38;5;241m=\u001b[39m \u001b[43mcombined\u001b[49m[key][\u001b[38;5;124m'\u001b[39m\u001b[38;5;124mflux\u001b[39m\u001b[38;5;124m'\u001b[39m]\n\u001b[1;32m      9\u001b[0m     radius_data[key][\u001b[38;5;124m'\u001b[39m\u001b[38;5;124mflux\u001b[39m\u001b[38;5;124m'\u001b[39m] \u001b[38;5;241m=\u001b[39m calculate_average(data)\n",
      "\u001b[0;31mNameError\u001b[0m: name 'combined' is not defined"
     ]
    }
   ],
   "source": [
    "def calculate_average(numbers):\n",
    "    total = sum(numbers)\n",
    "    count = len(numbers)\n",
    "    average = total / count\n",
    "    return average\n",
    "\n",
    "for key in combined_data:\n",
    "    data = combined[key]['flux']\n",
    "    radius_data[key]['flux'] = calculate_average(data)"
   ]
  },
  {
   "cell_type": "code",
   "execution_count": 2,
   "id": "19be194f-e00e-4bb7-a912-0a43e6d6fe54",
   "metadata": {},
   "outputs": [
    {
     "ename": "FileNotFoundError",
     "evalue": "[Errno 2] No such file or directory: 'height_data.csv'",
     "output_type": "error",
     "traceback": [
      "\u001b[0;31m---------------------------------------------------------------------------\u001b[0m",
      "\u001b[0;31mFileNotFoundError\u001b[0m                         Traceback (most recent call last)",
      "Cell \u001b[0;32mIn[2], line 1\u001b[0m\n\u001b[0;32m----> 1\u001b[0m df \u001b[38;5;241m=\u001b[39m \u001b[43mpd\u001b[49m\u001b[38;5;241;43m.\u001b[39;49m\u001b[43mread_csv\u001b[49m\u001b[43m(\u001b[49m\u001b[38;5;124;43m'\u001b[39;49m\u001b[38;5;124;43mheight_data.csv\u001b[39;49m\u001b[38;5;124;43m'\u001b[39;49m\u001b[43m)\u001b[49m\n",
      "File \u001b[0;32m/develop/build/miniconda3/lib/python3.10/site-packages/pandas/io/parsers/readers.py:912\u001b[0m, in \u001b[0;36mread_csv\u001b[0;34m(filepath_or_buffer, sep, delimiter, header, names, index_col, usecols, dtype, engine, converters, true_values, false_values, skipinitialspace, skiprows, skipfooter, nrows, na_values, keep_default_na, na_filter, verbose, skip_blank_lines, parse_dates, infer_datetime_format, keep_date_col, date_parser, date_format, dayfirst, cache_dates, iterator, chunksize, compression, thousands, decimal, lineterminator, quotechar, quoting, doublequote, escapechar, comment, encoding, encoding_errors, dialect, on_bad_lines, delim_whitespace, low_memory, memory_map, float_precision, storage_options, dtype_backend)\u001b[0m\n\u001b[1;32m    899\u001b[0m kwds_defaults \u001b[38;5;241m=\u001b[39m _refine_defaults_read(\n\u001b[1;32m    900\u001b[0m     dialect,\n\u001b[1;32m    901\u001b[0m     delimiter,\n\u001b[0;32m   (...)\u001b[0m\n\u001b[1;32m    908\u001b[0m     dtype_backend\u001b[38;5;241m=\u001b[39mdtype_backend,\n\u001b[1;32m    909\u001b[0m )\n\u001b[1;32m    910\u001b[0m kwds\u001b[38;5;241m.\u001b[39mupdate(kwds_defaults)\n\u001b[0;32m--> 912\u001b[0m \u001b[38;5;28;01mreturn\u001b[39;00m \u001b[43m_read\u001b[49m\u001b[43m(\u001b[49m\u001b[43mfilepath_or_buffer\u001b[49m\u001b[43m,\u001b[49m\u001b[43m \u001b[49m\u001b[43mkwds\u001b[49m\u001b[43m)\u001b[49m\n",
      "File \u001b[0;32m/develop/build/miniconda3/lib/python3.10/site-packages/pandas/io/parsers/readers.py:577\u001b[0m, in \u001b[0;36m_read\u001b[0;34m(filepath_or_buffer, kwds)\u001b[0m\n\u001b[1;32m    574\u001b[0m _validate_names(kwds\u001b[38;5;241m.\u001b[39mget(\u001b[38;5;124m\"\u001b[39m\u001b[38;5;124mnames\u001b[39m\u001b[38;5;124m\"\u001b[39m, \u001b[38;5;28;01mNone\u001b[39;00m))\n\u001b[1;32m    576\u001b[0m \u001b[38;5;66;03m# Create the parser.\u001b[39;00m\n\u001b[0;32m--> 577\u001b[0m parser \u001b[38;5;241m=\u001b[39m \u001b[43mTextFileReader\u001b[49m\u001b[43m(\u001b[49m\u001b[43mfilepath_or_buffer\u001b[49m\u001b[43m,\u001b[49m\u001b[43m \u001b[49m\u001b[38;5;241;43m*\u001b[39;49m\u001b[38;5;241;43m*\u001b[39;49m\u001b[43mkwds\u001b[49m\u001b[43m)\u001b[49m\n\u001b[1;32m    579\u001b[0m \u001b[38;5;28;01mif\u001b[39;00m chunksize \u001b[38;5;129;01mor\u001b[39;00m iterator:\n\u001b[1;32m    580\u001b[0m     \u001b[38;5;28;01mreturn\u001b[39;00m parser\n",
      "File \u001b[0;32m/develop/build/miniconda3/lib/python3.10/site-packages/pandas/io/parsers/readers.py:1407\u001b[0m, in \u001b[0;36mTextFileReader.__init__\u001b[0;34m(self, f, engine, **kwds)\u001b[0m\n\u001b[1;32m   1404\u001b[0m     \u001b[38;5;28mself\u001b[39m\u001b[38;5;241m.\u001b[39moptions[\u001b[38;5;124m\"\u001b[39m\u001b[38;5;124mhas_index_names\u001b[39m\u001b[38;5;124m\"\u001b[39m] \u001b[38;5;241m=\u001b[39m kwds[\u001b[38;5;124m\"\u001b[39m\u001b[38;5;124mhas_index_names\u001b[39m\u001b[38;5;124m\"\u001b[39m]\n\u001b[1;32m   1406\u001b[0m \u001b[38;5;28mself\u001b[39m\u001b[38;5;241m.\u001b[39mhandles: IOHandles \u001b[38;5;241m|\u001b[39m \u001b[38;5;28;01mNone\u001b[39;00m \u001b[38;5;241m=\u001b[39m \u001b[38;5;28;01mNone\u001b[39;00m\n\u001b[0;32m-> 1407\u001b[0m \u001b[38;5;28mself\u001b[39m\u001b[38;5;241m.\u001b[39m_engine \u001b[38;5;241m=\u001b[39m \u001b[38;5;28;43mself\u001b[39;49m\u001b[38;5;241;43m.\u001b[39;49m\u001b[43m_make_engine\u001b[49m\u001b[43m(\u001b[49m\u001b[43mf\u001b[49m\u001b[43m,\u001b[49m\u001b[43m \u001b[49m\u001b[38;5;28;43mself\u001b[39;49m\u001b[38;5;241;43m.\u001b[39;49m\u001b[43mengine\u001b[49m\u001b[43m)\u001b[49m\n",
      "File \u001b[0;32m/develop/build/miniconda3/lib/python3.10/site-packages/pandas/io/parsers/readers.py:1661\u001b[0m, in \u001b[0;36mTextFileReader._make_engine\u001b[0;34m(self, f, engine)\u001b[0m\n\u001b[1;32m   1659\u001b[0m     \u001b[38;5;28;01mif\u001b[39;00m \u001b[38;5;124m\"\u001b[39m\u001b[38;5;124mb\u001b[39m\u001b[38;5;124m\"\u001b[39m \u001b[38;5;129;01mnot\u001b[39;00m \u001b[38;5;129;01min\u001b[39;00m mode:\n\u001b[1;32m   1660\u001b[0m         mode \u001b[38;5;241m+\u001b[39m\u001b[38;5;241m=\u001b[39m \u001b[38;5;124m\"\u001b[39m\u001b[38;5;124mb\u001b[39m\u001b[38;5;124m\"\u001b[39m\n\u001b[0;32m-> 1661\u001b[0m \u001b[38;5;28mself\u001b[39m\u001b[38;5;241m.\u001b[39mhandles \u001b[38;5;241m=\u001b[39m \u001b[43mget_handle\u001b[49m\u001b[43m(\u001b[49m\n\u001b[1;32m   1662\u001b[0m \u001b[43m    \u001b[49m\u001b[43mf\u001b[49m\u001b[43m,\u001b[49m\n\u001b[1;32m   1663\u001b[0m \u001b[43m    \u001b[49m\u001b[43mmode\u001b[49m\u001b[43m,\u001b[49m\n\u001b[1;32m   1664\u001b[0m \u001b[43m    \u001b[49m\u001b[43mencoding\u001b[49m\u001b[38;5;241;43m=\u001b[39;49m\u001b[38;5;28;43mself\u001b[39;49m\u001b[38;5;241;43m.\u001b[39;49m\u001b[43moptions\u001b[49m\u001b[38;5;241;43m.\u001b[39;49m\u001b[43mget\u001b[49m\u001b[43m(\u001b[49m\u001b[38;5;124;43m\"\u001b[39;49m\u001b[38;5;124;43mencoding\u001b[39;49m\u001b[38;5;124;43m\"\u001b[39;49m\u001b[43m,\u001b[49m\u001b[43m \u001b[49m\u001b[38;5;28;43;01mNone\u001b[39;49;00m\u001b[43m)\u001b[49m\u001b[43m,\u001b[49m\n\u001b[1;32m   1665\u001b[0m \u001b[43m    \u001b[49m\u001b[43mcompression\u001b[49m\u001b[38;5;241;43m=\u001b[39;49m\u001b[38;5;28;43mself\u001b[39;49m\u001b[38;5;241;43m.\u001b[39;49m\u001b[43moptions\u001b[49m\u001b[38;5;241;43m.\u001b[39;49m\u001b[43mget\u001b[49m\u001b[43m(\u001b[49m\u001b[38;5;124;43m\"\u001b[39;49m\u001b[38;5;124;43mcompression\u001b[39;49m\u001b[38;5;124;43m\"\u001b[39;49m\u001b[43m,\u001b[49m\u001b[43m \u001b[49m\u001b[38;5;28;43;01mNone\u001b[39;49;00m\u001b[43m)\u001b[49m\u001b[43m,\u001b[49m\n\u001b[1;32m   1666\u001b[0m \u001b[43m    \u001b[49m\u001b[43mmemory_map\u001b[49m\u001b[38;5;241;43m=\u001b[39;49m\u001b[38;5;28;43mself\u001b[39;49m\u001b[38;5;241;43m.\u001b[39;49m\u001b[43moptions\u001b[49m\u001b[38;5;241;43m.\u001b[39;49m\u001b[43mget\u001b[49m\u001b[43m(\u001b[49m\u001b[38;5;124;43m\"\u001b[39;49m\u001b[38;5;124;43mmemory_map\u001b[39;49m\u001b[38;5;124;43m\"\u001b[39;49m\u001b[43m,\u001b[49m\u001b[43m \u001b[49m\u001b[38;5;28;43;01mFalse\u001b[39;49;00m\u001b[43m)\u001b[49m\u001b[43m,\u001b[49m\n\u001b[1;32m   1667\u001b[0m \u001b[43m    \u001b[49m\u001b[43mis_text\u001b[49m\u001b[38;5;241;43m=\u001b[39;49m\u001b[43mis_text\u001b[49m\u001b[43m,\u001b[49m\n\u001b[1;32m   1668\u001b[0m \u001b[43m    \u001b[49m\u001b[43merrors\u001b[49m\u001b[38;5;241;43m=\u001b[39;49m\u001b[38;5;28;43mself\u001b[39;49m\u001b[38;5;241;43m.\u001b[39;49m\u001b[43moptions\u001b[49m\u001b[38;5;241;43m.\u001b[39;49m\u001b[43mget\u001b[49m\u001b[43m(\u001b[49m\u001b[38;5;124;43m\"\u001b[39;49m\u001b[38;5;124;43mencoding_errors\u001b[39;49m\u001b[38;5;124;43m\"\u001b[39;49m\u001b[43m,\u001b[49m\u001b[43m \u001b[49m\u001b[38;5;124;43m\"\u001b[39;49m\u001b[38;5;124;43mstrict\u001b[39;49m\u001b[38;5;124;43m\"\u001b[39;49m\u001b[43m)\u001b[49m\u001b[43m,\u001b[49m\n\u001b[1;32m   1669\u001b[0m \u001b[43m    \u001b[49m\u001b[43mstorage_options\u001b[49m\u001b[38;5;241;43m=\u001b[39;49m\u001b[38;5;28;43mself\u001b[39;49m\u001b[38;5;241;43m.\u001b[39;49m\u001b[43moptions\u001b[49m\u001b[38;5;241;43m.\u001b[39;49m\u001b[43mget\u001b[49m\u001b[43m(\u001b[49m\u001b[38;5;124;43m\"\u001b[39;49m\u001b[38;5;124;43mstorage_options\u001b[39;49m\u001b[38;5;124;43m\"\u001b[39;49m\u001b[43m,\u001b[49m\u001b[43m \u001b[49m\u001b[38;5;28;43;01mNone\u001b[39;49;00m\u001b[43m)\u001b[49m\u001b[43m,\u001b[49m\n\u001b[1;32m   1670\u001b[0m \u001b[43m\u001b[49m\u001b[43m)\u001b[49m\n\u001b[1;32m   1671\u001b[0m \u001b[38;5;28;01massert\u001b[39;00m \u001b[38;5;28mself\u001b[39m\u001b[38;5;241m.\u001b[39mhandles \u001b[38;5;129;01mis\u001b[39;00m \u001b[38;5;129;01mnot\u001b[39;00m \u001b[38;5;28;01mNone\u001b[39;00m\n\u001b[1;32m   1672\u001b[0m f \u001b[38;5;241m=\u001b[39m \u001b[38;5;28mself\u001b[39m\u001b[38;5;241m.\u001b[39mhandles\u001b[38;5;241m.\u001b[39mhandle\n",
      "File \u001b[0;32m/develop/build/miniconda3/lib/python3.10/site-packages/pandas/io/common.py:859\u001b[0m, in \u001b[0;36mget_handle\u001b[0;34m(path_or_buf, mode, encoding, compression, memory_map, is_text, errors, storage_options)\u001b[0m\n\u001b[1;32m    854\u001b[0m \u001b[38;5;28;01melif\u001b[39;00m \u001b[38;5;28misinstance\u001b[39m(handle, \u001b[38;5;28mstr\u001b[39m):\n\u001b[1;32m    855\u001b[0m     \u001b[38;5;66;03m# Check whether the filename is to be opened in binary mode.\u001b[39;00m\n\u001b[1;32m    856\u001b[0m     \u001b[38;5;66;03m# Binary mode does not support 'encoding' and 'newline'.\u001b[39;00m\n\u001b[1;32m    857\u001b[0m     \u001b[38;5;28;01mif\u001b[39;00m ioargs\u001b[38;5;241m.\u001b[39mencoding \u001b[38;5;129;01mand\u001b[39;00m \u001b[38;5;124m\"\u001b[39m\u001b[38;5;124mb\u001b[39m\u001b[38;5;124m\"\u001b[39m \u001b[38;5;129;01mnot\u001b[39;00m \u001b[38;5;129;01min\u001b[39;00m ioargs\u001b[38;5;241m.\u001b[39mmode:\n\u001b[1;32m    858\u001b[0m         \u001b[38;5;66;03m# Encoding\u001b[39;00m\n\u001b[0;32m--> 859\u001b[0m         handle \u001b[38;5;241m=\u001b[39m \u001b[38;5;28;43mopen\u001b[39;49m\u001b[43m(\u001b[49m\n\u001b[1;32m    860\u001b[0m \u001b[43m            \u001b[49m\u001b[43mhandle\u001b[49m\u001b[43m,\u001b[49m\n\u001b[1;32m    861\u001b[0m \u001b[43m            \u001b[49m\u001b[43mioargs\u001b[49m\u001b[38;5;241;43m.\u001b[39;49m\u001b[43mmode\u001b[49m\u001b[43m,\u001b[49m\n\u001b[1;32m    862\u001b[0m \u001b[43m            \u001b[49m\u001b[43mencoding\u001b[49m\u001b[38;5;241;43m=\u001b[39;49m\u001b[43mioargs\u001b[49m\u001b[38;5;241;43m.\u001b[39;49m\u001b[43mencoding\u001b[49m\u001b[43m,\u001b[49m\n\u001b[1;32m    863\u001b[0m \u001b[43m            \u001b[49m\u001b[43merrors\u001b[49m\u001b[38;5;241;43m=\u001b[39;49m\u001b[43merrors\u001b[49m\u001b[43m,\u001b[49m\n\u001b[1;32m    864\u001b[0m \u001b[43m            \u001b[49m\u001b[43mnewline\u001b[49m\u001b[38;5;241;43m=\u001b[39;49m\u001b[38;5;124;43m\"\u001b[39;49m\u001b[38;5;124;43m\"\u001b[39;49m\u001b[43m,\u001b[49m\n\u001b[1;32m    865\u001b[0m \u001b[43m        \u001b[49m\u001b[43m)\u001b[49m\n\u001b[1;32m    866\u001b[0m     \u001b[38;5;28;01melse\u001b[39;00m:\n\u001b[1;32m    867\u001b[0m         \u001b[38;5;66;03m# Binary mode\u001b[39;00m\n\u001b[1;32m    868\u001b[0m         handle \u001b[38;5;241m=\u001b[39m \u001b[38;5;28mopen\u001b[39m(handle, ioargs\u001b[38;5;241m.\u001b[39mmode)\n",
      "\u001b[0;31mFileNotFoundError\u001b[0m: [Errno 2] No such file or directory: 'height_data.csv'"
     ]
    }
   ],
   "source": [
    "df = pd.read_csv('height_data.csv')"
   ]
  },
  {
   "cell_type": "code",
   "execution_count": null,
   "id": "58ee7e16-8e0d-466d-a9cd-86b83fdff15a",
   "metadata": {},
   "outputs": [],
   "source": [
    "sns.set_theme(style=\"ticks\")\n",
    "\n",
    "# Load the dataset and initialize the figure\n",
    "g = sns.JointGrid(data=df, x=\"height\", y=\"flux\", marginal_ticks=True)\n",
    "\n",
    "# y axis\n",
    "g.ax_joint.set(yscale=\"linear\")\n",
    "\n",
    "# Create an inset legend for the histogram colorbar\n",
    "cax = g.figure.add_axes([.15, .55, .02, .2])\n",
    "\n",
    "# Add the joint and marginal histogram plots\n",
    "g.plot_joint(\n",
    "    sns.histplot, discrete=(True, False),\n",
    "    cmap=\"light:#03012d\", pmax=.8, cbar=True, cbar_ax=cax\n",
    ")\n",
    "g.plot_marginals(sns.histplot, element=\"step\", color=\"#03012d\")"
   ]
  },
  {
   "cell_type": "code",
   "execution_count": null,
   "id": "a90138f1-f875-4043-807d-af825d018572",
   "metadata": {},
   "outputs": [],
   "source": [
    "sns.set_theme(style=\"ticks\")\n",
    "\n",
    "# Load the dataset and initialize the figure\n",
    "g = sns.JointGrid(data=df, x=\"height\", y=\"phase\", marginal_ticks=True)\n",
    "\n",
    "# y axis\n",
    "g.ax_joint.set(yscale=\"linear\")\n",
    "\n",
    "# Create an inset legend for the histogram colorbar\n",
    "cax = g.figure.add_axes([.15, .55, .02, .2])\n",
    "\n",
    "# Add the joint and marginal histogram plots\n",
    "g.plot_joint(\n",
    "    sns.histplot, discrete=(True, False),\n",
    "    cmap=\"light:#03012d\", pmax=.8, cbar=True, cbar_ax=cax\n",
    ")\n",
    "g.plot_marginals(sns.histplot, element=\"step\", color=\"#03012d\")"
   ]
  }
 ],
 "metadata": {
  "kernelspec": {
   "display_name": "Python 3 (ipykernel)",
   "language": "python",
   "name": "python3"
  },
  "language_info": {
   "codemirror_mode": {
    "name": "ipython",
    "version": 3
   },
   "file_extension": ".py",
   "mimetype": "text/x-python",
   "name": "python",
   "nbconvert_exporter": "python",
   "pygments_lexer": "ipython3",
   "version": "3.10.11"
  }
 },
 "nbformat": 4,
 "nbformat_minor": 5
}
