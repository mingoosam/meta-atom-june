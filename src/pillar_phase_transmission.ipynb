{
 "cells": [
  {
   "cell_type": "code",
   "execution_count": 1,
   "id": "6d1a8499",
   "metadata": {},
   "outputs": [
    {
     "name": "stdout",
     "output_type": "stream",
     "text": [
      "Using MPI version 4.0, 1 processes\n"
     ]
    },
    {
     "name": "stderr",
     "output_type": "stream",
     "text": [
      "hwloc/linux: Ignoring PCI device with non-16bit domain.\n",
      "Pass --enable-32bits-pci-domain to configure to support such devices\n",
      "(warning: it would break the library ABI, don't enable unless really needed).\n"
     ]
    }
   ],
   "source": [
    "import os\n",
    "import pickle\n",
    "import shutil \n",
    "\n",
    "import meep as mp\n",
    "import numpy as np\n",
    "import matplotlib.pyplot as plt\n",
    "from tqdm import tqdm\n",
    "import math\n",
    "from IPython import embed"
   ]
  },
  {
   "cell_type": "code",
   "execution_count": 34,
   "id": "5ca5e226",
   "metadata": {},
   "outputs": [],
   "source": [
    "# set up simulation constants\n",
    "\n",
    "resolution = 20\n",
    "\n",
    "n_fusedSilica = 1.44\n",
    "n_PDMS = 1.4\n",
    "n_amorphousSi = 3.48\n",
    "\n",
    "a = 0.680   # lattice period \n",
    "\n",
    "#pml_thickness = round(wavelength / 2,3)\n",
    "pml_thickness = 0.780\n",
    "height_pillar = 1.020\n",
    "#width_PDMS = 1.560\n",
    "width_fusedSilica = 0.780\n",
    "\n",
    "cell_x = a\n",
    "cell_y = a\n",
    "cell_z = round(2*pml_thickness + height_pillar +  width_fusedSilica, 3)\n",
    "\n",
    "#center_PDMS = round(0.5*(height_pillar + width_PDMS + pml_thickness) \n",
    "#                   + (pml_thickness + width_fusedSilica) - 0.5*cell_z, 3)\n",
    "center_fusedSilica = round(0.5*(pml_thickness + width_fusedSilica) - 0.5*cell_z, 3)\n",
    "center_pillar = round(pml_thickness + width_fusedSilica + 0.5*height_pillar\n",
    "                    - 0.5*cell_z, 3) \n",
    "\n",
    "z_fusedSilica = pml_thickness + width_fusedSilica\n",
    "#z_PDMS = height_pillar + width_PDMS + pml_thickness\n"
   ]
  },
  {
   "cell_type": "code",
   "execution_count": 35,
   "id": "38cef094",
   "metadata": {},
   "outputs": [],
   "source": [
    "geometry = [mp.Block(size=mp.Vector3(mp.inf,mp.inf,z_fusedSilica), \n",
    "                    center=mp.Vector3(0,0,center_fusedSilica),\n",
    "                    material=mp.Medium(index=n_fusedSilica))]\n",
    "            #mp.Block(size=mp.Vector3(mp.inf,mp.inf,z_PDMS),\n",
    "                    #center=mp.Vector3(0,0,center_PDMS),\n",
    "                    #material=mp.Medium(index=n_PDMS))]\n",
    "k_point = mp.Vector3(0,0,0)\n",
    "\n",
    "wavelength = 1.55\n",
    "freq = 1 / wavelength\n",
    "\n",
    "## initialize matrix for data collection ##\n",
    "##########################################\n",
    "\n",
    "num = 15 # this is the number of pillars we will build\n",
    "data = np.zeros((3,num))\n",
    "\n",
    "## set up and build source ##\n",
    "############################\n",
    "\n",
    "center_source = round(pml_thickness + width_fusedSilica*0.2 - 0.5*cell_z, 3) \n",
    "source_cmpt = mp.Ey\n",
    "\n",
    "sources = [mp.Source(mp.ContinuousSource(frequency=freq),\n",
    "                    component=source_cmpt,\n",
    "                    center=mp.Vector3(0,0,center_source),\n",
    "                    size=mp.Vector3(cell_x,cell_y,0))]\n"
   ]
  },
  {
   "cell_type": "code",
   "execution_count": 36,
   "id": "8791d7c6",
   "metadata": {},
   "outputs": [],
   "source": [
    "## Set up simulation ##\n",
    "######################\n",
    "\n",
    "cell_size = mp.Vector3(cell_x,cell_y,cell_z)\n",
    "pml_layers = [mp.PML(thickness = pml_thickness, direction = mp.Z)]\n",
    "\n",
    "if source_cmpt == mp.Ey:\n",
    "    symmetries = [mp.Mirror(mp.X, phase=+1), #epsilon has mirror symmetry in x and y, phase doesn't matter\n",
    "                  mp.Mirror(mp.Y, phase=-1)] #but sources have -1 phase when reflected normal to their direction\n",
    "elif src_cmpt == mp.Ex:                      #use of symmetries important here, significantly speeds up sim\n",
    "    symmetries = [mp.Mirror(mp.X, phase=-1),\n",
    "                  mp.Mirror(mp.Y, phase=+1)]\n",
    "elif src_cmpt == mp.Ez:\n",
    "    symmetries = [mp.Mirror(mp.X, phase=+1),\n",
    "                  mp.Mirror(mp.Y, phase=+1)]\n",
    "\n",
    "sim = mp.Simulation(cell_size=cell_size,\n",
    "                    #geometry=geometry,\n",
    "                    sources=sources,\n",
    "                    k_point=k_point,\n",
    "                    boundary_layers=pml_layers,\n",
    "                    symmetries=symmetries,\n",
    "                    resolution=resolution)\n",
    "\n",
    "nfreq = 1\n",
    "df = 0\n",
    "fr_center = round(0.5*cell_z - pml_thickness, 3)\n",
    "fr = mp.FluxRegion(center=mp.Vector3(0,0,fr_center), \n",
    "            size=mp.Vector3(cell_x, cell_y, 0))\n",
    "\n",
    "flux_object = sim.add_flux(freq, df, nfreq, fr)"
   ]
  },
  {
   "cell_type": "code",
   "execution_count": 37,
   "id": "11adef90",
   "metadata": {
    "scrolled": true
   },
   "outputs": [
    {
     "name": "stderr",
     "output_type": "stream",
     "text": [
      "Warning: grid volume is not an integer number of pixels; cell size will be rounded to nearest pixel.\n"
     ]
    },
    {
     "name": "stdout",
     "output_type": "stream",
     "text": [
      "-----------\n",
      "Initializing structure...\n",
      "Halving computational cell along direction x\n",
      "Halving computational cell along direction y\n",
      "time for choose_chunkdivision = 0.0023272 s\n",
      "Working in 3D dimensions.\n",
      "Computational cell is 0.7 x 0.7 x 3.35 with resolution 20\n",
      "time for set_epsilon = 0.0100119 s\n",
      "-----------\n",
      "run 0 finished at t = 200.0 (8000 timesteps)\n"
     ]
    },
    {
     "name": "stderr",
     "output_type": "stream",
     "text": [
      "  0%|                                                 | 0/15 [00:00<?, ?it/s]Warning: grid volume is not an integer number of pixels; cell size will be rounded to nearest pixel.\n"
     ]
    },
    {
     "name": "stdout",
     "output_type": "stream",
     "text": [
      "-----------\n",
      "Initializing structure...\n",
      "Halving computational cell along direction x\n",
      "Halving computational cell along direction y\n",
      "time for choose_chunkdivision = 0.00144196 s\n",
      "Working in 3D dimensions.\n",
      "Computational cell is 0.7 x 0.7 x 3.35 with resolution 20\n",
      "     block, center = (0,0,-0.9)\n",
      "          size (1e+20,1e+20,1.56)\n",
      "          axes (1,0,0), (0,1,0), (0,0,1)\n",
      "          dielectric constant epsilon diagonal = (2.0736,2.0736,2.0736)\n",
      "     cylinder, center = (0,0,0.39)\n",
      "          radius 0.075, height 1.02, axis (0, 0, 1)\n",
      "          dielectric constant epsilon diagonal = (12.1104,12.1104,12.1104)\n",
      "time for set_epsilon = 0.0359671 s\n",
      "-----------\n"
     ]
    },
    {
     "name": "stderr",
     "output_type": "stream",
     "text": [
      "Warning: grid volume is not an integer number of pixels; cell size will be rounded to nearest pixel.\n"
     ]
    },
    {
     "name": "stdout",
     "output_type": "stream",
     "text": [
      "run 0 finished at t = 200.0 (8000 timesteps)\n",
      "MPB solved for frequency_1(0,0,1.21463) = 1.15476 after 14 iters\n",
      "MPB solved for frequency_1(0,0,0.65673) = 0.631456 after 14 iters\n",
      "MPB solved for frequency_1(0,0,0.671091) = 0.645157 after 9 iters\n",
      "MPB solved for frequency_1(0,0,0.671095) = 0.645161 after 1 iters\n",
      "Dominant planewave for band 1: (0.000000,0.000000,0.671095)\n"
     ]
    },
    {
     "name": "stderr",
     "output_type": "stream",
     "text": [
      "  7%|██▋                                      | 1/15 [00:01<00:18,  1.29s/it]Warning: grid volume is not an integer number of pixels; cell size will be rounded to nearest pixel.\n"
     ]
    },
    {
     "name": "stdout",
     "output_type": "stream",
     "text": [
      "i= 0,radius=0.075\n",
      "-----------\n",
      "Initializing structure...\n",
      "Halving computational cell along direction x\n",
      "Halving computational cell along direction y\n",
      "time for choose_chunkdivision = 0.00124884 s\n",
      "Working in 3D dimensions.\n",
      "Computational cell is 0.7 x 0.7 x 3.35 with resolution 20\n",
      "     block, center = (0,0,-0.9)\n",
      "          size (1e+20,1e+20,1.56)\n",
      "          axes (1,0,0), (0,1,0), (0,0,1)\n",
      "          dielectric constant epsilon diagonal = (2.0736,2.0736,2.0736)\n",
      "     cylinder, center = (0,0,0.39)\n",
      "          radius 0.0875, height 1.02, axis (0, 0, 1)\n",
      "          dielectric constant epsilon diagonal = (12.1104,12.1104,12.1104)\n",
      "time for set_epsilon = 0.0363519 s\n",
      "-----------\n"
     ]
    },
    {
     "name": "stderr",
     "output_type": "stream",
     "text": [
      "Warning: grid volume is not an integer number of pixels; cell size will be rounded to nearest pixel.\n"
     ]
    },
    {
     "name": "stdout",
     "output_type": "stream",
     "text": [
      "run 0 finished at t = 200.0 (8000 timesteps)\n",
      "MPB solved for frequency_1(0,0,1.21463) = 1.13179 after 20 iters\n",
      "MPB solved for frequency_1(0,0,0.655345) = 0.622137 after 16 iters\n",
      "MPB solved for frequency_1(0,0,0.679891) = 0.645143 after 17 iters\n",
      "MPB solved for frequency_1(0,0,0.67991) = 0.645161 after 2 iters\n",
      "MPB solved for frequency_1(0,0,0.67991) = 0.645161 after 1 iters\n",
      "Dominant planewave for band 1: (0.000000,0.000000,0.679910)\n"
     ]
    },
    {
     "name": "stderr",
     "output_type": "stream",
     "text": [
      " 13%|█████▍                                   | 2/15 [00:02<00:16,  1.24s/it]Warning: grid volume is not an integer number of pixels; cell size will be rounded to nearest pixel.\n"
     ]
    },
    {
     "name": "stdout",
     "output_type": "stream",
     "text": [
      "i= 1,radius=0.0875\n",
      "-----------\n",
      "Initializing structure...\n",
      "Halving computational cell along direction x\n",
      "Halving computational cell along direction y\n",
      "time for choose_chunkdivision = 0.00103402 s\n",
      "Working in 3D dimensions.\n",
      "Computational cell is 0.7 x 0.7 x 3.35 with resolution 20\n",
      "     block, center = (0,0,-0.9)\n",
      "          size (1e+20,1e+20,1.56)\n",
      "          axes (1,0,0), (0,1,0), (0,0,1)\n",
      "          dielectric constant epsilon diagonal = (2.0736,2.0736,2.0736)\n",
      "     cylinder, center = (0,0,0.39)\n",
      "          radius 0.1, height 1.02, axis (0, 0, 1)\n",
      "          dielectric constant epsilon diagonal = (12.1104,12.1104,12.1104)\n",
      "time for set_epsilon = 0.034843 s\n",
      "-----------\n"
     ]
    },
    {
     "name": "stderr",
     "output_type": "stream",
     "text": [
      "Warning: grid volume is not an integer number of pixels; cell size will be rounded to nearest pixel.\n"
     ]
    },
    {
     "name": "stdout",
     "output_type": "stream",
     "text": [
      "run 0 finished at t = 200.0 (8000 timesteps)\n",
      "MPB solved for frequency_1(0,0,1.21463) = 1.11297 after 15 iters\n",
      "MPB solved for frequency_1(0,0,0.653281) = 0.613936 after 23 iters\n",
      "MPB solved for frequency_1(0,0,0.687038) = 0.645116 after 7 iters\n",
      "MPB solved for frequency_1(0,0,0.687087) = 0.645161 after 5 iters\n",
      "MPB solved for frequency_1(0,0,0.687087) = 0.645161 after 1 iters\n",
      "Dominant planewave for band 1: (0.000000,0.000000,0.687087)\n"
     ]
    },
    {
     "name": "stderr",
     "output_type": "stream",
     "text": [
      " 20%|████████▏                                | 3/15 [00:03<00:14,  1.22s/it]Warning: grid volume is not an integer number of pixels; cell size will be rounded to nearest pixel.\n"
     ]
    },
    {
     "name": "stdout",
     "output_type": "stream",
     "text": [
      "i= 2,radius=0.09999999999999999\n",
      "-----------\n",
      "Initializing structure...\n",
      "Halving computational cell along direction x\n",
      "Halving computational cell along direction y\n",
      "time for choose_chunkdivision = 0.000700951 s\n",
      "Working in 3D dimensions.\n",
      "Computational cell is 0.7 x 0.7 x 3.35 with resolution 20\n",
      "     block, center = (0,0,-0.9)\n",
      "          size (1e+20,1e+20,1.56)\n",
      "          axes (1,0,0), (0,1,0), (0,0,1)\n",
      "          dielectric constant epsilon diagonal = (2.0736,2.0736,2.0736)\n",
      "     cylinder, center = (0,0,0.39)\n",
      "          radius 0.1125, height 1.02, axis (0, 0, 1)\n",
      "          dielectric constant epsilon diagonal = (12.1104,12.1104,12.1104)\n",
      "time for set_epsilon = 0.03304 s\n",
      "-----------\n"
     ]
    },
    {
     "name": "stderr",
     "output_type": "stream",
     "text": [
      "Warning: grid volume is not an integer number of pixels; cell size will be rounded to nearest pixel.\n"
     ]
    },
    {
     "name": "stdout",
     "output_type": "stream",
     "text": [
      "run 0 finished at t = 200.0 (8000 timesteps)\n",
      "MPB solved for frequency_1(0,0,1.21463) = 1.07269 after 19 iters\n",
      "MPB solved for frequency_1(0,0,0.655991) = 0.601864 after 12 iters\n",
      "MPB solved for frequency_1(0,0,0.704354) = 0.64502 after 15 iters\n",
      "MPB solved for frequency_1(0,0,0.704513) = 0.645161 after 16 iters\n",
      "MPB solved for frequency_1(0,0,0.704513) = 0.645161 after 1 iters\n",
      "Dominant planewave for band 1: (0.000000,0.000000,0.704513)\n"
     ]
    },
    {
     "name": "stderr",
     "output_type": "stream",
     "text": [
      " 27%|██████████▉                              | 4/15 [00:04<00:13,  1.21s/it]Warning: grid volume is not an integer number of pixels; cell size will be rounded to nearest pixel.\n"
     ]
    },
    {
     "name": "stdout",
     "output_type": "stream",
     "text": [
      "i= 3,radius=0.11249999999999999\n",
      "-----------\n",
      "Initializing structure...\n",
      "Halving computational cell along direction x\n",
      "Halving computational cell along direction y\n",
      "time for choose_chunkdivision = 0.00112104 s\n",
      "Working in 3D dimensions.\n",
      "Computational cell is 0.7 x 0.7 x 3.35 with resolution 20\n",
      "     block, center = (0,0,-0.9)\n",
      "          size (1e+20,1e+20,1.56)\n",
      "          axes (1,0,0), (0,1,0), (0,0,1)\n",
      "          dielectric constant epsilon diagonal = (2.0736,2.0736,2.0736)\n",
      "     cylinder, center = (0,0,0.39)\n",
      "          radius 0.125, height 1.02, axis (0, 0, 1)\n",
      "          dielectric constant epsilon diagonal = (12.1104,12.1104,12.1104)\n",
      "time for set_epsilon = 0.0295231 s\n",
      "-----------\n"
     ]
    },
    {
     "name": "stderr",
     "output_type": "stream",
     "text": [
      "Warning: grid volume is not an integer number of pixels; cell size will be rounded to nearest pixel.\n"
     ]
    },
    {
     "name": "stdout",
     "output_type": "stream",
     "text": [
      "run 0 finished at t = 200.0 (8000 timesteps)\n",
      "MPB solved for frequency_1(0,0,1.21463) = 1.05985 after 19 iters\n",
      "MPB solved for frequency_1(0,0,0.656558) = 0.597937 after 14 iters\n",
      "MPB solved for frequency_1(0,0,0.70987) = 0.644969 after 13 iters\n",
      "MPB solved for frequency_1(0,0,0.710089) = 0.645161 after 5 iters\n",
      "MPB solved for frequency_1(0,0,0.710089) = 0.645161 after 11 iters\n",
      "MPB solved for frequency_1(0,0,0.710089) = 0.645161 after 1 iters\n",
      "Dominant planewave for band 1: (0.000000,0.000000,0.710089)\n"
     ]
    },
    {
     "name": "stderr",
     "output_type": "stream",
     "text": [
      " 33%|█████████████▋                           | 5/15 [00:06<00:11,  1.20s/it]Warning: grid volume is not an integer number of pixels; cell size will be rounded to nearest pixel.\n"
     ]
    },
    {
     "name": "stdout",
     "output_type": "stream",
     "text": [
      "i= 4,radius=0.125\n",
      "-----------\n",
      "Initializing structure...\n",
      "Halving computational cell along direction x\n",
      "Halving computational cell along direction y\n",
      "time for choose_chunkdivision = 0.00154901 s\n",
      "Working in 3D dimensions.\n",
      "Computational cell is 0.7 x 0.7 x 3.35 with resolution 20\n",
      "     block, center = (0,0,-0.9)\n",
      "          size (1e+20,1e+20,1.56)\n",
      "          axes (1,0,0), (0,1,0), (0,0,1)\n",
      "          dielectric constant epsilon diagonal = (2.0736,2.0736,2.0736)\n",
      "     cylinder, center = (0,0,0.39)\n",
      "          radius 0.1375, height 1.02, axis (0, 0, 1)\n",
      "          dielectric constant epsilon diagonal = (12.1104,12.1104,12.1104)\n",
      "time for set_epsilon = 0.0374799 s\n",
      "-----------\n"
     ]
    },
    {
     "name": "stderr",
     "output_type": "stream",
     "text": [
      "Warning: grid volume is not an integer number of pixels; cell size will be rounded to nearest pixel.\n"
     ]
    },
    {
     "name": "stdout",
     "output_type": "stream",
     "text": [
      "run 0 finished at t = 200.0 (8000 timesteps)\n",
      "MPB solved for frequency_1(0,0,1.21463) = 1.00685 after 20 iters\n",
      "MPB solved for frequency_1(0,0,0.665721) = 0.586714 after 18 iters\n",
      "MPB solved for frequency_1(0,0,0.734946) = 0.644681 after 24 iters\n",
      "MPB solved for frequency_1(0,0,0.735525) = 0.645161 after 6 iters\n",
      "MPB solved for frequency_1(0,0,0.735525) = 0.645161 after 1 iters\n",
      "Dominant planewave for band 1: (0.000000,0.000000,0.735525)\n"
     ]
    },
    {
     "name": "stderr",
     "output_type": "stream",
     "text": [
      " 40%|████████████████▍                        | 6/15 [00:07<00:10,  1.21s/it]Warning: grid volume is not an integer number of pixels; cell size will be rounded to nearest pixel.\n"
     ]
    },
    {
     "name": "stdout",
     "output_type": "stream",
     "text": [
      "i= 5,radius=0.13749999999999998\n",
      "-----------\n",
      "Initializing structure...\n",
      "Halving computational cell along direction x\n",
      "Halving computational cell along direction y\n",
      "time for choose_chunkdivision = 0.00159693 s\n",
      "Working in 3D dimensions.\n",
      "Computational cell is 0.7 x 0.7 x 3.35 with resolution 20\n",
      "     block, center = (0,0,-0.9)\n",
      "          size (1e+20,1e+20,1.56)\n",
      "          axes (1,0,0), (0,1,0), (0,0,1)\n",
      "          dielectric constant epsilon diagonal = (2.0736,2.0736,2.0736)\n",
      "     cylinder, center = (0,0,0.39)\n",
      "          radius 0.15, height 1.02, axis (0, 0, 1)\n",
      "          dielectric constant epsilon diagonal = (12.1104,12.1104,12.1104)\n",
      "time for set_epsilon = 0.036222 s\n",
      "-----------\n"
     ]
    },
    {
     "name": "stderr",
     "output_type": "stream",
     "text": [
      "Warning: grid volume is not an integer number of pixels; cell size will be rounded to nearest pixel.\n"
     ]
    },
    {
     "name": "stdout",
     "output_type": "stream",
     "text": [
      "run 0 finished at t = 200.0 (8000 timesteps)\n",
      "MPB solved for frequency_1(0,0,1.21463) = 0.979697 after 20 iters\n",
      "MPB solved for frequency_1(0,0,0.677468) = 0.585472 after 17 iters\n",
      "MPB solved for frequency_1(0,0,0.750251) = 0.644542 after 16 iters\n",
      "MPB solved for frequency_1(0,0,0.751022) = 0.645161 after 10 iters\n",
      "MPB solved for frequency_1(0,0,0.751022) = 0.645161 after 1 iters\n",
      "Dominant planewave for band 1: (0.000000,0.000000,0.751022)\n"
     ]
    },
    {
     "name": "stderr",
     "output_type": "stream",
     "text": [
      " 47%|███████████████████▏                     | 7/15 [00:08<00:09,  1.20s/it]Warning: grid volume is not an integer number of pixels; cell size will be rounded to nearest pixel.\n"
     ]
    },
    {
     "name": "stdout",
     "output_type": "stream",
     "text": [
      "i= 6,radius=0.15\n",
      "-----------\n",
      "Initializing structure...\n",
      "Halving computational cell along direction x\n",
      "Halving computational cell along direction y\n",
      "time for choose_chunkdivision = 0.000841141 s\n",
      "Working in 3D dimensions.\n",
      "Computational cell is 0.7 x 0.7 x 3.35 with resolution 20\n",
      "     block, center = (0,0,-0.9)\n",
      "          size (1e+20,1e+20,1.56)\n",
      "          axes (1,0,0), (0,1,0), (0,0,1)\n",
      "          dielectric constant epsilon diagonal = (2.0736,2.0736,2.0736)\n",
      "     cylinder, center = (0,0,0.39)\n",
      "          radius 0.1625, height 1.02, axis (0, 0, 1)\n",
      "          dielectric constant epsilon diagonal = (12.1104,12.1104,12.1104)\n",
      "time for set_epsilon = 0.0348971 s\n",
      "-----------\n"
     ]
    },
    {
     "name": "stderr",
     "output_type": "stream",
     "text": [
      "Warning: grid volume is not an integer number of pixels; cell size will be rounded to nearest pixel.\n"
     ]
    },
    {
     "name": "stdout",
     "output_type": "stream",
     "text": [
      "run 0 finished at t = 200.0 (8000 timesteps)\n",
      "MPB solved for frequency_1(0,0,1.21463) = 0.938836 after 23 iters\n",
      "MPB solved for frequency_1(0,0,0.707606) = 0.590648 after 12 iters\n",
      "MPB solved for frequency_1(0,0,0.777726) = 0.644465 after 18 iters\n",
      "MPB solved for frequency_1(0,0,0.778645) = 0.645161 after 15 iters\n",
      "MPB solved for frequency_1(0,0,0.778645) = 0.645161 after 1 iters\n",
      "Dominant planewave for band 1: (0.000000,0.000000,0.778645)\n"
     ]
    },
    {
     "name": "stderr",
     "output_type": "stream",
     "text": [
      " 53%|█████████████████████▊                   | 8/15 [00:09<00:08,  1.19s/it]Warning: grid volume is not an integer number of pixels; cell size will be rounded to nearest pixel.\n"
     ]
    },
    {
     "name": "stdout",
     "output_type": "stream",
     "text": [
      "i= 7,radius=0.16249999999999998\n",
      "-----------\n",
      "Initializing structure...\n",
      "Halving computational cell along direction x\n",
      "Halving computational cell along direction y\n",
      "time for choose_chunkdivision = 0.000684023 s\n",
      "Working in 3D dimensions.\n",
      "Computational cell is 0.7 x 0.7 x 3.35 with resolution 20\n",
      "     block, center = (0,0,-0.9)\n",
      "          size (1e+20,1e+20,1.56)\n",
      "          axes (1,0,0), (0,1,0), (0,0,1)\n",
      "          dielectric constant epsilon diagonal = (2.0736,2.0736,2.0736)\n",
      "     cylinder, center = (0,0,0.39)\n",
      "          radius 0.175, height 1.02, axis (0, 0, 1)\n",
      "          dielectric constant epsilon diagonal = (12.1104,12.1104,12.1104)\n",
      "time for set_epsilon = 0.0359089 s\n",
      "-----------\n"
     ]
    },
    {
     "name": "stderr",
     "output_type": "stream",
     "text": [
      "Warning: grid volume is not an integer number of pixels; cell size will be rounded to nearest pixel.\n"
     ]
    },
    {
     "name": "stdout",
     "output_type": "stream",
     "text": [
      "run 0 finished at t = 200.0 (8000 timesteps)\n",
      "MPB solved for frequency_1(0,0,1.21463) = 0.906658 after 21 iters\n",
      "MPB solved for frequency_1(0,0,0.740051) = 0.598147 after 23 iters\n",
      "MPB solved for frequency_1(0,0,0.803668) = 0.644521 after 9 iters\n",
      "MPB solved for frequency_1(0,0,0.80456) = 0.645161 after 13 iters\n",
      "MPB solved for frequency_1(0,0,0.80456) = 0.645161 after 1 iters\n",
      "Dominant planewave for band 1: (0.000000,0.000000,0.804560)\n"
     ]
    },
    {
     "name": "stderr",
     "output_type": "stream",
     "text": [
      " 60%|████████████████████████▌                | 9/15 [00:10<00:07,  1.19s/it]Warning: grid volume is not an integer number of pixels; cell size will be rounded to nearest pixel.\n"
     ]
    },
    {
     "name": "stdout",
     "output_type": "stream",
     "text": [
      "i= 8,radius=0.175\n",
      "-----------\n",
      "Initializing structure...\n",
      "Halving computational cell along direction x\n",
      "Halving computational cell along direction y\n",
      "time for choose_chunkdivision = 0.00138807 s\n",
      "Working in 3D dimensions.\n",
      "Computational cell is 0.7 x 0.7 x 3.35 with resolution 20\n",
      "     block, center = (0,0,-0.9)\n",
      "          size (1e+20,1e+20,1.56)\n",
      "          axes (1,0,0), (0,1,0), (0,0,1)\n",
      "          dielectric constant epsilon diagonal = (2.0736,2.0736,2.0736)\n",
      "     cylinder, center = (0,0,0.39)\n",
      "          radius 0.1875, height 1.02, axis (0, 0, 1)\n",
      "          dielectric constant epsilon diagonal = (12.1104,12.1104,12.1104)\n",
      "time for set_epsilon = 0.042222 s\n",
      "-----------\n"
     ]
    },
    {
     "name": "stderr",
     "output_type": "stream",
     "text": [
      "Warning: grid volume is not an integer number of pixels; cell size will be rounded to nearest pixel.\n"
     ]
    },
    {
     "name": "stdout",
     "output_type": "stream",
     "text": [
      "run 0 finished at t = 200.0 (8000 timesteps)\n",
      "MPB solved for frequency_1(0,0,1.21463) = 0.876162 after 20 iters\n",
      "MPB solved for frequency_1(0,0,0.773985) = 0.605339 after 14 iters\n",
      "MPB solved for frequency_1(0,0,0.830861) = 0.644601 after 10 iters\n",
      "MPB solved for frequency_1(0,0,0.831685) = 0.645161 after 7 iters\n",
      "MPB solved for frequency_1(0,0,0.831685) = 0.645161 after 1 iters\n",
      "Dominant planewave for band 1: (0.000000,0.000000,0.831685)\n"
     ]
    },
    {
     "name": "stderr",
     "output_type": "stream",
     "text": [
      " 67%|██████████████████████████▋             | 10/15 [00:12<00:05,  1.19s/it]Warning: grid volume is not an integer number of pixels; cell size will be rounded to nearest pixel.\n"
     ]
    },
    {
     "name": "stdout",
     "output_type": "stream",
     "text": [
      "i= 9,radius=0.1875\n",
      "-----------\n",
      "Initializing structure...\n",
      "Halving computational cell along direction x\n",
      "Halving computational cell along direction y\n",
      "time for choose_chunkdivision = 0.000727892 s\n",
      "Working in 3D dimensions.\n",
      "Computational cell is 0.7 x 0.7 x 3.35 with resolution 20\n",
      "     block, center = (0,0,-0.9)\n",
      "          size (1e+20,1e+20,1.56)\n",
      "          axes (1,0,0), (0,1,0), (0,0,1)\n",
      "          dielectric constant epsilon diagonal = (2.0736,2.0736,2.0736)\n",
      "     cylinder, center = (0,0,0.39)\n",
      "          radius 0.2, height 1.02, axis (0, 0, 1)\n",
      "          dielectric constant epsilon diagonal = (12.1104,12.1104,12.1104)\n",
      "time for set_epsilon = 0.038408 s\n",
      "-----------\n"
     ]
    },
    {
     "name": "stderr",
     "output_type": "stream",
     "text": [
      "Warning: grid volume is not an integer number of pixels; cell size will be rounded to nearest pixel.\n"
     ]
    },
    {
     "name": "stdout",
     "output_type": "stream",
     "text": [
      "run 0 finished at t = 200.0 (8000 timesteps)\n",
      "MPB solved for frequency_1(0,0,1.21463) = 0.854999 after 22 iters\n",
      "MPB solved for frequency_1(0,0,0.800475) = 0.610687 after 12 iters\n",
      "MPB solved for frequency_1(0,0,0.851826) = 0.644682 after 12 iters\n",
      "MPB solved for frequency_1(0,0,0.852562) = 0.645161 after 7 iters\n",
      "MPB solved for frequency_1(0,0,0.852562) = 0.645161 after 1 iters\n",
      "Dominant planewave for band 1: (0.000000,0.000000,0.852562)\n"
     ]
    },
    {
     "name": "stderr",
     "output_type": "stream",
     "text": [
      " 73%|█████████████████████████████▎          | 11/15 [00:13<00:04,  1.22s/it]Warning: grid volume is not an integer number of pixels; cell size will be rounded to nearest pixel.\n"
     ]
    },
    {
     "name": "stdout",
     "output_type": "stream",
     "text": [
      "i= 10,radius=0.19999999999999998\n",
      "-----------\n",
      "Initializing structure...\n",
      "Halving computational cell along direction x\n",
      "Halving computational cell along direction y\n",
      "time for choose_chunkdivision = 0.00134802 s\n",
      "Working in 3D dimensions.\n",
      "Computational cell is 0.7 x 0.7 x 3.35 with resolution 20\n",
      "     block, center = (0,0,-0.9)\n",
      "          size (1e+20,1e+20,1.56)\n",
      "          axes (1,0,0), (0,1,0), (0,0,1)\n",
      "          dielectric constant epsilon diagonal = (2.0736,2.0736,2.0736)\n",
      "     cylinder, center = (0,0,0.39)\n",
      "          radius 0.2125, height 1.02, axis (0, 0, 1)\n",
      "          dielectric constant epsilon diagonal = (12.1104,12.1104,12.1104)\n",
      "time for set_epsilon = 0.041739 s\n",
      "-----------\n"
     ]
    },
    {
     "name": "stderr",
     "output_type": "stream",
     "text": [
      "Warning: grid volume is not an integer number of pixels; cell size will be rounded to nearest pixel.\n"
     ]
    },
    {
     "name": "stdout",
     "output_type": "stream",
     "text": [
      "run 0 finished at t = 200.0 (8000 timesteps)\n",
      "MPB solved for frequency_1(0,0,1.21463) = 0.820227 after 20 iters\n",
      "MPB solved for frequency_1(0,0,0.858846) = 0.62237 after 12 iters\n",
      "MPB solved for frequency_1(0,0,0.895529) = 0.644921 after 19 iters\n",
      "MPB solved for frequency_1(0,0,0.895924) = 0.645161 after 7 iters\n",
      "MPB solved for frequency_1(0,0,0.895924) = 0.645161 after 1 iters\n",
      "Dominant planewave for band 1: (0.000000,0.000000,0.895924)\n"
     ]
    },
    {
     "name": "stderr",
     "output_type": "stream",
     "text": [
      " 80%|████████████████████████████████        | 12/15 [00:14<00:03,  1.23s/it]Warning: grid volume is not an integer number of pixels; cell size will be rounded to nearest pixel.\n"
     ]
    },
    {
     "name": "stdout",
     "output_type": "stream",
     "text": [
      "i= 11,radius=0.21249999999999997\n",
      "-----------\n",
      "Initializing structure...\n",
      "Halving computational cell along direction x\n",
      "Halving computational cell along direction y\n",
      "time for choose_chunkdivision = 0.00143409 s\n",
      "Working in 3D dimensions.\n",
      "Computational cell is 0.7 x 0.7 x 3.35 with resolution 20\n",
      "     block, center = (0,0,-0.9)\n",
      "          size (1e+20,1e+20,1.56)\n",
      "          axes (1,0,0), (0,1,0), (0,0,1)\n",
      "          dielectric constant epsilon diagonal = (2.0736,2.0736,2.0736)\n",
      "     cylinder, center = (0,0,0.39)\n",
      "          radius 0.225, height 1.02, axis (0, 0, 1)\n",
      "          dielectric constant epsilon diagonal = (12.1104,12.1104,12.1104)\n",
      "time for set_epsilon = 0.0426259 s\n",
      "-----------\n"
     ]
    },
    {
     "name": "stderr",
     "output_type": "stream",
     "text": [
      "Warning: grid volume is not an integer number of pixels; cell size will be rounded to nearest pixel.\n"
     ]
    },
    {
     "name": "stdout",
     "output_type": "stream",
     "text": [
      "run 0 finished at t = 200.0 (8000 timesteps)\n",
      "MPB solved for frequency_1(0,0,1.21463) = 0.792896 after 24 iters\n",
      "MPB solved for frequency_1(0,0,0.908579) = 0.629955 after 15 iters\n",
      "MPB solved for frequency_1(0,0,0.934624) = 0.645047 after 14 iters\n",
      "MPB solved for frequency_1(0,0,0.934823) = 0.645161 after 6 iters\n",
      "MPB solved for frequency_1(0,0,0.934823) = 0.645161 after 1 iters\n",
      "Dominant planewave for band 1: (0.000000,0.000000,0.934823)\n"
     ]
    },
    {
     "name": "stderr",
     "output_type": "stream",
     "text": [
      " 87%|██████████████████████████████████▋     | 13/15 [00:15<00:02,  1.23s/it]Warning: grid volume is not an integer number of pixels; cell size will be rounded to nearest pixel.\n"
     ]
    },
    {
     "name": "stdout",
     "output_type": "stream",
     "text": [
      "i= 12,radius=0.22499999999999998\n",
      "-----------\n",
      "Initializing structure...\n",
      "Halving computational cell along direction x\n",
      "Halving computational cell along direction y\n",
      "time for choose_chunkdivision = 0.00117683 s\n",
      "Working in 3D dimensions.\n",
      "Computational cell is 0.7 x 0.7 x 3.35 with resolution 20\n",
      "     block, center = (0,0,-0.9)\n",
      "          size (1e+20,1e+20,1.56)\n",
      "          axes (1,0,0), (0,1,0), (0,0,1)\n",
      "          dielectric constant epsilon diagonal = (2.0736,2.0736,2.0736)\n",
      "     cylinder, center = (0,0,0.39)\n",
      "          radius 0.2375, height 1.02, axis (0, 0, 1)\n",
      "          dielectric constant epsilon diagonal = (12.1104,12.1104,12.1104)\n",
      "time for set_epsilon = 0.0410461 s\n",
      "-----------\n"
     ]
    },
    {
     "name": "stderr",
     "output_type": "stream",
     "text": [
      "Warning: grid volume is not an integer number of pixels; cell size will be rounded to nearest pixel.\n"
     ]
    },
    {
     "name": "stdout",
     "output_type": "stream",
     "text": [
      "run 0 finished at t = 200.0 (8000 timesteps)\n",
      "MPB solved for frequency_1(0,0,1.21463) = 0.769493 after 25 iters\n",
      "MPB solved for frequency_1(0,0,0.950363) = 0.634672 after 15 iters\n",
      "MPB solved for frequency_1(0,0,0.96937) = 0.645103 after 12 iters\n",
      "MPB solved for frequency_1(0,0,0.969477) = 0.645161 after 5 iters\n",
      "MPB solved for frequency_1(0,0,0.969477) = 0.645161 after 1 iters\n",
      "Dominant planewave for band 1: (0.000000,0.000000,0.969477)\n"
     ]
    },
    {
     "name": "stderr",
     "output_type": "stream",
     "text": [
      " 93%|█████████████████████████████████████▎  | 14/15 [00:16<00:01,  1.22s/it]Warning: grid volume is not an integer number of pixels; cell size will be rounded to nearest pixel.\n"
     ]
    },
    {
     "name": "stdout",
     "output_type": "stream",
     "text": [
      "i= 13,radius=0.2375\n",
      "-----------\n",
      "Initializing structure...\n",
      "Halving computational cell along direction x\n",
      "Halving computational cell along direction y\n",
      "time for choose_chunkdivision = 0.000813961 s\n",
      "Working in 3D dimensions.\n",
      "Computational cell is 0.7 x 0.7 x 3.35 with resolution 20\n",
      "     block, center = (0,0,-0.9)\n",
      "          size (1e+20,1e+20,1.56)\n",
      "          axes (1,0,0), (0,1,0), (0,0,1)\n",
      "          dielectric constant epsilon diagonal = (2.0736,2.0736,2.0736)\n",
      "     cylinder, center = (0,0,0.39)\n",
      "          radius 0.25, height 1.02, axis (0, 0, 1)\n",
      "          dielectric constant epsilon diagonal = (12.1104,12.1104,12.1104)\n",
      "time for set_epsilon = 0.0403252 s\n",
      "-----------\n"
     ]
    },
    {
     "name": "stderr",
     "output_type": "stream",
     "text": [
      "Warning: grid volume is not an integer number of pixels; cell size will be rounded to nearest pixel.\n"
     ]
    },
    {
     "name": "stdout",
     "output_type": "stream",
     "text": [
      "run 0 finished at t = 200.0 (8000 timesteps)\n",
      "MPB solved for frequency_1(0,0,1.21463) = 0.753303 after 26 iters\n",
      "MPB solved for frequency_1(0,0,0.982211) = 0.637551 after 13 iters\n",
      "MPB solved for frequency_1(0,0,0.996506) = 0.64513 after 14 iters\n",
      "MPB solved for frequency_1(0,0,0.996565) = 0.645161 after 5 iters\n",
      "MPB solved for frequency_1(0,0,0.996565) = 0.645161 after 1 iters\n",
      "Dominant planewave for band 1: (0.000000,0.000000,0.996565)\n"
     ]
    },
    {
     "name": "stderr",
     "output_type": "stream",
     "text": [
      "                                                                             \r"
     ]
    }
   ],
   "source": [
    "sim.run(until=200)\n",
    "\n",
    "initial_flux = mp.get_fluxes(flux_object)[0]     # initial fluxHoley metasurface\n",
    "sim.reset_meep()\n",
    "\n",
    "pbar = tqdm(total=num,leave=False)\n",
    "for i,radius in enumerate(np.linspace(0.075,0.25,num=num)):\n",
    "    geometry.append(mp.Cylinder(radius=radius,\n",
    "                        height=height_pillar,\n",
    "                        axis=mp.Vector3(0,0,1),\n",
    "                        center=mp.Vector3(0,0,center_pillar),\n",
    "                        material=mp.Medium(index=n_amorphousSi)))\n",
    "\n",
    "    sim = mp.Simulation(cell_size=cell_size,\n",
    "                        geometry=geometry,\n",
    "                        sources=sources,\n",
    "                        k_point=k_point,\n",
    "                        boundary_layers=pml_layers,\n",
    "                        symmetries=symmetries,\n",
    "                        resolution=resolution)\n",
    "    \n",
    "    flux_object = sim.add_flux(freq, df, nfreq, fr)  \n",
    "\n",
    "    sim.run(until=200)\n",
    "    \n",
    "    res = sim.get_eigenmode_coefficients(flux_object, [1], eig_parity=mp.ODD_Y)\n",
    "    coeffs = res.alpha\n",
    "\n",
    "    flux = abs(coeffs[0,0,0]**2)\n",
    "    phase = np.angle(coeffs[0,0,0]) \n",
    "    \n",
    "    data[0,i] = radius\n",
    "    data[1,i] = flux\n",
    "    data[2,i] = phase\n",
    "    if(radius!=0.25):\n",
    "        sim.reset_meep()\n",
    "        print(f\"i= {i},radius={radius}\")\n",
    "        geometry.pop(-1)\n",
    "    pbar.update(1)\n",
    "pbar.close()\n"
   ]
  },
  {
   "cell_type": "code",
   "execution_count": 38,
   "id": "85d592d1",
   "metadata": {
    "scrolled": true
   },
   "outputs": [
    {
     "name": "stderr",
     "output_type": "stream",
     "text": [
      "Warning: grid volume is not an integer number of pixels; cell size will be rounded to nearest pixel.\n"
     ]
    },
    {
     "name": "stdout",
     "output_type": "stream",
     "text": [
      "     block, center = (0,0,-0.9)\n",
      "          size (1e+20,1e+20,1.56)\n",
      "          axes (1,0,0), (0,1,0), (0,0,1)\n",
      "          dielectric constant epsilon diagonal = (2.0736,2.0736,2.0736)\n",
      "     cylinder, center = (0,0,0.39)\n",
      "          radius 0.25, height 1.02, axis (0, 0, 1)\n",
      "          dielectric constant epsilon diagonal = (12.1104,12.1104,12.1104)\n"
     ]
    },
    {
     "data": {
      "image/png": "[encoded data removed]",
      "text/plain": [
       "<Figure size 1000x1000 with 1 Axes>"
      ]
     },
     "metadata": {},
     "output_type": "display_data"
    }
   ],
   "source": [
    "# plot an x-z cross section\n",
    "\n",
    "plt.figure(figsize=(10,10))\n",
    "plot_plane = mp.Volume(center=mp.Vector3(0,0.0*a,0),\n",
    "                            size=mp.Vector3(a,0,cell_z))\n",
    "field_func = lambda x: 20*np.log10(np.abs(x))\n",
    "sim.plot2D(output_plane=plot_plane\n",
    "           #fields=mp.Ey\n",
    "           )\n",
    "plt.grid(False)"
   ]
  },
  {
   "cell_type": "code",
   "execution_count": 39,
   "id": "761619e8",
   "metadata": {
    "scrolled": true
   },
   "outputs": [
    {
     "name": "stderr",
     "output_type": "stream",
     "text": [
      "/tmp/ipykernel_147156/2145056122.py:1: MatplotlibDeprecationWarning: The seaborn styles shipped by Matplotlib are deprecated since 3.6, as they no longer correspond to the styles shipped by seaborn. However, they will remain available as 'seaborn-v0_8-<style>'. Alternatively, directly use the seaborn API instead.\n",
      "  plt.style.use('seaborn-colorblind')\n"
     ]
    },
    {
     "ename": "NameError",
     "evalue": "name 'radii' is not defined",
     "output_type": "error",
     "traceback": [
      "\u001b[0;31m---------------------------------------------------------------------------\u001b[0m",
      "\u001b[0;31mNameError\u001b[0m                                 Traceback (most recent call last)",
      "Cell \u001b[0;32mIn[39], line 18\u001b[0m\n\u001b[1;32m     16\u001b[0m ax\u001b[38;5;241m.\u001b[39mset_ylim([\u001b[38;5;241m0\u001b[39m,\u001b[38;5;241m1\u001b[39m])\n\u001b[1;32m     17\u001b[0m ax\u001b[38;5;241m.\u001b[39mset_ylabel(\u001b[38;5;124mr\u001b[39m\u001b[38;5;124m'\u001b[39m\u001b[38;5;124mPercent Transmitted ($\u001b[39m\u001b[38;5;124m\\\u001b[39m\u001b[38;5;124m%\u001b[39m\u001b[38;5;124m$)\u001b[39m\u001b[38;5;124m'\u001b[39m,fontsize\u001b[38;5;241m=\u001b[39mlabelfontsize, color \u001b[38;5;241m=\u001b[39m \u001b[38;5;124m'\u001b[39m\u001b[38;5;124mblue\u001b[39m\u001b[38;5;124m'\u001b[39m)\n\u001b[0;32m---> 18\u001b[0m ax\u001b[38;5;241m.\u001b[39mplot(\u001b[43mradii\u001b[49m,flux_list,\u001b[38;5;124m'\u001b[39m\u001b[38;5;124mb\u001b[39m\u001b[38;5;124m'\u001b[39m,label\u001b[38;5;241m=\u001b[39m\u001b[38;5;124m'\u001b[39m\u001b[38;5;124mTransmission\u001b[39m\u001b[38;5;124m'\u001b[39m)\n\u001b[1;32m     19\u001b[0m ax\u001b[38;5;241m.\u001b[39mtick_params(axis\u001b[38;5;241m=\u001b[39m\u001b[38;5;124m'\u001b[39m\u001b[38;5;124my\u001b[39m\u001b[38;5;124m'\u001b[39m, labelcolor \u001b[38;5;241m=\u001b[39m \u001b[38;5;124m'\u001b[39m\u001b[38;5;124mblue\u001b[39m\u001b[38;5;124m'\u001b[39m)\n\u001b[1;32m     21\u001b[0m ax\u001b[38;5;241m.\u001b[39mset_yticks([\u001b[38;5;241m0\u001b[39m,\u001b[38;5;241m0.2\u001b[39m,\u001b[38;5;241m0.4\u001b[39m,\u001b[38;5;241m0.6\u001b[39m,\u001b[38;5;241m0.8\u001b[39m,\u001b[38;5;241m1\u001b[39m])\n",
      "\u001b[0;31mNameError\u001b[0m: name 'radii' is not defined"
     ]
    },
    {
     "data": {
      "image/png": "[encoded data removed]",
      "text/plain": [
       "<Figure size 1100x800 with 1 Axes>"
      ]
     },
     "metadata": {},
     "output_type": "display_data"
    }
   ],
   "source": [
    "plt.style.use('seaborn-colorblind')\n",
    "\n",
    "tickfontsize=22\n",
    "labelfontsize=26\n",
    "titlefontsize=30\n",
    "\n",
    "fig,ax = plt.subplots(figsize=(11,8)) # may want to change. Also see DPI keyword\n",
    "\n",
    "fig.suptitle(\"Meta-atom Transmission\",fontsize=titlefontsize)\n",
    "\n",
    "#ax.set_title(\"Transmission Magnitude\",fontsize=titlefontsize)\n",
    "\n",
    "ax.set_xlabel(\"Radius (nm)\",fontsize=labelfontsize)\n",
    "ax.set_xticks([0.075,0.100,0.125,0.150,0.175,0.200,0.225,0.250])\n",
    "ax.set_xticklabels([75,100,125,150,175,200,225,250],fontsize=tickfontsize)\n",
    "ax.set_ylim([0,1])\n",
    "ax.set_ylabel(r'Percent Transmitted ($\\%$)',fontsize=labelfontsize, color = 'blue')\n",
    "ax.plot(radii,flux_list,'b',label='Transmission')\n",
    "ax.tick_params(axis='y', labelcolor = 'blue')\n",
    "\n",
    "ax.set_yticks([0,0.2,0.4,0.6,0.8,1])\n",
    "ax.set_yticklabels([0, 20,40,60,80,100],fontsize=tickfontsize)\n",
    "#ax.set_yticks([0.6,0.7,0.8,0.9,1])\n",
    "#ax.set_yticklabels([60,70,80,90,100],fontsize=tickfontsize)\n",
    "\n",
    "twin1 = ax.twinx()\n",
    "\n",
    "#ax[1].set_title(\"Transmission Phase\",fontsize=titlefontsize)\n",
    "#ax[1].set_xlabel(\"Radius (nm)\",fontsize=labelfontsize)\n",
    "#ax[1].set_xticks([0.075,0.100,0.125,0.150,0.175,0.200,0.225,0.250])\n",
    "#ax[1].set_xticklabels([75,100,125,150,175,200,225,250],fontsize=tickfontsize)\n",
    "twin1.set_ylim([-np.pi,np.pi])\n",
    "twin1.set_ylabel(r'Phase Delay (rad)',fontsize=labelfontsize, color = 'red')\n",
    "twin1.set_yticks([-np.pi, -(0.5*np.pi),0, np.pi / 2, np.pi])\n",
    "twin1.set_yticklabels([r'-$\\pi$',r'-$\\frac{\\pi}{2}$',r'0',r'$\\frac{\\pi}{2}$',r'$\\pi$'],fontsize=tickfontsize+4)\n",
    "twin1.plot(radii,phase_list,'r',label='Phase')\n",
    "twin1.tick_params(axis='y', labelcolor = 'red')\n",
    "#ax[1].legend(loc=\"upper right\")\n",
    "#plt.legend(loc=\"upper right\")\n",
    "plt.grid(False)\n",
    "plt.tight_layout()"
   ]
  },
  {
   "cell_type": "code",
   "execution_count": null,
   "id": "18cd0f06-aa2f-4d50-9414-55f6f2a93b11",
   "metadata": {},
   "outputs": [],
   "source": []
  }
 ],
 "metadata": {
  "kernelspec": {
   "display_name": "Python 3 (ipykernel)",
   "language": "python",
   "name": "python3"
  },
  "language_info": {
   "codemirror_mode": {
    "name": "ipython",
    "version": 3
   },
   "file_extension": ".py",
   "mimetype": "text/x-python",
   "name": "python",
   "nbconvert_exporter": "python",
   "pygments_lexer": "ipython3",
   "version": "3.10.10"
  }
 },
 "nbformat": 4,
 "nbformat_minor": 5
}
