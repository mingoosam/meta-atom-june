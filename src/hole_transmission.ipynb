{
 "cells": [
  {
   "cell_type": "code",
   "execution_count": 1,
   "id": "c605490d-93e3-407c-9dd1-f82294ebef82",
   "metadata": {},
   "outputs": [],
   "source": [
    "import os\n",
    "import pickle\n",
    "import shutil \n",
    "\n",
    "import meep as mp\n",
    "import numpy as np\n",
    "import matplotlib.pyplot as plt\n",
    "from tqdm import tqdm\n",
    "import math\n",
    "from IPython import embed"
   ]
  },
  {
   "cell_type": "code",
   "execution_count": 2,
   "id": "778feb02-7c72-4bdc-aeab-eaf1571ca658",
   "metadata": {},
   "outputs": [],
   "source": [
    "# set up simulation constants\n",
    "\n",
    "resolution = 20\n",
    "\n",
    "n_air = 1.0000003\n",
    "n_siox = 1.45\n",
    "a = 0.5   # lattice period \n",
    "\n",
    "#pml_thickness = round(wavelength / 2,3)\n",
    "pml_thickness = 0.780\n",
    "height_hole = 5\n",
    "height_siox = 5+0.780\n",
    "height_air = 0.3\n",
    "\n",
    "cell_x = a\n",
    "cell_y = a\n",
    "cell_z = round(2*pml_thickness + height_siox + height_air, 3)\n",
    "\n",
    "\n",
    "center_siox = round(pml_thickness + 0.5*height_siox- 0.5*cell_z, 3)\n",
    "center_hole = center_siox+0.780\n",
    "center_air = round(pml_thickness + height_siox + 0.5* height_air -0.5*cell_z,3)\n",
    "#center_air = round(0.5*(pml_thickness + height_air + height_hole) + (pml_thickness+height_siox)-0.5*cell_z,3)\n",
    "\n",
    "z_siox = pml_thickness+height_siox\n",
    "z_air = height_hole+height_air+pml_thickness\n",
    "\n",
    "\n",
    "#z_siox = pml_thickness + height_siox +height_space\n"
   ]
  },
  {
   "cell_type": "code",
   "execution_count": 3,
   "id": "31228b39-5217-43ec-9373-5ad0f96badb8",
   "metadata": {},
   "outputs": [],
   "source": [
    "\n",
    "\n",
    "geometry = [mp.Block(size=mp.Vector3(mp.inf,mp.inf,height_air), \n",
    "                  center=mp.Vector3(0,0,center_air),\n",
    "                  material=mp.Medium(index=n_air))]\n",
    "\n",
    "k_point = mp.Vector3(0,0,0)\n",
    "\n",
    "wavelength = 1.55\n",
    "freq = 1 / wavelength\n",
    "\n",
    "## initialize matrix for data collection ##\n",
    "##########################################\n",
    "\n",
    "num = 30 # this is the number of pillars we will build\n",
    "data = np.zeros((3,num))\n",
    "\n",
    "## set up and build source ##\n",
    "############################\n",
    "\n",
    "center_source = round(pml_thickness + height_siox*0.2 - 0.6*cell_z, 3) \n",
    "source_cmpt = mp.Ey\n",
    "\n",
    "sources = [mp.Source(mp.ContinuousSource(frequency=freq),\n",
    "                    component=source_cmpt,\n",
    "                    center=mp.Vector3(0,0,center_source),\n",
    "                    size=mp.Vector3(cell_x,cell_y,0))]\n",
    "\n"
   ]
  },
  {
   "cell_type": "code",
   "execution_count": 4,
   "id": "c704f6fb-0bab-4d83-8558-aae1b3bfcd0e",
   "metadata": {},
   "outputs": [
    {
     "name": "stderr",
     "output_type": "stream",
     "text": [
      "/home/june/miniconda3/envs/mp/lib/python3.11/site-packages/numpy/core/getlimits.py:518: UserWarning: The value of the smallest subnormal for <class 'numpy.float64'> type is zero.\n",
      "  setattr(self, word, getattr(machar, word).flat[0])\n",
      "/home/june/miniconda3/envs/mp/lib/python3.11/site-packages/numpy/core/getlimits.py:89: UserWarning: The value of the smallest subnormal for <class 'numpy.float64'> type is zero.\n",
      "  return self._float_to_str(self.smallest_subnormal)\n",
      "Warning: grid volume is not an integer number of pixels; cell size will be rounded to nearest pixel.\n"
     ]
    },
    {
     "name": "stdout",
     "output_type": "stream",
     "text": [
      "-0.15\n",
      "0.63\n",
      "2.89\n",
      "[<meep.geom.Block object at 0x7fb2ad791b90>, <meep.geom.Block object at 0x7fb2ad7c0ad0>]\n",
      "     block, center = (0,0,0.63)\n",
      "          size (1e+20,1e+20,5)\n",
      "          axes (1,0,0), (0,1,0), (0,0,1)\n",
      "          dielectric constant epsilon diagonal = (1,1,1)\n",
      "     block, center = (0,0,-0.15)\n",
      "          size (1e+20,1e+20,5.78)\n",
      "          axes (1,0,0), (0,1,0), (0,0,1)\n",
      "          dielectric constant epsilon diagonal = (1,1,1)\n"
     ]
    },
    {
     "data": {
      "image/png": "[encoded data removed]",
      "text/plain": [
       "<Figure size 1000x1000 with 1 Axes>"
      ]
     },
     "metadata": {},
     "output_type": "display_data"
    }
   ],
   "source": [
    "## Set up simulation ##\n",
    "######################\n",
    "\n",
    "cell_size = mp.Vector3(cell_x,cell_y,cell_z)\n",
    "pml_layers = [mp.PML(thickness = pml_thickness, direction = mp.Z)]\n",
    "\n",
    "if source_cmpt == mp.Ey:\n",
    "    symmetries = [mp.Mirror(mp.X, phase=+1), #epsilon has mirror symmetry in x and y, phase doesn't matter\n",
    "                  mp.Mirror(mp.Y, phase=-1)] #but sources have -1 phase when reflected normal to their direction\n",
    "elif src_cmpt == mp.Ex:                      #use of symmetries important here, significantly speeds up sim\n",
    "    symmetries = [mp.Mirror(mp.X, phase=-1),\n",
    "                  mp.Mirror(mp.Y, phase=+1)]\n",
    "elif src_cmpt == mp.Ez:\n",
    "    symmetries = [mp.Mirror(mp.X, phase=+1),\n",
    "                  mp.Mirror(mp.Y, phase=+1)]\n",
    "\n",
    "\n",
    "geometry=[mp.Block(size=mp.Vector3(mp.inf,mp.inf,height_air),\n",
    "                    center=mp.Vector3(0,0,center_air),\n",
    "                    material=mp.Medium(index=n_air))]\n",
    "\n",
    "geometry =[mp.Block(size=mp.Vector3(mp.inf,mp.inf,height_hole), \n",
    "                   center=mp.Vector3(0,0,center_hole),\n",
    "                   material=mp.Medium(index=n_air))]\n",
    "\n",
    "geometry.append(mp.Block(size=mp.Vector3(mp.inf,mp.inf,height_siox),\n",
    "                    center=mp.Vector3(0,0,center_siox),\n",
    "                     material=mp.Medium(index=n_air)))\n",
    "\n",
    "\n",
    "print(center_siox)\n",
    "print(center_hole)\n",
    "print(center_air)\n",
    "\n",
    "\n",
    "\n",
    "sim = mp.Simulation(cell_size=cell_size,\n",
    "                    geometry=geometry,\n",
    "                    sources=sources,\n",
    "                    k_point=k_point,\n",
    "                    boundary_layers=pml_layers,\n",
    "                    symmetries=symmetries,\n",
    "                    resolution=resolution)\n",
    "\n",
    "nfreq = 1\n",
    "df = 0\n",
    "fr_center = round(0.5*cell_z - pml_thickness - 0.7*height_air, 3)\n",
    "fr = mp.FluxRegion(center=mp.Vector3(0,0,fr_center), \n",
    "            size=mp.Vector3(cell_x, cell_y, 0))\n",
    "\n",
    "flux_object = sim.add_flux(freq, df, nfreq, fr)\n",
    "min = 0.0\n",
    "max = 0.245\n",
    "\n",
    "print (geometry)\n",
    "\n",
    "fig = plt.figure(figsize=(10,10))\n",
    "plot_plane = mp.Volume(center=mp.Vector3(0,0.0*a,0),\n",
    "                            size=mp.Vector3(a,0,cell_z))\n",
    "field_func = lambda x: 20*np.log10(np.abs(x))\n",
    "sim.plot2D(output_plane=plot_plane\n",
    "           #fields=mp.Ey\n",
    "           )\n",
    "plt.grid(False)\n",
    "fig.savefig(\"test.png\")\n"
   ]
  },
  {
   "cell_type": "code",
   "execution_count": 5,
   "id": "4331044a-3f95-4c8a-89f4-ff280bda1260",
   "metadata": {},
   "outputs": [
    {
     "name": "stderr",
     "output_type": "stream",
     "text": [
      "Warning: grid volume is not an integer number of pixels; cell size will be rounded to nearest pixel.\n"
     ]
    },
    {
     "name": "stdout",
     "output_type": "stream",
     "text": [
      "-----------\n",
      "Initializing structure...\n",
      "Halving computational cell along direction x\n",
      "Halving computational cell along direction y\n",
      "time for choose_chunkdivision = 0.000781059 s\n",
      "Working in 3D dimensions.\n",
      "Computational cell is 0.5 x 0.5 x 7.65 with resolution 20\n",
      "     block, center = (0,0,0.63)\n",
      "          size (1e+20,1e+20,5)\n",
      "          axes (1,0,0), (0,1,0), (0,0,1)\n",
      "          dielectric constant epsilon diagonal = (1,1,1)\n",
      "     block, center = (0,0,-0.15)\n",
      "          size (1e+20,1e+20,5.78)\n",
      "          axes (1,0,0), (0,1,0), (0,0,1)\n",
      "          dielectric constant epsilon diagonal = (1,1,1)\n",
      "time for set_epsilon = 0.0325301 s\n",
      "-----------\n"
     ]
    },
    {
     "data": {
      "application/vnd.jupyter.widget-view+json": {
       "model_id": "86bf2bc752fc457ba25f4f395fa8e46f",
       "version_major": 2,
       "version_minor": 0
      },
      "text/plain": [
       "FloatProgress(value=0.0, description='0% done ', max=200.0)"
      ]
     },
     "metadata": {},
     "output_type": "display_data"
    },
    {
     "name": "stdout",
     "output_type": "stream",
     "text": [
      "run 0 finished at t = 200.0 (8000 timesteps)\n"
     ]
    },
    {
     "name": "stderr",
     "output_type": "stream",
     "text": [
      "  0%|                                                 | 0/30 [00:00<?, ?it/s]Warning: grid volume is not an integer number of pixels; cell size will be rounded to nearest pixel.\n"
     ]
    },
    {
     "name": "stdout",
     "output_type": "stream",
     "text": [
      "-----------\n",
      "Initializing structure...\n",
      "Halving computational cell along direction x\n",
      "Halving computational cell along direction y\n",
      "time for choose_chunkdivision = 0.00100422 s\n",
      "Working in 3D dimensions.\n",
      "Computational cell is 0.5 x 0.5 x 7.65 with resolution 20\n",
      "     block, center = (0,0,0.63)\n",
      "          size (1e+20,1e+20,5)\n",
      "          axes (1,0,0), (0,1,0), (0,0,1)\n",
      "          dielectric constant epsilon diagonal = (2.1025,2.1025,2.1025)\n",
      "     block, center = (0,0,-0.15)\n",
      "          size (1e+20,1e+20,5.78)\n",
      "          axes (1,0,0), (0,1,0), (0,0,1)\n",
      "          dielectric constant epsilon diagonal = (2.1025,2.1025,2.1025)\n",
      "     cylinder, center = (0,0,0.63)\n",
      "          radius 0, height 5, axis (0, 0, 1)\n",
      "          dielectric constant epsilon diagonal = (1,1,1)\n",
      "time for set_epsilon = 0.0297122 s\n",
      "-----------\n"
     ]
    },
    {
     "data": {
      "application/vnd.jupyter.widget-view+json": {
       "model_id": "193d141791bb4e47976280c32c0fc800",
       "version_major": 2,
       "version_minor": 0
      },
      "text/plain": [
       "FloatProgress(value=0.0, description='0% done ', max=200.0)"
      ]
     },
     "metadata": {},
     "output_type": "display_data"
    },
    {
     "name": "stdout",
     "output_type": "stream",
     "text": [
      "run 0 finished at t = 200.0 (8000 timesteps)\n",
      "MPB solved for frequency_1(0,0,0.935484) = 0.645161 after 7 iters\n",
      "Dominant planewave for band 1: (0.000000,0.000000,0.935484)\n"
     ]
    },
    {
     "name": "stderr",
     "output_type": "stream",
     "text": [
      "  3%|█▎                                       | 1/30 [00:01<00:34,  1.18s/it]Warning: grid volume is not an integer number of pixels; cell size will be rounded to nearest pixel.\n"
     ]
    },
    {
     "name": "stdout",
     "output_type": "stream",
     "text": [
      "i= 0,radius=0.0\n",
      "-----------\n",
      "Initializing structure...\n",
      "Halving computational cell along direction x\n",
      "Halving computational cell along direction y\n",
      "time for choose_chunkdivision = 0.00131202 s\n",
      "Working in 3D dimensions.\n",
      "Computational cell is 0.5 x 0.5 x 7.65 with resolution 20\n",
      "     block, center = (0,0,0.63)\n",
      "          size (1e+20,1e+20,5)\n",
      "          axes (1,0,0), (0,1,0), (0,0,1)\n",
      "          dielectric constant epsilon diagonal = (2.1025,2.1025,2.1025)\n",
      "     block, center = (0,0,-0.15)\n",
      "          size (1e+20,1e+20,5.78)\n",
      "          axes (1,0,0), (0,1,0), (0,0,1)\n",
      "          dielectric constant epsilon diagonal = (2.1025,2.1025,2.1025)\n",
      "     cylinder, center = (0,0,0.63)\n",
      "          radius 0.00844828, height 5, axis (0, 0, 1)\n",
      "          dielectric constant epsilon diagonal = (1,1,1)\n",
      "time for set_epsilon = 0.0319839 s\n",
      "-----------\n"
     ]
    },
    {
     "data": {
      "application/vnd.jupyter.widget-view+json": {
       "model_id": "6228425defef49dcb4c6924ba510ae1a",
       "version_major": 2,
       "version_minor": 0
      },
      "text/plain": [
       "FloatProgress(value=0.0, description='0% done ', max=200.0)"
      ]
     },
     "metadata": {},
     "output_type": "display_data"
    },
    {
     "name": "stdout",
     "output_type": "stream",
     "text": [
      "run 0 finished at t = 200.0 (8000 timesteps)\n",
      "MPB solved for frequency_1(0,0,0.799968) = 0.551702 after 8 iters\n",
      "MPB solved for frequency_1(0,0,0.935484) = 0.645161 after 1 iters\n",
      "Dominant planewave for band 1: (0.000000,0.000000,0.935484)\n"
     ]
    },
    {
     "name": "stderr",
     "output_type": "stream",
     "text": [
      "  7%|██▋                                      | 2/30 [00:02<00:34,  1.23s/it]Warning: grid volume is not an integer number of pixels; cell size will be rounded to nearest pixel.\n"
     ]
    },
    {
     "name": "stdout",
     "output_type": "stream",
     "text": [
      "i= 1,radius=0.008448275862068965\n",
      "-----------\n",
      "Initializing structure...\n",
      "Halving computational cell along direction x\n",
      "Halving computational cell along direction y\n",
      "time for choose_chunkdivision = 0.000782013 s\n",
      "Working in 3D dimensions.\n",
      "Computational cell is 0.5 x 0.5 x 7.65 with resolution 20\n",
      "     block, center = (0,0,0.63)\n",
      "          size (1e+20,1e+20,5)\n",
      "          axes (1,0,0), (0,1,0), (0,0,1)\n",
      "          dielectric constant epsilon diagonal = (2.1025,2.1025,2.1025)\n",
      "     block, center = (0,0,-0.15)\n",
      "          size (1e+20,1e+20,5.78)\n",
      "          axes (1,0,0), (0,1,0), (0,0,1)\n",
      "          dielectric constant epsilon diagonal = (2.1025,2.1025,2.1025)\n",
      "     cylinder, center = (0,0,0.63)\n",
      "          radius 0.0168966, height 5, axis (0, 0, 1)\n",
      "          dielectric constant epsilon diagonal = (1,1,1)\n",
      "time for set_epsilon = 0.0306849 s\n",
      "-----------\n"
     ]
    },
    {
     "data": {
      "application/vnd.jupyter.widget-view+json": {
       "model_id": "8c42ca5650544b019e246d002ae0627c",
       "version_major": 2,
       "version_minor": 0
      },
      "text/plain": [
       "FloatProgress(value=0.0, description='0% done ', max=200.0)"
      ]
     },
     "metadata": {},
     "output_type": "display_data"
    },
    {
     "name": "stdout",
     "output_type": "stream",
     "text": [
      "run 0 finished at t = 200.0 (8000 timesteps)\n",
      "MPB solved for frequency_1(0,0,0.799968) = 0.551702 after 8 iters\n",
      "MPB solved for frequency_1(0,0,0.935484) = 0.645161 after 1 iters\n",
      "Dominant planewave for band 1: (0.000000,0.000000,0.935484)\n"
     ]
    },
    {
     "name": "stderr",
     "output_type": "stream",
     "text": [
      " 10%|████                                     | 3/30 [00:03<00:33,  1.22s/it]Warning: grid volume is not an integer number of pixels; cell size will be rounded to nearest pixel.\n"
     ]
    },
    {
     "name": "stdout",
     "output_type": "stream",
     "text": [
      "i= 2,radius=0.01689655172413793\n",
      "-----------\n",
      "Initializing structure...\n",
      "Halving computational cell along direction x\n",
      "Halving computational cell along direction y\n",
      "time for choose_chunkdivision = 0.00077486 s\n",
      "Working in 3D dimensions.\n",
      "Computational cell is 0.5 x 0.5 x 7.65 with resolution 20\n",
      "     block, center = (0,0,0.63)\n",
      "          size (1e+20,1e+20,5)\n",
      "          axes (1,0,0), (0,1,0), (0,0,1)\n",
      "          dielectric constant epsilon diagonal = (2.1025,2.1025,2.1025)\n",
      "     block, center = (0,0,-0.15)\n",
      "          size (1e+20,1e+20,5.78)\n",
      "          axes (1,0,0), (0,1,0), (0,0,1)\n",
      "          dielectric constant epsilon diagonal = (2.1025,2.1025,2.1025)\n",
      "     cylinder, center = (0,0,0.63)\n",
      "          radius 0.0253448, height 5, axis (0, 0, 1)\n",
      "          dielectric constant epsilon diagonal = (1,1,1)\n",
      "time for set_epsilon = 0.0537601 s\n",
      "-----------\n"
     ]
    },
    {
     "data": {
      "application/vnd.jupyter.widget-view+json": {
       "model_id": "cc30e676f3fa4975964ae89554787713",
       "version_major": 2,
       "version_minor": 0
      },
      "text/plain": [
       "FloatProgress(value=0.0, description='0% done ', max=200.0)"
      ]
     },
     "metadata": {},
     "output_type": "display_data"
    },
    {
     "name": "stdout",
     "output_type": "stream",
     "text": [
      "run 0 finished at t = 200.0 (8000 timesteps)\n",
      "MPB solved for frequency_1(0,0,0.725293) = 0.502081 after 7 iters\n",
      "MPB solved for frequency_1(0,0,0.931995) = 0.645157 after 5 iters\n",
      "MPB solved for frequency_1(0,0,0.932) = 0.645161 after 1 iters\n",
      "Dominant planewave for band 1: (0.000000,0.000000,0.932000)\n"
     ]
    },
    {
     "name": "stderr",
     "output_type": "stream",
     "text": [
      " 13%|█████▍                                   | 4/30 [00:04<00:32,  1.26s/it]Warning: grid volume is not an integer number of pixels; cell size will be rounded to nearest pixel.\n"
     ]
    },
    {
     "name": "stdout",
     "output_type": "stream",
     "text": [
      "i= 3,radius=0.025344827586206896\n",
      "-----------\n",
      "Initializing structure...\n",
      "Halving computational cell along direction x\n",
      "Halving computational cell along direction y\n",
      "time for choose_chunkdivision = 0.00108314 s\n",
      "Working in 3D dimensions.\n",
      "Computational cell is 0.5 x 0.5 x 7.65 with resolution 20\n",
      "     block, center = (0,0,0.63)\n",
      "          size (1e+20,1e+20,5)\n",
      "          axes (1,0,0), (0,1,0), (0,0,1)\n",
      "          dielectric constant epsilon diagonal = (2.1025,2.1025,2.1025)\n",
      "     block, center = (0,0,-0.15)\n",
      "          size (1e+20,1e+20,5.78)\n",
      "          axes (1,0,0), (0,1,0), (0,0,1)\n",
      "          dielectric constant epsilon diagonal = (2.1025,2.1025,2.1025)\n",
      "     cylinder, center = (0,0,0.63)\n",
      "          radius 0.0337931, height 5, axis (0, 0, 1)\n",
      "          dielectric constant epsilon diagonal = (1,1,1)\n",
      "time for set_epsilon = 0.0530529 s\n",
      "-----------\n"
     ]
    },
    {
     "data": {
      "application/vnd.jupyter.widget-view+json": {
       "model_id": "402085e84d0e4f5a9e7c0064ea7e3e26",
       "version_major": 2,
       "version_minor": 0
      },
      "text/plain": [
       "FloatProgress(value=0.0, description='0% done ', max=200.0)"
      ]
     },
     "metadata": {},
     "output_type": "display_data"
    },
    {
     "name": "stdout",
     "output_type": "stream",
     "text": [
      "run 0 finished at t = 200.0 (8000 timesteps)\n",
      "MPB solved for frequency_1(0,0,0.694534) = 0.481859 after 7 iters\n",
      "MPB solved for frequency_1(0,0,0.929942) = 0.64515 after 5 iters\n",
      "MPB solved for frequency_1(0,0,0.929959) = 0.645161 after 1 iters\n",
      "Dominant planewave for band 1: (0.000000,0.000000,0.929959)\n"
     ]
    },
    {
     "name": "stderr",
     "output_type": "stream",
     "text": [
      " 17%|██████▊                                  | 5/30 [00:06<00:31,  1.26s/it]Warning: grid volume is not an integer number of pixels; cell size will be rounded to nearest pixel.\n"
     ]
    },
    {
     "name": "stdout",
     "output_type": "stream",
     "text": [
      "i= 4,radius=0.03379310344827586\n",
      "-----------\n",
      "Initializing structure...\n",
      "Halving computational cell along direction x\n",
      "Halving computational cell along direction y\n",
      "time for choose_chunkdivision = 0.000921011 s\n",
      "Working in 3D dimensions.\n",
      "Computational cell is 0.5 x 0.5 x 7.65 with resolution 20\n",
      "     block, center = (0,0,0.63)\n",
      "          size (1e+20,1e+20,5)\n",
      "          axes (1,0,0), (0,1,0), (0,0,1)\n",
      "          dielectric constant epsilon diagonal = (2.1025,2.1025,2.1025)\n",
      "     block, center = (0,0,-0.15)\n",
      "          size (1e+20,1e+20,5.78)\n",
      "          axes (1,0,0), (0,1,0), (0,0,1)\n",
      "          dielectric constant epsilon diagonal = (2.1025,2.1025,2.1025)\n",
      "     cylinder, center = (0,0,0.63)\n",
      "          radius 0.0422414, height 5, axis (0, 0, 1)\n",
      "          dielectric constant epsilon diagonal = (1,1,1)\n",
      "time for set_epsilon = 0.084394 s\n",
      "-----------\n"
     ]
    },
    {
     "data": {
      "application/vnd.jupyter.widget-view+json": {
       "model_id": "e5abeabfdb204c009853735d3027fd71",
       "version_major": 2,
       "version_minor": 0
      },
      "text/plain": [
       "FloatProgress(value=0.0, description='0% done ', max=200.0)"
      ]
     },
     "metadata": {},
     "output_type": "display_data"
    },
    {
     "name": "stdout",
     "output_type": "stream",
     "text": [
      "run 0 finished at t = 200.0 (8000 timesteps)\n",
      "MPB solved for frequency_1(0,0,0.66992) = 0.466019 after 7 iters\n",
      "MPB solved for frequency_1(0,0,0.927502) = 0.645136 after 5 iters\n",
      "MPB solved for frequency_1(0,0,0.927538) = 0.645161 after 2 iters\n",
      "Dominant planewave for band 1: (0.000000,0.000000,0.927538)\n"
     ]
    },
    {
     "name": "stderr",
     "output_type": "stream",
     "text": [
      " 20%|████████▏                                | 6/30 [00:07<00:31,  1.30s/it]Warning: grid volume is not an integer number of pixels; cell size will be rounded to nearest pixel.\n"
     ]
    },
    {
     "name": "stdout",
     "output_type": "stream",
     "text": [
      "i= 5,radius=0.04224137931034482\n",
      "-----------\n",
      "Initializing structure...\n",
      "Halving computational cell along direction x\n",
      "Halving computational cell along direction y\n",
      "time for choose_chunkdivision = 0.000720024 s\n",
      "Working in 3D dimensions.\n",
      "Computational cell is 0.5 x 0.5 x 7.65 with resolution 20\n",
      "     block, center = (0,0,0.63)\n",
      "          size (1e+20,1e+20,5)\n",
      "          axes (1,0,0), (0,1,0), (0,0,1)\n",
      "          dielectric constant epsilon diagonal = (2.1025,2.1025,2.1025)\n",
      "     block, center = (0,0,-0.15)\n",
      "          size (1e+20,1e+20,5.78)\n",
      "          axes (1,0,0), (0,1,0), (0,0,1)\n",
      "          dielectric constant epsilon diagonal = (2.1025,2.1025,2.1025)\n",
      "     cylinder, center = (0,0,0.63)\n",
      "          radius 0.0506897, height 5, axis (0, 0, 1)\n",
      "          dielectric constant epsilon diagonal = (1,1,1)\n",
      "time for set_epsilon = 0.0714178 s\n",
      "-----------\n"
     ]
    },
    {
     "data": {
      "application/vnd.jupyter.widget-view+json": {
       "model_id": "3092786637f94c31a5d0238f79e001c6",
       "version_major": 2,
       "version_minor": 0
      },
      "text/plain": [
       "FloatProgress(value=0.0, description='0% done ', max=200.0)"
      ]
     },
     "metadata": {},
     "output_type": "display_data"
    },
    {
     "name": "stdout",
     "output_type": "stream",
     "text": [
      "run 0 finished at t = 200.0 (8000 timesteps)\n",
      "MPB solved for frequency_1(0,0,0.648803) = 0.452756 after 7 iters\n",
      "MPB solved for frequency_1(0,0,0.924621) = 0.645113 after 6 iters\n",
      "MPB solved for frequency_1(0,0,0.92469) = 0.645161 after 2 iters\n",
      "Dominant planewave for band 1: (0.000000,0.000000,0.924690)\n"
     ]
    },
    {
     "name": "stderr",
     "output_type": "stream",
     "text": [
      " 23%|█████████▌                               | 7/30 [00:08<00:29,  1.30s/it]Warning: grid volume is not an integer number of pixels; cell size will be rounded to nearest pixel.\n"
     ]
    },
    {
     "name": "stdout",
     "output_type": "stream",
     "text": [
      "i= 6,radius=0.05068965517241379\n",
      "-----------\n",
      "Initializing structure...\n",
      "Halving computational cell along direction x\n",
      "Halving computational cell along direction y\n",
      "time for choose_chunkdivision = 0.000617027 s\n",
      "Working in 3D dimensions.\n",
      "Computational cell is 0.5 x 0.5 x 7.65 with resolution 20\n",
      "     block, center = (0,0,0.63)\n",
      "          size (1e+20,1e+20,5)\n",
      "          axes (1,0,0), (0,1,0), (0,0,1)\n",
      "          dielectric constant epsilon diagonal = (2.1025,2.1025,2.1025)\n",
      "     block, center = (0,0,-0.15)\n",
      "          size (1e+20,1e+20,5.78)\n",
      "          axes (1,0,0), (0,1,0), (0,0,1)\n",
      "          dielectric constant epsilon diagonal = (2.1025,2.1025,2.1025)\n",
      "     cylinder, center = (0,0,0.63)\n",
      "          radius 0.0591379, height 5, axis (0, 0, 1)\n",
      "          dielectric constant epsilon diagonal = (1,1,1)\n",
      "time for set_epsilon = 0.086772 s\n",
      "-----------\n"
     ]
    },
    {
     "data": {
      "application/vnd.jupyter.widget-view+json": {
       "model_id": "73f46f88e95b4845b72dc9f6e126234f",
       "version_major": 2,
       "version_minor": 0
      },
      "text/plain": [
       "FloatProgress(value=0.0, description='0% done ', max=200.0)"
      ]
     },
     "metadata": {},
     "output_type": "display_data"
    },
    {
     "name": "stdout",
     "output_type": "stream",
     "text": [
      "run 0 finished at t = 200.0 (8000 timesteps)\n",
      "MPB solved for frequency_1(0,0,0.645161) = 0.452095 after 7 iters\n",
      "MPB solved for frequency_1(0,0,0.920833) = 0.645084 after 6 iters\n",
      "MPB solved for frequency_1(0,0,0.920944) = 0.645161 after 3 iters\n",
      "MPB solved for frequency_1(0,0,0.920944) = 0.645161 after 1 iters\n",
      "Dominant planewave for band 1: (0.000000,0.000000,0.920944)\n"
     ]
    },
    {
     "name": "stderr",
     "output_type": "stream",
     "text": [
      " 27%|██████████▉                              | 8/30 [00:10<00:29,  1.33s/it]Warning: grid volume is not an integer number of pixels; cell size will be rounded to nearest pixel.\n"
     ]
    },
    {
     "name": "stdout",
     "output_type": "stream",
     "text": [
      "i= 7,radius=0.059137931034482755\n",
      "-----------\n",
      "Initializing structure...\n",
      "Halving computational cell along direction x\n",
      "Halving computational cell along direction y\n",
      "time for choose_chunkdivision = 0.00125289 s\n",
      "Working in 3D dimensions.\n",
      "Computational cell is 0.5 x 0.5 x 7.65 with resolution 20\n",
      "     block, center = (0,0,0.63)\n",
      "          size (1e+20,1e+20,5)\n",
      "          axes (1,0,0), (0,1,0), (0,0,1)\n",
      "          dielectric constant epsilon diagonal = (2.1025,2.1025,2.1025)\n",
      "     block, center = (0,0,-0.15)\n",
      "          size (1e+20,1e+20,5.78)\n",
      "          axes (1,0,0), (0,1,0), (0,0,1)\n",
      "          dielectric constant epsilon diagonal = (2.1025,2.1025,2.1025)\n",
      "     cylinder, center = (0,0,0.63)\n",
      "          radius 0.0675862, height 5, axis (0, 0, 1)\n",
      "          dielectric constant epsilon diagonal = (1,1,1)\n",
      "time for set_epsilon = 0.0896611 s\n",
      "-----------\n"
     ]
    },
    {
     "data": {
      "application/vnd.jupyter.widget-view+json": {
       "model_id": "af40a2348b53416ba90cddacde7dcf69",
       "version_major": 2,
       "version_minor": 0
      },
      "text/plain": [
       "FloatProgress(value=0.0, description='0% done ', max=200.0)"
      ]
     },
     "metadata": {},
     "output_type": "display_data"
    },
    {
     "name": "stdout",
     "output_type": "stream",
     "text": [
      "run 0 finished at t = 200.0 (8000 timesteps)\n",
      "MPB solved for frequency_1(0,0,0.645161) = 0.454352 after 7 iters\n",
      "MPB solved for frequency_1(0,0,0.91634) = 0.645046 after 5 iters\n",
      "MPB solved for frequency_1(0,0,0.916504) = 0.645161 after 3 iters\n",
      "MPB solved for frequency_1(0,0,0.916504) = 0.645161 after 1 iters\n",
      "Dominant planewave for band 1: (0.000000,0.000000,0.916504)\n"
     ]
    },
    {
     "name": "stderr",
     "output_type": "stream",
     "text": [
      " 30%|████████████▎                            | 9/30 [00:11<00:28,  1.33s/it]Warning: grid volume is not an integer number of pixels; cell size will be rounded to nearest pixel.\n"
     ]
    },
    {
     "name": "stdout",
     "output_type": "stream",
     "text": [
      "i= 8,radius=0.06758620689655172\n",
      "-----------\n",
      "Initializing structure...\n",
      "Halving computational cell along direction x\n",
      "Halving computational cell along direction y\n",
      "time for choose_chunkdivision = 0.000533104 s\n",
      "Working in 3D dimensions.\n",
      "Computational cell is 0.5 x 0.5 x 7.65 with resolution 20\n",
      "     block, center = (0,0,0.63)\n",
      "          size (1e+20,1e+20,5)\n",
      "          axes (1,0,0), (0,1,0), (0,0,1)\n",
      "          dielectric constant epsilon diagonal = (2.1025,2.1025,2.1025)\n",
      "     block, center = (0,0,-0.15)\n",
      "          size (1e+20,1e+20,5.78)\n",
      "          axes (1,0,0), (0,1,0), (0,0,1)\n",
      "          dielectric constant epsilon diagonal = (2.1025,2.1025,2.1025)\n",
      "     cylinder, center = (0,0,0.63)\n",
      "          radius 0.0760345, height 5, axis (0, 0, 1)\n",
      "          dielectric constant epsilon diagonal = (1,1,1)\n",
      "time for set_epsilon = 0.096118 s\n",
      "-----------\n"
     ]
    },
    {
     "data": {
      "application/vnd.jupyter.widget-view+json": {
       "model_id": "243771c2d5084c028eed7eba08d8eecc",
       "version_major": 2,
       "version_minor": 0
      },
      "text/plain": [
       "FloatProgress(value=0.0, description='0% done ', max=200.0)"
      ]
     },
     "metadata": {},
     "output_type": "display_data"
    },
    {
     "name": "stdout",
     "output_type": "stream",
     "text": [
      "run 0 finished at t = 200.0 (8000 timesteps)\n",
      "MPB solved for frequency_1(0,0,0.645161) = 0.456999 after 7 iters\n",
      "MPB solved for frequency_1(0,0,0.911145) = 0.644997 after 6 iters\n",
      "MPB solved for frequency_1(0,0,0.911378) = 0.645161 after 3 iters\n",
      "MPB solved for frequency_1(0,0,0.911378) = 0.645161 after 1 iters\n",
      "Dominant planewave for band 1: (0.000000,0.000000,0.911378)\n"
     ]
    },
    {
     "name": "stderr",
     "output_type": "stream",
     "text": [
      " 33%|█████████████▎                          | 10/30 [00:12<00:26,  1.34s/it]Warning: grid volume is not an integer number of pixels; cell size will be rounded to nearest pixel.\n"
     ]
    },
    {
     "name": "stdout",
     "output_type": "stream",
     "text": [
      "i= 9,radius=0.07603448275862068\n",
      "-----------\n",
      "Initializing structure...\n",
      "Halving computational cell along direction x\n",
      "Halving computational cell along direction y\n",
      "time for choose_chunkdivision = 0.000822067 s\n",
      "Working in 3D dimensions.\n",
      "Computational cell is 0.5 x 0.5 x 7.65 with resolution 20\n",
      "     block, center = (0,0,0.63)\n",
      "          size (1e+20,1e+20,5)\n",
      "          axes (1,0,0), (0,1,0), (0,0,1)\n",
      "          dielectric constant epsilon diagonal = (2.1025,2.1025,2.1025)\n",
      "     block, center = (0,0,-0.15)\n",
      "          size (1e+20,1e+20,5.78)\n",
      "          axes (1,0,0), (0,1,0), (0,0,1)\n",
      "          dielectric constant epsilon diagonal = (2.1025,2.1025,2.1025)\n",
      "     cylinder, center = (0,0,0.63)\n",
      "          radius 0.0844828, height 5, axis (0, 0, 1)\n",
      "          dielectric constant epsilon diagonal = (1,1,1)\n",
      "time for set_epsilon = 0.102829 s\n",
      "-----------\n"
     ]
    },
    {
     "data": {
      "application/vnd.jupyter.widget-view+json": {
       "model_id": "c417ee28c087421eb7ec9a852a41048f",
       "version_major": 2,
       "version_minor": 0
      },
      "text/plain": [
       "FloatProgress(value=0.0, description='0% done ', max=200.0)"
      ]
     },
     "metadata": {},
     "output_type": "display_data"
    },
    {
     "name": "stdout",
     "output_type": "stream",
     "text": [
      "run 0 finished at t = 200.0 (8000 timesteps)\n",
      "MPB solved for frequency_1(0,0,0.645161) = 0.459791 after 7 iters\n",
      "MPB solved for frequency_1(0,0,0.905729) = 0.644948 after 6 iters\n",
      "MPB solved for frequency_1(0,0,0.90603) = 0.645161 after 3 iters\n",
      "MPB solved for frequency_1(0,0,0.90603) = 0.645161 after 1 iters\n",
      "Dominant planewave for band 1: (0.000000,0.000000,0.906030)\n"
     ]
    },
    {
     "name": "stderr",
     "output_type": "stream",
     "text": [
      " 37%|██████████████▋                         | 11/30 [00:14<00:25,  1.34s/it]Warning: grid volume is not an integer number of pixels; cell size will be rounded to nearest pixel.\n"
     ]
    },
    {
     "name": "stdout",
     "output_type": "stream",
     "text": [
      "i= 10,radius=0.08448275862068964\n",
      "-----------\n",
      "Initializing structure...\n",
      "Halving computational cell along direction x\n",
      "Halving computational cell along direction y\n",
      "time for choose_chunkdivision = 0.000674009 s\n",
      "Working in 3D dimensions.\n",
      "Computational cell is 0.5 x 0.5 x 7.65 with resolution 20\n",
      "     block, center = (0,0,0.63)\n",
      "          size (1e+20,1e+20,5)\n",
      "          axes (1,0,0), (0,1,0), (0,0,1)\n",
      "          dielectric constant epsilon diagonal = (2.1025,2.1025,2.1025)\n",
      "     block, center = (0,0,-0.15)\n",
      "          size (1e+20,1e+20,5.78)\n",
      "          axes (1,0,0), (0,1,0), (0,0,1)\n",
      "          dielectric constant epsilon diagonal = (2.1025,2.1025,2.1025)\n",
      "     cylinder, center = (0,0,0.63)\n",
      "          radius 0.092931, height 5, axis (0, 0, 1)\n",
      "          dielectric constant epsilon diagonal = (1,1,1)\n",
      "time for set_epsilon = 0.0829539 s\n",
      "-----------\n"
     ]
    },
    {
     "data": {
      "application/vnd.jupyter.widget-view+json": {
       "model_id": "555123dcad9d44ee98ed0b4d62117003",
       "version_major": 2,
       "version_minor": 0
      },
      "text/plain": [
       "FloatProgress(value=0.0, description='0% done ', max=200.0)"
      ]
     },
     "metadata": {},
     "output_type": "display_data"
    },
    {
     "name": "stdout",
     "output_type": "stream",
     "text": [
      "run 0 finished at t = 200.0 (8000 timesteps)\n",
      "MPB solved for frequency_1(0,0,0.645161) = 0.462616 after 7 iters\n",
      "MPB solved for frequency_1(0,0,0.900312) = 0.644901 after 6 iters\n",
      "MPB solved for frequency_1(0,0,0.900677) = 0.645161 after 3 iters\n",
      "MPB solved for frequency_1(0,0,0.900677) = 0.645161 after 1 iters\n",
      "Dominant planewave for band 1: (0.000000,0.000000,0.900677)\n"
     ]
    },
    {
     "name": "stderr",
     "output_type": "stream",
     "text": [
      " 40%|████████████████                        | 12/30 [00:15<00:24,  1.34s/it]Warning: grid volume is not an integer number of pixels; cell size will be rounded to nearest pixel.\n"
     ]
    },
    {
     "name": "stdout",
     "output_type": "stream",
     "text": [
      "i= 11,radius=0.0929310344827586\n",
      "-----------\n",
      "Initializing structure...\n",
      "Halving computational cell along direction x\n",
      "Halving computational cell along direction y\n",
      "time for choose_chunkdivision = 0.001127 s\n",
      "Working in 3D dimensions.\n",
      "Computational cell is 0.5 x 0.5 x 7.65 with resolution 20\n",
      "     block, center = (0,0,0.63)\n",
      "          size (1e+20,1e+20,5)\n",
      "          axes (1,0,0), (0,1,0), (0,0,1)\n",
      "          dielectric constant epsilon diagonal = (2.1025,2.1025,2.1025)\n",
      "     block, center = (0,0,-0.15)\n",
      "          size (1e+20,1e+20,5.78)\n",
      "          axes (1,0,0), (0,1,0), (0,0,1)\n",
      "          dielectric constant epsilon diagonal = (2.1025,2.1025,2.1025)\n",
      "     cylinder, center = (0,0,0.63)\n",
      "          radius 0.101379, height 5, axis (0, 0, 1)\n",
      "          dielectric constant epsilon diagonal = (1,1,1)\n",
      "time for set_epsilon = 0.0825078 s\n",
      "-----------\n"
     ]
    },
    {
     "data": {
      "application/vnd.jupyter.widget-view+json": {
       "model_id": "c6f083de8ee44d77a71c414657a53770",
       "version_major": 2,
       "version_minor": 0
      },
      "text/plain": [
       "FloatProgress(value=0.0, description='0% done ', max=200.0)"
      ]
     },
     "metadata": {},
     "output_type": "display_data"
    },
    {
     "name": "stdout",
     "output_type": "stream",
     "text": [
      "run 0 finished at t = 200.0 (8000 timesteps)\n",
      "MPB solved for frequency_1(0,0,0.645161) = 0.465676 after 7 iters\n",
      "MPB solved for frequency_1(0,0,0.894523) = 0.644853 after 6 iters\n",
      "MPB solved for frequency_1(0,0,0.894953) = 0.645161 after 3 iters\n",
      "MPB solved for frequency_1(0,0,0.894953) = 0.645161 after 1 iters\n",
      "Dominant planewave for band 1: (0.000000,0.000000,0.894953)\n"
     ]
    },
    {
     "name": "stderr",
     "output_type": "stream",
     "text": [
      " 43%|█████████████████▎                      | 13/30 [00:16<00:22,  1.33s/it]Warning: grid volume is not an integer number of pixels; cell size will be rounded to nearest pixel.\n"
     ]
    },
    {
     "name": "stdout",
     "output_type": "stream",
     "text": [
      "i= 12,radius=0.10137931034482758\n",
      "-----------\n",
      "Initializing structure...\n",
      "Halving computational cell along direction x\n",
      "Halving computational cell along direction y\n",
      "time for choose_chunkdivision = 0.000729084 s\n",
      "Working in 3D dimensions.\n",
      "Computational cell is 0.5 x 0.5 x 7.65 with resolution 20\n",
      "     block, center = (0,0,0.63)\n",
      "          size (1e+20,1e+20,5)\n",
      "          axes (1,0,0), (0,1,0), (0,0,1)\n",
      "          dielectric constant epsilon diagonal = (2.1025,2.1025,2.1025)\n",
      "     block, center = (0,0,-0.15)\n",
      "          size (1e+20,1e+20,5.78)\n",
      "          axes (1,0,0), (0,1,0), (0,0,1)\n",
      "          dielectric constant epsilon diagonal = (2.1025,2.1025,2.1025)\n",
      "     cylinder, center = (0,0,0.63)\n",
      "          radius 0.109828, height 5, axis (0, 0, 1)\n",
      "          dielectric constant epsilon diagonal = (1,1,1)\n",
      "time for set_epsilon = 0.079119 s\n",
      "-----------\n"
     ]
    },
    {
     "data": {
      "application/vnd.jupyter.widget-view+json": {
       "model_id": "1684c209d49947859368072dc5152d11",
       "version_major": 2,
       "version_minor": 0
      },
      "text/plain": [
       "FloatProgress(value=0.0, description='0% done ', max=200.0)"
      ]
     },
     "metadata": {},
     "output_type": "display_data"
    },
    {
     "name": "stdout",
     "output_type": "stream",
     "text": [
      "run 0 finished at t = 200.0 (8000 timesteps)\n",
      "MPB solved for frequency_1(0,0,0.645161) = 0.469378 after 7 iters\n",
      "MPB solved for frequency_1(0,0,0.8876) = 0.644805 after 6 iters\n",
      "MPB solved for frequency_1(0,0,0.888092) = 0.645161 after 4 iters\n",
      "MPB solved for frequency_1(0,0,0.888092) = 0.645161 after 1 iters\n",
      "Dominant planewave for band 1: (0.000000,0.000000,0.888092)\n"
     ]
    },
    {
     "name": "stderr",
     "output_type": "stream",
     "text": [
      " 47%|██████████████████▋                     | 14/30 [00:18<00:21,  1.31s/it]Warning: grid volume is not an integer number of pixels; cell size will be rounded to nearest pixel.\n"
     ]
    },
    {
     "name": "stdout",
     "output_type": "stream",
     "text": [
      "i= 13,radius=0.10982758620689655\n",
      "-----------\n",
      "Initializing structure...\n",
      "Halving computational cell along direction x\n",
      "Halving computational cell along direction y\n",
      "time for choose_chunkdivision = 0.000693798 s\n",
      "Working in 3D dimensions.\n",
      "Computational cell is 0.5 x 0.5 x 7.65 with resolution 20\n",
      "     block, center = (0,0,0.63)\n",
      "          size (1e+20,1e+20,5)\n",
      "          axes (1,0,0), (0,1,0), (0,0,1)\n",
      "          dielectric constant epsilon diagonal = (2.1025,2.1025,2.1025)\n",
      "     block, center = (0,0,-0.15)\n",
      "          size (1e+20,1e+20,5.78)\n",
      "          axes (1,0,0), (0,1,0), (0,0,1)\n",
      "          dielectric constant epsilon diagonal = (2.1025,2.1025,2.1025)\n",
      "     cylinder, center = (0,0,0.63)\n",
      "          radius 0.118276, height 5, axis (0, 0, 1)\n",
      "          dielectric constant epsilon diagonal = (1,1,1)\n",
      "time for set_epsilon = 0.074306 s\n",
      "-----------\n"
     ]
    },
    {
     "data": {
      "application/vnd.jupyter.widget-view+json": {
       "model_id": "0051096c793b4618bfb05da9d3b613ee",
       "version_major": 2,
       "version_minor": 0
      },
      "text/plain": [
       "FloatProgress(value=0.0, description='0% done ', max=200.0)"
      ]
     },
     "metadata": {},
     "output_type": "display_data"
    },
    {
     "name": "stdout",
     "output_type": "stream",
     "text": [
      "run 0 finished at t = 200.0 (8000 timesteps)\n",
      "MPB solved for frequency_1(0,0,0.645161) = 0.473543 after 7 iters\n",
      "MPB solved for frequency_1(0,0,0.879934) = 0.644758 after 6 iters\n",
      "MPB solved for frequency_1(0,0,0.880488) = 0.645161 after 4 iters\n",
      "MPB solved for frequency_1(0,0,0.880488) = 0.645161 after 1 iters\n",
      "Dominant planewave for band 1: (0.000000,0.000000,0.880488)\n"
     ]
    },
    {
     "name": "stderr",
     "output_type": "stream",
     "text": [
      " 50%|████████████████████                    | 15/30 [00:19<00:19,  1.30s/it]Warning: grid volume is not an integer number of pixels; cell size will be rounded to nearest pixel.\n"
     ]
    },
    {
     "name": "stdout",
     "output_type": "stream",
     "text": [
      "i= 14,radius=0.11827586206896551\n",
      "-----------\n",
      "Initializing structure...\n",
      "Halving computational cell along direction x\n",
      "Halving computational cell along direction y\n",
      "time for choose_chunkdivision = 0.000734091 s\n",
      "Working in 3D dimensions.\n",
      "Computational cell is 0.5 x 0.5 x 7.65 with resolution 20\n",
      "     block, center = (0,0,0.63)\n",
      "          size (1e+20,1e+20,5)\n",
      "          axes (1,0,0), (0,1,0), (0,0,1)\n",
      "          dielectric constant epsilon diagonal = (2.1025,2.1025,2.1025)\n",
      "     block, center = (0,0,-0.15)\n",
      "          size (1e+20,1e+20,5.78)\n",
      "          axes (1,0,0), (0,1,0), (0,0,1)\n",
      "          dielectric constant epsilon diagonal = (2.1025,2.1025,2.1025)\n",
      "     cylinder, center = (0,0,0.63)\n",
      "          radius 0.126724, height 5, axis (0, 0, 1)\n",
      "          dielectric constant epsilon diagonal = (1,1,1)\n",
      "time for set_epsilon = 0.0893059 s\n",
      "-----------\n"
     ]
    },
    {
     "data": {
      "application/vnd.jupyter.widget-view+json": {
       "model_id": "f423adc277ae48119951064c5eee9478",
       "version_major": 2,
       "version_minor": 0
      },
      "text/plain": [
       "FloatProgress(value=0.0, description='0% done ', max=200.0)"
      ]
     },
     "metadata": {},
     "output_type": "display_data"
    },
    {
     "name": "stdout",
     "output_type": "stream",
     "text": [
      "run 0 finished at t = 200.0 (8000 timesteps)\n",
      "MPB solved for frequency_1(0,0,0.645161) = 0.47815 after 7 iters\n",
      "MPB solved for frequency_1(0,0,0.87161) = 0.644711 after 6 iters\n",
      "MPB solved for frequency_1(0,0,0.872224) = 0.645161 after 3 iters\n",
      "MPB solved for frequency_1(0,0,0.872224) = 0.645161 after 1 iters\n",
      "Dominant planewave for band 1: (0.000000,0.000000,0.872224)\n"
     ]
    },
    {
     "name": "stderr",
     "output_type": "stream",
     "text": [
      " 53%|█████████████████████▎                  | 16/30 [00:20<00:18,  1.29s/it]Warning: grid volume is not an integer number of pixels; cell size will be rounded to nearest pixel.\n"
     ]
    },
    {
     "name": "stdout",
     "output_type": "stream",
     "text": [
      "i= 15,radius=0.12672413793103446\n",
      "-----------\n",
      "Initializing structure...\n",
      "Halving computational cell along direction x\n",
      "Halving computational cell along direction y\n",
      "time for choose_chunkdivision = 0.000764132 s\n",
      "Working in 3D dimensions.\n",
      "Computational cell is 0.5 x 0.5 x 7.65 with resolution 20\n",
      "     block, center = (0,0,0.63)\n",
      "          size (1e+20,1e+20,5)\n",
      "          axes (1,0,0), (0,1,0), (0,0,1)\n",
      "          dielectric constant epsilon diagonal = (2.1025,2.1025,2.1025)\n",
      "     block, center = (0,0,-0.15)\n",
      "          size (1e+20,1e+20,5.78)\n",
      "          axes (1,0,0), (0,1,0), (0,0,1)\n",
      "          dielectric constant epsilon diagonal = (2.1025,2.1025,2.1025)\n",
      "     cylinder, center = (0,0,0.63)\n",
      "          radius 0.135172, height 5, axis (0, 0, 1)\n",
      "          dielectric constant epsilon diagonal = (1,1,1)\n",
      "time for set_epsilon = 0.0963659 s\n",
      "-----------\n"
     ]
    },
    {
     "data": {
      "application/vnd.jupyter.widget-view+json": {
       "model_id": "7a7bd5cc787249269cd52a40565d35fc",
       "version_major": 2,
       "version_minor": 0
      },
      "text/plain": [
       "FloatProgress(value=0.0, description='0% done ', max=200.0)"
      ]
     },
     "metadata": {},
     "output_type": "display_data"
    },
    {
     "name": "stdout",
     "output_type": "stream",
     "text": [
      "run 0 finished at t = 200.0 (8000 timesteps)\n",
      "MPB solved for frequency_1(0,0,0.645161) = 0.482725 after 8 iters\n",
      "MPB solved for frequency_1(0,0,0.863467) = 0.644681 after 6 iters\n",
      "MPB solved for frequency_1(0,0,0.864116) = 0.645161 after 4 iters\n",
      "MPB solved for frequency_1(0,0,0.864116) = 0.645161 after 1 iters\n",
      "Dominant planewave for band 1: (0.000000,0.000000,0.864116)\n"
     ]
    },
    {
     "name": "stderr",
     "output_type": "stream",
     "text": [
      " 57%|██████████████████████▋                 | 17/30 [00:22<00:16,  1.29s/it]Warning: grid volume is not an integer number of pixels; cell size will be rounded to nearest pixel.\n"
     ]
    },
    {
     "name": "stdout",
     "output_type": "stream",
     "text": [
      "i= 16,radius=0.13517241379310344\n",
      "-----------\n",
      "Initializing structure...\n",
      "Halving computational cell along direction x\n",
      "Halving computational cell along direction y\n",
      "time for choose_chunkdivision = 0.000687122 s\n",
      "Working in 3D dimensions.\n",
      "Computational cell is 0.5 x 0.5 x 7.65 with resolution 20\n",
      "     block, center = (0,0,0.63)\n",
      "          size (1e+20,1e+20,5)\n",
      "          axes (1,0,0), (0,1,0), (0,0,1)\n",
      "          dielectric constant epsilon diagonal = (2.1025,2.1025,2.1025)\n",
      "     block, center = (0,0,-0.15)\n",
      "          size (1e+20,1e+20,5.78)\n",
      "          axes (1,0,0), (0,1,0), (0,0,1)\n",
      "          dielectric constant epsilon diagonal = (2.1025,2.1025,2.1025)\n",
      "     cylinder, center = (0,0,0.63)\n",
      "          radius 0.143621, height 5, axis (0, 0, 1)\n",
      "          dielectric constant epsilon diagonal = (1,1,1)\n",
      "time for set_epsilon = 0.0917311 s\n",
      "-----------\n"
     ]
    },
    {
     "data": {
      "application/vnd.jupyter.widget-view+json": {
       "model_id": "662613ec47994b748656fe68e020b0a9",
       "version_major": 2,
       "version_minor": 0
      },
      "text/plain": [
       "FloatProgress(value=0.0, description='0% done ', max=200.0)"
      ]
     },
     "metadata": {},
     "output_type": "display_data"
    },
    {
     "name": "stdout",
     "output_type": "stream",
     "text": [
      "run 0 finished at t = 200.0 (8000 timesteps)\n",
      "MPB solved for frequency_1(0,0,0.645161) = 0.487547 after 8 iters\n",
      "MPB solved for frequency_1(0,0,0.855023) = 0.644663 after 6 iters\n",
      "MPB solved for frequency_1(0,0,0.85569) = 0.645161 after 4 iters\n",
      "MPB solved for frequency_1(0,0,0.85569) = 0.645161 after 1 iters\n",
      "Dominant planewave for band 1: (0.000000,0.000000,0.855690)\n"
     ]
    },
    {
     "name": "stderr",
     "output_type": "stream",
     "text": [
      " 60%|████████████████████████                | 18/30 [00:23<00:15,  1.29s/it]Warning: grid volume is not an integer number of pixels; cell size will be rounded to nearest pixel.\n"
     ]
    },
    {
     "name": "stdout",
     "output_type": "stream",
     "text": [
      "i= 17,radius=0.1436206896551724\n",
      "-----------\n",
      "Initializing structure...\n",
      "Halving computational cell along direction x\n",
      "Halving computational cell along direction y\n",
      "time for choose_chunkdivision = 0.000782013 s\n",
      "Working in 3D dimensions.\n",
      "Computational cell is 0.5 x 0.5 x 7.65 with resolution 20\n",
      "     block, center = (0,0,0.63)\n",
      "          size (1e+20,1e+20,5)\n",
      "          axes (1,0,0), (0,1,0), (0,0,1)\n",
      "          dielectric constant epsilon diagonal = (2.1025,2.1025,2.1025)\n",
      "     block, center = (0,0,-0.15)\n",
      "          size (1e+20,1e+20,5.78)\n",
      "          axes (1,0,0), (0,1,0), (0,0,1)\n",
      "          dielectric constant epsilon diagonal = (2.1025,2.1025,2.1025)\n",
      "     cylinder, center = (0,0,0.63)\n",
      "          radius 0.152069, height 5, axis (0, 0, 1)\n",
      "          dielectric constant epsilon diagonal = (1,1,1)\n",
      "time for set_epsilon = 0.088702 s\n",
      "-----------\n"
     ]
    },
    {
     "data": {
      "application/vnd.jupyter.widget-view+json": {
       "model_id": "af4696a3b38e42debbfb24a2be6b8929",
       "version_major": 2,
       "version_minor": 0
      },
      "text/plain": [
       "FloatProgress(value=0.0, description='0% done ', max=200.0)"
      ]
     },
     "metadata": {},
     "output_type": "display_data"
    },
    {
     "name": "stdout",
     "output_type": "stream",
     "text": [
      "run 0 finished at t = 200.0 (8000 timesteps)\n",
      "MPB solved for frequency_1(0,0,0.645161) = 0.492798 after 7 iters\n",
      "MPB solved for frequency_1(0,0,0.845997) = 0.644654 after 6 iters\n",
      "MPB solved for frequency_1(0,0,0.846671) = 0.645161 after 4 iters\n",
      "MPB solved for frequency_1(0,0,0.846671) = 0.645161 after 1 iters\n",
      "Dominant planewave for band 1: (0.000000,0.000000,0.846671)\n"
     ]
    },
    {
     "name": "stderr",
     "output_type": "stream",
     "text": [
      " 63%|█████████████████████████▎              | 19/30 [00:24<00:14,  1.28s/it]Warning: grid volume is not an integer number of pixels; cell size will be rounded to nearest pixel.\n"
     ]
    },
    {
     "name": "stdout",
     "output_type": "stream",
     "text": [
      "i= 18,radius=0.15206896551724136\n",
      "-----------\n",
      "Initializing structure...\n",
      "Halving computational cell along direction x\n",
      "Halving computational cell along direction y\n",
      "time for choose_chunkdivision = 0.00136399 s\n",
      "Working in 3D dimensions.\n",
      "Computational cell is 0.5 x 0.5 x 7.65 with resolution 20\n",
      "     block, center = (0,0,0.63)\n",
      "          size (1e+20,1e+20,5)\n",
      "          axes (1,0,0), (0,1,0), (0,0,1)\n",
      "          dielectric constant epsilon diagonal = (2.1025,2.1025,2.1025)\n",
      "     block, center = (0,0,-0.15)\n",
      "          size (1e+20,1e+20,5.78)\n",
      "          axes (1,0,0), (0,1,0), (0,0,1)\n",
      "          dielectric constant epsilon diagonal = (2.1025,2.1025,2.1025)\n",
      "     cylinder, center = (0,0,0.63)\n",
      "          radius 0.160517, height 5, axis (0, 0, 1)\n",
      "          dielectric constant epsilon diagonal = (1,1,1)\n",
      "time for set_epsilon = 0.0883801 s\n",
      "-----------\n"
     ]
    },
    {
     "data": {
      "application/vnd.jupyter.widget-view+json": {
       "model_id": "c74f37ee72c64bb0a191424073c6b08f",
       "version_major": 2,
       "version_minor": 0
      },
      "text/plain": [
       "FloatProgress(value=0.0, description='0% done ', max=200.0)"
      ]
     },
     "metadata": {},
     "output_type": "display_data"
    },
    {
     "name": "stdout",
     "output_type": "stream",
     "text": [
      "run 0 finished at t = 200.0 (8000 timesteps)\n",
      "MPB solved for frequency_1(0,0,0.645161) = 0.49876 after 7 iters\n",
      "MPB solved for frequency_1(0,0,0.835934) = 0.64466 after 6 iters\n",
      "MPB solved for frequency_1(0,0,0.836591) = 0.645161 after 4 iters\n",
      "MPB solved for frequency_1(0,0,0.836591) = 0.645161 after 1 iters\n",
      "Dominant planewave for band 1: (0.000000,0.000000,0.836591)\n"
     ]
    },
    {
     "name": "stderr",
     "output_type": "stream",
     "text": [
      " 67%|██████████████████████████▋             | 20/30 [00:25<00:13,  1.30s/it]Warning: grid volume is not an integer number of pixels; cell size will be rounded to nearest pixel.\n"
     ]
    },
    {
     "name": "stdout",
     "output_type": "stream",
     "text": [
      "i= 19,radius=0.16051724137931034\n",
      "-----------\n",
      "Initializing structure...\n",
      "Halving computational cell along direction x\n",
      "Halving computational cell along direction y\n",
      "time for choose_chunkdivision = 0.000755072 s\n",
      "Working in 3D dimensions.\n",
      "Computational cell is 0.5 x 0.5 x 7.65 with resolution 20\n",
      "     block, center = (0,0,0.63)\n",
      "          size (1e+20,1e+20,5)\n",
      "          axes (1,0,0), (0,1,0), (0,0,1)\n",
      "          dielectric constant epsilon diagonal = (2.1025,2.1025,2.1025)\n",
      "     block, center = (0,0,-0.15)\n",
      "          size (1e+20,1e+20,5.78)\n",
      "          axes (1,0,0), (0,1,0), (0,0,1)\n",
      "          dielectric constant epsilon diagonal = (2.1025,2.1025,2.1025)\n",
      "     cylinder, center = (0,0,0.63)\n",
      "          radius 0.168966, height 5, axis (0, 0, 1)\n",
      "          dielectric constant epsilon diagonal = (1,1,1)\n",
      "time for set_epsilon = 0.0876338 s\n",
      "-----------\n"
     ]
    },
    {
     "data": {
      "application/vnd.jupyter.widget-view+json": {
       "model_id": "30e72ff0520249929b6a481121b98f8c",
       "version_major": 2,
       "version_minor": 0
      },
      "text/plain": [
       "FloatProgress(value=0.0, description='0% done ', max=200.0)"
      ]
     },
     "metadata": {},
     "output_type": "display_data"
    },
    {
     "name": "stdout",
     "output_type": "stream",
     "text": [
      "run 0 finished at t = 200.0 (8000 timesteps)\n",
      "MPB solved for frequency_1(0,0,0.645161) = 0.505184 after 7 iters\n",
      "MPB solved for frequency_1(0,0,0.825337) = 0.644677 after 5 iters\n",
      "MPB solved for frequency_1(0,0,0.825965) = 0.645161 after 3 iters\n",
      "MPB solved for frequency_1(0,0,0.825965) = 0.645161 after 1 iters\n",
      "Dominant planewave for band 1: (0.000000,0.000000,0.825965)\n"
     ]
    },
    {
     "name": "stderr",
     "output_type": "stream",
     "text": [
      " 70%|████████████████████████████            | 21/30 [00:27<00:11,  1.30s/it]Warning: grid volume is not an integer number of pixels; cell size will be rounded to nearest pixel.\n"
     ]
    },
    {
     "name": "stdout",
     "output_type": "stream",
     "text": [
      "i= 20,radius=0.1689655172413793\n",
      "-----------\n",
      "Initializing structure...\n",
      "Halving computational cell along direction x\n",
      "Halving computational cell along direction y\n",
      "time for choose_chunkdivision = 0.00142503 s\n",
      "Working in 3D dimensions.\n",
      "Computational cell is 0.5 x 0.5 x 7.65 with resolution 20\n",
      "     block, center = (0,0,0.63)\n",
      "          size (1e+20,1e+20,5)\n",
      "          axes (1,0,0), (0,1,0), (0,0,1)\n",
      "          dielectric constant epsilon diagonal = (2.1025,2.1025,2.1025)\n",
      "     block, center = (0,0,-0.15)\n",
      "          size (1e+20,1e+20,5.78)\n",
      "          axes (1,0,0), (0,1,0), (0,0,1)\n",
      "          dielectric constant epsilon diagonal = (2.1025,2.1025,2.1025)\n",
      "     cylinder, center = (0,0,0.63)\n",
      "          radius 0.177414, height 5, axis (0, 0, 1)\n",
      "          dielectric constant epsilon diagonal = (1,1,1)\n",
      "time for set_epsilon = 0.130868 s\n",
      "-----------\n"
     ]
    },
    {
     "data": {
      "application/vnd.jupyter.widget-view+json": {
       "model_id": "bb44b2f33068448c88df69f269616c6e",
       "version_major": 2,
       "version_minor": 0
      },
      "text/plain": [
       "FloatProgress(value=0.0, description='0% done ', max=200.0)"
      ]
     },
     "metadata": {},
     "output_type": "display_data"
    },
    {
     "name": "stdout",
     "output_type": "stream",
     "text": [
      "run 0 finished at t = 200.0 (8000 timesteps)\n",
      "MPB solved for frequency_1(0,0,0.645161) = 0.512254 after 7 iters\n",
      "MPB solved for frequency_1(0,0,0.81396) = 0.644702 after 6 iters\n",
      "MPB solved for frequency_1(0,0,0.814547) = 0.645161 after 4 iters\n",
      "MPB solved for frequency_1(0,0,0.814547) = 0.645161 after 1 iters\n",
      "Dominant planewave for band 1: (0.000000,0.000000,0.814547)\n"
     ]
    },
    {
     "name": "stderr",
     "output_type": "stream",
     "text": [
      " 73%|█████████████████████████████▎          | 22/30 [00:28<00:10,  1.31s/it]Warning: grid volume is not an integer number of pixels; cell size will be rounded to nearest pixel.\n"
     ]
    },
    {
     "name": "stdout",
     "output_type": "stream",
     "text": [
      "i= 21,radius=0.17741379310344826\n",
      "-----------\n",
      "Initializing structure...\n",
      "Halving computational cell along direction x\n",
      "Halving computational cell along direction y\n",
      "time for choose_chunkdivision = 0.000790119 s\n",
      "Working in 3D dimensions.\n",
      "Computational cell is 0.5 x 0.5 x 7.65 with resolution 20\n",
      "     block, center = (0,0,0.63)\n",
      "          size (1e+20,1e+20,5)\n",
      "          axes (1,0,0), (0,1,0), (0,0,1)\n",
      "          dielectric constant epsilon diagonal = (2.1025,2.1025,2.1025)\n",
      "     block, center = (0,0,-0.15)\n",
      "          size (1e+20,1e+20,5.78)\n",
      "          axes (1,0,0), (0,1,0), (0,0,1)\n",
      "          dielectric constant epsilon diagonal = (2.1025,2.1025,2.1025)\n",
      "     cylinder, center = (0,0,0.63)\n",
      "          radius 0.185862, height 5, axis (0, 0, 1)\n",
      "          dielectric constant epsilon diagonal = (1,1,1)\n",
      "time for set_epsilon = 0.093622 s\n",
      "-----------\n"
     ]
    },
    {
     "data": {
      "application/vnd.jupyter.widget-view+json": {
       "model_id": "54a1d447cc114b37b5a54c48be38d72b",
       "version_major": 2,
       "version_minor": 0
      },
      "text/plain": [
       "FloatProgress(value=0.0, description='0% done ', max=200.0)"
      ]
     },
     "metadata": {},
     "output_type": "display_data"
    },
    {
     "name": "stdout",
     "output_type": "stream",
     "text": [
      "run 0 finished at t = 200.0 (8000 timesteps)\n",
      "MPB solved for frequency_1(0,0,0.645161) = 0.519493 after 7 iters\n",
      "MPB solved for frequency_1(0,0,0.80258) = 0.644744 after 6 iters\n",
      "MPB solved for frequency_1(0,0,0.803107) = 0.645161 after 4 iters\n",
      "MPB solved for frequency_1(0,0,0.803107) = 0.645161 after 1 iters\n",
      "Dominant planewave for band 1: (0.000000,0.000000,0.803107)\n"
     ]
    },
    {
     "name": "stderr",
     "output_type": "stream",
     "text": [
      " 77%|██████████████████████████████▋         | 23/30 [00:29<00:09,  1.32s/it]Warning: grid volume is not an integer number of pixels; cell size will be rounded to nearest pixel.\n"
     ]
    },
    {
     "name": "stdout",
     "output_type": "stream",
     "text": [
      "i= 22,radius=0.1858620689655172\n",
      "-----------\n",
      "Initializing structure...\n",
      "Halving computational cell along direction x\n",
      "Halving computational cell along direction y\n",
      "time for choose_chunkdivision = 0.000859976 s\n",
      "Working in 3D dimensions.\n",
      "Computational cell is 0.5 x 0.5 x 7.65 with resolution 20\n",
      "     block, center = (0,0,0.63)\n",
      "          size (1e+20,1e+20,5)\n",
      "          axes (1,0,0), (0,1,0), (0,0,1)\n",
      "          dielectric constant epsilon diagonal = (2.1025,2.1025,2.1025)\n",
      "     block, center = (0,0,-0.15)\n",
      "          size (1e+20,1e+20,5.78)\n",
      "          axes (1,0,0), (0,1,0), (0,0,1)\n",
      "          dielectric constant epsilon diagonal = (2.1025,2.1025,2.1025)\n",
      "     cylinder, center = (0,0,0.63)\n",
      "          radius 0.19431, height 5, axis (0, 0, 1)\n",
      "          dielectric constant epsilon diagonal = (1,1,1)\n",
      "time for set_epsilon = 0.10694 s\n",
      "-----------\n"
     ]
    },
    {
     "data": {
      "application/vnd.jupyter.widget-view+json": {
       "model_id": "36ea55579b7241bc8d7baf1d3dd19a94",
       "version_major": 2,
       "version_minor": 0
      },
      "text/plain": [
       "FloatProgress(value=0.0, description='0% done ', max=200.0)"
      ]
     },
     "metadata": {},
     "output_type": "display_data"
    },
    {
     "name": "stdout",
     "output_type": "stream",
     "text": [
      "run 0 finished at t = 200.0 (8000 timesteps)\n",
      "MPB solved for frequency_1(0,0,0.645161) = 0.527228 after 7 iters\n",
      "MPB solved for frequency_1(0,0,0.790736) = 0.644794 after 6 iters\n",
      "MPB solved for frequency_1(0,0,0.791192) = 0.645161 after 3 iters\n",
      "MPB solved for frequency_1(0,0,0.791192) = 0.645161 after 1 iters\n",
      "Dominant planewave for band 1: (0.000000,0.000000,0.791192)\n"
     ]
    },
    {
     "name": "stderr",
     "output_type": "stream",
     "text": [
      " 80%|████████████████████████████████        | 24/30 [00:31<00:07,  1.31s/it]Warning: grid volume is not an integer number of pixels; cell size will be rounded to nearest pixel.\n"
     ]
    },
    {
     "name": "stdout",
     "output_type": "stream",
     "text": [
      "i= 23,radius=0.1943103448275862\n",
      "-----------\n",
      "Initializing structure...\n",
      "Halving computational cell along direction x\n",
      "Halving computational cell along direction y\n",
      "time for choose_chunkdivision = 0.000582933 s\n",
      "Working in 3D dimensions.\n",
      "Computational cell is 0.5 x 0.5 x 7.65 with resolution 20\n",
      "     block, center = (0,0,0.63)\n",
      "          size (1e+20,1e+20,5)\n",
      "          axes (1,0,0), (0,1,0), (0,0,1)\n",
      "          dielectric constant epsilon diagonal = (2.1025,2.1025,2.1025)\n",
      "     block, center = (0,0,-0.15)\n",
      "          size (1e+20,1e+20,5.78)\n",
      "          axes (1,0,0), (0,1,0), (0,0,1)\n",
      "          dielectric constant epsilon diagonal = (2.1025,2.1025,2.1025)\n",
      "     cylinder, center = (0,0,0.63)\n",
      "          radius 0.202759, height 5, axis (0, 0, 1)\n",
      "          dielectric constant epsilon diagonal = (1,1,1)\n",
      "time for set_epsilon = 0.126803 s\n",
      "-----------\n"
     ]
    },
    {
     "data": {
      "application/vnd.jupyter.widget-view+json": {
       "model_id": "49600348641c4ff8b3cb041fc3e140f6",
       "version_major": 2,
       "version_minor": 0
      },
      "text/plain": [
       "FloatProgress(value=0.0, description='0% done ', max=200.0)"
      ]
     },
     "metadata": {},
     "output_type": "display_data"
    },
    {
     "name": "stdout",
     "output_type": "stream",
     "text": [
      "run 0 finished at t = 200.0 (8000 timesteps)\n",
      "MPB solved for frequency_1(0,0,0.645161) = 0.535446 after 7 iters\n",
      "MPB solved for frequency_1(0,0,0.778505) = 0.64485 after 5 iters\n",
      "MPB solved for frequency_1(0,0,0.778885) = 0.645161 after 3 iters\n",
      "MPB solved for frequency_1(0,0,0.778885) = 0.645161 after 1 iters\n",
      "Dominant planewave for band 1: (0.000000,0.000000,0.778885)\n"
     ]
    },
    {
     "name": "stderr",
     "output_type": "stream",
     "text": [
      " 83%|█████████████████████████████████▎      | 25/30 [00:32<00:06,  1.31s/it]Warning: grid volume is not an integer number of pixels; cell size will be rounded to nearest pixel.\n"
     ]
    },
    {
     "name": "stdout",
     "output_type": "stream",
     "text": [
      "i= 24,radius=0.20275862068965517\n",
      "-----------\n",
      "Initializing structure...\n",
      "Halving computational cell along direction x\n",
      "Halving computational cell along direction y\n",
      "time for choose_chunkdivision = 0.000900984 s\n",
      "Working in 3D dimensions.\n",
      "Computational cell is 0.5 x 0.5 x 7.65 with resolution 20\n",
      "     block, center = (0,0,0.63)\n",
      "          size (1e+20,1e+20,5)\n",
      "          axes (1,0,0), (0,1,0), (0,0,1)\n",
      "          dielectric constant epsilon diagonal = (2.1025,2.1025,2.1025)\n",
      "     block, center = (0,0,-0.15)\n",
      "          size (1e+20,1e+20,5.78)\n",
      "          axes (1,0,0), (0,1,0), (0,0,1)\n",
      "          dielectric constant epsilon diagonal = (2.1025,2.1025,2.1025)\n",
      "     cylinder, center = (0,0,0.63)\n",
      "          radius 0.211207, height 5, axis (0, 0, 1)\n",
      "          dielectric constant epsilon diagonal = (1,1,1)\n",
      "time for set_epsilon = 0.12117 s\n",
      "-----------\n"
     ]
    },
    {
     "data": {
      "application/vnd.jupyter.widget-view+json": {
       "model_id": "92a0bc37b7064e83ad7ca31c2be67ab3",
       "version_major": 2,
       "version_minor": 0
      },
      "text/plain": [
       "FloatProgress(value=0.0, description='0% done ', max=200.0)"
      ]
     },
     "metadata": {},
     "output_type": "display_data"
    },
    {
     "name": "stdout",
     "output_type": "stream",
     "text": [
      "run 0 finished at t = 200.0 (8000 timesteps)\n",
      "MPB solved for frequency_1(0,0,0.645161) = 0.544522 after 7 iters\n",
      "MPB solved for frequency_1(0,0,0.765405) = 0.644911 after 5 iters\n",
      "MPB solved for frequency_1(0,0,0.765706) = 0.645161 after 3 iters\n",
      "MPB solved for frequency_1(0,0,0.765706) = 0.645161 after 1 iters\n",
      "Dominant planewave for band 1: (0.000000,0.000000,0.765706)\n"
     ]
    },
    {
     "name": "stderr",
     "output_type": "stream",
     "text": [
      " 87%|██████████████████████████████████▋     | 26/30 [00:33<00:05,  1.33s/it]Warning: grid volume is not an integer number of pixels; cell size will be rounded to nearest pixel.\n"
     ]
    },
    {
     "name": "stdout",
     "output_type": "stream",
     "text": [
      "i= 25,radius=0.21120689655172412\n",
      "-----------\n",
      "Initializing structure...\n",
      "Halving computational cell along direction x\n",
      "Halving computational cell along direction y\n",
      "time for choose_chunkdivision = 0.000769138 s\n",
      "Working in 3D dimensions.\n",
      "Computational cell is 0.5 x 0.5 x 7.65 with resolution 20\n",
      "     block, center = (0,0,0.63)\n",
      "          size (1e+20,1e+20,5)\n",
      "          axes (1,0,0), (0,1,0), (0,0,1)\n",
      "          dielectric constant epsilon diagonal = (2.1025,2.1025,2.1025)\n",
      "     block, center = (0,0,-0.15)\n",
      "          size (1e+20,1e+20,5.78)\n",
      "          axes (1,0,0), (0,1,0), (0,0,1)\n",
      "          dielectric constant epsilon diagonal = (2.1025,2.1025,2.1025)\n",
      "     cylinder, center = (0,0,0.63)\n",
      "          radius 0.219655, height 5, axis (0, 0, 1)\n",
      "          dielectric constant epsilon diagonal = (1,1,1)\n",
      "time for set_epsilon = 0.122256 s\n",
      "-----------\n"
     ]
    },
    {
     "data": {
      "application/vnd.jupyter.widget-view+json": {
       "model_id": "9f047169f0144a709ab7365a7eea3095",
       "version_major": 2,
       "version_minor": 0
      },
      "text/plain": [
       "FloatProgress(value=0.0, description='0% done ', max=200.0)"
      ]
     },
     "metadata": {},
     "output_type": "display_data"
    },
    {
     "name": "stdout",
     "output_type": "stream",
     "text": [
      "run 0 finished at t = 200.0 (8000 timesteps)\n",
      "MPB solved for frequency_1(0,0,0.645161) = 0.554629 after 8 iters\n",
      "MPB solved for frequency_1(0,0,0.751316) = 0.644971 after 5 iters\n",
      "MPB solved for frequency_1(0,0,0.75154) = 0.645161 after 3 iters\n",
      "MPB solved for frequency_1(0,0,0.75154) = 0.645161 after 1 iters\n",
      "Dominant planewave for band 1: (0.000000,0.000000,0.751540)\n"
     ]
    },
    {
     "name": "stderr",
     "output_type": "stream",
     "text": [
      " 90%|████████████████████████████████████    | 27/30 [00:35<00:04,  1.33s/it]Warning: grid volume is not an integer number of pixels; cell size will be rounded to nearest pixel.\n"
     ]
    },
    {
     "name": "stdout",
     "output_type": "stream",
     "text": [
      "i= 26,radius=0.2196551724137931\n",
      "-----------\n",
      "Initializing structure...\n",
      "Halving computational cell along direction x\n",
      "Halving computational cell along direction y\n",
      "time for choose_chunkdivision = 0.000681877 s\n",
      "Working in 3D dimensions.\n",
      "Computational cell is 0.5 x 0.5 x 7.65 with resolution 20\n",
      "     block, center = (0,0,0.63)\n",
      "          size (1e+20,1e+20,5)\n",
      "          axes (1,0,0), (0,1,0), (0,0,1)\n",
      "          dielectric constant epsilon diagonal = (2.1025,2.1025,2.1025)\n",
      "     block, center = (0,0,-0.15)\n",
      "          size (1e+20,1e+20,5.78)\n",
      "          axes (1,0,0), (0,1,0), (0,0,1)\n",
      "          dielectric constant epsilon diagonal = (2.1025,2.1025,2.1025)\n",
      "     cylinder, center = (0,0,0.63)\n",
      "          radius 0.228103, height 5, axis (0, 0, 1)\n",
      "          dielectric constant epsilon diagonal = (1,1,1)\n",
      "time for set_epsilon = 0.10119 s\n",
      "-----------\n"
     ]
    },
    {
     "data": {
      "application/vnd.jupyter.widget-view+json": {
       "model_id": "cfd4276a64bb46839d27b9bb40e8600e",
       "version_major": 2,
       "version_minor": 0
      },
      "text/plain": [
       "FloatProgress(value=0.0, description='0% done ', max=200.0)"
      ]
     },
     "metadata": {},
     "output_type": "display_data"
    },
    {
     "name": "stdout",
     "output_type": "stream",
     "text": [
      "run 0 finished at t = 200.0 (8000 timesteps)\n",
      "MPB solved for frequency_1(0,0,0.645161) = 0.565194 after 8 iters\n",
      "MPB solved for frequency_1(0,0,0.737129) = 0.645025 after 5 iters\n",
      "MPB solved for frequency_1(0,0,0.737286) = 0.645161 after 3 iters\n",
      "MPB solved for frequency_1(0,0,0.737286) = 0.645161 after 1 iters\n",
      "Dominant planewave for band 1: (0.000000,0.000000,0.737286)\n"
     ]
    },
    {
     "name": "stderr",
     "output_type": "stream",
     "text": [
      " 93%|█████████████████████████████████████▎  | 28/30 [00:36<00:02,  1.33s/it]Warning: grid volume is not an integer number of pixels; cell size will be rounded to nearest pixel.\n"
     ]
    },
    {
     "name": "stdout",
     "output_type": "stream",
     "text": [
      "i= 27,radius=0.22810344827586204\n",
      "-----------\n",
      "Initializing structure...\n",
      "Halving computational cell along direction x\n",
      "Halving computational cell along direction y\n",
      "time for choose_chunkdivision = 0.000751019 s\n",
      "Working in 3D dimensions.\n",
      "Computational cell is 0.5 x 0.5 x 7.65 with resolution 20\n",
      "     block, center = (0,0,0.63)\n",
      "          size (1e+20,1e+20,5)\n",
      "          axes (1,0,0), (0,1,0), (0,0,1)\n",
      "          dielectric constant epsilon diagonal = (2.1025,2.1025,2.1025)\n",
      "     block, center = (0,0,-0.15)\n",
      "          size (1e+20,1e+20,5.78)\n",
      "          axes (1,0,0), (0,1,0), (0,0,1)\n",
      "          dielectric constant epsilon diagonal = (2.1025,2.1025,2.1025)\n",
      "     cylinder, center = (0,0,0.63)\n",
      "          radius 0.236552, height 5, axis (0, 0, 1)\n",
      "          dielectric constant epsilon diagonal = (1,1,1)\n",
      "time for set_epsilon = 0.105835 s\n",
      "-----------\n"
     ]
    },
    {
     "data": {
      "application/vnd.jupyter.widget-view+json": {
       "model_id": "159fc753772c424696791ea8d486acf0",
       "version_major": 2,
       "version_minor": 0
      },
      "text/plain": [
       "FloatProgress(value=0.0, description='0% done ', max=200.0)"
      ]
     },
     "metadata": {},
     "output_type": "display_data"
    },
    {
     "name": "stdout",
     "output_type": "stream",
     "text": [
      "run 0 finished at t = 200.0 (8000 timesteps)\n",
      "MPB solved for frequency_1(0,0,0.645161) = 0.573666 after 9 iters\n",
      "MPB solved for frequency_1(0,0,0.726118) = 0.645063 after 6 iters\n",
      "MPB solved for frequency_1(0,0,0.72623) = 0.645161 after 3 iters\n",
      "MPB solved for frequency_1(0,0,0.72623) = 0.645161 after 1 iters\n",
      "Dominant planewave for band 1: (0.000000,0.000000,0.726230)\n"
     ]
    },
    {
     "name": "stderr",
     "output_type": "stream",
     "text": [
      " 97%|██████████████████████████████████████▋ | 29/30 [00:37<00:01,  1.34s/it]Warning: grid volume is not an integer number of pixels; cell size will be rounded to nearest pixel.\n"
     ]
    },
    {
     "name": "stdout",
     "output_type": "stream",
     "text": [
      "i= 28,radius=0.23655172413793102\n",
      "-----------\n",
      "Initializing structure...\n",
      "Halving computational cell along direction x\n",
      "Halving computational cell along direction y\n",
      "time for choose_chunkdivision = 0.000815868 s\n",
      "Working in 3D dimensions.\n",
      "Computational cell is 0.5 x 0.5 x 7.65 with resolution 20\n",
      "     block, center = (0,0,0.63)\n",
      "          size (1e+20,1e+20,5)\n",
      "          axes (1,0,0), (0,1,0), (0,0,1)\n",
      "          dielectric constant epsilon diagonal = (2.1025,2.1025,2.1025)\n",
      "     block, center = (0,0,-0.15)\n",
      "          size (1e+20,1e+20,5.78)\n",
      "          axes (1,0,0), (0,1,0), (0,0,1)\n",
      "          dielectric constant epsilon diagonal = (2.1025,2.1025,2.1025)\n",
      "     cylinder, center = (0,0,0.63)\n",
      "          radius 0.245, height 5, axis (0, 0, 1)\n",
      "          dielectric constant epsilon diagonal = (1,1,1)\n",
      "time for set_epsilon = 0.103278 s\n",
      "-----------\n"
     ]
    },
    {
     "data": {
      "application/vnd.jupyter.widget-view+json": {
       "model_id": "a28df7c62d5f4d9a9a90df152bc48f13",
       "version_major": 2,
       "version_minor": 0
      },
      "text/plain": [
       "FloatProgress(value=0.0, description='0% done ', max=200.0)"
      ]
     },
     "metadata": {},
     "output_type": "display_data"
    },
    {
     "name": "stdout",
     "output_type": "stream",
     "text": [
      "run 0 finished at t = 200.0 (8000 timesteps)\n",
      "MPB solved for frequency_1(0,0,0.645161) = 0.581305 after 9 iters\n",
      "MPB solved for frequency_1(0,0,0.716471) = 0.645092 after 6 iters\n",
      "MPB solved for frequency_1(0,0,0.716549) = 0.645161 after 3 iters\n",
      "MPB solved for frequency_1(0,0,0.716549) = 0.645161 after 1 iters\n",
      "Dominant planewave for band 1: (0.000000,0.000000,0.716549)\n"
     ]
    },
    {
     "name": "stderr",
     "output_type": "stream",
     "text": [
      "                                                                             \r"
     ]
    }
   ],
   "source": [
    "sim.run(until=200)\n",
    "\n",
    "initial_flux = mp.get_fluxes(flux_object)[0]     # initial flux\n",
    "sim.reset_meep()\n",
    "\n",
    "geometry =[mp.Block(size=mp.Vector3(mp.inf,mp.inf,height_hole), \n",
    "                   center=mp.Vector3(0,0,center_hole),\n",
    "                   material=mp.Medium(index=n_siox))]\n",
    "\n",
    "geometry.append(mp.Block(size=mp.Vector3(mp.inf,mp.inf,height_siox),\n",
    "                    center=mp.Vector3(0,0,center_siox),\n",
    "                     material=mp.Medium(index=n_siox)))\n",
    "\n",
    "pbar = tqdm(total=num,leave=False)\n",
    "for i,radius in enumerate(np.linspace(min,max,num=num)):\n",
    "\n",
    "    geometry.append(mp.Cylinder(radius=radius,\n",
    "                        height=height_hole,\n",
    "                        axis=mp.Vector3(0,0,1),\n",
    "                        center=mp.Vector3(0,0,center_hole),\n",
    "                        material=mp.Medium(index=n_air)))\n",
    "\n",
    "    \n",
    "                                \n",
    "    #geometry=mp.Cylinder(radius=radius,\n",
    "\n",
    "\n",
    "    sim = mp.Simulation(cell_size=cell_size,\n",
    "                        geometry=geometry,\n",
    "                        sources=sources,\n",
    "                        k_point=k_point,\n",
    "                        boundary_layers=pml_layers,\n",
    "                        symmetries=symmetries,\n",
    "                        resolution=resolution)\n",
    "\n",
    "    flux_object = sim.add_flux(freq, df, nfreq, fr)  \n",
    "\n",
    "    sim.run(until=200)\n",
    "    \n",
    "    res = sim.get_eigenmode_coefficients(flux_object, [1], eig_parity=mp.ODD_Y)\n",
    "    coeffs = res.alpha\n",
    "\n",
    "    flux = abs(coeffs[0,0,0]**2)\n",
    "    phase = np.angle(coeffs[0,0,0]) \n",
    "    \n",
    "    data[0,i] = radius\n",
    "    data[1,i] = flux\n",
    "    data[2,i] = phase\n",
    "\n",
    "    \n",
    "    if(radius!=max):\n",
    "        sim.reset_meep()\n",
    "        print(f\"i= {i},radius={radius}\")\n",
    "        geometry.pop(-1)\n",
    "    pbar.update(1)\n",
    "pbar.close()\n",
    "\n",
    "                            \n"
   ]
  },
  {
   "cell_type": "code",
   "execution_count": 6,
   "id": "d6587db8-f6d1-4988-8193-e8c14ce0353c",
   "metadata": {},
   "outputs": [
    {
     "name": "stderr",
     "output_type": "stream",
     "text": [
      "Warning: grid volume is not an integer number of pixels; cell size will be rounded to nearest pixel.\n"
     ]
    },
    {
     "name": "stdout",
     "output_type": "stream",
     "text": [
      "     block, center = (0,0,0.63)\n",
      "          size (1e+20,1e+20,5)\n",
      "          axes (1,0,0), (0,1,0), (0,0,1)\n",
      "          dielectric constant epsilon diagonal = (2.1025,2.1025,2.1025)\n",
      "     block, center = (0,0,-0.15)\n",
      "          size (1e+20,1e+20,5.78)\n",
      "          axes (1,0,0), (0,1,0), (0,0,1)\n",
      "          dielectric constant epsilon diagonal = (2.1025,2.1025,2.1025)\n",
      "     cylinder, center = (0,0,0.63)\n",
      "          radius 0.245, height 5, axis (0, 0, 1)\n",
      "          dielectric constant epsilon diagonal = (1,1,1)\n"
     ]
    },
    {
     "data": {
      "image/png": "[encoded data removed]",
      "text/plain": [
       "<Figure size 1000x1000 with 1 Axes>"
      ]
     },
     "metadata": {},
     "output_type": "display_data"
    }
   ],
   "source": [
    "# plot an x-z cross section\n",
    "\n",
    "plt.figure(figsize=(10,10))\n",
    "plot_plane = mp.Volume(center=mp.Vector3(0,0.0*a,0),\n",
    "                            size=mp.Vector3(a,0,cell_z))\n",
    "field_func = lambda x: 20*np.log10(np.abs(x))\n",
    "sim.plot2D(output_plane=plot_plane\n",
    "           #fields=mp.Ey\n",
    "           )\n",
    "plt.grid(False)"
   ]
  },
  {
   "cell_type": "code",
   "execution_count": 7,
   "id": "13b10767-b10c-458b-b8b7-e49e2fbc503f",
   "metadata": {
    "scrolled": true
   },
   "outputs": [
    {
     "data": {
      "image/png": "[encoded data removed]",
      "text/plain": [
       "<Figure size 800x500 with 2 Axes>"
      ]
     },
     "metadata": {},
     "output_type": "display_data"
    }
   ],
   "source": [
    "radii = data[0,:]\n",
    "flux_list = data[1,0:] / initial_flux\n",
    "phase_list = data[2,0:]\n",
    "\n",
    "#plt.style.use('seaborn')\n",
    "\n",
    "results = {\"radii\": radii, \"flux\": flux_list, \"phase\": phase_list}\n",
    "# this section plots radius vs. phas and transmission\n",
    "\n",
    "tickfontsize=22\n",
    "labelfontsize=26\n",
    "titlefontsize=30\n",
    "\n",
    "fig,ax = plt.subplots(figsize=(8,5)) # may want to change. Also see DPI keyword\n",
    "\n",
    "fig.suptitle(\"Meta-atom Transmission\",fontsize=titlefontsize)\n",
    "\n",
    "#ax.set_title(\"Transmission Magnitude\",fontsize=titlefontsize)\n",
    "\n",
    "ax.set_xlabel(\"Radius (nm)\",fontsize=labelfontsize)\n",
    "ax.set_xticks([0.000,0.050,0.100,0.150,0.200,0.250])\n",
    "ax.set_xticklabels([0,50,100,150,200,250],fontsize=tickfontsize)\n",
    "ax.set_ylim([0,1])\n",
    "ax.set_ylabel(r'Percent Transmitted ($\\%$)',fontsize=labelfontsize, color = 'blue')\n",
    "#ax.plot(radii,flux_list,'b',label='Transmission')\n",
    "ax.plot(radii, flux_list, 'b', label='Transmission')\n",
    "ax.tick_params(axis='y', labelcolor = 'blue')\n",
    "\n",
    "ax.set_yticks([0,0.2,0.4,0.6,0.8,1])\n",
    "ax.set_yticklabels([0, 20,40,60,80,100],fontsize=tickfontsize)\n",
    "#ax.set_yticks([0.6,0.7,0.8,0.9,1])\n",
    "#ax.set_yticklabels([60,70,80,90,100],fontsize=ticgit config --global user.email \"you@example.com\"kfontsize)\n",
    "\n",
    "twin1 = ax.twinx()\n",
    "#ax[1].set_title(\"Transmission Phase\",fontsize=titlefontsize)S\n",
    "#ax[1].set_xlabel(\"Radius (nm)\",fontsize=labelfontsize)\n",
    "#ax[1].set_xticks([0.075,0.100,0.125,0.150,0.175,0.200,0.225,0.250])cd meep\n",
    "\n",
    "#ax[1].set_xticklabels([75,100,125,150,175,200,225,250],fontsize=tickfontsize)\n",
    "twin1.set_ylim([-np.pi,np.pi])\n",
    "twin1.set_ylabel(r'Phase Delay (rad)',fontsize=labelfontsize, color = 'red')\n",
    "twin1.set_yticks([-np.pi, -(0.5*np.pi),0, np.pi / 2, np.pi])\n",
    "twin1.set_yticklabels([r'-$\\pi$',r'-$\\frac{\\pi}{2}$',r'0',r'$\\frac{\\pi}{2}$',r'$\\pi$'],fontsize=tickfontsize+4)\n",
    "twin1.plot(radii,phase_list,'r',label='Phase')\n",
    "twin1.tick_params(axis='y', labelcolor = 'red')\n",
    "#ax[1].legend(loc=\"upper right\")\n",
    "#plt.legend(loc=\"upper right\")\n",
    "plt.grid(False)\n",
    "plt.tight_layout()\n",
    "\n",
    "\n",
    "\n"
   ]
  },
  {
   "cell_type": "code",
   "execution_count": 8,
   "id": "16b400f9-fb1e-4f2c-8ab9-9e758c25fc69",
   "metadata": {},
   "outputs": [
    {
     "name": "stdout",
     "output_type": "stream",
     "text": [
      "[0.         0.00844828 0.01689655 0.02534483 0.0337931  0.04224138\n",
      " 0.05068966 0.05913793 0.06758621 0.07603448 0.08448276 0.09293103\n",
      " 0.10137931 0.10982759 0.11827586 0.12672414 0.13517241 0.14362069\n",
      " 0.15206897 0.16051724 0.16896552 0.17741379 0.18586207 0.19431034\n",
      " 0.20275862 0.2112069  0.21965517 0.22810345 0.23655172 0.245     ]\n"
     ]
    }
   ],
   "source": [
    "print(radii)"
   ]
  },
  {
   "cell_type": "code",
   "execution_count": 9,
   "id": "d082aba0-30bf-4099-9b6d-7aabfc564260",
   "metadata": {},
   "outputs": [
    {
     "name": "stdout",
     "output_type": "stream",
     "text": [
      "[0.64054634 0.64054634 0.64054634 0.63853145 0.63801312 0.6379714\n",
      " 0.63873875 0.64137572 0.64637583 0.6542355  0.66444178 0.67608565\n",
      " 0.68850395 0.70184127 0.71123293 0.71370586 0.70836969 0.69635856\n",
      " 0.68060859 0.66524158 0.65704752 0.65841342 0.66943472 0.68592002\n",
      " 0.7001278  0.70406621 0.69520091 0.68145266 0.67337461 0.67085082]\n"
     ]
    }
   ],
   "source": [
    "print(flux_list)"
   ]
  },
  {
   "cell_type": "code",
   "execution_count": 10,
   "id": "90252f2d-00cc-4310-b5c8-194350c920b1",
   "metadata": {},
   "outputs": [
    {
     "name": "stdout",
     "output_type": "stream",
     "text": [
      "[ 0.64106176  0.64106176  0.64106176  0.55164612  0.50038813  0.43623506\n",
      "  0.35896452  0.25327486  0.13135178 -0.00602246 -0.15483855 -0.30948719\n",
      " -0.47849168 -0.68772335 -0.9186346  -1.16160786 -1.40557526 -1.6634277\n",
      " -1.93518387 -2.22936545 -2.52637027 -2.83740858  3.1175379   2.76547014\n",
      "  2.3960961   1.99592141  1.57502764  1.16984145  0.85864201  0.58685616]\n"
     ]
    }
   ],
   "source": [
    "print(phase_list)"
   ]
  },
  {
   "cell_type": "code",
   "execution_count": null,
   "id": "696cff9d-6897-4499-aaf3-b465094c07bc",
   "metadata": {},
   "outputs": [],
   "source": []
  }
 ],
 "metadata": {
  "kernelspec": {
   "display_name": "Python 3 (ipykernel)",
   "language": "python",
   "name": "python3"
  },
  "language_info": {
   "codemirror_mode": {
    "name": "ipython",
    "version": 3
   },
   "file_extension": ".py",
   "mimetype": "text/x-python",
   "name": "python",
   "nbconvert_exporter": "python",
   "pygments_lexer": "ipython3",
   "version": "3.11.3"
  }
 },
 "nbformat": 4,
 "nbformat_minor": 5
}
