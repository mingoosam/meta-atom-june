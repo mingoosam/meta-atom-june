{
 "cells": [
  {
   "cell_type": "code",
   "execution_count": 5,
   "id": "f4622ab2-cd39-48ff-aa84-09f957d1e8b8",
   "metadata": {},
   "outputs": [
    {
     "name": "stdout",
     "output_type": "stream",
     "text": [
      "Using MPI version 4.0, 1 processes\n"
     ]
    },
    {
     "name": "stderr",
     "output_type": "stream",
     "text": [
      "hwloc/linux: Ignoring PCI device with non-16bit domain.\n",
      "Pass --enable-32bits-pci-domain to configure to support such devices\n",
      "(warning: it would break the library ABI, don't enable unless really needed).\n"
     ]
    }
   ],
   "source": [
    "import os\n",
    "import pickle\n",
    "import shutil \n",
    "\n",
    "import meep as mp\n",
    "import numpy as np\n",
    "import matplotlib.pyplot as plt\n",
    "from tqdm import tqdm\n",
    "import math\n",
    "from IPython import embed"
   ]
  },
  {
   "cell_type": "code",
   "execution_count": 2,
   "id": "75be1cd4-5833-4686-8a49-46be2da84268",
   "metadata": {},
   "outputs": [],
   "source": [
    "# set up simulation constants\n",
    "\n",
    "resolution = 20\n",
    "\n",
    "n_air = 1.0000003\n",
    "n_Si = 1.45\n",
    "n_SiO2 = 3.48\n",
    "\n",
    "a = 0.5   # lattice period \n",
    "\n",
    "#pml_thickness = round(wavelength / 2,3)\n",
    "pml_thickness = 0.780\n",
    "height_hole = 5\n",
    "height_SiO2 = height_hole\n",
    "height_air = 7+2*pml_thickness\n",
    "height_Si_initial= 0.5*(height_air-height_hole)\n",
    "height_Si_add = 0.75*0.5*height_SiO2\n",
    "\n",
    "\n",
    "cell_x = a\n",
    "cell_y = a\n",
    "cell_z = height_air\n",
    "\n",
    "z_air = height_air\n",
    "\n",
    "center_air = 0 \n",
    "center_SiO2 = 0 \n",
    "center_hole = 0\n",
    "center_Si_initial = -0.5*height_hole -0.25*(height_air-height_hole)+0.005\n",
    "center_Si_add = 0.5*height_Si_add\n",
    "\n",
    "min = 0.0\n",
    "max = 0.245\n",
    "\n",
    "\n",
    "#z_siox = pml_thickness + height_siox +height_space\n"
   ]
  },
  {
   "cell_type": "code",
   "execution_count": 3,
   "id": "3b8c3b22-82b3-4dc5-b32d-8c73111c0c79",
   "metadata": {
    "scrolled": true
   },
   "outputs": [
    {
     "name": "stderr",
     "output_type": "stream",
     "text": [
      "Warning: grid volume is not an integer number of pixels; cell size will be rounded to nearest pixel.\n"
     ]
    },
    {
     "name": "stdout",
     "output_type": "stream",
     "text": [
      "-----------\n",
      "Initializing structure...\n",
      "Halving computational cell along direction x\n",
      "Halving computational cell along direction y\n",
      "time for choose_chunkdivision = 0.00184989 s\n",
      "Working in 3D dimensions.\n",
      "Computational cell is 0.5 x 0.5 x 8.55 with resolution 20\n",
      "     block, center = (0,0,0)\n",
      "          size (1e+20,1e+20,8.56)\n",
      "          axes (1,0,0), (0,1,0), (0,0,1)\n",
      "          dielectric constant epsilon diagonal = (1,1,1)\n",
      "     block, center = (0,0,-3.385)\n",
      "          size (1e+20,1e+20,1.78)\n",
      "          axes (1,0,0), (0,1,0), (0,0,1)\n",
      "          dielectric constant epsilon diagonal = (2.1025,2.1025,2.1025)\n",
      "time for set_epsilon = 0.0524938 s\n",
      "-----------\n"
     ]
    },
    {
     "data": {
      "application/vnd.jupyter.widget-view+json": {
       "model_id": "ee91e8ea945444d6a15f16009873d1f7",
       "version_major": 2,
       "version_minor": 0
      },
      "text/plain": [
       "FloatProgress(value=0.0, description='0% done ', max=200.0)"
      ]
     },
     "metadata": {},
     "output_type": "display_data"
    },
    {
     "name": "stdout",
     "output_type": "stream",
     "text": [
      "run 0 finished at t = 200.0 (8000 timesteps)\n"
     ]
    }
   ],
   "source": [
    "#initial_geometry setup\n",
    "\n",
    "cell_size = mp.Vector3(cell_x,cell_y,cell_z)\n",
    "pml_layers = [mp.PML(thickness = pml_thickness, direction = mp.Z)]\n",
    "\n",
    "geometry = [mp.Block(size=mp.Vector3(mp.inf,mp.inf,height_air), \n",
    "                    center=mp.Vector3(0,0,center_air),\n",
    "                    material=mp.Medium(index=n_air)),\n",
    "           mp.Block(size=mp.Vector3(mp.inf,mp.inf,height_Si_initial),\n",
    "                   center=mp.Vector3(0,0,center_Si_initial),\n",
    "                   material=mp.Medium(index=n_Si))]\n",
    "\n",
    "\n",
    "k_point = mp.Vector3(0,0,0)\n",
    "\n",
    "## source ##\n",
    "center_source = -0.5*height_hole-0.125*(height_air-height_hole) \n",
    "source_cmpt = mp.Ey\n",
    "\n",
    "wavelength = 1.55\n",
    "freq = 1 / wavelength\n",
    "\n",
    "\n",
    "sources = [mp.Source(mp.ContinuousSource(frequency=freq),\n",
    "                    component=source_cmpt,\n",
    "                    center=mp.Vector3(0,0,center_source),\n",
    "                    size=mp.Vector3(cell_x,cell_y,0))]\n",
    "\n",
    "\n",
    "## flux monitor ##\n",
    "nfreq = 1\n",
    "df = 0\n",
    "fr_center = 0.5*height_hole+0.125*(height_air-height_hole)\n",
    "fr = mp.FluxRegion(center=mp.Vector3(0,0,fr_center), \n",
    "            size=mp.Vector3(cell_x, cell_y, 0))\n",
    "\n",
    "\n",
    "\n",
    "if source_cmpt == mp.Ey:\n",
    "    symmetries = [mp.Mirror(mp.X, phase=+1), #epsilon has mirror symmetry in x and y, phase doesn't matter\n",
    "                  mp.Mirror(mp.Y, phase=-1)] #but sources have -1 phase when reflected normal to their direction\n",
    "elif src_cmpt == mp.Ex:                      #use of symmetries important here, significantly speeds up sim\n",
    "    symmetries = [mp.Mirror(mp.X, phase=-1),\n",
    "                  mp.Mirror(mp.Y, phase=+1)]\n",
    "elif src_cmpt == mp.Ez:\n",
    "    symmetries = [mp.Mirror(mp.X, phase=+1),\n",
    "                  mp.Mirror(mp.Y, phase=+1)]\n",
    "\n",
    "\n",
    "sim = mp.Simulation(cell_size=cell_size,\n",
    "                    geometry=geometry,\n",
    "                    sources=sources,\n",
    "                    k_point=k_point,\n",
    "                    boundary_layers=pml_layers,\n",
    "                    symmetries=symmetries,\n",
    "                    resolution=resolution)\n",
    "flux_object = sim.add_flux(freq, df, nfreq, fr)\n",
    "\n",
    "\n",
    "sim.run(until=200)\n",
    "\n",
    "\n",
    "initial_flux = mp.get_fluxes(flux_object)[0]\n",
    "\n"
   ]
  },
  {
   "cell_type": "code",
   "execution_count": 4,
   "id": "46169a28-6fe8-44b9-ab80-55a250caa8de",
   "metadata": {},
   "outputs": [],
   "source": [
    "geometry.append(mp.Block(size=mp.Vector3(mp.inf,mp.inf,height_SiO2), \n",
    "                    center=mp.Vector3(0,0,center_SiO2),\n",
    "                    material=mp.Medium(index=n_SiO2)))\n",
    "\n",
    "geometry.append(mp.Block(size=mp.Vector3(mp.inf,mp.inf,height_Si_add), \n",
    "                    center=mp.Vector3(0,0,center_Si_add),\n",
    "                    material=mp.Medium(index=n_Si)))\n",
    "\n",
    "\n",
    "## initialize matrix for data collection ##\n",
    "##########################################\n",
    "\n",
    "num = 30 # this is the number of pillars we will build\n",
    "data = np.zeros((3,num))\n",
    "\n",
    "\n",
    "\n"
   ]
  },
  {
   "cell_type": "code",
   "execution_count": 5,
   "id": "cc65a433-549b-40c3-a389-8c1c11b163ab",
   "metadata": {
    "scrolled": true
   },
   "outputs": [
    {
     "name": "stderr",
     "output_type": "stream",
     "text": [
      "  0%|                                                                          | 0/30 [00:00<?, ?it/s]Warning: grid volume is not an integer number of pixels; cell size will be rounded to nearest pixel.\n"
     ]
    },
    {
     "name": "stdout",
     "output_type": "stream",
     "text": [
      "-----------\n",
      "Initializing structure...\n",
      "Halving computational cell along direction x\n",
      "Halving computational cell along direction y\n",
      "time for choose_chunkdivision = 0.0018332 s\n",
      "Working in 3D dimensions.\n",
      "Computational cell is 0.5 x 0.5 x 8.55 with resolution 20\n",
      "     block, center = (0,0,0)\n",
      "          size (1e+20,1e+20,8.56)\n",
      "          axes (1,0,0), (0,1,0), (0,0,1)\n",
      "          dielectric constant epsilon diagonal = (1,1,1)\n",
      "     block, center = (0,0,-3.385)\n",
      "          size (1e+20,1e+20,1.78)\n",
      "          axes (1,0,0), (0,1,0), (0,0,1)\n",
      "          dielectric constant epsilon diagonal = (2.1025,2.1025,2.1025)\n",
      "     block, center = (0,0,0)\n",
      "          size (1e+20,1e+20,5)\n",
      "          axes (1,0,0), (0,1,0), (0,0,1)\n",
      "          dielectric constant epsilon diagonal = (12.1104,12.1104,12.1104)\n",
      "     block, center = (0,0,0.9375)\n",
      "          size (1e+20,1e+20,1.875)\n",
      "          axes (1,0,0), (0,1,0), (0,0,1)\n",
      "          dielectric constant epsilon diagonal = (2.1025,2.1025,2.1025)\n",
      "     cylinder, center = (0,0,0)\n",
      "          radius 0, height 5, axis (0, 0, 1)\n",
      "          dielectric constant epsilon diagonal = (1,1,1)\n",
      "time for set_epsilon = 0.056673 s\n",
      "-----------\n"
     ]
    },
    {
     "data": {
      "application/vnd.jupyter.widget-view+json": {
       "model_id": "564372ea6d3c4b469889f752c960e669",
       "version_major": 2,
       "version_minor": 0
      },
      "text/plain": [
       "FloatProgress(value=0.0, description='0% done ', max=200.0)"
      ]
     },
     "metadata": {},
     "output_type": "display_data"
    },
    {
     "name": "stdout",
     "output_type": "stream",
     "text": [
      "run 0 finished at t = 200.0 (8000 timesteps)\n",
      "MPB solved for frequency_1(0,0,0.645161) = 0.645161 after 6 iters\n",
      "Dominant planewave for band 1: (0.000000,0.000000,0.645161)\n"
     ]
    },
    {
     "name": "stderr",
     "output_type": "stream",
     "text": [
      "  3%|██▏                                                               | 1/30 [00:01<00:42,  1.47s/it]Warning: grid volume is not an integer number of pixels; cell size will be rounded to nearest pixel.\n"
     ]
    },
    {
     "name": "stdout",
     "output_type": "stream",
     "text": [
      "i= 0,radius=0.0\n",
      "-----------\n",
      "Initializing structure...\n",
      "Halving computational cell along direction x\n",
      "Halving computational cell along direction y\n",
      "time for choose_chunkdivision = 0.00177908 s\n",
      "Working in 3D dimensions.\n",
      "Computational cell is 0.5 x 0.5 x 8.55 with resolution 20\n",
      "     block, center = (0,0,0)\n",
      "          size (1e+20,1e+20,8.56)\n",
      "          axes (1,0,0), (0,1,0), (0,0,1)\n",
      "          dielectric constant epsilon diagonal = (1,1,1)\n",
      "     block, center = (0,0,-3.385)\n",
      "          size (1e+20,1e+20,1.78)\n",
      "          axes (1,0,0), (0,1,0), (0,0,1)\n",
      "          dielectric constant epsilon diagonal = (2.1025,2.1025,2.1025)\n",
      "     block, center = (0,0,0)\n",
      "          size (1e+20,1e+20,5)\n",
      "          axes (1,0,0), (0,1,0), (0,0,1)\n",
      "          dielectric constant epsilon diagonal = (12.1104,12.1104,12.1104)\n",
      "     block, center = (0,0,0.9375)\n",
      "          size (1e+20,1e+20,1.875)\n",
      "          axes (1,0,0), (0,1,0), (0,0,1)\n",
      "          dielectric constant epsilon diagonal = (2.1025,2.1025,2.1025)\n",
      "     cylinder, center = (0,0,0)\n",
      "          radius 0.00844828, height 5, axis (0, 0, 1)\n",
      "          dielectric constant epsilon diagonal = (1,1,1)\n",
      "time for set_epsilon = 0.0480161 s\n",
      "-----------\n"
     ]
    },
    {
     "data": {
      "application/vnd.jupyter.widget-view+json": {
       "model_id": "33a5173015264459ba1704cdbde2af70",
       "version_major": 2,
       "version_minor": 0
      },
      "text/plain": [
       "FloatProgress(value=0.0, description='0% done ', max=200.0)"
      ]
     },
     "metadata": {},
     "output_type": "display_data"
    },
    {
     "name": "stdout",
     "output_type": "stream",
     "text": [
      "run 0 finished at t = 200.0 (8000 timesteps)\n",
      "MPB solved for frequency_1(0,0,0.645161) = 0.645161 after 6 iters\n",
      "Dominant planewave for band 1: (0.000000,0.000000,0.645161)\n"
     ]
    },
    {
     "name": "stderr",
     "output_type": "stream",
     "text": [
      "  7%|████▍                                                             | 2/30 [00:02<00:41,  1.47s/it]Warning: grid volume is not an integer number of pixels; cell size will be rounded to nearest pixel.\n"
     ]
    },
    {
     "name": "stdout",
     "output_type": "stream",
     "text": [
      "i= 1,radius=0.008448275862068965\n",
      "-----------\n",
      "Initializing structure...\n",
      "Halving computational cell along direction x\n",
      "Halving computational cell along direction y\n",
      "time for choose_chunkdivision = 0.00169206 s\n",
      "Working in 3D dimensions.\n",
      "Computational cell is 0.5 x 0.5 x 8.55 with resolution 20\n",
      "     block, center = (0,0,0)\n",
      "          size (1e+20,1e+20,8.56)\n",
      "          axes (1,0,0), (0,1,0), (0,0,1)\n",
      "          dielectric constant epsilon diagonal = (1,1,1)\n",
      "     block, center = (0,0,-3.385)\n",
      "          size (1e+20,1e+20,1.78)\n",
      "          axes (1,0,0), (0,1,0), (0,0,1)\n",
      "          dielectric constant epsilon diagonal = (2.1025,2.1025,2.1025)\n",
      "     block, center = (0,0,0)\n",
      "          size (1e+20,1e+20,5)\n",
      "          axes (1,0,0), (0,1,0), (0,0,1)\n",
      "          dielectric constant epsilon diagonal = (12.1104,12.1104,12.1104)\n",
      "     block, center = (0,0,0.9375)\n",
      "          size (1e+20,1e+20,1.875)\n",
      "          axes (1,0,0), (0,1,0), (0,0,1)\n",
      "          dielectric constant epsilon diagonal = (2.1025,2.1025,2.1025)\n",
      "     cylinder, center = (0,0,0)\n",
      "          radius 0.0168966, height 5, axis (0, 0, 1)\n",
      "          dielectric constant epsilon diagonal = (1,1,1)\n",
      "time for set_epsilon = 0.0485148 s\n",
      "-----------\n"
     ]
    },
    {
     "data": {
      "application/vnd.jupyter.widget-view+json": {
       "model_id": "e6bb0fc659a4431abb27835f9e1f6e2f",
       "version_major": 2,
       "version_minor": 0
      },
      "text/plain": [
       "FloatProgress(value=0.0, description='0% done ', max=200.0)"
      ]
     },
     "metadata": {},
     "output_type": "display_data"
    },
    {
     "name": "stdout",
     "output_type": "stream",
     "text": [
      "run 0 finished at t = 200.0 (8000 timesteps)\n",
      "MPB solved for frequency_1(0,0,0.645161) = 0.645161 after 6 iters\n",
      "Dominant planewave for band 1: (0.000000,0.000000,0.645161)\n"
     ]
    },
    {
     "name": "stderr",
     "output_type": "stream",
     "text": [
      " 10%|██████▌                                                           | 3/30 [00:04<00:39,  1.47s/it]Warning: grid volume is not an integer number of pixels; cell size will be rounded to nearest pixel.\n"
     ]
    },
    {
     "name": "stdout",
     "output_type": "stream",
     "text": [
      "i= 2,radius=0.01689655172413793\n",
      "-----------\n",
      "Initializing structure...\n",
      "Halving computational cell along direction x\n",
      "Halving computational cell along direction y\n",
      "time for choose_chunkdivision = 0.0015831 s\n",
      "Working in 3D dimensions.\n",
      "Computational cell is 0.5 x 0.5 x 8.55 with resolution 20\n",
      "     block, center = (0,0,0)\n",
      "          size (1e+20,1e+20,8.56)\n",
      "          axes (1,0,0), (0,1,0), (0,0,1)\n",
      "          dielectric constant epsilon diagonal = (1,1,1)\n",
      "     block, center = (0,0,-3.385)\n",
      "          size (1e+20,1e+20,1.78)\n",
      "          axes (1,0,0), (0,1,0), (0,0,1)\n",
      "          dielectric constant epsilon diagonal = (2.1025,2.1025,2.1025)\n",
      "     block, center = (0,0,0)\n",
      "          size (1e+20,1e+20,5)\n",
      "          axes (1,0,0), (0,1,0), (0,0,1)\n",
      "          dielectric constant epsilon diagonal = (12.1104,12.1104,12.1104)\n",
      "     block, center = (0,0,0.9375)\n",
      "          size (1e+20,1e+20,1.875)\n",
      "          axes (1,0,0), (0,1,0), (0,0,1)\n",
      "          dielectric constant epsilon diagonal = (2.1025,2.1025,2.1025)\n",
      "     cylinder, center = (0,0,0)\n",
      "          radius 0.0253448, height 5, axis (0, 0, 1)\n",
      "          dielectric constant epsilon diagonal = (1,1,1)\n",
      "time for set_epsilon = 0.0653389 s\n",
      "-----------\n"
     ]
    },
    {
     "data": {
      "application/vnd.jupyter.widget-view+json": {
       "model_id": "2d99d833fbd545e68809883078603bc2",
       "version_major": 2,
       "version_minor": 0
      },
      "text/plain": [
       "FloatProgress(value=0.0, description='0% done ', max=200.0)"
      ]
     },
     "metadata": {},
     "output_type": "display_data"
    },
    {
     "name": "stdout",
     "output_type": "stream",
     "text": [
      "run 0 finished at t = 200.0 (8000 timesteps)\n",
      "MPB solved for frequency_1(0,0,0.645161) = 0.645161 after 6 iters\n",
      "Dominant planewave for band 1: (0.000000,0.000000,0.645161)\n"
     ]
    },
    {
     "name": "stderr",
     "output_type": "stream",
     "text": [
      " 13%|████████▊                                                         | 4/30 [00:05<00:38,  1.48s/it]Warning: grid volume is not an integer number of pixels; cell size will be rounded to nearest pixel.\n"
     ]
    },
    {
     "name": "stdout",
     "output_type": "stream",
     "text": [
      "i= 3,radius=0.025344827586206896\n",
      "-----------\n",
      "Initializing structure...\n",
      "Halving computational cell along direction x\n",
      "Halving computational cell along direction y\n",
      "time for choose_chunkdivision = 0.00162911 s\n",
      "Working in 3D dimensions.\n",
      "Computational cell is 0.5 x 0.5 x 8.55 with resolution 20\n",
      "     block, center = (0,0,0)\n",
      "          size (1e+20,1e+20,8.56)\n",
      "          axes (1,0,0), (0,1,0), (0,0,1)\n",
      "          dielectric constant epsilon diagonal = (1,1,1)\n",
      "     block, center = (0,0,-3.385)\n",
      "          size (1e+20,1e+20,1.78)\n",
      "          axes (1,0,0), (0,1,0), (0,0,1)\n",
      "          dielectric constant epsilon diagonal = (2.1025,2.1025,2.1025)\n",
      "     block, center = (0,0,0)\n",
      "          size (1e+20,1e+20,5)\n",
      "          axes (1,0,0), (0,1,0), (0,0,1)\n",
      "          dielectric constant epsilon diagonal = (12.1104,12.1104,12.1104)\n",
      "     block, center = (0,0,0.9375)\n",
      "          size (1e+20,1e+20,1.875)\n",
      "          axes (1,0,0), (0,1,0), (0,0,1)\n",
      "          dielectric constant epsilon diagonal = (2.1025,2.1025,2.1025)\n",
      "     cylinder, center = (0,0,0)\n",
      "          radius 0.0337931, height 5, axis (0, 0, 1)\n",
      "          dielectric constant epsilon diagonal = (1,1,1)\n",
      "time for set_epsilon = 0.0625451 s\n",
      "-----------\n"
     ]
    },
    {
     "data": {
      "application/vnd.jupyter.widget-view+json": {
       "model_id": "3172c9f783f648099da87d99ba869f19",
       "version_major": 2,
       "version_minor": 0
      },
      "text/plain": [
       "FloatProgress(value=0.0, description='0% done ', max=200.0)"
      ]
     },
     "metadata": {},
     "output_type": "display_data"
    },
    {
     "name": "stdout",
     "output_type": "stream",
     "text": [
      "run 0 finished at t = 200.0 (8000 timesteps)\n",
      "MPB solved for frequency_1(0,0,0.645161) = 0.645161 after 6 iters\n",
      "Dominant planewave for band 1: (0.000000,0.000000,0.645161)\n"
     ]
    },
    {
     "name": "stderr",
     "output_type": "stream",
     "text": [
      " 17%|███████████                                                       | 5/30 [00:07<00:37,  1.48s/it]Warning: grid volume is not an integer number of pixels; cell size will be rounded to nearest pixel.\n"
     ]
    },
    {
     "name": "stdout",
     "output_type": "stream",
     "text": [
      "i= 4,radius=0.03379310344827586\n",
      "-----------\n",
      "Initializing structure...\n",
      "Halving computational cell along direction x\n",
      "Halving computational cell along direction y\n",
      "time for choose_chunkdivision = 0.00164294 s\n",
      "Working in 3D dimensions.\n",
      "Computational cell is 0.5 x 0.5 x 8.55 with resolution 20\n",
      "     block, center = (0,0,0)\n",
      "          size (1e+20,1e+20,8.56)\n",
      "          axes (1,0,0), (0,1,0), (0,0,1)\n",
      "          dielectric constant epsilon diagonal = (1,1,1)\n",
      "     block, center = (0,0,-3.385)\n",
      "          size (1e+20,1e+20,1.78)\n",
      "          axes (1,0,0), (0,1,0), (0,0,1)\n",
      "          dielectric constant epsilon diagonal = (2.1025,2.1025,2.1025)\n",
      "     block, center = (0,0,0)\n",
      "          size (1e+20,1e+20,5)\n",
      "          axes (1,0,0), (0,1,0), (0,0,1)\n",
      "          dielectric constant epsilon diagonal = (12.1104,12.1104,12.1104)\n",
      "     block, center = (0,0,0.9375)\n",
      "          size (1e+20,1e+20,1.875)\n",
      "          axes (1,0,0), (0,1,0), (0,0,1)\n",
      "          dielectric constant epsilon diagonal = (2.1025,2.1025,2.1025)\n",
      "     cylinder, center = (0,0,0)\n",
      "          radius 0.0422414, height 5, axis (0, 0, 1)\n",
      "          dielectric constant epsilon diagonal = (1,1,1)\n",
      "time for set_epsilon = 0.0859699 s\n",
      "-----------\n"
     ]
    },
    {
     "data": {
      "application/vnd.jupyter.widget-view+json": {
       "model_id": "cf56e10025b14c11a86efe2f7af77984",
       "version_major": 2,
       "version_minor": 0
      },
      "text/plain": [
       "FloatProgress(value=0.0, description='0% done ', max=200.0)"
      ]
     },
     "metadata": {},
     "output_type": "display_data"
    },
    {
     "name": "stdout",
     "output_type": "stream",
     "text": [
      "run 0 finished at t = 200.0 (8000 timesteps)\n",
      "MPB solved for frequency_1(0,0,0.645161) = 0.645161 after 6 iters\n",
      "Dominant planewave for band 1: (0.000000,0.000000,0.645161)\n"
     ]
    },
    {
     "name": "stderr",
     "output_type": "stream",
     "text": [
      " 20%|█████████████▏                                                    | 6/30 [00:08<00:36,  1.52s/it]Warning: grid volume is not an integer number of pixels; cell size will be rounded to nearest pixel.\n"
     ]
    },
    {
     "name": "stdout",
     "output_type": "stream",
     "text": [
      "i= 5,radius=0.04224137931034482\n",
      "-----------\n",
      "Initializing structure...\n",
      "Halving computational cell along direction x\n",
      "Halving computational cell along direction y\n",
      "time for choose_chunkdivision = 0.00173306 s\n",
      "Working in 3D dimensions.\n",
      "Computational cell is 0.5 x 0.5 x 8.55 with resolution 20\n",
      "     block, center = (0,0,0)\n",
      "          size (1e+20,1e+20,8.56)\n",
      "          axes (1,0,0), (0,1,0), (0,0,1)\n",
      "          dielectric constant epsilon diagonal = (1,1,1)\n",
      "     block, center = (0,0,-3.385)\n",
      "          size (1e+20,1e+20,1.78)\n",
      "          axes (1,0,0), (0,1,0), (0,0,1)\n",
      "          dielectric constant epsilon diagonal = (2.1025,2.1025,2.1025)\n",
      "     block, center = (0,0,0)\n",
      "          size (1e+20,1e+20,5)\n",
      "          axes (1,0,0), (0,1,0), (0,0,1)\n",
      "          dielectric constant epsilon diagonal = (12.1104,12.1104,12.1104)\n",
      "     block, center = (0,0,0.9375)\n",
      "          size (1e+20,1e+20,1.875)\n",
      "          axes (1,0,0), (0,1,0), (0,0,1)\n",
      "          dielectric constant epsilon diagonal = (2.1025,2.1025,2.1025)\n",
      "     cylinder, center = (0,0,0)\n",
      "          radius 0.0506897, height 5, axis (0, 0, 1)\n",
      "          dielectric constant epsilon diagonal = (1,1,1)\n",
      "time for set_epsilon = 0.0814419 s\n",
      "-----------\n"
     ]
    },
    {
     "data": {
      "application/vnd.jupyter.widget-view+json": {
       "model_id": "f97ce64c77224a6681ac20fa7397792a",
       "version_major": 2,
       "version_minor": 0
      },
      "text/plain": [
       "FloatProgress(value=0.0, description='0% done ', max=200.0)"
      ]
     },
     "metadata": {},
     "output_type": "display_data"
    },
    {
     "name": "stdout",
     "output_type": "stream",
     "text": [
      "run 0 finished at t = 200.0 (8000 timesteps)\n",
      "MPB solved for frequency_1(0,0,0.645161) = 0.645161 after 6 iters\n",
      "Dominant planewave for band 1: (0.000000,0.000000,0.645161)\n"
     ]
    },
    {
     "name": "stderr",
     "output_type": "stream",
     "text": [
      " 23%|███████████████▍                                                  | 7/30 [00:10<00:35,  1.54s/it]Warning: grid volume is not an integer number of pixels; cell size will be rounded to nearest pixel.\n"
     ]
    },
    {
     "name": "stdout",
     "output_type": "stream",
     "text": [
      "i= 6,radius=0.05068965517241379\n",
      "-----------\n",
      "Initializing structure...\n",
      "Halving computational cell along direction x\n",
      "Halving computational cell along direction y\n",
      "time for choose_chunkdivision = 0.0016489 s\n",
      "Working in 3D dimensions.\n",
      "Computational cell is 0.5 x 0.5 x 8.55 with resolution 20\n",
      "     block, center = (0,0,0)\n",
      "          size (1e+20,1e+20,8.56)\n",
      "          axes (1,0,0), (0,1,0), (0,0,1)\n",
      "          dielectric constant epsilon diagonal = (1,1,1)\n",
      "     block, center = (0,0,-3.385)\n",
      "          size (1e+20,1e+20,1.78)\n",
      "          axes (1,0,0), (0,1,0), (0,0,1)\n",
      "          dielectric constant epsilon diagonal = (2.1025,2.1025,2.1025)\n",
      "     block, center = (0,0,0)\n",
      "          size (1e+20,1e+20,5)\n",
      "          axes (1,0,0), (0,1,0), (0,0,1)\n",
      "          dielectric constant epsilon diagonal = (12.1104,12.1104,12.1104)\n",
      "     block, center = (0,0,0.9375)\n",
      "          size (1e+20,1e+20,1.875)\n",
      "          axes (1,0,0), (0,1,0), (0,0,1)\n",
      "          dielectric constant epsilon diagonal = (2.1025,2.1025,2.1025)\n",
      "     cylinder, center = (0,0,0)\n",
      "          radius 0.0591379, height 5, axis (0, 0, 1)\n",
      "          dielectric constant epsilon diagonal = (1,1,1)\n",
      "time for set_epsilon = 0.092 s\n",
      "-----------\n"
     ]
    },
    {
     "data": {
      "application/vnd.jupyter.widget-view+json": {
       "model_id": "03845022753e4f5ab7e41f53ae86bd95",
       "version_major": 2,
       "version_minor": 0
      },
      "text/plain": [
       "FloatProgress(value=0.0, description='0% done ', max=200.0)"
      ]
     },
     "metadata": {},
     "output_type": "display_data"
    },
    {
     "name": "stdout",
     "output_type": "stream",
     "text": [
      "run 0 finished at t = 200.0 (8000 timesteps)\n",
      "MPB solved for frequency_1(0,0,0.645161) = 0.645161 after 6 iters\n",
      "Dominant planewave for band 1: (0.000000,0.000000,0.645161)\n"
     ]
    },
    {
     "name": "stderr",
     "output_type": "stream",
     "text": [
      " 27%|█████████████████▌                                                | 8/30 [00:12<00:34,  1.57s/it]Warning: grid volume is not an integer number of pixels; cell size will be rounded to nearest pixel.\n"
     ]
    },
    {
     "name": "stdout",
     "output_type": "stream",
     "text": [
      "i= 7,radius=0.059137931034482755\n",
      "-----------\n",
      "Initializing structure...\n",
      "Halving computational cell along direction x\n",
      "Halving computational cell along direction y\n",
      "time for choose_chunkdivision = 0.00164199 s\n",
      "Working in 3D dimensions.\n",
      "Computational cell is 0.5 x 0.5 x 8.55 with resolution 20\n",
      "     block, center = (0,0,0)\n",
      "          size (1e+20,1e+20,8.56)\n",
      "          axes (1,0,0), (0,1,0), (0,0,1)\n",
      "          dielectric constant epsilon diagonal = (1,1,1)\n",
      "     block, center = (0,0,-3.385)\n",
      "          size (1e+20,1e+20,1.78)\n",
      "          axes (1,0,0), (0,1,0), (0,0,1)\n",
      "          dielectric constant epsilon diagonal = (2.1025,2.1025,2.1025)\n",
      "     block, center = (0,0,0)\n",
      "          size (1e+20,1e+20,5)\n",
      "          axes (1,0,0), (0,1,0), (0,0,1)\n",
      "          dielectric constant epsilon diagonal = (12.1104,12.1104,12.1104)\n",
      "     block, center = (0,0,0.9375)\n",
      "          size (1e+20,1e+20,1.875)\n",
      "          axes (1,0,0), (0,1,0), (0,0,1)\n",
      "          dielectric constant epsilon diagonal = (2.1025,2.1025,2.1025)\n",
      "     cylinder, center = (0,0,0)\n",
      "          radius 0.0675862, height 5, axis (0, 0, 1)\n",
      "          dielectric constant epsilon diagonal = (1,1,1)\n",
      "time for set_epsilon = 0.0895262 s\n",
      "-----------\n"
     ]
    },
    {
     "data": {
      "application/vnd.jupyter.widget-view+json": {
       "model_id": "d3f80b8a4d964bd380a3e0d4cbd32e63",
       "version_major": 2,
       "version_minor": 0
      },
      "text/plain": [
       "FloatProgress(value=0.0, description='0% done ', max=200.0)"
      ]
     },
     "metadata": {},
     "output_type": "display_data"
    },
    {
     "name": "stdout",
     "output_type": "stream",
     "text": [
      "run 0 finished at t = 200.0 (8000 timesteps)\n",
      "MPB solved for frequency_1(0,0,0.645161) = 0.645161 after 6 iters\n",
      "Dominant planewave for band 1: (0.000000,0.000000,0.645161)\n"
     ]
    },
    {
     "name": "stderr",
     "output_type": "stream",
     "text": [
      " 30%|███████████████████▊                                              | 9/30 [00:13<00:33,  1.57s/it]Warning: grid volume is not an integer number of pixels; cell size will be rounded to nearest pixel.\n"
     ]
    },
    {
     "name": "stdout",
     "output_type": "stream",
     "text": [
      "i= 8,radius=0.06758620689655172\n",
      "-----------\n",
      "Initializing structure...\n",
      "Halving computational cell along direction x\n",
      "Halving computational cell along direction y\n",
      "time for choose_chunkdivision = 0.00166607 s\n",
      "Working in 3D dimensions.\n",
      "Computational cell is 0.5 x 0.5 x 8.55 with resolution 20\n",
      "     block, center = (0,0,0)\n",
      "          size (1e+20,1e+20,8.56)\n",
      "          axes (1,0,0), (0,1,0), (0,0,1)\n",
      "          dielectric constant epsilon diagonal = (1,1,1)\n",
      "     block, center = (0,0,-3.385)\n",
      "          size (1e+20,1e+20,1.78)\n",
      "          axes (1,0,0), (0,1,0), (0,0,1)\n",
      "          dielectric constant epsilon diagonal = (2.1025,2.1025,2.1025)\n",
      "     block, center = (0,0,0)\n",
      "          size (1e+20,1e+20,5)\n",
      "          axes (1,0,0), (0,1,0), (0,0,1)\n",
      "          dielectric constant epsilon diagonal = (12.1104,12.1104,12.1104)\n",
      "     block, center = (0,0,0.9375)\n",
      "          size (1e+20,1e+20,1.875)\n",
      "          axes (1,0,0), (0,1,0), (0,0,1)\n",
      "          dielectric constant epsilon diagonal = (2.1025,2.1025,2.1025)\n",
      "     cylinder, center = (0,0,0)\n",
      "          radius 0.0760345, height 5, axis (0, 0, 1)\n",
      "          dielectric constant epsilon diagonal = (1,1,1)\n",
      "time for set_epsilon = 0.098217 s\n",
      "-----------\n"
     ]
    },
    {
     "data": {
      "application/vnd.jupyter.widget-view+json": {
       "model_id": "a092348264c441479c0312343f0e2b67",
       "version_major": 2,
       "version_minor": 0
      },
      "text/plain": [
       "FloatProgress(value=0.0, description='0% done ', max=200.0)"
      ]
     },
     "metadata": {},
     "output_type": "display_data"
    },
    {
     "name": "stdout",
     "output_type": "stream",
     "text": [
      "run 0 finished at t = 200.0 (8000 timesteps)\n",
      "MPB solved for frequency_1(0,0,0.645161) = 0.645161 after 6 iters\n",
      "Dominant planewave for band 1: (0.000000,0.000000,0.645161)\n"
     ]
    },
    {
     "name": "stderr",
     "output_type": "stream",
     "text": [
      " 33%|█████████████████████▋                                           | 10/30 [00:15<00:31,  1.58s/it]Warning: grid volume is not an integer number of pixels; cell size will be rounded to nearest pixel.\n"
     ]
    },
    {
     "name": "stdout",
     "output_type": "stream",
     "text": [
      "i= 9,radius=0.07603448275862068\n",
      "-----------\n",
      "Initializing structure...\n",
      "Halving computational cell along direction x\n",
      "Halving computational cell along direction y\n",
      "time for choose_chunkdivision = 0.00165105 s\n",
      "Working in 3D dimensions.\n",
      "Computational cell is 0.5 x 0.5 x 8.55 with resolution 20\n",
      "     block, center = (0,0,0)\n",
      "          size (1e+20,1e+20,8.56)\n",
      "          axes (1,0,0), (0,1,0), (0,0,1)\n",
      "          dielectric constant epsilon diagonal = (1,1,1)\n",
      "     block, center = (0,0,-3.385)\n",
      "          size (1e+20,1e+20,1.78)\n",
      "          axes (1,0,0), (0,1,0), (0,0,1)\n",
      "          dielectric constant epsilon diagonal = (2.1025,2.1025,2.1025)\n",
      "     block, center = (0,0,0)\n",
      "          size (1e+20,1e+20,5)\n",
      "          axes (1,0,0), (0,1,0), (0,0,1)\n",
      "          dielectric constant epsilon diagonal = (12.1104,12.1104,12.1104)\n",
      "     block, center = (0,0,0.9375)\n",
      "          size (1e+20,1e+20,1.875)\n",
      "          axes (1,0,0), (0,1,0), (0,0,1)\n",
      "          dielectric constant epsilon diagonal = (2.1025,2.1025,2.1025)\n",
      "     cylinder, center = (0,0,0)\n",
      "          radius 0.0844828, height 5, axis (0, 0, 1)\n",
      "          dielectric constant epsilon diagonal = (1,1,1)\n",
      "time for set_epsilon = 0.101414 s\n",
      "-----------\n"
     ]
    },
    {
     "data": {
      "application/vnd.jupyter.widget-view+json": {
       "model_id": "0f8bbe103747440397ac6c02aed41a81",
       "version_major": 2,
       "version_minor": 0
      },
      "text/plain": [
       "FloatProgress(value=0.0, description='0% done ', max=200.0)"
      ]
     },
     "metadata": {},
     "output_type": "display_data"
    },
    {
     "name": "stdout",
     "output_type": "stream",
     "text": [
      "run 0 finished at t = 200.0 (8000 timesteps)\n",
      "MPB solved for frequency_1(0,0,0.645161) = 0.645161 after 6 iters\n",
      "Dominant planewave for band 1: (0.000000,0.000000,0.645161)\n"
     ]
    },
    {
     "name": "stderr",
     "output_type": "stream",
     "text": [
      " 37%|███████████████████████▊                                         | 11/30 [00:16<00:30,  1.59s/it]Warning: grid volume is not an integer number of pixels; cell size will be rounded to nearest pixel.\n"
     ]
    },
    {
     "name": "stdout",
     "output_type": "stream",
     "text": [
      "i= 10,radius=0.08448275862068964\n",
      "-----------\n",
      "Initializing structure...\n",
      "Halving computational cell along direction x\n",
      "Halving computational cell along direction y\n",
      "time for choose_chunkdivision = 0.00173688 s\n",
      "Working in 3D dimensions.\n",
      "Computational cell is 0.5 x 0.5 x 8.55 with resolution 20\n",
      "     block, center = (0,0,0)\n",
      "          size (1e+20,1e+20,8.56)\n",
      "          axes (1,0,0), (0,1,0), (0,0,1)\n",
      "          dielectric constant epsilon diagonal = (1,1,1)\n",
      "     block, center = (0,0,-3.385)\n",
      "          size (1e+20,1e+20,1.78)\n",
      "          axes (1,0,0), (0,1,0), (0,0,1)\n",
      "          dielectric constant epsilon diagonal = (2.1025,2.1025,2.1025)\n",
      "     block, center = (0,0,0)\n",
      "          size (1e+20,1e+20,5)\n",
      "          axes (1,0,0), (0,1,0), (0,0,1)\n",
      "          dielectric constant epsilon diagonal = (12.1104,12.1104,12.1104)\n",
      "     block, center = (0,0,0.9375)\n",
      "          size (1e+20,1e+20,1.875)\n",
      "          axes (1,0,0), (0,1,0), (0,0,1)\n",
      "          dielectric constant epsilon diagonal = (2.1025,2.1025,2.1025)\n",
      "     cylinder, center = (0,0,0)\n",
      "          radius 0.092931, height 5, axis (0, 0, 1)\n",
      "          dielectric constant epsilon diagonal = (1,1,1)\n",
      "time for set_epsilon = 0.086381 s\n",
      "-----------\n"
     ]
    },
    {
     "data": {
      "application/vnd.jupyter.widget-view+json": {
       "model_id": "faed107613d54a1780b953996cb20ce1",
       "version_major": 2,
       "version_minor": 0
      },
      "text/plain": [
       "FloatProgress(value=0.0, description='0% done ', max=200.0)"
      ]
     },
     "metadata": {},
     "output_type": "display_data"
    },
    {
     "name": "stdout",
     "output_type": "stream",
     "text": [
      "run 0 finished at t = 200.0 (8000 timesteps)\n",
      "MPB solved for frequency_1(0,0,0.645161) = 0.645161 after 6 iters\n",
      "Dominant planewave for band 1: (0.000000,0.000000,0.645161)\n"
     ]
    },
    {
     "name": "stderr",
     "output_type": "stream",
     "text": [
      " 40%|██████████████████████████                                       | 12/30 [00:18<00:28,  1.59s/it]Warning: grid volume is not an integer number of pixels; cell size will be rounded to nearest pixel.\n"
     ]
    },
    {
     "name": "stdout",
     "output_type": "stream",
     "text": [
      "i= 11,radius=0.0929310344827586\n",
      "-----------\n",
      "Initializing structure...\n",
      "Halving computational cell along direction x\n",
      "Halving computational cell along direction y\n",
      "time for choose_chunkdivision = 0.00171113 s\n",
      "Working in 3D dimensions.\n",
      "Computational cell is 0.5 x 0.5 x 8.55 with resolution 20\n",
      "     block, center = (0,0,0)\n",
      "          size (1e+20,1e+20,8.56)\n",
      "          axes (1,0,0), (0,1,0), (0,0,1)\n",
      "          dielectric constant epsilon diagonal = (1,1,1)\n",
      "     block, center = (0,0,-3.385)\n",
      "          size (1e+20,1e+20,1.78)\n",
      "          axes (1,0,0), (0,1,0), (0,0,1)\n",
      "          dielectric constant epsilon diagonal = (2.1025,2.1025,2.1025)\n",
      "     block, center = (0,0,0)\n",
      "          size (1e+20,1e+20,5)\n",
      "          axes (1,0,0), (0,1,0), (0,0,1)\n",
      "          dielectric constant epsilon diagonal = (12.1104,12.1104,12.1104)\n",
      "     block, center = (0,0,0.9375)\n",
      "          size (1e+20,1e+20,1.875)\n",
      "          axes (1,0,0), (0,1,0), (0,0,1)\n",
      "          dielectric constant epsilon diagonal = (2.1025,2.1025,2.1025)\n",
      "     cylinder, center = (0,0,0)\n",
      "          radius 0.101379, height 5, axis (0, 0, 1)\n",
      "          dielectric constant epsilon diagonal = (1,1,1)\n",
      "time for set_epsilon = 0.090991 s\n",
      "-----------\n"
     ]
    },
    {
     "data": {
      "application/vnd.jupyter.widget-view+json": {
       "model_id": "577ab74fd7674336a2d2c3214d70b848",
       "version_major": 2,
       "version_minor": 0
      },
      "text/plain": [
       "FloatProgress(value=0.0, description='0% done ', max=200.0)"
      ]
     },
     "metadata": {},
     "output_type": "display_data"
    },
    {
     "name": "stdout",
     "output_type": "stream",
     "text": [
      "run 0 finished at t = 200.0 (8000 timesteps)\n",
      "MPB solved for frequency_1(0,0,0.645161) = 0.645161 after 6 iters\n",
      "Dominant planewave for band 1: (0.000000,0.000000,0.645161)\n"
     ]
    },
    {
     "name": "stderr",
     "output_type": "stream",
     "text": [
      " 43%|████████████████████████████▏                                    | 13/30 [00:20<00:27,  1.60s/it]Warning: grid volume is not an integer number of pixels; cell size will be rounded to nearest pixel.\n"
     ]
    },
    {
     "name": "stdout",
     "output_type": "stream",
     "text": [
      "i= 12,radius=0.10137931034482758\n",
      "-----------\n",
      "Initializing structure...\n",
      "Halving computational cell along direction x\n",
      "Halving computational cell along direction y\n",
      "time for choose_chunkdivision = 0.00157905 s\n",
      "Working in 3D dimensions.\n",
      "Computational cell is 0.5 x 0.5 x 8.55 with resolution 20\n",
      "     block, center = (0,0,0)\n",
      "          size (1e+20,1e+20,8.56)\n",
      "          axes (1,0,0), (0,1,0), (0,0,1)\n",
      "          dielectric constant epsilon diagonal = (1,1,1)\n",
      "     block, center = (0,0,-3.385)\n",
      "          size (1e+20,1e+20,1.78)\n",
      "          axes (1,0,0), (0,1,0), (0,0,1)\n",
      "          dielectric constant epsilon diagonal = (2.1025,2.1025,2.1025)\n",
      "     block, center = (0,0,0)\n",
      "          size (1e+20,1e+20,5)\n",
      "          axes (1,0,0), (0,1,0), (0,0,1)\n",
      "          dielectric constant epsilon diagonal = (12.1104,12.1104,12.1104)\n",
      "     block, center = (0,0,0.9375)\n",
      "          size (1e+20,1e+20,1.875)\n",
      "          axes (1,0,0), (0,1,0), (0,0,1)\n",
      "          dielectric constant epsilon diagonal = (2.1025,2.1025,2.1025)\n",
      "     cylinder, center = (0,0,0)\n",
      "          radius 0.109828, height 5, axis (0, 0, 1)\n",
      "          dielectric constant epsilon diagonal = (1,1,1)\n",
      "time for set_epsilon = 0.0894878 s\n",
      "-----------\n"
     ]
    },
    {
     "data": {
      "application/vnd.jupyter.widget-view+json": {
       "model_id": "eb6db3c5481549138b4860fcca311257",
       "version_major": 2,
       "version_minor": 0
      },
      "text/plain": [
       "FloatProgress(value=0.0, description='0% done ', max=200.0)"
      ]
     },
     "metadata": {},
     "output_type": "display_data"
    },
    {
     "name": "stdout",
     "output_type": "stream",
     "text": [
      "run 0 finished at t = 200.0 (8000 timesteps)\n",
      "MPB solved for frequency_1(0,0,0.645161) = 0.645161 after 6 iters\n",
      "Dominant planewave for band 1: (0.000000,0.000000,0.645161)\n"
     ]
    },
    {
     "name": "stderr",
     "output_type": "stream",
     "text": [
      " 47%|██████████████████████████████▎                                  | 14/30 [00:21<00:25,  1.60s/it]Warning: grid volume is not an integer number of pixels; cell size will be rounded to nearest pixel.\n"
     ]
    },
    {
     "name": "stdout",
     "output_type": "stream",
     "text": [
      "i= 13,radius=0.10982758620689655\n",
      "-----------\n",
      "Initializing structure...\n",
      "Halving computational cell along direction x\n",
      "Halving computational cell along direction y\n",
      "time for choose_chunkdivision = 0.0016191 s\n",
      "Working in 3D dimensions.\n",
      "Computational cell is 0.5 x 0.5 x 8.55 with resolution 20\n",
      "     block, center = (0,0,0)\n",
      "          size (1e+20,1e+20,8.56)\n",
      "          axes (1,0,0), (0,1,0), (0,0,1)\n",
      "          dielectric constant epsilon diagonal = (1,1,1)\n",
      "     block, center = (0,0,-3.385)\n",
      "          size (1e+20,1e+20,1.78)\n",
      "          axes (1,0,0), (0,1,0), (0,0,1)\n",
      "          dielectric constant epsilon diagonal = (2.1025,2.1025,2.1025)\n",
      "     block, center = (0,0,0)\n",
      "          size (1e+20,1e+20,5)\n",
      "          axes (1,0,0), (0,1,0), (0,0,1)\n",
      "          dielectric constant epsilon diagonal = (12.1104,12.1104,12.1104)\n",
      "     block, center = (0,0,0.9375)\n",
      "          size (1e+20,1e+20,1.875)\n",
      "          axes (1,0,0), (0,1,0), (0,0,1)\n",
      "          dielectric constant epsilon diagonal = (2.1025,2.1025,2.1025)\n",
      "     cylinder, center = (0,0,0)\n",
      "          radius 0.118276, height 5, axis (0, 0, 1)\n",
      "          dielectric constant epsilon diagonal = (1,1,1)\n",
      "time for set_epsilon = 0.087898 s\n",
      "-----------\n"
     ]
    },
    {
     "data": {
      "application/vnd.jupyter.widget-view+json": {
       "model_id": "03a718b935f84cf8ab6c6d1ecc936bf8",
       "version_major": 2,
       "version_minor": 0
      },
      "text/plain": [
       "FloatProgress(value=0.0, description='0% done ', max=200.0)"
      ]
     },
     "metadata": {},
     "output_type": "display_data"
    },
    {
     "name": "stdout",
     "output_type": "stream",
     "text": [
      "run 0 finished at t = 200.0 (8000 timesteps)\n",
      "MPB solved for frequency_1(0,0,0.645161) = 0.645161 after 6 iters\n",
      "Dominant planewave for band 1: (0.000000,0.000000,0.645161)\n"
     ]
    },
    {
     "name": "stderr",
     "output_type": "stream",
     "text": [
      " 50%|████████████████████████████████▌                                | 15/30 [00:23<00:23,  1.60s/it]Warning: grid volume is not an integer number of pixels; cell size will be rounded to nearest pixel.\n"
     ]
    },
    {
     "name": "stdout",
     "output_type": "stream",
     "text": [
      "i= 14,radius=0.11827586206896551\n",
      "-----------\n",
      "Initializing structure...\n",
      "Halving computational cell along direction x\n",
      "Halving computational cell along direction y\n",
      "time for choose_chunkdivision = 0.00170898 s\n",
      "Working in 3D dimensions.\n",
      "Computational cell is 0.5 x 0.5 x 8.55 with resolution 20\n",
      "     block, center = (0,0,0)\n",
      "          size (1e+20,1e+20,8.56)\n",
      "          axes (1,0,0), (0,1,0), (0,0,1)\n",
      "          dielectric constant epsilon diagonal = (1,1,1)\n",
      "     block, center = (0,0,-3.385)\n",
      "          size (1e+20,1e+20,1.78)\n",
      "          axes (1,0,0), (0,1,0), (0,0,1)\n",
      "          dielectric constant epsilon diagonal = (2.1025,2.1025,2.1025)\n",
      "     block, center = (0,0,0)\n",
      "          size (1e+20,1e+20,5)\n",
      "          axes (1,0,0), (0,1,0), (0,0,1)\n",
      "          dielectric constant epsilon diagonal = (12.1104,12.1104,12.1104)\n",
      "     block, center = (0,0,0.9375)\n",
      "          size (1e+20,1e+20,1.875)\n",
      "          axes (1,0,0), (0,1,0), (0,0,1)\n",
      "          dielectric constant epsilon diagonal = (2.1025,2.1025,2.1025)\n",
      "     cylinder, center = (0,0,0)\n",
      "          radius 0.126724, height 5, axis (0, 0, 1)\n",
      "          dielectric constant epsilon diagonal = (1,1,1)\n",
      "time for set_epsilon = 0.099407 s\n",
      "-----------\n"
     ]
    },
    {
     "data": {
      "application/vnd.jupyter.widget-view+json": {
       "model_id": "c82f17c7010e4fa49db3e74c48852409",
       "version_major": 2,
       "version_minor": 0
      },
      "text/plain": [
       "FloatProgress(value=0.0, description='0% done ', max=200.0)"
      ]
     },
     "metadata": {},
     "output_type": "display_data"
    },
    {
     "name": "stdout",
     "output_type": "stream",
     "text": [
      "run 0 finished at t = 200.0 (8000 timesteps)\n",
      "MPB solved for frequency_1(0,0,0.645161) = 0.645161 after 6 iters\n",
      "Dominant planewave for band 1: (0.000000,0.000000,0.645161)\n"
     ]
    },
    {
     "name": "stderr",
     "output_type": "stream",
     "text": [
      " 53%|██████████████████████████████████▋                              | 16/30 [00:25<00:22,  1.60s/it]Warning: grid volume is not an integer number of pixels; cell size will be rounded to nearest pixel.\n"
     ]
    },
    {
     "name": "stdout",
     "output_type": "stream",
     "text": [
      "i= 15,radius=0.12672413793103446\n",
      "-----------\n",
      "Initializing structure...\n",
      "Halving computational cell along direction x\n",
      "Halving computational cell along direction y\n",
      "time for choose_chunkdivision = 0.001652 s\n",
      "Working in 3D dimensions.\n",
      "Computational cell is 0.5 x 0.5 x 8.55 with resolution 20\n",
      "     block, center = (0,0,0)\n",
      "          size (1e+20,1e+20,8.56)\n",
      "          axes (1,0,0), (0,1,0), (0,0,1)\n",
      "          dielectric constant epsilon diagonal = (1,1,1)\n",
      "     block, center = (0,0,-3.385)\n",
      "          size (1e+20,1e+20,1.78)\n",
      "          axes (1,0,0), (0,1,0), (0,0,1)\n",
      "          dielectric constant epsilon diagonal = (2.1025,2.1025,2.1025)\n",
      "     block, center = (0,0,0)\n",
      "          size (1e+20,1e+20,5)\n",
      "          axes (1,0,0), (0,1,0), (0,0,1)\n",
      "          dielectric constant epsilon diagonal = (12.1104,12.1104,12.1104)\n",
      "     block, center = (0,0,0.9375)\n",
      "          size (1e+20,1e+20,1.875)\n",
      "          axes (1,0,0), (0,1,0), (0,0,1)\n",
      "          dielectric constant epsilon diagonal = (2.1025,2.1025,2.1025)\n",
      "     cylinder, center = (0,0,0)\n",
      "          radius 0.135172, height 5, axis (0, 0, 1)\n",
      "          dielectric constant epsilon diagonal = (1,1,1)\n",
      "time for set_epsilon = 0.103901 s\n",
      "-----------\n"
     ]
    },
    {
     "data": {
      "application/vnd.jupyter.widget-view+json": {
       "model_id": "d742685114944aa7967e45200cfa5a1c",
       "version_major": 2,
       "version_minor": 0
      },
      "text/plain": [
       "FloatProgress(value=0.0, description='0% done ', max=200.0)"
      ]
     },
     "metadata": {},
     "output_type": "display_data"
    },
    {
     "name": "stdout",
     "output_type": "stream",
     "text": [
      "run 0 finished at t = 200.0 (8000 timesteps)\n",
      "MPB solved for frequency_1(0,0,0.645161) = 0.645161 after 6 iters\n",
      "Dominant planewave for band 1: (0.000000,0.000000,0.645161)\n"
     ]
    },
    {
     "name": "stderr",
     "output_type": "stream",
     "text": [
      " 57%|████████████████████████████████████▊                            | 17/30 [00:26<00:20,  1.60s/it]Warning: grid volume is not an integer number of pixels; cell size will be rounded to nearest pixel.\n"
     ]
    },
    {
     "name": "stdout",
     "output_type": "stream",
     "text": [
      "i= 16,radius=0.13517241379310344\n",
      "-----------\n",
      "Initializing structure...\n",
      "Halving computational cell along direction x\n",
      "Halving computational cell along direction y\n",
      "time for choose_chunkdivision = 0.00156403 s\n",
      "Working in 3D dimensions.\n",
      "Computational cell is 0.5 x 0.5 x 8.55 with resolution 20\n",
      "     block, center = (0,0,0)\n",
      "          size (1e+20,1e+20,8.56)\n",
      "          axes (1,0,0), (0,1,0), (0,0,1)\n",
      "          dielectric constant epsilon diagonal = (1,1,1)\n",
      "     block, center = (0,0,-3.385)\n",
      "          size (1e+20,1e+20,1.78)\n",
      "          axes (1,0,0), (0,1,0), (0,0,1)\n",
      "          dielectric constant epsilon diagonal = (2.1025,2.1025,2.1025)\n",
      "     block, center = (0,0,0)\n",
      "          size (1e+20,1e+20,5)\n",
      "          axes (1,0,0), (0,1,0), (0,0,1)\n",
      "          dielectric constant epsilon diagonal = (12.1104,12.1104,12.1104)\n",
      "     block, center = (0,0,0.9375)\n",
      "          size (1e+20,1e+20,1.875)\n",
      "          axes (1,0,0), (0,1,0), (0,0,1)\n",
      "          dielectric constant epsilon diagonal = (2.1025,2.1025,2.1025)\n",
      "     cylinder, center = (0,0,0)\n",
      "          radius 0.143621, height 5, axis (0, 0, 1)\n",
      "          dielectric constant epsilon diagonal = (1,1,1)\n",
      "time for set_epsilon = 0.100008 s\n",
      "-----------\n"
     ]
    },
    {
     "data": {
      "application/vnd.jupyter.widget-view+json": {
       "model_id": "eec94e86123c47da8c804fff71e7dbc2",
       "version_major": 2,
       "version_minor": 0
      },
      "text/plain": [
       "FloatProgress(value=0.0, description='0% done ', max=200.0)"
      ]
     },
     "metadata": {},
     "output_type": "display_data"
    },
    {
     "name": "stdout",
     "output_type": "stream",
     "text": [
      "run 0 finished at t = 200.0 (8000 timesteps)\n",
      "MPB solved for frequency_1(0,0,0.645161) = 0.645161 after 6 iters\n",
      "Dominant planewave for band 1: (0.000000,0.000000,0.645161)\n"
     ]
    },
    {
     "name": "stderr",
     "output_type": "stream",
     "text": [
      " 60%|███████████████████████████████████████                          | 18/30 [00:28<00:19,  1.60s/it]Warning: grid volume is not an integer number of pixels; cell size will be rounded to nearest pixel.\n"
     ]
    },
    {
     "name": "stdout",
     "output_type": "stream",
     "text": [
      "i= 17,radius=0.1436206896551724\n",
      "-----------\n",
      "Initializing structure...\n",
      "Halving computational cell along direction x\n",
      "Halving computational cell along direction y\n",
      "time for choose_chunkdivision = 0.00163388 s\n",
      "Working in 3D dimensions.\n",
      "Computational cell is 0.5 x 0.5 x 8.55 with resolution 20\n",
      "     block, center = (0,0,0)\n",
      "          size (1e+20,1e+20,8.56)\n",
      "          axes (1,0,0), (0,1,0), (0,0,1)\n",
      "          dielectric constant epsilon diagonal = (1,1,1)\n",
      "     block, center = (0,0,-3.385)\n",
      "          size (1e+20,1e+20,1.78)\n",
      "          axes (1,0,0), (0,1,0), (0,0,1)\n",
      "          dielectric constant epsilon diagonal = (2.1025,2.1025,2.1025)\n",
      "     block, center = (0,0,0)\n",
      "          size (1e+20,1e+20,5)\n",
      "          axes (1,0,0), (0,1,0), (0,0,1)\n",
      "          dielectric constant epsilon diagonal = (12.1104,12.1104,12.1104)\n",
      "     block, center = (0,0,0.9375)\n",
      "          size (1e+20,1e+20,1.875)\n",
      "          axes (1,0,0), (0,1,0), (0,0,1)\n",
      "          dielectric constant epsilon diagonal = (2.1025,2.1025,2.1025)\n",
      "     cylinder, center = (0,0,0)\n",
      "          radius 0.152069, height 5, axis (0, 0, 1)\n",
      "          dielectric constant epsilon diagonal = (1,1,1)\n",
      "time for set_epsilon = 0.100027 s\n",
      "-----------\n"
     ]
    },
    {
     "data": {
      "application/vnd.jupyter.widget-view+json": {
       "model_id": "ea9844beb7034c6090ef902dd3c8a294",
       "version_major": 2,
       "version_minor": 0
      },
      "text/plain": [
       "FloatProgress(value=0.0, description='0% done ', max=200.0)"
      ]
     },
     "metadata": {},
     "output_type": "display_data"
    },
    {
     "name": "stdout",
     "output_type": "stream",
     "text": [
      "run 0 finished at t = 200.0 (8000 timesteps)\n",
      "MPB solved for frequency_1(0,0,0.645161) = 0.645161 after 6 iters\n",
      "Dominant planewave for band 1: (0.000000,0.000000,0.645161)\n"
     ]
    },
    {
     "name": "stderr",
     "output_type": "stream",
     "text": [
      " 63%|█████████████████████████████████████████▏                       | 19/30 [00:29<00:17,  1.61s/it]Warning: grid volume is not an integer number of pixels; cell size will be rounded to nearest pixel.\n"
     ]
    },
    {
     "name": "stdout",
     "output_type": "stream",
     "text": [
      "i= 18,radius=0.15206896551724136\n",
      "-----------\n",
      "Initializing structure...\n",
      "Halving computational cell along direction x\n",
      "Halving computational cell along direction y\n",
      "time for choose_chunkdivision = 0.00161195 s\n",
      "Working in 3D dimensions.\n",
      "Computational cell is 0.5 x 0.5 x 8.55 with resolution 20\n",
      "     block, center = (0,0,0)\n",
      "          size (1e+20,1e+20,8.56)\n",
      "          axes (1,0,0), (0,1,0), (0,0,1)\n",
      "          dielectric constant epsilon diagonal = (1,1,1)\n",
      "     block, center = (0,0,-3.385)\n",
      "          size (1e+20,1e+20,1.78)\n",
      "          axes (1,0,0), (0,1,0), (0,0,1)\n",
      "          dielectric constant epsilon diagonal = (2.1025,2.1025,2.1025)\n",
      "     block, center = (0,0,0)\n",
      "          size (1e+20,1e+20,5)\n",
      "          axes (1,0,0), (0,1,0), (0,0,1)\n",
      "          dielectric constant epsilon diagonal = (12.1104,12.1104,12.1104)\n",
      "     block, center = (0,0,0.9375)\n",
      "          size (1e+20,1e+20,1.875)\n",
      "          axes (1,0,0), (0,1,0), (0,0,1)\n",
      "          dielectric constant epsilon diagonal = (2.1025,2.1025,2.1025)\n",
      "     cylinder, center = (0,0,0)\n",
      "          radius 0.160517, height 5, axis (0, 0, 1)\n",
      "          dielectric constant epsilon diagonal = (1,1,1)\n",
      "time for set_epsilon = 0.0982618 s\n",
      "-----------\n"
     ]
    },
    {
     "data": {
      "application/vnd.jupyter.widget-view+json": {
       "model_id": "d1d6e5a0438045baa2c7ab10983b7306",
       "version_major": 2,
       "version_minor": 0
      },
      "text/plain": [
       "FloatProgress(value=0.0, description='0% done ', max=200.0)"
      ]
     },
     "metadata": {},
     "output_type": "display_data"
    },
    {
     "name": "stdout",
     "output_type": "stream",
     "text": [
      "run 0 finished at t = 200.0 (8000 timesteps)\n",
      "MPB solved for frequency_1(0,0,0.645161) = 0.645161 after 6 iters\n",
      "Dominant planewave for band 1: (0.000000,0.000000,0.645161)\n"
     ]
    },
    {
     "name": "stderr",
     "output_type": "stream",
     "text": [
      " 67%|███████████████████████████████████████████▎                     | 20/30 [00:31<00:16,  1.61s/it]Warning: grid volume is not an integer number of pixels; cell size will be rounded to nearest pixel.\n"
     ]
    },
    {
     "name": "stdout",
     "output_type": "stream",
     "text": [
      "i= 19,radius=0.16051724137931034\n",
      "-----------\n",
      "Initializing structure...\n",
      "Halving computational cell along direction x\n",
      "Halving computational cell along direction y\n",
      "time for choose_chunkdivision = 0.00164604 s\n",
      "Working in 3D dimensions.\n",
      "Computational cell is 0.5 x 0.5 x 8.55 with resolution 20\n",
      "     block, center = (0,0,0)\n",
      "          size (1e+20,1e+20,8.56)\n",
      "          axes (1,0,0), (0,1,0), (0,0,1)\n",
      "          dielectric constant epsilon diagonal = (1,1,1)\n",
      "     block, center = (0,0,-3.385)\n",
      "          size (1e+20,1e+20,1.78)\n",
      "          axes (1,0,0), (0,1,0), (0,0,1)\n",
      "          dielectric constant epsilon diagonal = (2.1025,2.1025,2.1025)\n",
      "     block, center = (0,0,0)\n",
      "          size (1e+20,1e+20,5)\n",
      "          axes (1,0,0), (0,1,0), (0,0,1)\n",
      "          dielectric constant epsilon diagonal = (12.1104,12.1104,12.1104)\n",
      "     block, center = (0,0,0.9375)\n",
      "          size (1e+20,1e+20,1.875)\n",
      "          axes (1,0,0), (0,1,0), (0,0,1)\n",
      "          dielectric constant epsilon diagonal = (2.1025,2.1025,2.1025)\n",
      "     cylinder, center = (0,0,0)\n",
      "          radius 0.168966, height 5, axis (0, 0, 1)\n",
      "          dielectric constant epsilon diagonal = (1,1,1)\n",
      "time for set_epsilon = 0.0963871 s\n",
      "-----------\n"
     ]
    },
    {
     "data": {
      "application/vnd.jupyter.widget-view+json": {
       "model_id": "49a190888b30456ebd78987a82681af4",
       "version_major": 2,
       "version_minor": 0
      },
      "text/plain": [
       "FloatProgress(value=0.0, description='0% done ', max=200.0)"
      ]
     },
     "metadata": {},
     "output_type": "display_data"
    },
    {
     "name": "stdout",
     "output_type": "stream",
     "text": [
      "run 0 finished at t = 200.0 (8000 timesteps)\n",
      "MPB solved for frequency_1(0,0,0.645161) = 0.645161 after 6 iters\n",
      "Dominant planewave for band 1: (0.000000,0.000000,0.645161)\n"
     ]
    },
    {
     "name": "stderr",
     "output_type": "stream",
     "text": [
      " 70%|█████████████████████████████████████████████▌                   | 21/30 [00:33<00:14,  1.61s/it]Warning: grid volume is not an integer number of pixels; cell size will be rounded to nearest pixel.\n"
     ]
    },
    {
     "name": "stdout",
     "output_type": "stream",
     "text": [
      "i= 20,radius=0.1689655172413793\n",
      "-----------\n",
      "Initializing structure...\n",
      "Halving computational cell along direction x\n",
      "Halving computational cell along direction y\n",
      "time for choose_chunkdivision = 0.00171685 s\n",
      "Working in 3D dimensions.\n",
      "Computational cell is 0.5 x 0.5 x 8.55 with resolution 20\n",
      "     block, center = (0,0,0)\n",
      "          size (1e+20,1e+20,8.56)\n",
      "          axes (1,0,0), (0,1,0), (0,0,1)\n",
      "          dielectric constant epsilon diagonal = (1,1,1)\n",
      "     block, center = (0,0,-3.385)\n",
      "          size (1e+20,1e+20,1.78)\n",
      "          axes (1,0,0), (0,1,0), (0,0,1)\n",
      "          dielectric constant epsilon diagonal = (2.1025,2.1025,2.1025)\n",
      "     block, center = (0,0,0)\n",
      "          size (1e+20,1e+20,5)\n",
      "          axes (1,0,0), (0,1,0), (0,0,1)\n",
      "          dielectric constant epsilon diagonal = (12.1104,12.1104,12.1104)\n",
      "     block, center = (0,0,0.9375)\n",
      "          size (1e+20,1e+20,1.875)\n",
      "          axes (1,0,0), (0,1,0), (0,0,1)\n",
      "          dielectric constant epsilon diagonal = (2.1025,2.1025,2.1025)\n",
      "     cylinder, center = (0,0,0)\n",
      "          radius 0.177414, height 5, axis (0, 0, 1)\n",
      "          dielectric constant epsilon diagonal = (1,1,1)\n",
      "time for set_epsilon = 0.131478 s\n",
      "-----------\n"
     ]
    },
    {
     "data": {
      "application/vnd.jupyter.widget-view+json": {
       "model_id": "b60a3ff7389e4788b035524a450a9a64",
       "version_major": 2,
       "version_minor": 0
      },
      "text/plain": [
       "FloatProgress(value=0.0, description='0% done ', max=200.0)"
      ]
     },
     "metadata": {},
     "output_type": "display_data"
    },
    {
     "name": "stdout",
     "output_type": "stream",
     "text": [
      "run 0 finished at t = 200.0 (8000 timesteps)\n",
      "MPB solved for frequency_1(0,0,0.645161) = 0.645161 after 6 iters\n",
      "Dominant planewave for band 1: (0.000000,0.000000,0.645161)\n"
     ]
    },
    {
     "name": "stderr",
     "output_type": "stream",
     "text": [
      " 73%|███████████████████████████████████████████████▋                 | 22/30 [00:34<00:12,  1.62s/it]Warning: grid volume is not an integer number of pixels; cell size will be rounded to nearest pixel.\n"
     ]
    },
    {
     "name": "stdout",
     "output_type": "stream",
     "text": [
      "i= 21,radius=0.17741379310344826\n",
      "-----------\n",
      "Initializing structure...\n",
      "Halving computational cell along direction x\n",
      "Halving computational cell along direction y\n",
      "time for choose_chunkdivision = 0.00161791 s\n",
      "Working in 3D dimensions.\n",
      "Computational cell is 0.5 x 0.5 x 8.55 with resolution 20\n",
      "     block, center = (0,0,0)\n",
      "          size (1e+20,1e+20,8.56)\n",
      "          axes (1,0,0), (0,1,0), (0,0,1)\n",
      "          dielectric constant epsilon diagonal = (1,1,1)\n",
      "     block, center = (0,0,-3.385)\n",
      "          size (1e+20,1e+20,1.78)\n",
      "          axes (1,0,0), (0,1,0), (0,0,1)\n",
      "          dielectric constant epsilon diagonal = (2.1025,2.1025,2.1025)\n",
      "     block, center = (0,0,0)\n",
      "          size (1e+20,1e+20,5)\n",
      "          axes (1,0,0), (0,1,0), (0,0,1)\n",
      "          dielectric constant epsilon diagonal = (12.1104,12.1104,12.1104)\n",
      "     block, center = (0,0,0.9375)\n",
      "          size (1e+20,1e+20,1.875)\n",
      "          axes (1,0,0), (0,1,0), (0,0,1)\n",
      "          dielectric constant epsilon diagonal = (2.1025,2.1025,2.1025)\n",
      "     cylinder, center = (0,0,0)\n",
      "          radius 0.185862, height 5, axis (0, 0, 1)\n",
      "          dielectric constant epsilon diagonal = (1,1,1)\n",
      "time for set_epsilon = 0.103319 s\n",
      "-----------\n"
     ]
    },
    {
     "data": {
      "application/vnd.jupyter.widget-view+json": {
       "model_id": "00bec2c65a744003aaec92974290077c",
       "version_major": 2,
       "version_minor": 0
      },
      "text/plain": [
       "FloatProgress(value=0.0, description='0% done ', max=200.0)"
      ]
     },
     "metadata": {},
     "output_type": "display_data"
    },
    {
     "name": "stdout",
     "output_type": "stream",
     "text": [
      "run 0 finished at t = 200.0 (8000 timesteps)\n",
      "MPB solved for frequency_1(0,0,0.645161) = 0.645161 after 6 iters\n",
      "Dominant planewave for band 1: (0.000000,0.000000,0.645161)\n"
     ]
    },
    {
     "name": "stderr",
     "output_type": "stream",
     "text": [
      " 77%|█████████████████████████████████████████████████▊               | 23/30 [00:36<00:11,  1.62s/it]Warning: grid volume is not an integer number of pixels; cell size will be rounded to nearest pixel.\n"
     ]
    },
    {
     "name": "stdout",
     "output_type": "stream",
     "text": [
      "i= 22,radius=0.1858620689655172\n",
      "-----------\n",
      "Initializing structure...\n",
      "Halving computational cell along direction x\n",
      "Halving computational cell along direction y\n",
      "time for choose_chunkdivision = 0.00155401 s\n",
      "Working in 3D dimensions.\n",
      "Computational cell is 0.5 x 0.5 x 8.55 with resolution 20\n",
      "     block, center = (0,0,0)\n",
      "          size (1e+20,1e+20,8.56)\n",
      "          axes (1,0,0), (0,1,0), (0,0,1)\n",
      "          dielectric constant epsilon diagonal = (1,1,1)\n",
      "     block, center = (0,0,-3.385)\n",
      "          size (1e+20,1e+20,1.78)\n",
      "          axes (1,0,0), (0,1,0), (0,0,1)\n",
      "          dielectric constant epsilon diagonal = (2.1025,2.1025,2.1025)\n",
      "     block, center = (0,0,0)\n",
      "          size (1e+20,1e+20,5)\n",
      "          axes (1,0,0), (0,1,0), (0,0,1)\n",
      "          dielectric constant epsilon diagonal = (12.1104,12.1104,12.1104)\n",
      "     block, center = (0,0,0.9375)\n",
      "          size (1e+20,1e+20,1.875)\n",
      "          axes (1,0,0), (0,1,0), (0,0,1)\n",
      "          dielectric constant epsilon diagonal = (2.1025,2.1025,2.1025)\n",
      "     cylinder, center = (0,0,0)\n",
      "          radius 0.19431, height 5, axis (0, 0, 1)\n",
      "          dielectric constant epsilon diagonal = (1,1,1)\n",
      "time for set_epsilon = 0.115515 s\n",
      "-----------\n"
     ]
    },
    {
     "data": {
      "application/vnd.jupyter.widget-view+json": {
       "model_id": "f5f12ee5873b419eaa031a0c6cd9351e",
       "version_major": 2,
       "version_minor": 0
      },
      "text/plain": [
       "FloatProgress(value=0.0, description='0% done ', max=200.0)"
      ]
     },
     "metadata": {},
     "output_type": "display_data"
    },
    {
     "name": "stdout",
     "output_type": "stream",
     "text": [
      "run 0 finished at t = 200.0 (8000 timesteps)\n",
      "MPB solved for frequency_1(0,0,0.645161) = 0.645161 after 6 iters\n",
      "Dominant planewave for band 1: (0.000000,0.000000,0.645161)\n"
     ]
    },
    {
     "name": "stderr",
     "output_type": "stream",
     "text": [
      " 80%|████████████████████████████████████████████████████             | 24/30 [00:37<00:09,  1.63s/it]Warning: grid volume is not an integer number of pixels; cell size will be rounded to nearest pixel.\n"
     ]
    },
    {
     "name": "stdout",
     "output_type": "stream",
     "text": [
      "i= 23,radius=0.1943103448275862\n",
      "-----------\n",
      "Initializing structure...\n",
      "Halving computational cell along direction x\n",
      "Halving computational cell along direction y\n",
      "time for choose_chunkdivision = 0.00164819 s\n",
      "Working in 3D dimensions.\n",
      "Computational cell is 0.5 x 0.5 x 8.55 with resolution 20\n",
      "     block, center = (0,0,0)\n",
      "          size (1e+20,1e+20,8.56)\n",
      "          axes (1,0,0), (0,1,0), (0,0,1)\n",
      "          dielectric constant epsilon diagonal = (1,1,1)\n",
      "     block, center = (0,0,-3.385)\n",
      "          size (1e+20,1e+20,1.78)\n",
      "          axes (1,0,0), (0,1,0), (0,0,1)\n",
      "          dielectric constant epsilon diagonal = (2.1025,2.1025,2.1025)\n",
      "     block, center = (0,0,0)\n",
      "          size (1e+20,1e+20,5)\n",
      "          axes (1,0,0), (0,1,0), (0,0,1)\n",
      "          dielectric constant epsilon diagonal = (12.1104,12.1104,12.1104)\n",
      "     block, center = (0,0,0.9375)\n",
      "          size (1e+20,1e+20,1.875)\n",
      "          axes (1,0,0), (0,1,0), (0,0,1)\n",
      "          dielectric constant epsilon diagonal = (2.1025,2.1025,2.1025)\n",
      "     cylinder, center = (0,0,0)\n",
      "          radius 0.202759, height 5, axis (0, 0, 1)\n",
      "          dielectric constant epsilon diagonal = (1,1,1)\n",
      "time for set_epsilon = 0.129897 s\n",
      "-----------\n"
     ]
    },
    {
     "data": {
      "application/vnd.jupyter.widget-view+json": {
       "model_id": "aa2d6c77bcf34d4098a0316276bdf4fe",
       "version_major": 2,
       "version_minor": 0
      },
      "text/plain": [
       "FloatProgress(value=0.0, description='0% done ', max=200.0)"
      ]
     },
     "metadata": {},
     "output_type": "display_data"
    },
    {
     "name": "stdout",
     "output_type": "stream",
     "text": [
      "run 0 finished at t = 200.0 (8000 timesteps)\n",
      "MPB solved for frequency_1(0,0,0.645161) = 0.645161 after 6 iters\n",
      "Dominant planewave for band 1: (0.000000,0.000000,0.645161)\n"
     ]
    },
    {
     "name": "stderr",
     "output_type": "stream",
     "text": [
      " 83%|██████████████████████████████████████████████████████▏          | 25/30 [00:39<00:08,  1.63s/it]Warning: grid volume is not an integer number of pixels; cell size will be rounded to nearest pixel.\n"
     ]
    },
    {
     "name": "stdout",
     "output_type": "stream",
     "text": [
      "i= 24,radius=0.20275862068965517\n",
      "-----------\n",
      "Initializing structure...\n",
      "Halving computational cell along direction x\n",
      "Halving computational cell along direction y\n",
      "time for choose_chunkdivision = 0.00158787 s\n",
      "Working in 3D dimensions.\n",
      "Computational cell is 0.5 x 0.5 x 8.55 with resolution 20\n",
      "     block, center = (0,0,0)\n",
      "          size (1e+20,1e+20,8.56)\n",
      "          axes (1,0,0), (0,1,0), (0,0,1)\n",
      "          dielectric constant epsilon diagonal = (1,1,1)\n",
      "     block, center = (0,0,-3.385)\n",
      "          size (1e+20,1e+20,1.78)\n",
      "          axes (1,0,0), (0,1,0), (0,0,1)\n",
      "          dielectric constant epsilon diagonal = (2.1025,2.1025,2.1025)\n",
      "     block, center = (0,0,0)\n",
      "          size (1e+20,1e+20,5)\n",
      "          axes (1,0,0), (0,1,0), (0,0,1)\n",
      "          dielectric constant epsilon diagonal = (12.1104,12.1104,12.1104)\n",
      "     block, center = (0,0,0.9375)\n",
      "          size (1e+20,1e+20,1.875)\n",
      "          axes (1,0,0), (0,1,0), (0,0,1)\n",
      "          dielectric constant epsilon diagonal = (2.1025,2.1025,2.1025)\n",
      "     cylinder, center = (0,0,0)\n",
      "          radius 0.211207, height 5, axis (0, 0, 1)\n",
      "          dielectric constant epsilon diagonal = (1,1,1)\n",
      "time for set_epsilon = 0.122849 s\n",
      "-----------\n"
     ]
    },
    {
     "data": {
      "application/vnd.jupyter.widget-view+json": {
       "model_id": "8a8cafed79084fca92b0711ed918fce7",
       "version_major": 2,
       "version_minor": 0
      },
      "text/plain": [
       "FloatProgress(value=0.0, description='0% done ', max=200.0)"
      ]
     },
     "metadata": {},
     "output_type": "display_data"
    },
    {
     "name": "stdout",
     "output_type": "stream",
     "text": [
      "run 0 finished at t = 200.0 (8000 timesteps)\n",
      "MPB solved for frequency_1(0,0,0.645161) = 0.645161 after 6 iters\n",
      "Dominant planewave for band 1: (0.000000,0.000000,0.645161)\n"
     ]
    },
    {
     "name": "stderr",
     "output_type": "stream",
     "text": [
      " 87%|████████████████████████████████████████████████████████▎        | 26/30 [00:41<00:06,  1.63s/it]Warning: grid volume is not an integer number of pixels; cell size will be rounded to nearest pixel.\n"
     ]
    },
    {
     "name": "stdout",
     "output_type": "stream",
     "text": [
      "i= 25,radius=0.21120689655172412\n",
      "-----------\n",
      "Initializing structure...\n",
      "Halving computational cell along direction x\n",
      "Halving computational cell along direction y\n",
      "time for choose_chunkdivision = 0.00330687 s\n",
      "Working in 3D dimensions.\n",
      "Computational cell is 0.5 x 0.5 x 8.55 with resolution 20\n",
      "     block, center = (0,0,0)\n",
      "          size (1e+20,1e+20,8.56)\n",
      "          axes (1,0,0), (0,1,0), (0,0,1)\n",
      "          dielectric constant epsilon diagonal = (1,1,1)\n",
      "     block, center = (0,0,-3.385)\n",
      "          size (1e+20,1e+20,1.78)\n",
      "          axes (1,0,0), (0,1,0), (0,0,1)\n",
      "          dielectric constant epsilon diagonal = (2.1025,2.1025,2.1025)\n",
      "     block, center = (0,0,0)\n",
      "          size (1e+20,1e+20,5)\n",
      "          axes (1,0,0), (0,1,0), (0,0,1)\n",
      "          dielectric constant epsilon diagonal = (12.1104,12.1104,12.1104)\n",
      "     block, center = (0,0,0.9375)\n",
      "          size (1e+20,1e+20,1.875)\n",
      "          axes (1,0,0), (0,1,0), (0,0,1)\n",
      "          dielectric constant epsilon diagonal = (2.1025,2.1025,2.1025)\n",
      "     cylinder, center = (0,0,0)\n",
      "          radius 0.219655, height 5, axis (0, 0, 1)\n",
      "          dielectric constant epsilon diagonal = (1,1,1)\n",
      "time for set_epsilon = 0.126098 s\n",
      "-----------\n"
     ]
    },
    {
     "data": {
      "application/vnd.jupyter.widget-view+json": {
       "model_id": "443a26cd86774b4790728d0f3fed7cae",
       "version_major": 2,
       "version_minor": 0
      },
      "text/plain": [
       "FloatProgress(value=0.0, description='0% done ', max=200.0)"
      ]
     },
     "metadata": {},
     "output_type": "display_data"
    },
    {
     "name": "stdout",
     "output_type": "stream",
     "text": [
      "run 0 finished at t = 200.0 (8000 timesteps)\n",
      "MPB solved for frequency_1(0,0,0.645161) = 0.645161 after 6 iters\n",
      "Dominant planewave for band 1: (0.000000,0.000000,0.645161)\n"
     ]
    },
    {
     "name": "stderr",
     "output_type": "stream",
     "text": [
      " 90%|██████████████████████████████████████████████████████████▌      | 27/30 [00:42<00:04,  1.63s/it]Warning: grid volume is not an integer number of pixels; cell size will be rounded to nearest pixel.\n"
     ]
    },
    {
     "name": "stdout",
     "output_type": "stream",
     "text": [
      "i= 26,radius=0.2196551724137931\n",
      "-----------\n",
      "Initializing structure...\n",
      "Halving computational cell along direction x\n",
      "Halving computational cell along direction y\n",
      "time for choose_chunkdivision = 0.00157404 s\n",
      "Working in 3D dimensions.\n",
      "Computational cell is 0.5 x 0.5 x 8.55 with resolution 20\n",
      "     block, center = (0,0,0)\n",
      "          size (1e+20,1e+20,8.56)\n",
      "          axes (1,0,0), (0,1,0), (0,0,1)\n",
      "          dielectric constant epsilon diagonal = (1,1,1)\n",
      "     block, center = (0,0,-3.385)\n",
      "          size (1e+20,1e+20,1.78)\n",
      "          axes (1,0,0), (0,1,0), (0,0,1)\n",
      "          dielectric constant epsilon diagonal = (2.1025,2.1025,2.1025)\n",
      "     block, center = (0,0,0)\n",
      "          size (1e+20,1e+20,5)\n",
      "          axes (1,0,0), (0,1,0), (0,0,1)\n",
      "          dielectric constant epsilon diagonal = (12.1104,12.1104,12.1104)\n",
      "     block, center = (0,0,0.9375)\n",
      "          size (1e+20,1e+20,1.875)\n",
      "          axes (1,0,0), (0,1,0), (0,0,1)\n",
      "          dielectric constant epsilon diagonal = (2.1025,2.1025,2.1025)\n",
      "     cylinder, center = (0,0,0)\n",
      "          radius 0.228103, height 5, axis (0, 0, 1)\n",
      "          dielectric constant epsilon diagonal = (1,1,1)\n",
      "time for set_epsilon = 0.108008 s\n",
      "-----------\n"
     ]
    },
    {
     "data": {
      "application/vnd.jupyter.widget-view+json": {
       "model_id": "4ef39f00cb25425783f3a52637d7ac60",
       "version_major": 2,
       "version_minor": 0
      },
      "text/plain": [
       "FloatProgress(value=0.0, description='0% done ', max=200.0)"
      ]
     },
     "metadata": {},
     "output_type": "display_data"
    },
    {
     "name": "stdout",
     "output_type": "stream",
     "text": [
      "run 0 finished at t = 200.0 (8000 timesteps)\n",
      "MPB solved for frequency_1(0,0,0.645161) = 0.645161 after 6 iters\n",
      "Dominant planewave for band 1: (0.000000,0.000000,0.645161)\n"
     ]
    },
    {
     "name": "stderr",
     "output_type": "stream",
     "text": [
      " 93%|████████████████████████████████████████████████████████████▋    | 28/30 [00:44<00:03,  1.63s/it]Warning: grid volume is not an integer number of pixels; cell size will be rounded to nearest pixel.\n"
     ]
    },
    {
     "name": "stdout",
     "output_type": "stream",
     "text": [
      "i= 27,radius=0.22810344827586204\n",
      "-----------\n",
      "Initializing structure...\n",
      "Halving computational cell along direction x\n",
      "Halving computational cell along direction y\n",
      "time for choose_chunkdivision = 0.00170112 s\n",
      "Working in 3D dimensions.\n",
      "Computational cell is 0.5 x 0.5 x 8.55 with resolution 20\n",
      "     block, center = (0,0,0)\n",
      "          size (1e+20,1e+20,8.56)\n",
      "          axes (1,0,0), (0,1,0), (0,0,1)\n",
      "          dielectric constant epsilon diagonal = (1,1,1)\n",
      "     block, center = (0,0,-3.385)\n",
      "          size (1e+20,1e+20,1.78)\n",
      "          axes (1,0,0), (0,1,0), (0,0,1)\n",
      "          dielectric constant epsilon diagonal = (2.1025,2.1025,2.1025)\n",
      "     block, center = (0,0,0)\n",
      "          size (1e+20,1e+20,5)\n",
      "          axes (1,0,0), (0,1,0), (0,0,1)\n",
      "          dielectric constant epsilon diagonal = (12.1104,12.1104,12.1104)\n",
      "     block, center = (0,0,0.9375)\n",
      "          size (1e+20,1e+20,1.875)\n",
      "          axes (1,0,0), (0,1,0), (0,0,1)\n",
      "          dielectric constant epsilon diagonal = (2.1025,2.1025,2.1025)\n",
      "     cylinder, center = (0,0,0)\n",
      "          radius 0.236552, height 5, axis (0, 0, 1)\n",
      "          dielectric constant epsilon diagonal = (1,1,1)\n",
      "time for set_epsilon = 0.109813 s\n",
      "-----------\n"
     ]
    },
    {
     "data": {
      "application/vnd.jupyter.widget-view+json": {
       "model_id": "186a2a7b21c9493d90d94bcbd0577929",
       "version_major": 2,
       "version_minor": 0
      },
      "text/plain": [
       "FloatProgress(value=0.0, description='0% done ', max=200.0)"
      ]
     },
     "metadata": {},
     "output_type": "display_data"
    },
    {
     "name": "stdout",
     "output_type": "stream",
     "text": [
      "run 0 finished at t = 200.0 (8000 timesteps)\n",
      "MPB solved for frequency_1(0,0,0.645161) = 0.645161 after 6 iters\n",
      "Dominant planewave for band 1: (0.000000,0.000000,0.645161)\n"
     ]
    },
    {
     "name": "stderr",
     "output_type": "stream",
     "text": [
      " 97%|██████████████████████████████████████████████████████████████▊  | 29/30 [00:46<00:01,  1.63s/it]Warning: grid volume is not an integer number of pixels; cell size will be rounded to nearest pixel.\n"
     ]
    },
    {
     "name": "stdout",
     "output_type": "stream",
     "text": [
      "i= 28,radius=0.23655172413793102\n",
      "-----------\n",
      "Initializing structure...\n",
      "Halving computational cell along direction x\n",
      "Halving computational cell along direction y\n",
      "time for choose_chunkdivision = 0.00162005 s\n",
      "Working in 3D dimensions.\n",
      "Computational cell is 0.5 x 0.5 x 8.55 with resolution 20\n",
      "     block, center = (0,0,0)\n",
      "          size (1e+20,1e+20,8.56)\n",
      "          axes (1,0,0), (0,1,0), (0,0,1)\n",
      "          dielectric constant epsilon diagonal = (1,1,1)\n",
      "     block, center = (0,0,-3.385)\n",
      "          size (1e+20,1e+20,1.78)\n",
      "          axes (1,0,0), (0,1,0), (0,0,1)\n",
      "          dielectric constant epsilon diagonal = (2.1025,2.1025,2.1025)\n",
      "     block, center = (0,0,0)\n",
      "          size (1e+20,1e+20,5)\n",
      "          axes (1,0,0), (0,1,0), (0,0,1)\n",
      "          dielectric constant epsilon diagonal = (12.1104,12.1104,12.1104)\n",
      "     block, center = (0,0,0.9375)\n",
      "          size (1e+20,1e+20,1.875)\n",
      "          axes (1,0,0), (0,1,0), (0,0,1)\n",
      "          dielectric constant epsilon diagonal = (2.1025,2.1025,2.1025)\n",
      "     cylinder, center = (0,0,0)\n",
      "          radius 0.245, height 5, axis (0, 0, 1)\n",
      "          dielectric constant epsilon diagonal = (1,1,1)\n",
      "time for set_epsilon = 0.099772 s\n",
      "-----------\n"
     ]
    },
    {
     "data": {
      "application/vnd.jupyter.widget-view+json": {
       "model_id": "a2b62952ab5b47e79ffd186160d18b88",
       "version_major": 2,
       "version_minor": 0
      },
      "text/plain": [
       "FloatProgress(value=0.0, description='0% done ', max=200.0)"
      ]
     },
     "metadata": {},
     "output_type": "display_data"
    },
    {
     "name": "stdout",
     "output_type": "stream",
     "text": [
      "run 0 finished at t = 200.0 (8000 timesteps)\n",
      "MPB solved for frequency_1(0,0,0.645161) = 0.645161 after 6 iters\n",
      "Dominant planewave for band 1: (0.000000,0.000000,0.645161)\n"
     ]
    },
    {
     "name": "stderr",
     "output_type": "stream",
     "text": [
      "                                                                                                      \r"
     ]
    }
   ],
   "source": [
    "sim.reset_meep()\n",
    "\n",
    "pbar = tqdm(total=num,leave=False)\n",
    "for i,radius in enumerate(np.linspace(min,max,num=num)):\n",
    "\n",
    "    geometry.append(mp.Cylinder(radius=radius,\n",
    "                        height=height_hole,\n",
    "                        axis=mp.Vector3(0,0,1),\n",
    "                        center=mp.Vector3(0,0,center_hole),\n",
    "                        material=mp.Medium(index=n_air)))\n",
    "                                \n",
    "    #geometry=mp.Cylinder(radius=radius,\n",
    "\n",
    "\n",
    "    sim = mp.Simulation(cell_size=cell_size,\n",
    "                        geometry=geometry,\n",
    "                        sources=sources,\n",
    "                        k_point=k_point,\n",
    "                        boundary_layers=pml_layers,\n",
    "                        symmetries=symmetries,\n",
    "                        resolution=resolution)\n",
    "\n",
    "    flux_object = sim.add_flux(freq, df, nfreq, fr)  \n",
    "\n",
    "    sim.run(until=200)\n",
    "    \n",
    "    res = sim.get_eigenmode_coefficients(flux_object, [1], eig_parity=mp.ODD_Y)\n",
    "    coeffs = res.alpha\n",
    "\n",
    "    flux = abs(coeffs[0,0,0]**2)\n",
    "    phase = np.angle(coeffs[0,0,0]) \n",
    "    \n",
    "    data[0,i] = radius\n",
    "    data[1,i] = flux\n",
    "    data[2,i] = phase\n",
    "\n",
    "    \n",
    "    if(radius!=max):\n",
    "        sim.reset_meep()\n",
    "        print(f\"i= {i},radius={radius}\")\n",
    "        geometry.pop(-1)\n",
    "    pbar.update(1)\n",
    "pbar.close()\n",
    "\n",
    "## pickle operations\n",
    "radii = data[0,:]\n",
    "flux_list = data[1,0:] / initial_flux\n",
    "phase_list = data[2,0:]\n",
    "results_path='/develop/results'\n",
    "file_name='data.pkl'\n",
    "name = os.path.join(results_path,file_name)\n",
    "\n",
    "# from IPython import embed; embed()\n",
    "# embed()\n",
    "\n",
    "pickle.dump(data, open(name, \"wb\"))\n",
    "file_name='initial_flux.pkl'\n",
    "name = os.path.join(results_path,file_name)\n",
    "pickle.dump(initial_flux, open(name, \"wb\"))\n"
   ]
  },
  {
   "cell_type": "code",
   "execution_count": 3,
   "id": "18f881e7-cd6e-46aa-867a-493d8279ac60",
   "metadata": {},
   "outputs": [],
   "source": [
    "import pickle\n",
    "data = pickle.load(open(\"/develop/results/data.pkl\", \"rb\"))\n",
    "initial_flux = pickle.load(open(\"/develop/results/initial_flux.pkl\",\"rb\"))"
   ]
  },
  {
   "cell_type": "code",
   "execution_count": 17,
   "id": "be5c776a-5edf-47ab-a362-42daffeff3d2",
   "metadata": {},
   "outputs": [
    {
     "name": "stdout",
     "output_type": "stream",
     "text": [
      "[0.         0.00844828 0.01689655 0.02534483 0.0337931  0.04224138\n",
      " 0.05068966 0.05913793 0.06758621 0.07603448 0.08448276 0.09293103\n",
      " 0.10137931 0.10982759 0.11827586 0.12672414 0.13517241 0.14362069\n",
      " 0.15206897 0.16051724 0.16896552 0.17741379 0.18586207 0.19431034\n",
      " 0.20275862 0.2112069  0.21965517 0.22810345 0.23655172 0.245     ]\n",
      "[0.31672231 0.31672231 0.31672231 0.26987476 0.2615546  0.27942729\n",
      " 0.28745839 0.31455368 0.39037853 0.42605125 0.40618376 0.34652909\n",
      " 0.27015468 0.16404925 0.14477409 0.15703627 0.22780542 0.45842219\n",
      " 0.45063213 0.32171336 0.43598863 0.85469105 0.67979353 0.89497303\n",
      " 0.6185978  0.90680345 0.88302886 0.80406357 0.85966351 0.61707762]\n"
     ]
    },
    {
     "data": {
      "image/png": "[encoded data removed]",
      "text/plain": [
       "<Figure size 800x500 with 2 Axes>"
      ]
     },
     "metadata": {},
     "output_type": "display_data"
    }
   ],
   "source": [
    "radii = data[0,:]\n",
    "flux_list = data[1,0:] / initial_flux\n",
    "phase_list = data[2,0:]\n",
    "\n",
    "#plt.style.use('seaborn')\n",
    "\n",
    "results = {\"radii\": radii, \"flux\": flux_list, \"phase\": phase_list}\n",
    "# this section plots radius vs. phas and transmission\n",
    "\n",
    "tickfontsize=22\n",
    "labelfontsize=26\n",
    "titlefontsize=30\n",
    "\n",
    "fig,ax = plt.subplots(figsize=(8,5)) # may want to change. Also see DPI keyword\n",
    "\n",
    "fig.suptitle(\"Meta-atom Transmission\",fontsize=titlefontsize)\n",
    "\n",
    "#ax.set_title(\"Transmission Magnitude\",fontsize=titlefontsize)\n",
    "\n",
    "ax.set_xlabel(\"Radius\",fontsize=labelfontsize)\n",
    "ax.set_xticks([0.000,0.050,0.100,0.150,0.200,0.250])\n",
    "ax.set_xticklabels([0,50,100,150,200,250],fontsize=tickfontsize)\n",
    "ax.set_ylim([0,1])\n",
    "ax.set_ylabel(r'Percent Transmitted ($\\%$)',fontsize=labelfontsize, color = 'blue')\n",
    "#ax.plot(radii,flux_list,'b',label='Transmission')\n",
    "ax.plot(radii, flux_list, 'b', label='Transmission')\n",
    "print(radii)\n",
    "print(flux_list)\n",
    "ax.tick_params(axis='y', labelcolor = 'blue')\n",
    "\n",
    "ax.set_yticks([0,0.2,0.4,0.6,0.8,1])\n",
    "ax.set_yticklabels([0, 20,40,60,80,100],fontsize=tickfontsize)\n",
    "#ax.set_yticks([0.6,0.7,0.8,0.9,1])\n",
    "#ax.set_yticklabels([60,70,80,90,100],fontsize=ticgit config --gzlobal user.email \"you@example.com\"kfontsize)\n",
    "\n",
    "twin1 = ax.twinx()\n",
    "#ax[1].set_title(\"Transmission Phase\",fontsize=titlefontsize)S\n",
    "#ax[1].set_xlabel(\"Radius (nm)\",fontsize=labelfontsize)\n",
    "#ax[1].set_xticks([0.075,0.100,0.125,0.150,0.175,0.200,0.225,0.250])cd meep\n",
    "\n",
    "#ax[1].set_xticklabels([75,100,125,150,175,200,225,250],fontsize=tickfontsize)\n",
    "# twin1.set_ylim([-np.pi,np.pi])\n",
    "# twin1.set_ylabel(r'Phase Delay (rad)',fontsize=labelfontsize, color = 'red')\n",
    "# twin1.set_yticks([-np.pi, -(0.5*np.pi),0, np.pi / 2, np.pi])\n",
    "# twin1.set_yticklabels([r'-$\\pi$',r'-$\\frac{\\pi}{2}$',r'0',r'$\\frac{\\pi}{2}$',r'$\\pi$'],fontsize=tickfontsize+4)\n",
    "#twin1.plot(radii,phase_list,'r',label='Phase')\n",
    "twin1.tick_params(axis='y', labelcolor = 'red')\n",
    "#ax[1].legend(loc=\"upper right\")\n",
    "#plt.legend(loc=\"upper right\")\n",
    "plt.grid(False)\n",
    "plt.tight_layout()"
   ]
  },
  {
   "cell_type": "code",
   "execution_count": null,
   "id": "516fced0-51be-4789-aec6-e327f2dd4eab",
   "metadata": {},
   "outputs": [],
   "source": []
  }
 ],
 "metadata": {
  "kernelspec": {
   "display_name": "Python 3 (ipykernel)",
   "language": "python",
   "name": "python3"
  },
  "language_info": {
   "codemirror_mode": {
    "name": "ipython",
    "version": 3
   },
   "file_extension": ".py",
   "mimetype": "text/x-python",
   "name": "python",
   "nbconvert_exporter": "python",
   "pygments_lexer": "ipython3",
   "version": "3.10.11"
  }
 },
 "nbformat": 4,
 "nbformat_minor": 5
}
