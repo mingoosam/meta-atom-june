{
 "cells": [
  {
   "cell_type": "code",
   "execution_count": null,
   "id": "ff8de2af-20af-4ec7-8cc6-208b38b279c1",
   "metadata": {},
   "outputs": [],
   "source": [
    "plt.close('all')\n",
    "[X, Y] = np.meshgrid(x, y)\n",
    "# plt.style.use('seaborn-v0_8')\n",
    "#ax.contour(X, Y, phases)\n",
    "fig,ax = plt.subplots(1,1)\n",
    "cm= ax.contourf(X,Y,phases, cmap = 'turbo')\n",
    "\n",
    "ax.set_xlim(0, 0.245)\n",
    "ax.set_xlabel(\"Radius (nm)\",fontsize=15)\n",
    "ax.set_xticks([0.000,0.050,0.100,0.150,0.200,0.245])\n",
    "ax.set_xticklabels([0,50,100,150,200,245],fontsize=15) \n",
    "\n",
    "ax.set_ylim(1.02, 5)\n",
    "ax.set_ylabel(\"Depth (µm)\",fontsize=15)\n",
    "ax.set_yticks([1.02, 1.5, 2, 2.5, 3, 3.5, 4, 4.5, 5])\n",
    "ax.set_yticklabels([1, 1.5, 2, 2.5, 3, 3.5, 4, 4.5, 5],fontsize=15)\n",
    "print(y.min())\n",
    "\n",
    "print(x.max())\n",
    "\n",
    "cbar = fig.colorbar(cm,ax=ax)\n",
    "cbar.set_label('radian')\n",
    "# plt.imshow(phases, cmap = 'turbo')\n",
    "# plt.colorbar(label = 'my unit')\n",
    "\n",
    "plt.show()"
   ]
  },
  {
   "cell_type": "code",
   "execution_count": null,
   "id": "4da51516-6b21-4d8f-b731-812f661299ae",
   "metadata": {},
   "outputs": [],
   "source": [
    "plt.close('all')\n",
    "#plt.style.use('seaborn-v0_8')\n",
    "[X, Y] = np.meshgrid(x, y)\n",
    "#ax.contour(X, Y, phases)\n",
    "fig,ax = plt.subplots(1,1)\n",
    "cm = ax.contourf(X,Y,transmission, cmap = 'turbo')\n",
    "\n",
    "ax.set_xlim(0, 0.245)\n",
    "ax.set_xlabel(\"Radius (nm)\",fontsize=15)\n",
    "ax.set_xticks([0.000,0.050,0.100,0.150,0.200,0.245])\n",
    "ax.set_xticklabels([0,50,100,150,200,245],fontsize=15) \n",
    "\n",
    "ax.set_ylim(1.02, 5)\n",
    "ax.set_ylabel(\"Depth (µm)\",fontsize=15)\n",
    "ax.set_yticks([1.02, 1.5, 2, 2.5, 3, 3.5, 4, 4.5, 5])\n",
    "ax.set_yticklabels([1, 1.5, 2, 2.5, 3, 3.5, 4, 4.5, 5],fontsize=15)\n",
    "print(y.min())\n",
    "\n",
    "print(x.max())\n",
    "ax.grid(True)\n",
    "cbar1=fig.colorbar(cm,ax=ax)\n",
    "cbar1.set_label('% = W/W')\n",
    "#plt.colorbar(label='% = W/W')\n",
    "\n",
    "plt.show()\n",
    "\n"
   ]
  }
 ],
 "metadata": {
  "kernelspec": {
   "display_name": "Python 3 (ipykernel)",
   "language": "python",
   "name": "python3"
  },
  "language_info": {
   "codemirror_mode": {
    "name": "ipython",
    "version": 3
   },
   "file_extension": ".py",
   "mimetype": "text/x-python",
   "name": "python",
   "nbconvert_exporter": "python",
   "pygments_lexer": "ipython3",
   "version": "3.11.3"
  }
 },
 "nbformat": 4,
 "nbformat_minor": 5
}
