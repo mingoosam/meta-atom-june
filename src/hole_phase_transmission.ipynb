{
 "cells": [
  {
   "cell_type": "code",
   "execution_count": 19,
   "id": "6d1a8499",
   "metadata": {},
   "outputs": [],
   "source": [
    "import os\n",
    "import pickle\n",
    "import shutil \n",
    "\n",
    "import meep as mp\n",
    "import numpy as np\n",
    "import matplotlib.pyplot as plt\n",
    "from tqdm import tqdm\n",
    "import math\n",
    "from IPython import embed"
   ]
  },
  {
   "cell_type": "code",
   "execution_count": 20,
   "id": "5ca5e226",
   "metadata": {},
   "outputs": [],
   "source": [
    "# set up simulation constants\n",
    "\n",
    "resolution = 20\n",
    "\n",
    "n_air = 1.0000003\n",
    "#n_siox = 1.45\n",
    "n_siox = 3\n",
    "a = 0.5   # lattice period \n",
    "\n",
    "#pml_thickness = round(wavelength / 2,3)\n",
    "pml_thickness = 0.780\n",
    "height_hole = 5\n",
    "height_siox = 0.780\n",
    "height_air = 0.3\n",
    "\n",
    "cell_x = a\n",
    "cell_y = a\n",
    "cell_z = round(2*pml_thickness + height_siox + height_hole + height_air, 3)\n",
    "\n",
    "\n",
    "center_siox = round(pml_thickness + 0.5*height_siox- 0.5*cell_z, 3)\n",
    "center_hole = round(pml_thickness + height_siox + 0.5*height_hole\n",
    "                     - 0.5*cell_z, 3) \n",
    "center_air = round(pml_thickness + height_siox + height_hole + 0.5* height_air-0.5*cell_z,3)\n",
    "\n",
    "z_siox = pml_thickness+height_siox\n",
    "z_air = height_hole+height_air+pml_thickness\n",
    "\n",
    "#z_siox = pml_thickness + height_siox +height_space\n"
   ]
  },
  {
   "cell_type": "code",
   "execution_count": 21,
   "id": "38cef094",
   "metadata": {},
   "outputs": [],
   "source": [
    "\n",
    "\n",
    "geometry = [mp.Block(size=mp.Vector3(mp.inf,mp.inf,z_air), \n",
    "                  center=mp.Vector3(0,0,center_air),\n",
    "                  material=mp.Medium(index=n_air))]\n",
    "\n",
    "k_point = mp.Vector3(0,0,0)\n",
    "\n",
    "wavelength = 1.55\n",
    "freq = 1 / wavelength\n",
    "\n",
    "## initialize matrix for data collection ##\n",
    "##########################################\n",
    "\n",
    "num = 30 # this is the number of pillars we will build\n",
    "data = np.zeros((3,num))\n",
    "\n",
    "## set up and build source ##\n",
    "############################\n",
    "\n",
    "center_source = round(pml_thickness + height_siox*0.2 - 0.43*cell_z, 3) \n",
    "source_cmpt = mp.Ey\n",
    "\n",
    "sources = [mp.Source(mp.ContinuousSource(frequency=freq),\n",
    "                    component=source_cmpt,\n",
    "                    center=mp.Vector3(0,0,center_source),\n",
    "                    size=mp.Vector3(cell_x,cell_y,0))]\n"
   ]
  },
  {
   "cell_type": "code",
   "execution_count": 22,
   "id": "8791d7c6",
   "metadata": {},
   "outputs": [
    {
     "name": "stderr",
     "output_type": "stream",
     "text": [
      "Warning: grid volume is not an integer number of pixels; cell size will be rounded to nearest pixel.\n"
     ]
    },
    {
     "name": "stdout",
     "output_type": "stream",
     "text": [
      "[<meep.geom.Block object at 0x7f6e5d621490>, <meep.geom.Block object at 0x7f6e67bfdb50>]\n",
      "     block, center = (0,0,2.89)\n",
      "          size (1e+20,1e+20,0.3)\n",
      "          axes (1,0,0), (0,1,0), (0,0,1)\n",
      "          dielectric constant epsilon diagonal = (1,1,1)\n",
      "     block, center = (0,0,0.24)\n",
      "          size (1e+20,1e+20,7.64)\n",
      "          axes (1,0,0), (0,1,0), (0,0,1)\n",
      "          dielectric constant epsilon diagonal = (9,9,9)\n"
     ]
    },
    {
     "data": {
      "image/png": "[encoded data removed]",
      "text/plain": [
       "<Figure size 1000x1000 with 1 Axes>"
      ]
     },
     "metadata": {},
     "output_type": "display_data"
    }
   ],
   "source": [
    "## Set up simulation ##\n",
    "######################\n",
    "\n",
    "cell_size = mp.Vector3(cell_x,cell_y,cell_z)\n",
    "pml_layers = [mp.PML(thickness = pml_thickness, direction = mp.Z)]\n",
    "\n",
    "if source_cmpt == mp.Ey:\n",
    "    symmetries = [mp.Mirror(mp.X, phase=+1), #epsilon has mirror symmetry in x and y, phase doesn't matter\n",
    "                  mp.Mirror(mp.Y, phase=-1)] #but sources have -1 phase when reflected normal to their direction\n",
    "elif src_cmpt == mp.Ex:                      #use of symmetries important here, significantly speeds up sim\n",
    "    symmetries = [mp.Mirror(mp.X, phase=-1),\n",
    "                  mp.Mirror(mp.Y, phase=+1)]\n",
    "elif src_cmpt == mp.Ez:\n",
    "    symmetries = [mp.Mirror(mp.X, phase=+1),\n",
    "                  mp.Mirror(mp.Y, phase=+1)]\n",
    "\n",
    "geometry=[mp.Block(size=mp.Vector3(mp.inf,mp.inf,height_air),\n",
    "                    center=mp.Vector3(0,0,center_air),\n",
    "                    material=mp.Medium(index=n_air))]\n",
    "\n",
    "geometry.append(mp.Block(size=mp.Vector3(mp.inf,mp.inf,cell_z),\n",
    "                    center=mp.Vector3(0,0,center_hole),\n",
    "                    material=mp.Medium(index=n_siox)))\n",
    "\n",
    "\n",
    "\n",
    "\n",
    "sim = mp.Simulation(cell_size=cell_size,\n",
    "                    geometry=geometry,\n",
    "                    sources=sources,\n",
    "                    k_point=k_point,\n",
    "                    boundary_layers=pml_layers,\n",
    "                    symmetries=symmetries,\n",
    "                    resolution=resolution)\n",
    "\n",
    "nfreq = 1\n",
    "df = 0\n",
    "fr_center = round(0.5*cell_z - pml_thickness - 0.7*height_air, 3)\n",
    "fr = mp.FluxRegion(center=mp.Vector3(0,0,fr_center), \n",
    "            size=mp.Vector3(cell_x, cell_y, 0))\n",
    "\n",
    "flux_object = sim.add_flux(freq, df, nfreq, fr)\n",
    "min = 0.0\n",
    "max = 0.245\n",
    "\n",
    "print (geometry)\n",
    "\n",
    "fig = plt.figure(figsize=(10,10))\n",
    "plot_plane = mp.Volume(center=mp.Vector3(0,0.0*a,0),\n",
    "                            size=mp.Vector3(a,0,cell_z))\n",
    "field_func = lambda x: 20*np.log10(np.abs(x))\n",
    "sim.plot2D(output_plane=plot_plane\n",
    "           #fields=mp.Ey\n",
    "           )\n",
    "plt.grid(False)\n",
    "fig.savefig(\"test.png\")\n"
   ]
  },
  {
   "cell_type": "code",
   "execution_count": 23,
   "id": "11adef90",
   "metadata": {
    "scrolled": true
   },
   "outputs": [
    {
     "name": "stderr",
     "output_type": "stream",
     "text": [
      "Warning: grid volume is not an integer number of pixels; cell size will be rounded to nearest pixel.\n"
     ]
    },
    {
     "name": "stdout",
     "output_type": "stream",
     "text": [
      "-----------\n",
      "Initializing structure...\n",
      "Halving computational cell along direction x\n",
      "Halving computational cell along direction y\n",
      "time for choose_chunkdivision = 0.00139785 s\n",
      "Working in 3D dimensions.\n",
      "Computational cell is 0.5 x 0.5 x 7.65 with resolution 20\n",
      "     block, center = (0,0,2.89)\n",
      "          size (1e+20,1e+20,0.3)\n",
      "          axes (1,0,0), (0,1,0), (0,0,1)\n",
      "          dielectric constant epsilon diagonal = (1,1,1)\n",
      "     block, center = (0,0,0.24)\n",
      "          size (1e+20,1e+20,7.64)\n",
      "          axes (1,0,0), (0,1,0), (0,0,1)\n",
      "          dielectric constant epsilon diagonal = (9,9,9)\n",
      "time for set_epsilon = 0.032604 s\n",
      "-----------\n",
      "run 0 finished at t = 200.0 (8000 timesteps)\n"
     ]
    },
    {
     "name": "stderr",
     "output_type": "stream",
     "text": [
      "  0%|                                                                                                                                                                                       | 0/30 [00:00<?, ?it/s]Warning: grid volume is not an integer number of pixels; cell size will be rounded to nearest pixel.\n"
     ]
    },
    {
     "name": "stdout",
     "output_type": "stream",
     "text": [
      "-----------\n",
      "Initializing structure...\n",
      "Halving computational cell along direction x\n",
      "Halving computational cell along direction y\n",
      "time for choose_chunkdivision = 0.000766039 s\n",
      "Working in 3D dimensions.\n",
      "Computational cell is 0.5 x 0.5 x 7.65 with resolution 20\n",
      "     block, center = (0,0,2.89)\n",
      "          size (1e+20,1e+20,0.3)\n",
      "          axes (1,0,0), (0,1,0), (0,0,1)\n",
      "          dielectric constant epsilon diagonal = (1,1,1)\n",
      "     block, center = (0,0,0.24)\n",
      "          size (1e+20,1e+20,7.64)\n",
      "          axes (1,0,0), (0,1,0), (0,0,1)\n",
      "          dielectric constant epsilon diagonal = (9,9,9)\n",
      "     cylinder, center = (0,0,0.24)\n",
      "          radius 0, height 5, axis (0, 0, 1)\n",
      "          dielectric constant epsilon diagonal = (1,1,1)\n",
      "time for set_epsilon = 0.0320101 s\n",
      "-----------\n",
      "run 0 finished at t = 200.0 (8000 timesteps)\n",
      "MPB solved for frequency_1(0,0,1.93548) = 0.645161 after 11 iters\n",
      "Dominant planewave for band 1: (0.000000,0.000000,1.935484)\n"
     ]
    },
    {
     "name": "stderr",
     "output_type": "stream",
     "text": [
      "  3%|█████▊                                                                                                                                                                         | 1/30 [00:01<00:32,  1.12s/it]Warning: grid volume is not an integer number of pixels; cell size will be rounded to nearest pixel.\n"
     ]
    },
    {
     "name": "stdout",
     "output_type": "stream",
     "text": [
      "i= 0,radius=0.0\n",
      "-----------\n",
      "Initializing structure...\n",
      "Halving computational cell along direction x\n",
      "Halving computational cell along direction y\n",
      "time for choose_chunkdivision = 0.000881195 s\n",
      "Working in 3D dimensions.\n",
      "Computational cell is 0.5 x 0.5 x 7.65 with resolution 20\n",
      "     block, center = (0,0,2.89)\n",
      "          size (1e+20,1e+20,0.3)\n",
      "          axes (1,0,0), (0,1,0), (0,0,1)\n",
      "          dielectric constant epsilon diagonal = (1,1,1)\n",
      "     block, center = (0,0,0.24)\n",
      "          size (1e+20,1e+20,7.64)\n",
      "          axes (1,0,0), (0,1,0), (0,0,1)\n",
      "          dielectric constant epsilon diagonal = (9,9,9)\n",
      "     cylinder, center = (0,0,0.24)\n",
      "          radius 0.00844828, height 5, axis (0, 0, 1)\n",
      "          dielectric constant epsilon diagonal = (1,1,1)\n",
      "time for set_epsilon = 0.031909 s\n",
      "-----------\n",
      "run 0 finished at t = 200.0 (8000 timesteps)\n",
      "MPB solved for frequency_1(0,0,1.93548) = 0.645161 after 11 iters\n",
      "Dominant planewave for band 1: (0.000000,0.000000,1.935484)\n"
     ]
    },
    {
     "name": "stderr",
     "output_type": "stream",
     "text": [
      "  7%|███████████▋                                                                                                                                                                   | 2/30 [00:02<00:32,  1.15s/it]Warning: grid volume is not an integer number of pixels; cell size will be rounded to nearest pixel.\n"
     ]
    },
    {
     "name": "stdout",
     "output_type": "stream",
     "text": [
      "i= 1,radius=0.008448275862068965\n",
      "-----------\n",
      "Initializing structure...\n",
      "Halving computational cell along direction x\n",
      "Halving computational cell along direction y\n",
      "time for choose_chunkdivision = 0.000797033 s\n",
      "Working in 3D dimensions.\n",
      "Computational cell is 0.5 x 0.5 x 7.65 with resolution 20\n",
      "     block, center = (0,0,2.89)\n",
      "          size (1e+20,1e+20,0.3)\n",
      "          axes (1,0,0), (0,1,0), (0,0,1)\n",
      "          dielectric constant epsilon diagonal = (1,1,1)\n",
      "     block, center = (0,0,0.24)\n",
      "          size (1e+20,1e+20,7.64)\n",
      "          axes (1,0,0), (0,1,0), (0,0,1)\n",
      "          dielectric constant epsilon diagonal = (9,9,9)\n",
      "     cylinder, center = (0,0,0.24)\n",
      "          radius 0.0168966, height 5, axis (0, 0, 1)\n",
      "          dielectric constant epsilon diagonal = (1,1,1)\n",
      "time for set_epsilon = 0.031559 s\n",
      "-----------\n",
      "run 0 finished at t = 200.0 (8000 timesteps)\n",
      "MPB solved for frequency_1(0,0,1.93548) = 0.645161 after 11 iters\n",
      "Dominant planewave for band 1: (0.000000,0.000000,1.935484)\n"
     ]
    },
    {
     "name": "stderr",
     "output_type": "stream",
     "text": [
      " 10%|█████████████████▌                                                                                                                                                             | 3/30 [00:03<00:30,  1.13s/it]Warning: grid volume is not an integer number of pixels; cell size will be rounded to nearest pixel.\n"
     ]
    },
    {
     "name": "stdout",
     "output_type": "stream",
     "text": [
      "i= 2,radius=0.01689655172413793\n",
      "-----------\n",
      "Initializing structure...\n",
      "Halving computational cell along direction x\n",
      "Halving computational cell along direction y\n",
      "time for choose_chunkdivision = 0.000926971 s\n",
      "Working in 3D dimensions.\n",
      "Computational cell is 0.5 x 0.5 x 7.65 with resolution 20\n",
      "     block, center = (0,0,2.89)\n",
      "          size (1e+20,1e+20,0.3)\n",
      "          axes (1,0,0), (0,1,0), (0,0,1)\n",
      "          dielectric constant epsilon diagonal = (1,1,1)\n",
      "     block, center = (0,0,0.24)\n",
      "          size (1e+20,1e+20,7.64)\n",
      "          axes (1,0,0), (0,1,0), (0,0,1)\n",
      "          dielectric constant epsilon diagonal = (9,9,9)\n",
      "     cylinder, center = (0,0,0.24)\n",
      "          radius 0.0253448, height 5, axis (0, 0, 1)\n",
      "          dielectric constant epsilon diagonal = (1,1,1)\n",
      "time for set_epsilon = 0.0543859 s\n",
      "-----------\n",
      "run 0 finished at t = 200.0 (8000 timesteps)\n",
      "MPB solved for frequency_1(0,0,1.93548) = 0.645161 after 11 iters\n",
      "Dominant planewave for band 1: (0.000000,0.000000,1.935484)\n"
     ]
    },
    {
     "name": "stderr",
     "output_type": "stream",
     "text": [
      " 13%|███████████████████████▎                                                                                                                                                       | 4/30 [00:04<00:29,  1.15s/it]Warning: grid volume is not an integer number of pixels; cell size will be rounded to nearest pixel.\n"
     ]
    },
    {
     "name": "stdout",
     "output_type": "stream",
     "text": [
      "i= 3,radius=0.025344827586206896\n",
      "-----------\n",
      "Initializing structure...\n",
      "Halving computational cell along direction x\n",
      "Halving computational cell along direction y\n",
      "time for choose_chunkdivision = 0.000883102 s\n",
      "Working in 3D dimensions.\n",
      "Computational cell is 0.5 x 0.5 x 7.65 with resolution 20\n",
      "     block, center = (0,0,2.89)\n",
      "          size (1e+20,1e+20,0.3)\n",
      "          axes (1,0,0), (0,1,0), (0,0,1)\n",
      "          dielectric constant epsilon diagonal = (1,1,1)\n",
      "     block, center = (0,0,0.24)\n",
      "          size (1e+20,1e+20,7.64)\n",
      "          axes (1,0,0), (0,1,0), (0,0,1)\n",
      "          dielectric constant epsilon diagonal = (9,9,9)\n",
      "     cylinder, center = (0,0,0.24)\n",
      "          radius 0.0337931, height 5, axis (0, 0, 1)\n",
      "          dielectric constant epsilon diagonal = (1,1,1)\n",
      "time for set_epsilon = 0.0498691 s\n",
      "-----------\n",
      "run 0 finished at t = 200.0 (8000 timesteps)\n",
      "MPB solved for frequency_1(0,0,1.93548) = 0.645161 after 11 iters\n",
      "Dominant planewave for band 1: (0.000000,0.000000,1.935484)\n"
     ]
    },
    {
     "name": "stderr",
     "output_type": "stream",
     "text": [
      " 17%|█████████████████████████████▏                                                                                                                                                 | 5/30 [00:05<00:28,  1.16s/it]Warning: grid volume is not an integer number of pixels; cell size will be rounded to nearest pixel.\n"
     ]
    },
    {
     "name": "stdout",
     "output_type": "stream",
     "text": [
      "i= 4,radius=0.03379310344827586\n",
      "-----------\n",
      "Initializing structure...\n",
      "Halving computational cell along direction x\n",
      "Halving computational cell along direction y\n",
      "time for choose_chunkdivision = 0.000910997 s\n",
      "Working in 3D dimensions.\n",
      "Computational cell is 0.5 x 0.5 x 7.65 with resolution 20\n",
      "     block, center = (0,0,2.89)\n",
      "          size (1e+20,1e+20,0.3)\n",
      "          axes (1,0,0), (0,1,0), (0,0,1)\n",
      "          dielectric constant epsilon diagonal = (1,1,1)\n",
      "     block, center = (0,0,0.24)\n",
      "          size (1e+20,1e+20,7.64)\n",
      "          axes (1,0,0), (0,1,0), (0,0,1)\n",
      "          dielectric constant epsilon diagonal = (9,9,9)\n",
      "     cylinder, center = (0,0,0.24)\n",
      "          radius 0.0422414, height 5, axis (0, 0, 1)\n",
      "          dielectric constant epsilon diagonal = (1,1,1)\n",
      "time for set_epsilon = 0.0780809 s\n",
      "-----------\n",
      "run 0 finished at t = 200.0 (8000 timesteps)\n",
      "MPB solved for frequency_1(0,0,1.93548) = 0.645161 after 11 iters\n",
      "Dominant planewave for band 1: (0.000000,0.000000,1.935484)\n"
     ]
    },
    {
     "name": "stderr",
     "output_type": "stream",
     "text": [
      " 20%|███████████████████████████████████                                                                                                                                            | 6/30 [00:06<00:28,  1.17s/it]Warning: grid volume is not an integer number of pixels; cell size will be rounded to nearest pixel.\n"
     ]
    },
    {
     "name": "stdout",
     "output_type": "stream",
     "text": [
      "i= 5,radius=0.04224137931034482\n",
      "-----------\n",
      "Initializing structure...\n",
      "Halving computational cell along direction x\n",
      "Halving computational cell along direction y\n",
      "time for choose_chunkdivision = 0.000642061 s\n",
      "Working in 3D dimensions.\n",
      "Computational cell is 0.5 x 0.5 x 7.65 with resolution 20\n",
      "     block, center = (0,0,2.89)\n",
      "          size (1e+20,1e+20,0.3)\n",
      "          axes (1,0,0), (0,1,0), (0,0,1)\n",
      "          dielectric constant epsilon diagonal = (1,1,1)\n",
      "     block, center = (0,0,0.24)\n",
      "          size (1e+20,1e+20,7.64)\n",
      "          axes (1,0,0), (0,1,0), (0,0,1)\n",
      "          dielectric constant epsilon diagonal = (9,9,9)\n",
      "     cylinder, center = (0,0,0.24)\n",
      "          radius 0.0506897, height 5, axis (0, 0, 1)\n",
      "          dielectric constant epsilon diagonal = (1,1,1)\n",
      "time for set_epsilon = 0.0748169 s\n",
      "-----------\n",
      "run 0 finished at t = 200.0 (8000 timesteps)\n",
      "MPB solved for frequency_1(0,0,1.93548) = 0.645161 after 11 iters\n",
      "Dominant planewave for band 1: (0.000000,0.000000,1.935484)\n"
     ]
    },
    {
     "name": "stderr",
     "output_type": "stream",
     "text": [
      " 23%|████████████████████████████████████████▊                                                                                                                                      | 7/30 [00:08<00:27,  1.18s/it]Warning: grid volume is not an integer number of pixels; cell size will be rounded to nearest pixel.\n"
     ]
    },
    {
     "name": "stdout",
     "output_type": "stream",
     "text": [
      "i= 6,radius=0.05068965517241379\n",
      "-----------\n",
      "Initializing structure...\n",
      "Halving computational cell along direction x\n",
      "Halving computational cell along direction y\n",
      "time for choose_chunkdivision = 0.000763893 s\n",
      "Working in 3D dimensions.\n",
      "Computational cell is 0.5 x 0.5 x 7.65 with resolution 20\n",
      "     block, center = (0,0,2.89)\n",
      "          size (1e+20,1e+20,0.3)\n",
      "          axes (1,0,0), (0,1,0), (0,0,1)\n",
      "          dielectric constant epsilon diagonal = (1,1,1)\n",
      "     block, center = (0,0,0.24)\n",
      "          size (1e+20,1e+20,7.64)\n",
      "          axes (1,0,0), (0,1,0), (0,0,1)\n",
      "          dielectric constant epsilon diagonal = (9,9,9)\n",
      "     cylinder, center = (0,0,0.24)\n",
      "          radius 0.0591379, height 5, axis (0, 0, 1)\n",
      "          dielectric constant epsilon diagonal = (1,1,1)\n",
      "time for set_epsilon = 0.0874321 s\n",
      "-----------\n",
      "run 0 finished at t = 200.0 (8000 timesteps)\n",
      "MPB solved for frequency_1(0,0,1.93548) = 0.645161 after 11 iters\n",
      "Dominant planewave for band 1: (0.000000,0.000000,1.935484)\n"
     ]
    },
    {
     "name": "stderr",
     "output_type": "stream",
     "text": [
      " 27%|██████████████████████████████████████████████▋                                                                                                                                | 8/30 [00:09<00:26,  1.20s/it]Warning: grid volume is not an integer number of pixels; cell size will be rounded to nearest pixel.\n"
     ]
    },
    {
     "name": "stdout",
     "output_type": "stream",
     "text": [
      "i= 7,radius=0.059137931034482755\n",
      "-----------\n",
      "Initializing structure...\n",
      "Halving computational cell along direction x\n",
      "Halving computational cell along direction y\n",
      "time for choose_chunkdivision = 0.000801086 s\n",
      "Working in 3D dimensions.\n",
      "Computational cell is 0.5 x 0.5 x 7.65 with resolution 20\n",
      "     block, center = (0,0,2.89)\n",
      "          size (1e+20,1e+20,0.3)\n",
      "          axes (1,0,0), (0,1,0), (0,0,1)\n",
      "          dielectric constant epsilon diagonal = (1,1,1)\n",
      "     block, center = (0,0,0.24)\n",
      "          size (1e+20,1e+20,7.64)\n",
      "          axes (1,0,0), (0,1,0), (0,0,1)\n",
      "          dielectric constant epsilon diagonal = (9,9,9)\n",
      "     cylinder, center = (0,0,0.24)\n",
      "          radius 0.0675862, height 5, axis (0, 0, 1)\n",
      "          dielectric constant epsilon diagonal = (1,1,1)\n",
      "time for set_epsilon = 0.0857751 s\n",
      "-----------\n",
      "run 0 finished at t = 200.0 (8000 timesteps)\n",
      "MPB solved for frequency_1(0,0,1.93548) = 0.645161 after 11 iters\n",
      "Dominant planewave for band 1: (0.000000,0.000000,1.935484)\n"
     ]
    },
    {
     "name": "stderr",
     "output_type": "stream",
     "text": [
      " 30%|████████████████████████████████████████████████████▌                                                                                                                          | 9/30 [00:10<00:25,  1.22s/it]Warning: grid volume is not an integer number of pixels; cell size will be rounded to nearest pixel.\n"
     ]
    },
    {
     "name": "stdout",
     "output_type": "stream",
     "text": [
      "i= 8,radius=0.06758620689655172\n",
      "-----------\n",
      "Initializing structure...\n",
      "Halving computational cell along direction x\n",
      "Halving computational cell along direction y\n",
      "time for choose_chunkdivision = 0.000960827 s\n",
      "Working in 3D dimensions.\n",
      "Computational cell is 0.5 x 0.5 x 7.65 with resolution 20\n",
      "     block, center = (0,0,2.89)\n",
      "          size (1e+20,1e+20,0.3)\n",
      "          axes (1,0,0), (0,1,0), (0,0,1)\n",
      "          dielectric constant epsilon diagonal = (1,1,1)\n",
      "     block, center = (0,0,0.24)\n",
      "          size (1e+20,1e+20,7.64)\n",
      "          axes (1,0,0), (0,1,0), (0,0,1)\n",
      "          dielectric constant epsilon diagonal = (9,9,9)\n",
      "     cylinder, center = (0,0,0.24)\n",
      "          radius 0.0760345, height 5, axis (0, 0, 1)\n",
      "          dielectric constant epsilon diagonal = (1,1,1)\n",
      "time for set_epsilon = 0.0942109 s\n",
      "-----------\n",
      "run 0 finished at t = 200.0 (8000 timesteps)\n",
      "MPB solved for frequency_1(0,0,1.93548) = 0.645161 after 11 iters\n",
      "Dominant planewave for band 1: (0.000000,0.000000,1.935484)\n"
     ]
    },
    {
     "name": "stderr",
     "output_type": "stream",
     "text": [
      " 33%|██████████████████████████████████████████████████████████                                                                                                                    | 10/30 [00:11<00:24,  1.24s/it]Warning: grid volume is not an integer number of pixels; cell size will be rounded to nearest pixel.\n"
     ]
    },
    {
     "name": "stdout",
     "output_type": "stream",
     "text": [
      "i= 9,radius=0.07603448275862068\n",
      "-----------\n",
      "Initializing structure...\n",
      "Halving computational cell along direction x\n",
      "Halving computational cell along direction y\n",
      "time for choose_chunkdivision = 0.000984907 s\n",
      "Working in 3D dimensions.\n",
      "Computational cell is 0.5 x 0.5 x 7.65 with resolution 20\n",
      "     block, center = (0,0,2.89)\n",
      "          size (1e+20,1e+20,0.3)\n",
      "          axes (1,0,0), (0,1,0), (0,0,1)\n",
      "          dielectric constant epsilon diagonal = (1,1,1)\n",
      "     block, center = (0,0,0.24)\n",
      "          size (1e+20,1e+20,7.64)\n",
      "          axes (1,0,0), (0,1,0), (0,0,1)\n",
      "          dielectric constant epsilon diagonal = (9,9,9)\n",
      "     cylinder, center = (0,0,0.24)\n",
      "          radius 0.0844828, height 5, axis (0, 0, 1)\n",
      "          dielectric constant epsilon diagonal = (1,1,1)\n",
      "time for set_epsilon = 0.102494 s\n",
      "-----------\n",
      "run 0 finished at t = 200.0 (8000 timesteps)\n",
      "MPB solved for frequency_1(0,0,1.93548) = 0.645161 after 11 iters\n",
      "Dominant planewave for band 1: (0.000000,0.000000,1.935484)\n"
     ]
    },
    {
     "name": "stderr",
     "output_type": "stream",
     "text": [
      " 37%|███████████████████████████████████████████████████████████████▊                                                                                                              | 11/30 [00:13<00:24,  1.27s/it]Warning: grid volume is not an integer number of pixels; cell size will be rounded to nearest pixel.\n"
     ]
    },
    {
     "name": "stdout",
     "output_type": "stream",
     "text": [
      "i= 10,radius=0.08448275862068964\n",
      "-----------\n",
      "Initializing structure...\n",
      "Halving computational cell along direction x\n",
      "Halving computational cell along direction y\n",
      "time for choose_chunkdivision = 0.00153708 s\n",
      "Working in 3D dimensions.\n",
      "Computational cell is 0.5 x 0.5 x 7.65 with resolution 20\n",
      "     block, center = (0,0,2.89)\n",
      "          size (1e+20,1e+20,0.3)\n",
      "          axes (1,0,0), (0,1,0), (0,0,1)\n",
      "          dielectric constant epsilon diagonal = (1,1,1)\n",
      "     block, center = (0,0,0.24)\n",
      "          size (1e+20,1e+20,7.64)\n",
      "          axes (1,0,0), (0,1,0), (0,0,1)\n",
      "          dielectric constant epsilon diagonal = (9,9,9)\n",
      "     cylinder, center = (0,0,0.24)\n",
      "          radius 0.092931, height 5, axis (0, 0, 1)\n",
      "          dielectric constant epsilon diagonal = (1,1,1)\n",
      "time for set_epsilon = 0.0859799 s\n",
      "-----------\n",
      "run 0 finished at t = 200.0 (8000 timesteps)\n",
      "MPB solved for frequency_1(0,0,1.93548) = 0.645161 after 11 iters\n",
      "Dominant planewave for band 1: (0.000000,0.000000,1.935484)\n"
     ]
    },
    {
     "name": "stderr",
     "output_type": "stream",
     "text": [
      " 40%|█████████████████████████████████████████████████████████████████████▌                                                                                                        | 12/30 [00:14<00:23,  1.29s/it]Warning: grid volume is not an integer number of pixels; cell size will be rounded to nearest pixel.\n"
     ]
    },
    {
     "name": "stdout",
     "output_type": "stream",
     "text": [
      "i= 11,radius=0.0929310344827586\n",
      "-----------\n",
      "Initializing structure...\n",
      "Halving computational cell along direction x\n",
      "Halving computational cell along direction y\n",
      "time for choose_chunkdivision = 0.00117803 s\n",
      "Working in 3D dimensions.\n",
      "Computational cell is 0.5 x 0.5 x 7.65 with resolution 20\n",
      "     block, center = (0,0,2.89)\n",
      "          size (1e+20,1e+20,0.3)\n",
      "          axes (1,0,0), (0,1,0), (0,0,1)\n",
      "          dielectric constant epsilon diagonal = (1,1,1)\n",
      "     block, center = (0,0,0.24)\n",
      "          size (1e+20,1e+20,7.64)\n",
      "          axes (1,0,0), (0,1,0), (0,0,1)\n",
      "          dielectric constant epsilon diagonal = (9,9,9)\n",
      "     cylinder, center = (0,0,0.24)\n",
      "          radius 0.101379, height 5, axis (0, 0, 1)\n",
      "          dielectric constant epsilon diagonal = (1,1,1)\n",
      "time for set_epsilon = 0.089715 s\n",
      "-----------\n",
      "run 0 finished at t = 200.0 (8000 timesteps)\n",
      "MPB solved for frequency_1(0,0,1.93548) = 0.645161 after 11 iters\n",
      "Dominant planewave for band 1: (0.000000,0.000000,1.935484)\n"
     ]
    },
    {
     "name": "stderr",
     "output_type": "stream",
     "text": [
      " 43%|███████████████████████████████████████████████████████████████████████████▍                                                                                                  | 13/30 [00:15<00:22,  1.29s/it]Warning: grid volume is not an integer number of pixels; cell size will be rounded to nearest pixel.\n"
     ]
    },
    {
     "name": "stdout",
     "output_type": "stream",
     "text": [
      "i= 12,radius=0.10137931034482758\n",
      "-----------\n",
      "Initializing structure...\n",
      "Halving computational cell along direction x\n",
      "Halving computational cell along direction y\n",
      "time for choose_chunkdivision = 0.000731945 s\n",
      "Working in 3D dimensions.\n",
      "Computational cell is 0.5 x 0.5 x 7.65 with resolution 20\n",
      "     block, center = (0,0,2.89)\n",
      "          size (1e+20,1e+20,0.3)\n",
      "          axes (1,0,0), (0,1,0), (0,0,1)\n",
      "          dielectric constant epsilon diagonal = (1,1,1)\n",
      "     block, center = (0,0,0.24)\n",
      "          size (1e+20,1e+20,7.64)\n",
      "          axes (1,0,0), (0,1,0), (0,0,1)\n",
      "          dielectric constant epsilon diagonal = (9,9,9)\n",
      "     cylinder, center = (0,0,0.24)\n",
      "          radius 0.109828, height 5, axis (0, 0, 1)\n",
      "          dielectric constant epsilon diagonal = (1,1,1)\n",
      "time for set_epsilon = 0.0837409 s\n",
      "-----------\n",
      "run 0 finished at t = 200.0 (8000 timesteps)\n",
      "MPB solved for frequency_1(0,0,1.93548) = 0.645161 after 11 iters\n",
      "Dominant planewave for band 1: (0.000000,0.000000,1.935484)\n"
     ]
    },
    {
     "name": "stderr",
     "output_type": "stream",
     "text": [
      " 47%|█████████████████████████████████████████████████████████████████████████████████▏                                                                                            | 14/30 [00:17<00:20,  1.27s/it]Warning: grid volume is not an integer number of pixels; cell size will be rounded to nearest pixel.\n"
     ]
    },
    {
     "name": "stdout",
     "output_type": "stream",
     "text": [
      "i= 13,radius=0.10982758620689655\n",
      "-----------\n",
      "Initializing structure...\n",
      "Halving computational cell along direction x\n",
      "Halving computational cell along direction y\n",
      "time for choose_chunkdivision = 0.000795841 s\n",
      "Working in 3D dimensions.\n",
      "Computational cell is 0.5 x 0.5 x 7.65 with resolution 20\n",
      "     block, center = (0,0,2.89)\n",
      "          size (1e+20,1e+20,0.3)\n",
      "          axes (1,0,0), (0,1,0), (0,0,1)\n",
      "          dielectric constant epsilon diagonal = (1,1,1)\n",
      "     block, center = (0,0,0.24)\n",
      "          size (1e+20,1e+20,7.64)\n",
      "          axes (1,0,0), (0,1,0), (0,0,1)\n",
      "          dielectric constant epsilon diagonal = (9,9,9)\n",
      "     cylinder, center = (0,0,0.24)\n",
      "          radius 0.118276, height 5, axis (0, 0, 1)\n",
      "          dielectric constant epsilon diagonal = (1,1,1)\n",
      "time for set_epsilon = 0.079381 s\n",
      "-----------\n",
      "run 0 finished at t = 200.0 (8000 timesteps)\n",
      "MPB solved for frequency_1(0,0,1.93548) = 0.645161 after 11 iters\n",
      "Dominant planewave for band 1: (0.000000,0.000000,1.935484)\n"
     ]
    },
    {
     "name": "stderr",
     "output_type": "stream",
     "text": [
      " 50%|███████████████████████████████████████████████████████████████████████████████████████                                                                                       | 15/30 [00:18<00:18,  1.26s/it]Warning: grid volume is not an integer number of pixels; cell size will be rounded to nearest pixel.\n"
     ]
    },
    {
     "name": "stdout",
     "output_type": "stream",
     "text": [
      "i= 14,radius=0.11827586206896551\n",
      "-----------\n",
      "Initializing structure...\n",
      "Halving computational cell along direction x\n",
      "Halving computational cell along direction y\n",
      "time for choose_chunkdivision = 0.000952005 s\n",
      "Working in 3D dimensions.\n",
      "Computational cell is 0.5 x 0.5 x 7.65 with resolution 20\n",
      "     block, center = (0,0,2.89)\n",
      "          size (1e+20,1e+20,0.3)\n",
      "          axes (1,0,0), (0,1,0), (0,0,1)\n",
      "          dielectric constant epsilon diagonal = (1,1,1)\n",
      "     block, center = (0,0,0.24)\n",
      "          size (1e+20,1e+20,7.64)\n",
      "          axes (1,0,0), (0,1,0), (0,0,1)\n",
      "          dielectric constant epsilon diagonal = (9,9,9)\n",
      "     cylinder, center = (0,0,0.24)\n",
      "          radius 0.126724, height 5, axis (0, 0, 1)\n",
      "          dielectric constant epsilon diagonal = (1,1,1)\n",
      "time for set_epsilon = 0.0983338 s\n",
      "-----------\n",
      "run 0 finished at t = 200.0 (8000 timesteps)\n",
      "MPB solved for frequency_1(0,0,1.93548) = 0.645161 after 11 iters\n",
      "Dominant planewave for band 1: (0.000000,0.000000,1.935484)\n"
     ]
    },
    {
     "name": "stderr",
     "output_type": "stream",
     "text": [
      " 53%|████████████████████████████████████████████████████████████████████████████████████████████▊                                                                                 | 16/30 [00:19<00:17,  1.25s/it]Warning: grid volume is not an integer number of pixels; cell size will be rounded to nearest pixel.\n"
     ]
    },
    {
     "name": "stdout",
     "output_type": "stream",
     "text": [
      "i= 15,radius=0.12672413793103446\n",
      "-----------\n",
      "Initializing structure...\n",
      "Halving computational cell along direction x\n",
      "Halving computational cell along direction y\n",
      "time for choose_chunkdivision = 0.00134897 s\n",
      "Working in 3D dimensions.\n",
      "Computational cell is 0.5 x 0.5 x 7.65 with resolution 20\n",
      "     block, center = (0,0,2.89)\n",
      "          size (1e+20,1e+20,0.3)\n",
      "          axes (1,0,0), (0,1,0), (0,0,1)\n",
      "          dielectric constant epsilon diagonal = (1,1,1)\n",
      "     block, center = (0,0,0.24)\n",
      "          size (1e+20,1e+20,7.64)\n",
      "          axes (1,0,0), (0,1,0), (0,0,1)\n",
      "          dielectric constant epsilon diagonal = (9,9,9)\n",
      "     cylinder, center = (0,0,0.24)\n",
      "          radius 0.135172, height 5, axis (0, 0, 1)\n",
      "          dielectric constant epsilon diagonal = (1,1,1)\n",
      "time for set_epsilon = 0.107631 s\n",
      "-----------\n",
      "run 0 finished at t = 200.0 (8000 timesteps)\n",
      "MPB solved for frequency_1(0,0,1.93548) = 0.645161 after 11 iters\n",
      "Dominant planewave for band 1: (0.000000,0.000000,1.935484)\n"
     ]
    },
    {
     "name": "stderr",
     "output_type": "stream",
     "text": [
      " 57%|██████████████████████████████████████████████████████████████████████████████████████████████████▌                                                                           | 17/30 [00:20<00:16,  1.26s/it]Warning: grid volume is not an integer number of pixels; cell size will be rounded to nearest pixel.\n"
     ]
    },
    {
     "name": "stdout",
     "output_type": "stream",
     "text": [
      "i= 16,radius=0.13517241379310344\n",
      "-----------\n",
      "Initializing structure...\n",
      "Halving computational cell along direction x\n",
      "Halving computational cell along direction y\n",
      "time for choose_chunkdivision = 0.00079298 s\n",
      "Working in 3D dimensions.\n",
      "Computational cell is 0.5 x 0.5 x 7.65 with resolution 20\n",
      "     block, center = (0,0,2.89)\n",
      "          size (1e+20,1e+20,0.3)\n",
      "          axes (1,0,0), (0,1,0), (0,0,1)\n",
      "          dielectric constant epsilon diagonal = (1,1,1)\n",
      "     block, center = (0,0,0.24)\n",
      "          size (1e+20,1e+20,7.64)\n",
      "          axes (1,0,0), (0,1,0), (0,0,1)\n",
      "          dielectric constant epsilon diagonal = (9,9,9)\n",
      "     cylinder, center = (0,0,0.24)\n",
      "          radius 0.143621, height 5, axis (0, 0, 1)\n",
      "          dielectric constant epsilon diagonal = (1,1,1)\n",
      "time for set_epsilon = 0.0975542 s\n",
      "-----------\n",
      "run 0 finished at t = 200.0 (8000 timesteps)\n",
      "MPB solved for frequency_1(0,0,1.93548) = 0.645161 after 11 iters\n",
      "Dominant planewave for band 1: (0.000000,0.000000,1.935484)\n"
     ]
    },
    {
     "name": "stderr",
     "output_type": "stream",
     "text": [
      " 60%|████████████████████████████████████████████████████████████████████████████████████████████████████████▍                                                                     | 18/30 [00:22<00:15,  1.25s/it]Warning: grid volume is not an integer number of pixels; cell size will be rounded to nearest pixel.\n"
     ]
    },
    {
     "name": "stdout",
     "output_type": "stream",
     "text": [
      "i= 17,radius=0.1436206896551724\n",
      "-----------\n",
      "Initializing structure...\n",
      "Halving computational cell along direction x\n",
      "Halving computational cell along direction y\n",
      "time for choose_chunkdivision = 0.000777006 s\n",
      "Working in 3D dimensions.\n",
      "Computational cell is 0.5 x 0.5 x 7.65 with resolution 20\n",
      "     block, center = (0,0,2.89)\n",
      "          size (1e+20,1e+20,0.3)\n",
      "          axes (1,0,0), (0,1,0), (0,0,1)\n",
      "          dielectric constant epsilon diagonal = (1,1,1)\n",
      "     block, center = (0,0,0.24)\n",
      "          size (1e+20,1e+20,7.64)\n",
      "          axes (1,0,0), (0,1,0), (0,0,1)\n",
      "          dielectric constant epsilon diagonal = (9,9,9)\n",
      "     cylinder, center = (0,0,0.24)\n",
      "          radius 0.152069, height 5, axis (0, 0, 1)\n",
      "          dielectric constant epsilon diagonal = (1,1,1)\n",
      "time for set_epsilon = 0.094655 s\n",
      "-----------\n",
      "run 0 finished at t = 200.0 (8000 timesteps)\n",
      "MPB solved for frequency_1(0,0,1.93548) = 0.645161 after 11 iters\n",
      "Dominant planewave for band 1: (0.000000,0.000000,1.935484)\n"
     ]
    },
    {
     "name": "stderr",
     "output_type": "stream",
     "text": [
      " 63%|██████████████████████████████████████████████████████████████████████████████████████████████████████████████▏                                                               | 19/30 [00:23<00:13,  1.26s/it]Warning: grid volume is not an integer number of pixels; cell size will be rounded to nearest pixel.\n"
     ]
    },
    {
     "name": "stdout",
     "output_type": "stream",
     "text": [
      "i= 18,radius=0.15206896551724136\n",
      "-----------\n",
      "Initializing structure...\n",
      "Halving computational cell along direction x\n",
      "Halving computational cell along direction y\n",
      "time for choose_chunkdivision = 0.000895023 s\n",
      "Working in 3D dimensions.\n",
      "Computational cell is 0.5 x 0.5 x 7.65 with resolution 20\n",
      "     block, center = (0,0,2.89)\n",
      "          size (1e+20,1e+20,0.3)\n",
      "          axes (1,0,0), (0,1,0), (0,0,1)\n",
      "          dielectric constant epsilon diagonal = (1,1,1)\n",
      "     block, center = (0,0,0.24)\n",
      "          size (1e+20,1e+20,7.64)\n",
      "          axes (1,0,0), (0,1,0), (0,0,1)\n",
      "          dielectric constant epsilon diagonal = (9,9,9)\n",
      "     cylinder, center = (0,0,0.24)\n",
      "          radius 0.160517, height 5, axis (0, 0, 1)\n",
      "          dielectric constant epsilon diagonal = (1,1,1)\n",
      "time for set_epsilon = 0.0974882 s\n",
      "-----------\n",
      "run 0 finished at t = 200.0 (8000 timesteps)\n",
      "MPB solved for frequency_1(0,0,1.93548) = 0.645161 after 11 iters\n",
      "Dominant planewave for band 1: (0.000000,0.000000,1.935484)\n"
     ]
    },
    {
     "name": "stderr",
     "output_type": "stream",
     "text": [
      " 67%|████████████████████████████████████████████████████████████████████████████████████████████████████████████████████                                                          | 20/30 [00:24<00:12,  1.30s/it]Warning: grid volume is not an integer number of pixels; cell size will be rounded to nearest pixel.\n"
     ]
    },
    {
     "name": "stdout",
     "output_type": "stream",
     "text": [
      "i= 19,radius=0.16051724137931034\n",
      "-----------\n",
      "Initializing structure...\n",
      "Halving computational cell along direction x\n",
      "Halving computational cell along direction y\n",
      "time for choose_chunkdivision = 0.000727892 s\n",
      "Working in 3D dimensions.\n",
      "Computational cell is 0.5 x 0.5 x 7.65 with resolution 20\n",
      "     block, center = (0,0,2.89)\n",
      "          size (1e+20,1e+20,0.3)\n",
      "          axes (1,0,0), (0,1,0), (0,0,1)\n",
      "          dielectric constant epsilon diagonal = (1,1,1)\n",
      "     block, center = (0,0,0.24)\n",
      "          size (1e+20,1e+20,7.64)\n",
      "          axes (1,0,0), (0,1,0), (0,0,1)\n",
      "          dielectric constant epsilon diagonal = (9,9,9)\n",
      "     cylinder, center = (0,0,0.24)\n",
      "          radius 0.168966, height 5, axis (0, 0, 1)\n",
      "          dielectric constant epsilon diagonal = (1,1,1)\n",
      "time for set_epsilon = 0.0935509 s\n",
      "-----------\n",
      "run 0 finished at t = 200.0 (8000 timesteps)\n",
      "MPB solved for frequency_1(0,0,1.93548) = 0.645161 after 11 iters\n",
      "Dominant planewave for band 1: (0.000000,0.000000,1.935484)\n"
     ]
    },
    {
     "name": "stderr",
     "output_type": "stream",
     "text": [
      " 70%|█████████████████████████████████████████████████████████████████████████████████████████████████████████████████████████▊                                                    | 21/30 [00:26<00:11,  1.28s/it]Warning: grid volume is not an integer number of pixels; cell size will be rounded to nearest pixel.\n"
     ]
    },
    {
     "name": "stdout",
     "output_type": "stream",
     "text": [
      "i= 20,radius=0.1689655172413793\n",
      "-----------\n",
      "Initializing structure...\n",
      "Halving computational cell along direction x\n",
      "Halving computational cell along direction y\n",
      "time for choose_chunkdivision = 0.000802994 s\n",
      "Working in 3D dimensions.\n",
      "Computational cell is 0.5 x 0.5 x 7.65 with resolution 20\n",
      "     block, center = (0,0,2.89)\n",
      "          size (1e+20,1e+20,0.3)\n",
      "          axes (1,0,0), (0,1,0), (0,0,1)\n",
      "          dielectric constant epsilon diagonal = (1,1,1)\n",
      "     block, center = (0,0,0.24)\n",
      "          size (1e+20,1e+20,7.64)\n",
      "          axes (1,0,0), (0,1,0), (0,0,1)\n",
      "          dielectric constant epsilon diagonal = (9,9,9)\n",
      "     cylinder, center = (0,0,0.24)\n",
      "          radius 0.177414, height 5, axis (0, 0, 1)\n",
      "          dielectric constant epsilon diagonal = (1,1,1)\n",
      "time for set_epsilon = 0.139079 s\n",
      "-----------\n",
      "run 0 finished at t = 200.0 (8000 timesteps)\n",
      "MPB solved for frequency_1(0,0,1.93548) = 0.645161 after 11 iters\n",
      "Dominant planewave for band 1: (0.000000,0.000000,1.935484)\n"
     ]
    },
    {
     "name": "stderr",
     "output_type": "stream",
     "text": [
      " 73%|███████████████████████████████████████████████████████████████████████████████████████████████████████████████████████████████▌                                              | 22/30 [00:27<00:10,  1.28s/it]Warning: grid volume is not an integer number of pixels; cell size will be rounded to nearest pixel.\n"
     ]
    },
    {
     "name": "stdout",
     "output_type": "stream",
     "text": [
      "i= 21,radius=0.17741379310344826\n",
      "-----------\n",
      "Initializing structure...\n",
      "Halving computational cell along direction x\n",
      "Halving computational cell along direction y\n",
      "time for choose_chunkdivision = 0.00077796 s\n",
      "Working in 3D dimensions.\n",
      "Computational cell is 0.5 x 0.5 x 7.65 with resolution 20\n",
      "     block, center = (0,0,2.89)\n",
      "          size (1e+20,1e+20,0.3)\n",
      "          axes (1,0,0), (0,1,0), (0,0,1)\n",
      "          dielectric constant epsilon diagonal = (1,1,1)\n",
      "     block, center = (0,0,0.24)\n",
      "          size (1e+20,1e+20,7.64)\n",
      "          axes (1,0,0), (0,1,0), (0,0,1)\n",
      "          dielectric constant epsilon diagonal = (9,9,9)\n",
      "     cylinder, center = (0,0,0.24)\n",
      "          radius 0.185862, height 5, axis (0, 0, 1)\n",
      "          dielectric constant epsilon diagonal = (1,1,1)\n",
      "time for set_epsilon = 0.100412 s\n",
      "-----------\n",
      "run 0 finished at t = 200.0 (8000 timesteps)\n",
      "MPB solved for frequency_1(0,0,1.93548) = 0.645161 after 11 iters\n",
      "Dominant planewave for band 1: (0.000000,0.000000,1.935484)\n"
     ]
    },
    {
     "name": "stderr",
     "output_type": "stream",
     "text": [
      " 77%|█████████████████████████████████████████████████████████████████████████████████████████████████████████████████████████████████████▍                                        | 23/30 [00:28<00:08,  1.27s/it]Warning: grid volume is not an integer number of pixels; cell size will be rounded to nearest pixel.\n"
     ]
    },
    {
     "name": "stdout",
     "output_type": "stream",
     "text": [
      "i= 22,radius=0.1858620689655172\n",
      "-----------\n",
      "Initializing structure...\n",
      "Halving computational cell along direction x\n",
      "Halving computational cell along direction y\n",
      "time for choose_chunkdivision = 0.000841856 s\n",
      "Working in 3D dimensions.\n",
      "Computational cell is 0.5 x 0.5 x 7.65 with resolution 20\n",
      "     block, center = (0,0,2.89)\n",
      "          size (1e+20,1e+20,0.3)\n",
      "          axes (1,0,0), (0,1,0), (0,0,1)\n",
      "          dielectric constant epsilon diagonal = (1,1,1)\n",
      "     block, center = (0,0,0.24)\n",
      "          size (1e+20,1e+20,7.64)\n",
      "          axes (1,0,0), (0,1,0), (0,0,1)\n",
      "          dielectric constant epsilon diagonal = (9,9,9)\n",
      "     cylinder, center = (0,0,0.24)\n",
      "          radius 0.19431, height 5, axis (0, 0, 1)\n",
      "          dielectric constant epsilon diagonal = (1,1,1)\n",
      "time for set_epsilon = 0.113602 s\n",
      "-----------\n",
      "run 0 finished at t = 200.0 (8000 timesteps)\n",
      "MPB solved for frequency_1(0,0,1.93548) = 0.645161 after 11 iters\n",
      "Dominant planewave for band 1: (0.000000,0.000000,1.935484)\n"
     ]
    },
    {
     "name": "stderr",
     "output_type": "stream",
     "text": [
      " 80%|███████████████████████████████████████████████████████████████████████████████████████████████████████████████████████████████████████████▏                                  | 24/30 [00:29<00:07,  1.26s/it]Warning: grid volume is not an integer number of pixels; cell size will be rounded to nearest pixel.\n"
     ]
    },
    {
     "name": "stdout",
     "output_type": "stream",
     "text": [
      "i= 23,radius=0.1943103448275862\n",
      "-----------\n",
      "Initializing structure...\n",
      "Halving computational cell along direction x\n",
      "Halving computational cell along direction y\n",
      "time for choose_chunkdivision = 0.000832081 s\n",
      "Working in 3D dimensions.\n",
      "Computational cell is 0.5 x 0.5 x 7.65 with resolution 20\n",
      "     block, center = (0,0,2.89)\n",
      "          size (1e+20,1e+20,0.3)\n",
      "          axes (1,0,0), (0,1,0), (0,0,1)\n",
      "          dielectric constant epsilon diagonal = (1,1,1)\n",
      "     block, center = (0,0,0.24)\n",
      "          size (1e+20,1e+20,7.64)\n",
      "          axes (1,0,0), (0,1,0), (0,0,1)\n",
      "          dielectric constant epsilon diagonal = (9,9,9)\n",
      "     cylinder, center = (0,0,0.24)\n",
      "          radius 0.202759, height 5, axis (0, 0, 1)\n",
      "          dielectric constant epsilon diagonal = (1,1,1)\n",
      "time for set_epsilon = 0.133002 s\n",
      "-----------\n",
      "run 0 finished at t = 200.0 (8000 timesteps)\n",
      "MPB solved for frequency_1(0,0,1.93548) = 0.645161 after 11 iters\n",
      "Dominant planewave for band 1: (0.000000,0.000000,1.935484)\n"
     ]
    },
    {
     "name": "stderr",
     "output_type": "stream",
     "text": [
      " 83%|█████████████████████████████████████████████████████████████████████████████████████████████████████████████████████████████████████████████████                             | 25/30 [00:31<00:06,  1.28s/it]Warning: grid volume is not an integer number of pixels; cell size will be rounded to nearest pixel.\n"
     ]
    },
    {
     "name": "stdout",
     "output_type": "stream",
     "text": [
      "i= 24,radius=0.20275862068965517\n",
      "-----------\n",
      "Initializing structure...\n",
      "Halving computational cell along direction x\n",
      "Halving computational cell along direction y\n",
      "time for choose_chunkdivision = 0.00167489 s\n",
      "Working in 3D dimensions.\n",
      "Computational cell is 0.5 x 0.5 x 7.65 with resolution 20\n",
      "     block, center = (0,0,2.89)\n",
      "          size (1e+20,1e+20,0.3)\n",
      "          axes (1,0,0), (0,1,0), (0,0,1)\n",
      "          dielectric constant epsilon diagonal = (1,1,1)\n",
      "     block, center = (0,0,0.24)\n",
      "          size (1e+20,1e+20,7.64)\n",
      "          axes (1,0,0), (0,1,0), (0,0,1)\n",
      "          dielectric constant epsilon diagonal = (9,9,9)\n",
      "     cylinder, center = (0,0,0.24)\n",
      "          radius 0.211207, height 5, axis (0, 0, 1)\n",
      "          dielectric constant epsilon diagonal = (1,1,1)\n",
      "time for set_epsilon = 0.126311 s\n",
      "-----------\n",
      "run 0 finished at t = 200.0 (8000 timesteps)\n",
      "MPB solved for frequency_1(0,0,1.93548) = 0.645161 after 11 iters\n",
      "Dominant planewave for band 1: (0.000000,0.000000,1.935484)\n"
     ]
    },
    {
     "name": "stderr",
     "output_type": "stream",
     "text": [
      " 87%|██████████████████████████████████████████████████████████████████████████████████████████████████████████████████████████████████████████████████████▊                       | 26/30 [00:32<00:05,  1.27s/it]Warning: grid volume is not an integer number of pixels; cell size will be rounded to nearest pixel.\n"
     ]
    },
    {
     "name": "stdout",
     "output_type": "stream",
     "text": [
      "i= 25,radius=0.21120689655172412\n",
      "-----------\n",
      "Initializing structure...\n",
      "Halving computational cell along direction x\n",
      "Halving computational cell along direction y\n",
      "time for choose_chunkdivision = 0.000754118 s\n",
      "Working in 3D dimensions.\n",
      "Computational cell is 0.5 x 0.5 x 7.65 with resolution 20\n",
      "     block, center = (0,0,2.89)\n",
      "          size (1e+20,1e+20,0.3)\n",
      "          axes (1,0,0), (0,1,0), (0,0,1)\n",
      "          dielectric constant epsilon diagonal = (1,1,1)\n",
      "     block, center = (0,0,0.24)\n",
      "          size (1e+20,1e+20,7.64)\n",
      "          axes (1,0,0), (0,1,0), (0,0,1)\n",
      "          dielectric constant epsilon diagonal = (9,9,9)\n",
      "     cylinder, center = (0,0,0.24)\n",
      "          radius 0.219655, height 5, axis (0, 0, 1)\n",
      "          dielectric constant epsilon diagonal = (1,1,1)\n",
      "time for set_epsilon = 0.129824 s\n",
      "-----------\n",
      "run 0 finished at t = 200.0 (8000 timesteps)\n",
      "MPB solved for frequency_1(0,0,1.93548) = 0.645161 after 11 iters\n",
      "Dominant planewave for band 1: (0.000000,0.000000,1.935484)\n"
     ]
    },
    {
     "name": "stderr",
     "output_type": "stream",
     "text": [
      " 90%|████████████████████████████████████████████████████████████████████████████████████████████████████████████████████████████████████████████████████████████▌                 | 27/30 [00:33<00:03,  1.26s/it]Warning: grid volume is not an integer number of pixels; cell size will be rounded to nearest pixel.\n"
     ]
    },
    {
     "name": "stdout",
     "output_type": "stream",
     "text": [
      "i= 26,radius=0.2196551724137931\n",
      "-----------\n",
      "Initializing structure...\n",
      "Halving computational cell along direction x\n",
      "Halving computational cell along direction y\n",
      "time for choose_chunkdivision = 0.00080204 s\n",
      "Working in 3D dimensions.\n",
      "Computational cell is 0.5 x 0.5 x 7.65 with resolution 20\n",
      "     block, center = (0,0,2.89)\n",
      "          size (1e+20,1e+20,0.3)\n",
      "          axes (1,0,0), (0,1,0), (0,0,1)\n",
      "          dielectric constant epsilon diagonal = (1,1,1)\n",
      "     block, center = (0,0,0.24)\n",
      "          size (1e+20,1e+20,7.64)\n",
      "          axes (1,0,0), (0,1,0), (0,0,1)\n",
      "          dielectric constant epsilon diagonal = (9,9,9)\n",
      "     cylinder, center = (0,0,0.24)\n",
      "          radius 0.228103, height 5, axis (0, 0, 1)\n",
      "          dielectric constant epsilon diagonal = (1,1,1)\n",
      "time for set_epsilon = 0.108357 s\n",
      "-----------\n",
      "run 0 finished at t = 200.0 (8000 timesteps)\n",
      "MPB solved for frequency_1(0,0,1.93548) = 0.645161 after 11 iters\n",
      "Dominant planewave for band 1: (0.000000,0.000000,1.935484)\n"
     ]
    },
    {
     "name": "stderr",
     "output_type": "stream",
     "text": [
      " 93%|██████████████████████████████████████████████████████████████████████████████████████████████████████████████████████████████████████████████████████████████████▍           | 28/30 [00:34<00:02,  1.25s/it]Warning: grid volume is not an integer number of pixels; cell size will be rounded to nearest pixel.\n"
     ]
    },
    {
     "name": "stdout",
     "output_type": "stream",
     "text": [
      "i= 27,radius=0.22810344827586204\n",
      "-----------\n",
      "Initializing structure...\n",
      "Halving computational cell along direction x\n",
      "Halving computational cell along direction y\n",
      "time for choose_chunkdivision = 0.000839949 s\n",
      "Working in 3D dimensions.\n",
      "Computational cell is 0.5 x 0.5 x 7.65 with resolution 20\n",
      "     block, center = (0,0,2.89)\n",
      "          size (1e+20,1e+20,0.3)\n",
      "          axes (1,0,0), (0,1,0), (0,0,1)\n",
      "          dielectric constant epsilon diagonal = (1,1,1)\n",
      "     block, center = (0,0,0.24)\n",
      "          size (1e+20,1e+20,7.64)\n",
      "          axes (1,0,0), (0,1,0), (0,0,1)\n",
      "          dielectric constant epsilon diagonal = (9,9,9)\n",
      "     cylinder, center = (0,0,0.24)\n",
      "          radius 0.236552, height 5, axis (0, 0, 1)\n",
      "          dielectric constant epsilon diagonal = (1,1,1)\n",
      "time for set_epsilon = 0.112371 s\n",
      "-----------\n",
      "run 0 finished at t = 200.0 (8000 timesteps)\n",
      "MPB solved for frequency_1(0,0,1.93548) = 0.645161 after 11 iters\n",
      "Dominant planewave for band 1: (0.000000,0.000000,1.935484)\n"
     ]
    },
    {
     "name": "stderr",
     "output_type": "stream",
     "text": [
      " 97%|████████████████████████████████████████████████████████████████████████████████████████████████████████████████████████████████████████████████████████████████████████▏     | 29/30 [00:36<00:01,  1.26s/it]Warning: grid volume is not an integer number of pixels; cell size will be rounded to nearest pixel.\n"
     ]
    },
    {
     "name": "stdout",
     "output_type": "stream",
     "text": [
      "i= 28,radius=0.23655172413793102\n",
      "-----------\n",
      "Initializing structure...\n",
      "Halving computational cell along direction x\n",
      "Halving computational cell along direction y\n",
      "time for choose_chunkdivision = 0.0010469 s\n",
      "Working in 3D dimensions.\n",
      "Computational cell is 0.5 x 0.5 x 7.65 with resolution 20\n",
      "     block, center = (0,0,2.89)\n",
      "          size (1e+20,1e+20,0.3)\n",
      "          axes (1,0,0), (0,1,0), (0,0,1)\n",
      "          dielectric constant epsilon diagonal = (1,1,1)\n",
      "     block, center = (0,0,0.24)\n",
      "          size (1e+20,1e+20,7.64)\n",
      "          axes (1,0,0), (0,1,0), (0,0,1)\n",
      "          dielectric constant epsilon diagonal = (9,9,9)\n",
      "     cylinder, center = (0,0,0.24)\n",
      "          radius 0.245, height 5, axis (0, 0, 1)\n",
      "          dielectric constant epsilon diagonal = (1,1,1)\n",
      "time for set_epsilon = 0.098984 s\n",
      "-----------\n",
      "run 0 finished at t = 200.0 (8000 timesteps)\n",
      "MPB solved for frequency_1(0,0,1.93548) = 0.645161 after 11 iters\n",
      "Dominant planewave for band 1: (0.000000,0.000000,1.935484)\n"
     ]
    },
    {
     "name": "stderr",
     "output_type": "stream",
     "text": [
      "                                                                                                                                                                                                                   \r"
     ]
    }
   ],
   "source": [
    "sim.run(until=200)\n",
    "\n",
    "initial_flux = mp.get_fluxes(flux_object)[0]     # initial flux\n",
    "sim.reset_meep()\n",
    "\n",
    "pbar = tqdm(total=num,leave=False)\n",
    "for i,radius in enumerate(np.linspace(min,max,num=num)):\n",
    "\n",
    "    geometry.append(mp.Cylinder(radius=radius,\n",
    "                        height=height_hole,\n",
    "                        axis=mp.Vector3(0,0,1),\n",
    "                        center=mp.Vector3(0,0,center_hole),\n",
    "                        material=mp.Medium(index=n_air)))\n",
    "                                \n",
    "    #geometry=mp.Cylinder(radius=radius,\n",
    "\n",
    "\n",
    "    sim = mp.Simulation(cell_size=cell_size,\n",
    "                        geometry=geometry,\n",
    "                        sources=sources,\n",
    "                        k_point=k_point,\n",
    "                        boundary_layers=pml_layers,\n",
    "                        symmetries=symmetries,\n",
    "                        resolution=resolution)\n",
    "\n",
    "    flux_object = sim.add_flux(freq, df, nfreq, fr)  \n",
    "\n",
    "    sim.run(until=200)\n",
    "    \n",
    "    res = sim.get_eigenmode_coefficients(flux_object, [1], eig_parity=mp.ODD_Y)\n",
    "    coeffs = res.alpha\n",
    "\n",
    "    flux = abs(coeffs[0,0,0]**2)\n",
    "    phase = np.angle(coeffs[0,0,0]) \n",
    "    \n",
    "    data[0,i] = radius\n",
    "    data[1,i] = flux\n",
    "    data[2,i] = phase\n",
    "\n",
    "    \n",
    "    if(radius!=max):\n",
    "        sim.reset_meep()\n",
    "        print(f\"i= {i},radius={radius}\")\n",
    "        geometry.pop(-1)\n",
    "    pbar.update(1)\n",
    "pbar.close()\n"
   ]
  },
  {
   "cell_type": "code",
   "execution_count": 24,
   "id": "85d592d1",
   "metadata": {},
   "outputs": [
    {
     "name": "stderr",
     "output_type": "stream",
     "text": [
      "Warning: grid volume is not an integer number of pixels; cell size will be rounded to nearest pixel.\n"
     ]
    },
    {
     "name": "stdout",
     "output_type": "stream",
     "text": [
      "     block, center = (0,0,2.89)\n",
      "          size (1e+20,1e+20,0.3)\n",
      "          axes (1,0,0), (0,1,0), (0,0,1)\n",
      "          dielectric constant epsilon diagonal = (1,1,1)\n",
      "     block, center = (0,0,0.24)\n",
      "          size (1e+20,1e+20,7.64)\n",
      "          axes (1,0,0), (0,1,0), (0,0,1)\n",
      "          dielectric constant epsilon diagonal = (9,9,9)\n",
      "     cylinder, center = (0,0,0.24)\n",
      "          radius 0.245, height 5, axis (0, 0, 1)\n",
      "          dielectric constant epsilon diagonal = (1,1,1)\n"
     ]
    },
    {
     "data": {
      "image/png": "[encoded data removed]",
      "text/plain": [
       "<Figure size 1000x1000 with 1 Axes>"
      ]
     },
     "metadata": {},
     "output_type": "display_data"
    }
   ],
   "source": [
    "# plot an x-z cross section\n",
    "\n",
    "plt.figure(figsize=(10,10))\n",
    "plot_plane = mp.Volume(center=mp.Vector3(0,0.0*a,0),\n",
    "                            size=mp.Vector3(a,0,cell_z))\n",
    "field_func = lambda x: 20*np.log10(np.abs(x))\n",
    "sim.plot2D(output_plane=plot_plane\n",
    "           #fields=mp.Ey\n",
    "           )\n",
    "plt.grid(False)"
   ]
  },
  {
   "cell_type": "code",
   "execution_count": 25,
   "id": "e6d7e6e7-c489-474e-9156-fb3bcfd1aac5",
   "metadata": {},
   "outputs": [
    {
     "data": {
      "text/plain": [
       "30"
      ]
     },
     "execution_count": 25,
     "metadata": {},
     "output_type": "execute_result"
    }
   ],
   "source": [
    "len(data[1])"
   ]
  },
  {
   "cell_type": "code",
   "execution_count": 26,
   "id": "761619e8",
   "metadata": {},
   "outputs": [
    {
     "data": {
      "image/png": "[encoded data removed]",
      "text/plain": [
       "<Figure size 800x500 with 2 Axes>"
      ]
     },
     "metadata": {},
     "output_type": "display_data"
    }
   ],
   "source": [
    "radii = data[0,:]\n",
    "flux_list = data[1,0:] / initial_flux\n",
    "phase_list = data[2,0:]\n",
    "\n",
    "#plt.style.use('seaborn')\n",
    "\n",
    "results = {\"radii\": radii, \"flux\": flux_list, \"phase\": phase_list}\n",
    "# this section plots radius vs. phas and transmission\n",
    "\n",
    "tickfontsize=22\n",
    "labelfontsize=26\n",
    "titlefontsize=30\n",
    "\n",
    "fig,ax = plt.subplots(figsize=(8,5)) # may want to change. Also see DPI keyword\n",
    "\n",
    "fig.suptitle(\"Meta-atom Transmission\",fontsize=titlefontsize)\n",
    "\n",
    "#ax.set_title(\"Transmission Magnitude\",fontsize=titlefontsize)\n",
    "\n",
    "ax.set_xlabel(\"Radius (nm)\",fontsize=labelfontsize)\n",
    "ax.set_xticks([0.000,0.050,0.100,0.150,0.200,0.250])\n",
    "ax.set_xticklabels([0,50,100,150,200,250],fontsize=tickfontsize)\n",
    "ax.set_ylim([0,1])\n",
    "ax.set_ylabel(r'Percent Transmitted ($\\%$)',fontsize=labelfontsize, color = 'blue')\n",
    "#ax.plot(radii,flux_list,'b',label='Transmission')\n",
    "ax.plot(radii, flux_list, 'b', label='Transmission')\n",
    "ax.tick_params(axis='y', labelcolor = 'blue')\n",
    "\n",
    "ax.set_yticks([0,0.2,0.4,0.6,0.8,1])\n",
    "ax.set_yticklabels([0, 20,40,60,80,100],fontsize=tickfontsize)\n",
    "#ax.set_yticks([0.6,0.7,0.8,0.9,1])\n",
    "#ax.set_yticklabels([60,70,80,90,100],fontsize=tickfontsize)\n",
    "\n",
    "twin1 = ax.twinx()\n",
    "#ax[1].set_title(\"Transmission Phase\",fontsize=titlefontsize)S\n",
    "#ax[1].set_xlabel(\"Radius (nm)\",fontsize=labelfontsize)\n",
    "#ax[1].set_xticks([0.075,0.100,0.125,0.150,0.175,0.200,0.225,0.250])cd meep\n",
    "\n",
    "#ax[1].set_xticklabels([75,100,125,150,175,200,225,250],fontsize=tickfontsize)\n",
    "twin1.set_ylim([-np.pi,np.pi])\n",
    "twin1.set_ylabel(r'Phase Delay (rad)',fontsize=labelfontsize, color = 'red')\n",
    "twin1.set_yticks([-np.pi, -(0.5*np.pi),0, np.pi / 2, np.pi])\n",
    "twin1.set_yticklabels([r'-$\\pi$',r'-$\\frac{\\pi}{2}$',r'0',r'$\\frac{\\pi}{2}$',r'$\\pi$'],fontsize=tickfontsize+4)\n",
    "twin1.plot(radii,phase_list,'r',label='Phase')\n",
    "twin1.tick_params(axis='y', labelcolor = 'red')\n",
    "#ax[1].legend(loc=\"upper right\")\n",
    "#plt.legend(loc=\"upper right\")\n",
    "plt.grid(False)\n",
    "plt.tight_layout()\n",
    "\n",
    "\n"
   ]
  },
  {
   "cell_type": "code",
   "execution_count": null,
   "id": "664f4da2-c5be-4999-b142-90fe42eeab07",
   "metadata": {},
   "outputs": [],
   "source": []
  }
 ],
 "metadata": {
  "kernelspec": {
   "display_name": "Python 3 (ipykernel)",
   "language": "python",
   "name": "python3"
  },
  "language_info": {
   "codemirror_mode": {
    "name": "ipython",
    "version": 3
   },
   "file_extension": ".py",
   "mimetype": "text/x-python",
   "name": "python",
   "nbconvert_exporter": "python",
   "pygments_lexer": "ipython3",
   "version": "3.11.3"
  }
 },
 "nbformat": 4,
 "nbformat_minor": 5
}
