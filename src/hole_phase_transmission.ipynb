{
 "cells": [
  {
   "cell_type": "code",
   "execution_count": 27,
   "id": "6d1a8499",
   "metadata": {},
   "outputs": [],
   "source": [
    "import os\n",
    "import pickle\n",
    "import shutil \n",
    "\n",
    "import meep as mp\n",
    "import numpy as np\n",
    "import matplotlib.pyplot as plt\n",
    "from tqdm import tqdm\n",
    "import math\n",
    "from IPython import embed"
   ]
  },
  {
   "cell_type": "code",
   "execution_count": 71,
   "id": "5ca5e226",
   "metadata": {},
   "outputs": [],
   "source": [
    "# set up simulation constants\n",
    "\n",
    "resolution = 20\n",
    "\n",
    "n_air = 1.0000003\n",
    "n_siox = 1.45\n",
    "\n",
    "a = 0.5   # lattice period \n",
    "\n",
    "#pml_thickness = round(wavelength / 2,3)\n",
    "pml_thickness = 0.780\n",
    "height_hole = 5\n",
    "height_siox = 0.780\n",
    "height_space = 0.3\n",
    "\n",
    "cell_x = a\n",
    "cell_y = a\n",
    "cell_z = round(2*pml_thickness + height_siox + height_hole+height_space, 3)\n",
    "\n",
    "z_air = height_space\n",
    "\n",
    "center_siox = round(pml_thickness + 0.5*height_siox - 0.5*cell_z, 3)\n",
    "center_hole = round(pml_thickness + height_siox + 0.5*height_hole\n",
    "                    - 0.5*cell_z, 3) \n",
    "center_air = round(pml_thickness + height_siox+height_hole+0.5*z_air- 0.5*cell_z, 3)\n",
    "\n",
    "#z_siox = pml_thickness + height_siox +height_space\n"
   ]
  },
  {
   "cell_type": "code",
   "execution_count": 72,
   "id": "38cef094",
   "metadata": {},
   "outputs": [],
   "source": [
    "\n",
    "geometry = [mp.Block(size=mp.Vector3(mp.inf,mp.inf,z_air), \n",
    "                    center=mp.Vector3(0,0,center_air),\n",
    "                    material=mp.Medium(index=n_air))]\n",
    "            \n",
    "k_point = mp.Vector3(0,0,0)\n",
    "\n",
    "wavelength = 1.55\n",
    "freq = 1 / wavelength\n",
    "\n",
    "## initialize matrix for data collection ##\n",
    "##########################################\n",
    "\n",
    "num = 30 # this is the number of pillars we will build\n",
    "data = np.zeros((3,num))\n",
    "\n",
    "## set up and build source ##\n",
    "############################\n",
    "\n",
    "center_source = round(pml_thickness + height_siox*0.2 - 0.5*cell_z, 3) \n",
    "source_cmpt = mp.Ey\n",
    "\n",
    "sources = [mp.Source(mp.ContinuousSource(frequency=freq),\n",
    "                    component=source_cmpt,\n",
    "                    center=mp.Vector3(0,0,center_source),\n",
    "                    size=mp.Vector3(cell_x,cell_y,0))]\n"
   ]
  },
  {
   "cell_type": "code",
   "execution_count": 78,
   "id": "8791d7c6",
   "metadata": {},
   "outputs": [
    {
     "name": "stdout",
     "output_type": "stream",
     "text": [
      "[<meep.geom.Block object at 0x7f8ad5f4d250>, <meep.geom.Block object at 0x7f8ad7893a90>]\n"
     ]
    }
   ],
   "source": [
    "## Set up simulation ##\n",
    "######################\n",
    "\n",
    "cell_size = mp.Vector3(cell_x,cell_y,cell_z)\n",
    "pml_layers = [mp.PML(thickness = pml_thickness, direction = mp.Z)]\n",
    "\n",
    "if source_cmpt == mp.Ey:\n",
    "    symmetries = [mp.Mirror(mp.X, phase=+1), #epsilon has mirror symmetry in x and y, phase doesn't matter\n",
    "                  mp.Mirror(mp.Y, phase=-1)] #but sources have -1 phase when reflected normal to their direction\n",
    "elif src_cmpt == mp.Ex:                      #use of symmetries important here, significantly speeds up sim\n",
    "    symmetries = [mp.Mirror(mp.X, phase=-1),\n",
    "                  mp.Mirror(mp.Y, phase=+1)]\n",
    "elif src_cmpt == mp.Ez:\n",
    "    symmetries = [mp.Mirror(mp.X, phase=+1),\n",
    "                  mp.Mirror(mp.Y, phase=+1)]\n",
    "\n",
    "geometry = [mp.Block(size=mp.Vector3(mp.inf,mp.inf,cell_z),\n",
    "                    center=mp.Vector3(0,0,center_hole),\n",
    "                    material=mp.Medium(index=n_siox)),\n",
    "           mp.Block(size=mp.Vector3(mp.inf,mp.inf,z_air),\n",
    "                   center=mp.Vector3(0,0,center_air),\n",
    "                   material=mp.Medium(index=n_air))]\n",
    "\n",
    "sim = mp.Simulation(cell_size=cell_size,\n",
    "                    #geometry=geometry,\n",
    "                    sources=sources,\n",
    "                    k_point=k_point,\n",
    "                    boundary_layers=pml_layers,\n",
    "                    symmetries=symmetries,\n",
    "                    resolution=resolution)\n",
    "\n",
    "nfreq = 1\n",
    "df = 0\n",
    "fr_center = round(0.5*cell_z - pml_thickness - 0.5*height_space, 3)\n",
    "fr = mp.FluxRegion(center=mp.Vector3(0,0,fr_center), \n",
    "            size=mp.Vector3(cell_x, cell_y, 0))\n",
    "\n",
    "flux_object = sim.add_flux(freq, df, nfreq, fr)\n",
    "min = 0.0\n",
    "max = 0.24\n",
    "\n",
    "print (geometry)"
   ]
  },
  {
   "cell_type": "code",
   "execution_count": 79,
   "id": "11adef90",
   "metadata": {
    "scrolled": true
   },
   "outputs": [
    {
     "name": "stderr",
     "output_type": "stream",
     "text": [
      "Warning: grid volume is not an integer number of pixels; cell size will be rounded to nearest pixel.\n"
     ]
    },
    {
     "name": "stdout",
     "output_type": "stream",
     "text": [
      "-----------\n",
      "Initializing structure...\n",
      "Halving computational cell along direction x\n",
      "Halving computational cell along direction y\n",
      "time for choose_chunkdivision = 0.00099206 s\n",
      "Working in 3D dimensions.\n",
      "Computational cell is 0.5 x 0.5 x 7.65 with resolution 20\n",
      "time for set_epsilon = 0.0129559 s\n",
      "-----------\n",
      "run 0 finished at t = 200.0 (8000 timesteps)\n"
     ]
    },
    {
     "name": "stderr",
     "output_type": "stream",
     "text": [
      "  0%|                                                                                                                                                                                       | 0/30 [00:00<?, ?it/s]Warning: grid volume is not an integer number of pixels; cell size will be rounded to nearest pixel.\n"
     ]
    },
    {
     "name": "stdout",
     "output_type": "stream",
     "text": [
      "-----------\n",
      "Initializing structure...\n",
      "Halving computational cell along direction x\n",
      "Halving computational cell along direction y\n",
      "time for choose_chunkdivision = 0.000928164 s\n",
      "Working in 3D dimensions.\n",
      "Computational cell is 0.5 x 0.5 x 7.65 with resolution 20\n",
      "     block, center = (0,0,0.24)\n",
      "          size (1e+20,1e+20,7.64)\n",
      "          axes (1,0,0), (0,1,0), (0,0,1)\n",
      "          dielectric constant epsilon diagonal = (2.1025,2.1025,2.1025)\n",
      "     block, center = (0,0,2.89)\n",
      "          size (1e+20,1e+20,0.3)\n",
      "          axes (1,0,0), (0,1,0), (0,0,1)\n",
      "          dielectric constant epsilon diagonal = (1,1,1)\n",
      "     cylinder, center = (0,0,0.24)\n",
      "          radius 0, height 5, axis (0, 0, 1)\n",
      "          dielectric constant epsilon diagonal = (1,1,1)\n",
      "time for set_epsilon = 0.037641 s\n",
      "-----------\n",
      "run 0 finished at t = 200.0 (8000 timesteps)\n",
      "MPB solved for frequency_1(0,0,0.645161) = 0.645161 after 6 iters\n",
      "Dominant planewave for band 1: (0.000000,0.000000,0.645161)\n"
     ]
    },
    {
     "name": "stderr",
     "output_type": "stream",
     "text": [
      "  3%|█████▊                                                                                                                                                                         | 1/30 [00:01<00:34,  1.19s/it]Warning: grid volume is not an integer number of pixels; cell size will be rounded to nearest pixel.\n"
     ]
    },
    {
     "name": "stdout",
     "output_type": "stream",
     "text": [
      "i= 0,radius=0.0\n",
      "-----------\n",
      "Initializing structure...\n",
      "Halving computational cell along direction x\n",
      "Halving computational cell along direction y\n",
      "time for choose_chunkdivision = 0.000886917 s\n",
      "Working in 3D dimensions.\n",
      "Computational cell is 0.5 x 0.5 x 7.65 with resolution 20\n",
      "     block, center = (0,0,0.24)\n",
      "          size (1e+20,1e+20,7.64)\n",
      "          axes (1,0,0), (0,1,0), (0,0,1)\n",
      "          dielectric constant epsilon diagonal = (2.1025,2.1025,2.1025)\n",
      "     block, center = (0,0,2.89)\n",
      "          size (1e+20,1e+20,0.3)\n",
      "          axes (1,0,0), (0,1,0), (0,0,1)\n",
      "          dielectric constant epsilon diagonal = (1,1,1)\n",
      "     cylinder, center = (0,0,0.24)\n",
      "          radius 0.00827586, height 5, axis (0, 0, 1)\n",
      "          dielectric constant epsilon diagonal = (1,1,1)\n",
      "time for set_epsilon = 0.0384691 s\n",
      "-----------\n",
      "run 0 finished at t = 200.0 (8000 timesteps)\n",
      "MPB solved for frequency_1(0,0,0.645161) = 0.645161 after 6 iters\n",
      "Dominant planewave for band 1: (0.000000,0.000000,0.645161)\n"
     ]
    },
    {
     "name": "stderr",
     "output_type": "stream",
     "text": [
      "  7%|███████████▋                                                                                                                                                                   | 2/30 [00:02<00:33,  1.21s/it]Warning: grid volume is not an integer number of pixels; cell size will be rounded to nearest pixel.\n"
     ]
    },
    {
     "name": "stdout",
     "output_type": "stream",
     "text": [
      "i= 1,radius=0.008275862068965517\n",
      "-----------\n",
      "Initializing structure...\n",
      "Halving computational cell along direction x\n",
      "Halving computational cell along direction y\n",
      "time for choose_chunkdivision = 0.00078702 s\n",
      "Working in 3D dimensions.\n",
      "Computational cell is 0.5 x 0.5 x 7.65 with resolution 20\n",
      "     block, center = (0,0,0.24)\n",
      "          size (1e+20,1e+20,7.64)\n",
      "          axes (1,0,0), (0,1,0), (0,0,1)\n",
      "          dielectric constant epsilon diagonal = (2.1025,2.1025,2.1025)\n",
      "     block, center = (0,0,2.89)\n",
      "          size (1e+20,1e+20,0.3)\n",
      "          axes (1,0,0), (0,1,0), (0,0,1)\n",
      "          dielectric constant epsilon diagonal = (1,1,1)\n",
      "     cylinder, center = (0,0,0.24)\n",
      "          radius 0.0165517, height 5, axis (0, 0, 1)\n",
      "          dielectric constant epsilon diagonal = (1,1,1)\n",
      "time for set_epsilon = 0.0389111 s\n",
      "-----------\n",
      "run 0 finished at t = 200.0 (8000 timesteps)\n",
      "MPB solved for frequency_1(0,0,0.645161) = 0.645161 after 6 iters\n",
      "Dominant planewave for band 1: (0.000000,0.000000,0.645161)\n"
     ]
    },
    {
     "name": "stderr",
     "output_type": "stream",
     "text": [
      " 10%|█████████████████▌                                                                                                                                                             | 3/30 [00:03<00:32,  1.20s/it]Warning: grid volume is not an integer number of pixels; cell size will be rounded to nearest pixel.\n"
     ]
    },
    {
     "name": "stdout",
     "output_type": "stream",
     "text": [
      "i= 2,radius=0.016551724137931035\n",
      "-----------\n",
      "Initializing structure...\n",
      "Halving computational cell along direction x\n",
      "Halving computational cell along direction y\n",
      "time for choose_chunkdivision = 0.0010891 s\n",
      "Working in 3D dimensions.\n",
      "Computational cell is 0.5 x 0.5 x 7.65 with resolution 20\n",
      "     block, center = (0,0,0.24)\n",
      "          size (1e+20,1e+20,7.64)\n",
      "          axes (1,0,0), (0,1,0), (0,0,1)\n",
      "          dielectric constant epsilon diagonal = (2.1025,2.1025,2.1025)\n",
      "     block, center = (0,0,2.89)\n",
      "          size (1e+20,1e+20,0.3)\n",
      "          axes (1,0,0), (0,1,0), (0,0,1)\n",
      "          dielectric constant epsilon diagonal = (1,1,1)\n",
      "     cylinder, center = (0,0,0.24)\n",
      "          radius 0.0248276, height 5, axis (0, 0, 1)\n",
      "          dielectric constant epsilon diagonal = (1,1,1)\n",
      "time for set_epsilon = 0.0398822 s\n",
      "-----------\n",
      "run 0 finished at t = 200.0 (8000 timesteps)\n",
      "MPB solved for frequency_1(0,0,0.645161) = 0.645161 after 6 iters\n",
      "Dominant planewave for band 1: (0.000000,0.000000,0.645161)\n"
     ]
    },
    {
     "name": "stderr",
     "output_type": "stream",
     "text": [
      " 13%|███████████████████████▎                                                                                                                                                       | 4/30 [00:04<00:31,  1.21s/it]Warning: grid volume is not an integer number of pixels; cell size will be rounded to nearest pixel.\n"
     ]
    },
    {
     "name": "stdout",
     "output_type": "stream",
     "text": [
      "i= 3,radius=0.024827586206896554\n",
      "-----------\n",
      "Initializing structure...\n",
      "Halving computational cell along direction x\n",
      "Halving computational cell along direction y\n",
      "time for choose_chunkdivision = 0.000806808 s\n",
      "Working in 3D dimensions.\n",
      "Computational cell is 0.5 x 0.5 x 7.65 with resolution 20\n",
      "     block, center = (0,0,0.24)\n",
      "          size (1e+20,1e+20,7.64)\n",
      "          axes (1,0,0), (0,1,0), (0,0,1)\n",
      "          dielectric constant epsilon diagonal = (2.1025,2.1025,2.1025)\n",
      "     block, center = (0,0,2.89)\n",
      "          size (1e+20,1e+20,0.3)\n",
      "          axes (1,0,0), (0,1,0), (0,0,1)\n",
      "          dielectric constant epsilon diagonal = (1,1,1)\n",
      "     cylinder, center = (0,0,0.24)\n",
      "          radius 0.0331034, height 5, axis (0, 0, 1)\n",
      "          dielectric constant epsilon diagonal = (1,1,1)\n",
      "time for set_epsilon = 0.0546319 s\n",
      "-----------\n",
      "run 0 finished at t = 200.0 (8000 timesteps)\n",
      "MPB solved for frequency_1(0,0,0.645161) = 0.645161 after 6 iters\n",
      "Dominant planewave for band 1: (0.000000,0.000000,0.645161)\n"
     ]
    },
    {
     "name": "stderr",
     "output_type": "stream",
     "text": [
      " 17%|█████████████████████████████▏                                                                                                                                                 | 5/30 [00:06<00:30,  1.20s/it]Warning: grid volume is not an integer number of pixels; cell size will be rounded to nearest pixel.\n"
     ]
    },
    {
     "name": "stdout",
     "output_type": "stream",
     "text": [
      "i= 4,radius=0.03310344827586207\n",
      "-----------\n",
      "Initializing structure...\n",
      "Halving computational cell along direction x\n",
      "Halving computational cell along direction y\n",
      "time for choose_chunkdivision = 0.00074482 s\n",
      "Working in 3D dimensions.\n",
      "Computational cell is 0.5 x 0.5 x 7.65 with resolution 20\n",
      "     block, center = (0,0,0.24)\n",
      "          size (1e+20,1e+20,7.64)\n",
      "          axes (1,0,0), (0,1,0), (0,0,1)\n",
      "          dielectric constant epsilon diagonal = (2.1025,2.1025,2.1025)\n",
      "     block, center = (0,0,2.89)\n",
      "          size (1e+20,1e+20,0.3)\n",
      "          axes (1,0,0), (0,1,0), (0,0,1)\n",
      "          dielectric constant epsilon diagonal = (1,1,1)\n",
      "     cylinder, center = (0,0,0.24)\n",
      "          radius 0.0413793, height 5, axis (0, 0, 1)\n",
      "          dielectric constant epsilon diagonal = (1,1,1)\n",
      "time for set_epsilon = 0.075779 s\n",
      "-----------\n",
      "run 0 finished at t = 200.0 (8000 timesteps)\n",
      "MPB solved for frequency_1(0,0,0.645161) = 0.645161 after 6 iters\n",
      "Dominant planewave for band 1: (0.000000,0.000000,0.645161)\n"
     ]
    },
    {
     "name": "stderr",
     "output_type": "stream",
     "text": [
      " 20%|███████████████████████████████████                                                                                                                                            | 6/30 [00:07<00:29,  1.24s/it]Warning: grid volume is not an integer number of pixels; cell size will be rounded to nearest pixel.\n"
     ]
    },
    {
     "name": "stdout",
     "output_type": "stream",
     "text": [
      "i= 5,radius=0.041379310344827586\n",
      "-----------\n",
      "Initializing structure...\n",
      "Halving computational cell along direction x\n",
      "Halving computational cell along direction y\n",
      "time for choose_chunkdivision = 0.000702858 s\n",
      "Working in 3D dimensions.\n",
      "Computational cell is 0.5 x 0.5 x 7.65 with resolution 20\n",
      "     block, center = (0,0,0.24)\n",
      "          size (1e+20,1e+20,7.64)\n",
      "          axes (1,0,0), (0,1,0), (0,0,1)\n",
      "          dielectric constant epsilon diagonal = (2.1025,2.1025,2.1025)\n",
      "     block, center = (0,0,2.89)\n",
      "          size (1e+20,1e+20,0.3)\n",
      "          axes (1,0,0), (0,1,0), (0,0,1)\n",
      "          dielectric constant epsilon diagonal = (1,1,1)\n",
      "     cylinder, center = (0,0,0.24)\n",
      "          radius 0.0496552, height 5, axis (0, 0, 1)\n",
      "          dielectric constant epsilon diagonal = (1,1,1)\n",
      "time for set_epsilon = 0.082171 s\n",
      "-----------\n",
      "run 0 finished at t = 200.0 (8000 timesteps)\n",
      "MPB solved for frequency_1(0,0,0.645161) = 0.645161 after 6 iters\n",
      "Dominant planewave for band 1: (0.000000,0.000000,0.645161)\n"
     ]
    },
    {
     "name": "stderr",
     "output_type": "stream",
     "text": [
      " 23%|████████████████████████████████████████▊                                                                                                                                      | 7/30 [00:08<00:29,  1.27s/it]Warning: grid volume is not an integer number of pixels; cell size will be rounded to nearest pixel.\n"
     ]
    },
    {
     "name": "stdout",
     "output_type": "stream",
     "text": [
      "i= 6,radius=0.04965517241379311\n",
      "-----------\n",
      "Initializing structure...\n",
      "Halving computational cell along direction x\n",
      "Halving computational cell along direction y\n",
      "time for choose_chunkdivision = 0.00100493 s\n",
      "Working in 3D dimensions.\n",
      "Computational cell is 0.5 x 0.5 x 7.65 with resolution 20\n",
      "     block, center = (0,0,0.24)\n",
      "          size (1e+20,1e+20,7.64)\n",
      "          axes (1,0,0), (0,1,0), (0,0,1)\n",
      "          dielectric constant epsilon diagonal = (2.1025,2.1025,2.1025)\n",
      "     block, center = (0,0,2.89)\n",
      "          size (1e+20,1e+20,0.3)\n",
      "          axes (1,0,0), (0,1,0), (0,0,1)\n",
      "          dielectric constant epsilon diagonal = (1,1,1)\n",
      "     cylinder, center = (0,0,0.24)\n",
      "          radius 0.057931, height 5, axis (0, 0, 1)\n",
      "          dielectric constant epsilon diagonal = (1,1,1)\n",
      "time for set_epsilon = 0.104636 s\n",
      "-----------\n",
      "run 0 finished at t = 200.0 (8000 timesteps)\n",
      "MPB solved for frequency_1(0,0,0.645161) = 0.645161 after 6 iters\n",
      "Dominant planewave for band 1: (0.000000,0.000000,0.645161)\n"
     ]
    },
    {
     "name": "stderr",
     "output_type": "stream",
     "text": [
      " 27%|██████████████████████████████████████████████▋                                                                                                                                | 8/30 [00:09<00:28,  1.29s/it]Warning: grid volume is not an integer number of pixels; cell size will be rounded to nearest pixel.\n"
     ]
    },
    {
     "name": "stdout",
     "output_type": "stream",
     "text": [
      "i= 7,radius=0.057931034482758624\n",
      "-----------\n",
      "Initializing structure...\n",
      "Halving computational cell along direction x\n",
      "Halving computational cell along direction y\n",
      "time for choose_chunkdivision = 0.000761032 s\n",
      "Working in 3D dimensions.\n",
      "Computational cell is 0.5 x 0.5 x 7.65 with resolution 20\n",
      "     block, center = (0,0,0.24)\n",
      "          size (1e+20,1e+20,7.64)\n",
      "          axes (1,0,0), (0,1,0), (0,0,1)\n",
      "          dielectric constant epsilon diagonal = (2.1025,2.1025,2.1025)\n",
      "     block, center = (0,0,2.89)\n",
      "          size (1e+20,1e+20,0.3)\n",
      "          axes (1,0,0), (0,1,0), (0,0,1)\n",
      "          dielectric constant epsilon diagonal = (1,1,1)\n",
      "     cylinder, center = (0,0,0.24)\n",
      "          radius 0.0662069, height 5, axis (0, 0, 1)\n",
      "          dielectric constant epsilon diagonal = (1,1,1)\n",
      "time for set_epsilon = 0.0859191 s\n",
      "-----------\n",
      "run 0 finished at t = 200.0 (8000 timesteps)\n",
      "MPB solved for frequency_1(0,0,0.645161) = 0.645161 after 6 iters\n",
      "Dominant planewave for band 1: (0.000000,0.000000,0.645161)\n"
     ]
    },
    {
     "name": "stderr",
     "output_type": "stream",
     "text": [
      " 30%|████████████████████████████████████████████████████▌                                                                                                                          | 9/30 [00:11<00:26,  1.28s/it]Warning: grid volume is not an integer number of pixels; cell size will be rounded to nearest pixel.\n"
     ]
    },
    {
     "name": "stdout",
     "output_type": "stream",
     "text": [
      "i= 8,radius=0.06620689655172414\n",
      "-----------\n",
      "Initializing structure...\n",
      "Halving computational cell along direction x\n",
      "Halving computational cell along direction y\n",
      "time for choose_chunkdivision = 0.0013001 s\n",
      "Working in 3D dimensions.\n",
      "Computational cell is 0.5 x 0.5 x 7.65 with resolution 20\n",
      "     block, center = (0,0,0.24)\n",
      "          size (1e+20,1e+20,7.64)\n",
      "          axes (1,0,0), (0,1,0), (0,0,1)\n",
      "          dielectric constant epsilon diagonal = (2.1025,2.1025,2.1025)\n",
      "     block, center = (0,0,2.89)\n",
      "          size (1e+20,1e+20,0.3)\n",
      "          axes (1,0,0), (0,1,0), (0,0,1)\n",
      "          dielectric constant epsilon diagonal = (1,1,1)\n",
      "     cylinder, center = (0,0,0.24)\n",
      "          radius 0.0744828, height 5, axis (0, 0, 1)\n",
      "          dielectric constant epsilon diagonal = (1,1,1)\n",
      "time for set_epsilon = 0.088372 s\n",
      "-----------\n",
      "run 0 finished at t = 200.0 (8000 timesteps)\n",
      "MPB solved for frequency_1(0,0,0.645161) = 0.645161 after 6 iters\n",
      "Dominant planewave for band 1: (0.000000,0.000000,0.645161)\n"
     ]
    },
    {
     "name": "stderr",
     "output_type": "stream",
     "text": [
      " 33%|██████████████████████████████████████████████████████████                                                                                                                    | 10/30 [00:12<00:25,  1.28s/it]Warning: grid volume is not an integer number of pixels; cell size will be rounded to nearest pixel.\n"
     ]
    },
    {
     "name": "stdout",
     "output_type": "stream",
     "text": [
      "i= 9,radius=0.07448275862068966\n",
      "-----------\n",
      "Initializing structure...\n",
      "Halving computational cell along direction x\n",
      "Halving computational cell along direction y\n",
      "time for choose_chunkdivision = 0.000960827 s\n",
      "Working in 3D dimensions.\n",
      "Computational cell is 0.5 x 0.5 x 7.65 with resolution 20\n",
      "     block, center = (0,0,0.24)\n",
      "          size (1e+20,1e+20,7.64)\n",
      "          axes (1,0,0), (0,1,0), (0,0,1)\n",
      "          dielectric constant epsilon diagonal = (2.1025,2.1025,2.1025)\n",
      "     block, center = (0,0,2.89)\n",
      "          size (1e+20,1e+20,0.3)\n",
      "          axes (1,0,0), (0,1,0), (0,0,1)\n",
      "          dielectric constant epsilon diagonal = (1,1,1)\n",
      "     cylinder, center = (0,0,0.24)\n",
      "          radius 0.0827586, height 5, axis (0, 0, 1)\n",
      "          dielectric constant epsilon diagonal = (1,1,1)\n",
      "time for set_epsilon = 0.0925422 s\n",
      "-----------\n",
      "run 0 finished at t = 200.0 (8000 timesteps)\n",
      "MPB solved for frequency_1(0,0,0.645161) = 0.645161 after 6 iters\n",
      "Dominant planewave for band 1: (0.000000,0.000000,0.645161)\n"
     ]
    },
    {
     "name": "stderr",
     "output_type": "stream",
     "text": [
      " 37%|███████████████████████████████████████████████████████████████▊                                                                                                              | 11/30 [00:13<00:24,  1.28s/it]Warning: grid volume is not an integer number of pixels; cell size will be rounded to nearest pixel.\n"
     ]
    },
    {
     "name": "stdout",
     "output_type": "stream",
     "text": [
      "i= 10,radius=0.08275862068965517\n",
      "-----------\n",
      "Initializing structure...\n",
      "Halving computational cell along direction x\n",
      "Halving computational cell along direction y\n",
      "time for choose_chunkdivision = 0.000802994 s\n",
      "Working in 3D dimensions.\n",
      "Computational cell is 0.5 x 0.5 x 7.65 with resolution 20\n",
      "     block, center = (0,0,0.24)\n",
      "          size (1e+20,1e+20,7.64)\n",
      "          axes (1,0,0), (0,1,0), (0,0,1)\n",
      "          dielectric constant epsilon diagonal = (2.1025,2.1025,2.1025)\n",
      "     block, center = (0,0,2.89)\n",
      "          size (1e+20,1e+20,0.3)\n",
      "          axes (1,0,0), (0,1,0), (0,0,1)\n",
      "          dielectric constant epsilon diagonal = (1,1,1)\n",
      "     cylinder, center = (0,0,0.24)\n",
      "          radius 0.0910345, height 5, axis (0, 0, 1)\n",
      "          dielectric constant epsilon diagonal = (1,1,1)\n",
      "time for set_epsilon = 0.105626 s\n",
      "-----------\n",
      "run 0 finished at t = 200.0 (8000 timesteps)\n",
      "MPB solved for frequency_1(0,0,0.645161) = 0.645161 after 6 iters\n",
      "Dominant planewave for band 1: (0.000000,0.000000,0.645161)\n"
     ]
    },
    {
     "name": "stderr",
     "output_type": "stream",
     "text": [
      " 40%|█████████████████████████████████████████████████████████████████████▌                                                                                                        | 12/30 [00:15<00:23,  1.29s/it]Warning: grid volume is not an integer number of pixels; cell size will be rounded to nearest pixel.\n"
     ]
    },
    {
     "name": "stdout",
     "output_type": "stream",
     "text": [
      "i= 11,radius=0.0910344827586207\n",
      "-----------\n",
      "Initializing structure...\n",
      "Halving computational cell along direction x\n",
      "Halving computational cell along direction y\n",
      "time for choose_chunkdivision = 0.000672102 s\n",
      "Working in 3D dimensions.\n",
      "Computational cell is 0.5 x 0.5 x 7.65 with resolution 20\n",
      "     block, center = (0,0,0.24)\n",
      "          size (1e+20,1e+20,7.64)\n",
      "          axes (1,0,0), (0,1,0), (0,0,1)\n",
      "          dielectric constant epsilon diagonal = (2.1025,2.1025,2.1025)\n",
      "     block, center = (0,0,2.89)\n",
      "          size (1e+20,1e+20,0.3)\n",
      "          axes (1,0,0), (0,1,0), (0,0,1)\n",
      "          dielectric constant epsilon diagonal = (1,1,1)\n",
      "     cylinder, center = (0,0,0.24)\n",
      "          radius 0.0993103, height 5, axis (0, 0, 1)\n",
      "          dielectric constant epsilon diagonal = (1,1,1)\n",
      "time for set_epsilon = 0.0903769 s\n",
      "-----------\n",
      "run 0 finished at t = 200.0 (8000 timesteps)\n",
      "MPB solved for frequency_1(0,0,0.645161) = 0.645161 after 6 iters\n",
      "Dominant planewave for band 1: (0.000000,0.000000,0.645161)\n"
     ]
    },
    {
     "name": "stderr",
     "output_type": "stream",
     "text": [
      " 43%|███████████████████████████████████████████████████████████████████████████▍                                                                                                  | 13/30 [00:16<00:21,  1.29s/it]Warning: grid volume is not an integer number of pixels; cell size will be rounded to nearest pixel.\n"
     ]
    },
    {
     "name": "stdout",
     "output_type": "stream",
     "text": [
      "i= 12,radius=0.09931034482758622\n",
      "-----------\n",
      "Initializing structure...\n",
      "Halving computational cell along direction x\n",
      "Halving computational cell along direction y\n",
      "time for choose_chunkdivision = 0.000919819 s\n",
      "Working in 3D dimensions.\n",
      "Computational cell is 0.5 x 0.5 x 7.65 with resolution 20\n",
      "     block, center = (0,0,0.24)\n",
      "          size (1e+20,1e+20,7.64)\n",
      "          axes (1,0,0), (0,1,0), (0,0,1)\n",
      "          dielectric constant epsilon diagonal = (2.1025,2.1025,2.1025)\n",
      "     block, center = (0,0,2.89)\n",
      "          size (1e+20,1e+20,0.3)\n",
      "          axes (1,0,0), (0,1,0), (0,0,1)\n",
      "          dielectric constant epsilon diagonal = (1,1,1)\n",
      "     cylinder, center = (0,0,0.24)\n",
      "          radius 0.107586, height 5, axis (0, 0, 1)\n",
      "          dielectric constant epsilon diagonal = (1,1,1)\n",
      "time for set_epsilon = 0.094835 s\n",
      "-----------\n",
      "run 0 finished at t = 200.0 (8000 timesteps)\n",
      "MPB solved for frequency_1(0,0,0.645161) = 0.645161 after 6 iters\n",
      "Dominant planewave for band 1: (0.000000,0.000000,0.645161)\n"
     ]
    },
    {
     "name": "stderr",
     "output_type": "stream",
     "text": [
      " 47%|█████████████████████████████████████████████████████████████████████████████████▏                                                                                            | 14/30 [00:17<00:20,  1.28s/it]Warning: grid volume is not an integer number of pixels; cell size will be rounded to nearest pixel.\n"
     ]
    },
    {
     "name": "stdout",
     "output_type": "stream",
     "text": [
      "i= 13,radius=0.10758620689655173\n",
      "-----------\n",
      "Initializing structure...\n",
      "Halving computational cell along direction x\n",
      "Halving computational cell along direction y\n",
      "time for choose_chunkdivision = 0.00114298 s\n",
      "Working in 3D dimensions.\n",
      "Computational cell is 0.5 x 0.5 x 7.65 with resolution 20\n",
      "     block, center = (0,0,0.24)\n",
      "          size (1e+20,1e+20,7.64)\n",
      "          axes (1,0,0), (0,1,0), (0,0,1)\n",
      "          dielectric constant epsilon diagonal = (2.1025,2.1025,2.1025)\n",
      "     block, center = (0,0,2.89)\n",
      "          size (1e+20,1e+20,0.3)\n",
      "          axes (1,0,0), (0,1,0), (0,0,1)\n",
      "          dielectric constant epsilon diagonal = (1,1,1)\n",
      "     cylinder, center = (0,0,0.24)\n",
      "          radius 0.115862, height 5, axis (0, 0, 1)\n",
      "          dielectric constant epsilon diagonal = (1,1,1)\n",
      "time for set_epsilon = 0.0881851 s\n",
      "-----------\n",
      "run 0 finished at t = 200.0 (8000 timesteps)\n",
      "MPB solved for frequency_1(0,0,0.645161) = 0.645161 after 6 iters\n",
      "Dominant planewave for band 1: (0.000000,0.000000,0.645161)\n"
     ]
    },
    {
     "name": "stderr",
     "output_type": "stream",
     "text": [
      " 50%|███████████████████████████████████████████████████████████████████████████████████████                                                                                       | 15/30 [00:18<00:19,  1.29s/it]Warning: grid volume is not an integer number of pixels; cell size will be rounded to nearest pixel.\n"
     ]
    },
    {
     "name": "stdout",
     "output_type": "stream",
     "text": [
      "i= 14,radius=0.11586206896551725\n",
      "-----------\n",
      "Initializing structure...\n",
      "Halving computational cell along direction x\n",
      "Halving computational cell along direction y\n",
      "time for choose_chunkdivision = 0.00120401 s\n",
      "Working in 3D dimensions.\n",
      "Computational cell is 0.5 x 0.5 x 7.65 with resolution 20\n",
      "     block, center = (0,0,0.24)\n",
      "          size (1e+20,1e+20,7.64)\n",
      "          axes (1,0,0), (0,1,0), (0,0,1)\n",
      "          dielectric constant epsilon diagonal = (2.1025,2.1025,2.1025)\n",
      "     block, center = (0,0,2.89)\n",
      "          size (1e+20,1e+20,0.3)\n",
      "          axes (1,0,0), (0,1,0), (0,0,1)\n",
      "          dielectric constant epsilon diagonal = (1,1,1)\n",
      "     cylinder, center = (0,0,0.24)\n",
      "          radius 0.124138, height 5, axis (0, 0, 1)\n",
      "          dielectric constant epsilon diagonal = (1,1,1)\n",
      "time for set_epsilon = 0.071121 s\n",
      "-----------\n",
      "run 0 finished at t = 200.0 (8000 timesteps)\n",
      "MPB solved for frequency_1(0,0,0.645161) = 0.645161 after 6 iters\n",
      "Dominant planewave for band 1: (0.000000,0.000000,0.645161)\n"
     ]
    },
    {
     "name": "stderr",
     "output_type": "stream",
     "text": [
      " 53%|████████████████████████████████████████████████████████████████████████████████████████████▊                                                                                 | 16/30 [00:20<00:17,  1.27s/it]Warning: grid volume is not an integer number of pixels; cell size will be rounded to nearest pixel.\n"
     ]
    },
    {
     "name": "stdout",
     "output_type": "stream",
     "text": [
      "i= 15,radius=0.12413793103448276\n",
      "-----------\n",
      "Initializing structure...\n",
      "Halving computational cell along direction x\n",
      "Halving computational cell along direction y\n",
      "time for choose_chunkdivision = 0.00110793 s\n",
      "Working in 3D dimensions.\n",
      "Computational cell is 0.5 x 0.5 x 7.65 with resolution 20\n",
      "     block, center = (0,0,0.24)\n",
      "          size (1e+20,1e+20,7.64)\n",
      "          axes (1,0,0), (0,1,0), (0,0,1)\n",
      "          dielectric constant epsilon diagonal = (2.1025,2.1025,2.1025)\n",
      "     block, center = (0,0,2.89)\n",
      "          size (1e+20,1e+20,0.3)\n",
      "          axes (1,0,0), (0,1,0), (0,0,1)\n",
      "          dielectric constant epsilon diagonal = (1,1,1)\n",
      "     cylinder, center = (0,0,0.24)\n",
      "          radius 0.132414, height 5, axis (0, 0, 1)\n",
      "          dielectric constant epsilon diagonal = (1,1,1)\n",
      "time for set_epsilon = 0.112051 s\n",
      "-----------\n",
      "run 0 finished at t = 200.0 (8000 timesteps)\n",
      "MPB solved for frequency_1(0,0,0.645161) = 0.645161 after 6 iters\n",
      "Dominant planewave for band 1: (0.000000,0.000000,0.645161)\n"
     ]
    },
    {
     "name": "stderr",
     "output_type": "stream",
     "text": [
      " 57%|██████████████████████████████████████████████████████████████████████████████████████████████████▌                                                                           | 17/30 [00:21<00:16,  1.26s/it]Warning: grid volume is not an integer number of pixels; cell size will be rounded to nearest pixel.\n"
     ]
    },
    {
     "name": "stdout",
     "output_type": "stream",
     "text": [
      "i= 16,radius=0.13241379310344828\n",
      "-----------\n",
      "Initializing structure...\n",
      "Halving computational cell along direction x\n",
      "Halving computational cell along direction y\n",
      "time for choose_chunkdivision = 0.001086 s\n",
      "Working in 3D dimensions.\n",
      "Computational cell is 0.5 x 0.5 x 7.65 with resolution 20\n",
      "     block, center = (0,0,0.24)\n",
      "          size (1e+20,1e+20,7.64)\n",
      "          axes (1,0,0), (0,1,0), (0,0,1)\n",
      "          dielectric constant epsilon diagonal = (2.1025,2.1025,2.1025)\n",
      "     block, center = (0,0,2.89)\n",
      "          size (1e+20,1e+20,0.3)\n",
      "          axes (1,0,0), (0,1,0), (0,0,1)\n",
      "          dielectric constant epsilon diagonal = (1,1,1)\n",
      "     cylinder, center = (0,0,0.24)\n",
      "          radius 0.14069, height 5, axis (0, 0, 1)\n",
      "          dielectric constant epsilon diagonal = (1,1,1)\n",
      "time for set_epsilon = 0.113523 s\n",
      "-----------\n",
      "run 0 finished at t = 200.0 (8000 timesteps)\n",
      "MPB solved for frequency_1(0,0,0.645161) = 0.645161 after 6 iters\n",
      "Dominant planewave for band 1: (0.000000,0.000000,0.645161)\n"
     ]
    },
    {
     "name": "stderr",
     "output_type": "stream",
     "text": [
      " 60%|████████████████████████████████████████████████████████████████████████████████████████████████████████▍                                                                     | 18/30 [00:22<00:15,  1.26s/it]Warning: grid volume is not an integer number of pixels; cell size will be rounded to nearest pixel.\n"
     ]
    },
    {
     "name": "stdout",
     "output_type": "stream",
     "text": [
      "i= 17,radius=0.1406896551724138\n",
      "-----------\n",
      "Initializing structure...\n",
      "Halving computational cell along direction x\n",
      "Halving computational cell along direction y\n",
      "time for choose_chunkdivision = 0.00126696 s\n",
      "Working in 3D dimensions.\n",
      "Computational cell is 0.5 x 0.5 x 7.65 with resolution 20\n",
      "     block, center = (0,0,0.24)\n",
      "          size (1e+20,1e+20,7.64)\n",
      "          axes (1,0,0), (0,1,0), (0,0,1)\n",
      "          dielectric constant epsilon diagonal = (2.1025,2.1025,2.1025)\n",
      "     block, center = (0,0,2.89)\n",
      "          size (1e+20,1e+20,0.3)\n",
      "          axes (1,0,0), (0,1,0), (0,0,1)\n",
      "          dielectric constant epsilon diagonal = (1,1,1)\n",
      "     cylinder, center = (0,0,0.24)\n",
      "          radius 0.148966, height 5, axis (0, 0, 1)\n",
      "          dielectric constant epsilon diagonal = (1,1,1)\n",
      "time for set_epsilon = 0.099813 s\n",
      "-----------\n",
      "run 0 finished at t = 200.0 (8000 timesteps)\n",
      "MPB solved for frequency_1(0,0,0.645161) = 0.645161 after 6 iters\n",
      "Dominant planewave for band 1: (0.000000,0.000000,0.645161)\n"
     ]
    },
    {
     "name": "stderr",
     "output_type": "stream",
     "text": [
      " 63%|██████████████████████████████████████████████████████████████████████████████████████████████████████████████▏                                                               | 19/30 [00:24<00:14,  1.27s/it]Warning: grid volume is not an integer number of pixels; cell size will be rounded to nearest pixel.\n"
     ]
    },
    {
     "name": "stdout",
     "output_type": "stream",
     "text": [
      "i= 18,radius=0.14896551724137932\n",
      "-----------\n",
      "Initializing structure...\n",
      "Halving computational cell along direction x\n",
      "Halving computational cell along direction y\n",
      "time for choose_chunkdivision = 0.00119591 s\n",
      "Working in 3D dimensions.\n",
      "Computational cell is 0.5 x 0.5 x 7.65 with resolution 20\n",
      "     block, center = (0,0,0.24)\n",
      "          size (1e+20,1e+20,7.64)\n",
      "          axes (1,0,0), (0,1,0), (0,0,1)\n",
      "          dielectric constant epsilon diagonal = (2.1025,2.1025,2.1025)\n",
      "     block, center = (0,0,2.89)\n",
      "          size (1e+20,1e+20,0.3)\n",
      "          axes (1,0,0), (0,1,0), (0,0,1)\n",
      "          dielectric constant epsilon diagonal = (1,1,1)\n",
      "     cylinder, center = (0,0,0.24)\n",
      "          radius 0.157241, height 5, axis (0, 0, 1)\n",
      "          dielectric constant epsilon diagonal = (1,1,1)\n",
      "time for set_epsilon = 0.1033 s\n",
      "-----------\n",
      "run 0 finished at t = 200.0 (8000 timesteps)\n",
      "MPB solved for frequency_1(0,0,0.645161) = 0.645161 after 6 iters\n",
      "Dominant planewave for band 1: (0.000000,0.000000,0.645161)\n"
     ]
    },
    {
     "name": "stderr",
     "output_type": "stream",
     "text": [
      " 67%|████████████████████████████████████████████████████████████████████████████████████████████████████████████████████                                                          | 20/30 [00:25<00:12,  1.28s/it]Warning: grid volume is not an integer number of pixels; cell size will be rounded to nearest pixel.\n"
     ]
    },
    {
     "name": "stdout",
     "output_type": "stream",
     "text": [
      "i= 19,radius=0.15724137931034482\n",
      "-----------\n",
      "Initializing structure...\n",
      "Halving computational cell along direction x\n",
      "Halving computational cell along direction y\n",
      "time for choose_chunkdivision = 0.000764847 s\n",
      "Working in 3D dimensions.\n",
      "Computational cell is 0.5 x 0.5 x 7.65 with resolution 20\n",
      "     block, center = (0,0,0.24)\n",
      "          size (1e+20,1e+20,7.64)\n",
      "          axes (1,0,0), (0,1,0), (0,0,1)\n",
      "          dielectric constant epsilon diagonal = (2.1025,2.1025,2.1025)\n",
      "     block, center = (0,0,2.89)\n",
      "          size (1e+20,1e+20,0.3)\n",
      "          axes (1,0,0), (0,1,0), (0,0,1)\n",
      "          dielectric constant epsilon diagonal = (1,1,1)\n",
      "     cylinder, center = (0,0,0.24)\n",
      "          radius 0.165517, height 5, axis (0, 0, 1)\n",
      "          dielectric constant epsilon diagonal = (1,1,1)\n",
      "time for set_epsilon = 0.10157 s\n",
      "-----------\n",
      "run 0 finished at t = 200.0 (8000 timesteps)\n",
      "MPB solved for frequency_1(0,0,0.645161) = 0.645161 after 6 iters\n",
      "Dominant planewave for band 1: (0.000000,0.000000,0.645161)\n"
     ]
    },
    {
     "name": "stderr",
     "output_type": "stream",
     "text": [
      " 70%|█████████████████████████████████████████████████████████████████████████████████████████████████████████████████████████▊                                                    | 21/30 [00:26<00:11,  1.26s/it]Warning: grid volume is not an integer number of pixels; cell size will be rounded to nearest pixel.\n"
     ]
    },
    {
     "name": "stdout",
     "output_type": "stream",
     "text": [
      "i= 20,radius=0.16551724137931034\n",
      "-----------\n",
      "Initializing structure...\n",
      "Halving computational cell along direction x\n",
      "Halving computational cell along direction y\n",
      "time for choose_chunkdivision = 0.00105214 s\n",
      "Working in 3D dimensions.\n",
      "Computational cell is 0.5 x 0.5 x 7.65 with resolution 20\n",
      "     block, center = (0,0,0.24)\n",
      "          size (1e+20,1e+20,7.64)\n",
      "          axes (1,0,0), (0,1,0), (0,0,1)\n",
      "          dielectric constant epsilon diagonal = (2.1025,2.1025,2.1025)\n",
      "     block, center = (0,0,2.89)\n",
      "          size (1e+20,1e+20,0.3)\n",
      "          axes (1,0,0), (0,1,0), (0,0,1)\n",
      "          dielectric constant epsilon diagonal = (1,1,1)\n",
      "     cylinder, center = (0,0,0.24)\n",
      "          radius 0.173793, height 5, axis (0, 0, 1)\n",
      "          dielectric constant epsilon diagonal = (1,1,1)\n",
      "time for set_epsilon = 0.095885 s\n",
      "-----------\n",
      "run 0 finished at t = 200.0 (8000 timesteps)\n",
      "MPB solved for frequency_1(0,0,0.645161) = 0.645161 after 6 iters\n",
      "Dominant planewave for band 1: (0.000000,0.000000,0.645161)\n"
     ]
    },
    {
     "name": "stderr",
     "output_type": "stream",
     "text": [
      " 73%|███████████████████████████████████████████████████████████████████████████████████████████████████████████████████████████████▌                                              | 22/30 [00:27<00:10,  1.27s/it]Warning: grid volume is not an integer number of pixels; cell size will be rounded to nearest pixel.\n"
     ]
    },
    {
     "name": "stdout",
     "output_type": "stream",
     "text": [
      "i= 21,radius=0.17379310344827587\n",
      "-----------\n",
      "Initializing structure...\n",
      "Halving computational cell along direction x\n",
      "Halving computational cell along direction y\n",
      "time for choose_chunkdivision = 0.00138593 s\n",
      "Working in 3D dimensions.\n",
      "Computational cell is 0.5 x 0.5 x 7.65 with resolution 20\n",
      "     block, center = (0,0,0.24)\n",
      "          size (1e+20,1e+20,7.64)\n",
      "          axes (1,0,0), (0,1,0), (0,0,1)\n",
      "          dielectric constant epsilon diagonal = (2.1025,2.1025,2.1025)\n",
      "     block, center = (0,0,2.89)\n",
      "          size (1e+20,1e+20,0.3)\n",
      "          axes (1,0,0), (0,1,0), (0,0,1)\n",
      "          dielectric constant epsilon diagonal = (1,1,1)\n",
      "     cylinder, center = (0,0,0.24)\n",
      "          radius 0.182069, height 5, axis (0, 0, 1)\n",
      "          dielectric constant epsilon diagonal = (1,1,1)\n",
      "time for set_epsilon = 0.103547 s\n",
      "-----------\n",
      "run 0 finished at t = 200.0 (8000 timesteps)\n",
      "MPB solved for frequency_1(0,0,0.645161) = 0.645161 after 6 iters\n",
      "Dominant planewave for band 1: (0.000000,0.000000,0.645161)\n"
     ]
    },
    {
     "name": "stderr",
     "output_type": "stream",
     "text": [
      " 77%|█████████████████████████████████████████████████████████████████████████████████████████████████████████████████████████████████████▍                                        | 23/30 [00:29<00:08,  1.26s/it]Warning: grid volume is not an integer number of pixels; cell size will be rounded to nearest pixel.\n"
     ]
    },
    {
     "name": "stdout",
     "output_type": "stream",
     "text": [
      "i= 22,radius=0.1820689655172414\n",
      "-----------\n",
      "Initializing structure...\n",
      "Halving computational cell along direction x\n",
      "Halving computational cell along direction y\n",
      "time for choose_chunkdivision = 0.000822067 s\n",
      "Working in 3D dimensions.\n",
      "Computational cell is 0.5 x 0.5 x 7.65 with resolution 20\n",
      "     block, center = (0,0,0.24)\n",
      "          size (1e+20,1e+20,7.64)\n",
      "          axes (1,0,0), (0,1,0), (0,0,1)\n",
      "          dielectric constant epsilon diagonal = (2.1025,2.1025,2.1025)\n",
      "     block, center = (0,0,2.89)\n",
      "          size (1e+20,1e+20,0.3)\n",
      "          axes (1,0,0), (0,1,0), (0,0,1)\n",
      "          dielectric constant epsilon diagonal = (1,1,1)\n",
      "     cylinder, center = (0,0,0.24)\n",
      "          radius 0.190345, height 5, axis (0, 0, 1)\n",
      "          dielectric constant epsilon diagonal = (1,1,1)\n",
      "time for set_epsilon = 0.0917301 s\n",
      "-----------\n",
      "run 0 finished at t = 200.0 (8000 timesteps)\n",
      "MPB solved for frequency_1(0,0,0.645161) = 0.645161 after 6 iters\n",
      "Dominant planewave for band 1: (0.000000,0.000000,0.645161)\n"
     ]
    },
    {
     "name": "stderr",
     "output_type": "stream",
     "text": [
      " 80%|███████████████████████████████████████████████████████████████████████████████████████████████████████████████████████████████████████████▏                                  | 24/30 [00:30<00:07,  1.27s/it]Warning: grid volume is not an integer number of pixels; cell size will be rounded to nearest pixel.\n"
     ]
    },
    {
     "name": "stdout",
     "output_type": "stream",
     "text": [
      "i= 23,radius=0.1903448275862069\n",
      "-----------\n",
      "Initializing structure...\n",
      "Halving computational cell along direction x\n",
      "Halving computational cell along direction y\n",
      "time for choose_chunkdivision = 0.0011189 s\n",
      "Working in 3D dimensions.\n",
      "Computational cell is 0.5 x 0.5 x 7.65 with resolution 20\n",
      "     block, center = (0,0,0.24)\n",
      "          size (1e+20,1e+20,7.64)\n",
      "          axes (1,0,0), (0,1,0), (0,0,1)\n",
      "          dielectric constant epsilon diagonal = (2.1025,2.1025,2.1025)\n",
      "     block, center = (0,0,2.89)\n",
      "          size (1e+20,1e+20,0.3)\n",
      "          axes (1,0,0), (0,1,0), (0,0,1)\n",
      "          dielectric constant epsilon diagonal = (1,1,1)\n",
      "     cylinder, center = (0,0,0.24)\n",
      "          radius 0.198621, height 5, axis (0, 0, 1)\n",
      "          dielectric constant epsilon diagonal = (1,1,1)\n",
      "time for set_epsilon = 0.111727 s\n",
      "-----------\n",
      "run 0 finished at t = 200.0 (8000 timesteps)\n",
      "MPB solved for frequency_1(0,0,0.645161) = 0.645161 after 6 iters\n",
      "Dominant planewave for band 1: (0.000000,0.000000,0.645161)\n"
     ]
    },
    {
     "name": "stderr",
     "output_type": "stream",
     "text": [
      " 83%|█████████████████████████████████████████████████████████████████████████████████████████████████████████████████████████████████████████████████                             | 25/30 [00:31<00:06,  1.29s/it]Warning: grid volume is not an integer number of pixels; cell size will be rounded to nearest pixel.\n"
     ]
    },
    {
     "name": "stdout",
     "output_type": "stream",
     "text": [
      "i= 24,radius=0.19862068965517243\n",
      "-----------\n",
      "Initializing structure...\n",
      "Halving computational cell along direction x\n",
      "Halving computational cell along direction y\n",
      "time for choose_chunkdivision = 0.00119209 s\n",
      "Working in 3D dimensions.\n",
      "Computational cell is 0.5 x 0.5 x 7.65 with resolution 20\n",
      "     block, center = (0,0,0.24)\n",
      "          size (1e+20,1e+20,7.64)\n",
      "          axes (1,0,0), (0,1,0), (0,0,1)\n",
      "          dielectric constant epsilon diagonal = (2.1025,2.1025,2.1025)\n",
      "     block, center = (0,0,2.89)\n",
      "          size (1e+20,1e+20,0.3)\n",
      "          axes (1,0,0), (0,1,0), (0,0,1)\n",
      "          dielectric constant epsilon diagonal = (1,1,1)\n",
      "     cylinder, center = (0,0,0.24)\n",
      "          radius 0.206897, height 5, axis (0, 0, 1)\n",
      "          dielectric constant epsilon diagonal = (1,1,1)\n",
      "time for set_epsilon = 0.135648 s\n",
      "-----------\n",
      "run 0 finished at t = 200.0 (8000 timesteps)\n",
      "MPB solved for frequency_1(0,0,0.645161) = 0.645161 after 6 iters\n",
      "Dominant planewave for band 1: (0.000000,0.000000,0.645161)\n"
     ]
    },
    {
     "name": "stderr",
     "output_type": "stream",
     "text": [
      " 87%|██████████████████████████████████████████████████████████████████████████████████████████████████████████████████████████████████████████████████████▊                       | 26/30 [00:32<00:05,  1.30s/it]Warning: grid volume is not an integer number of pixels; cell size will be rounded to nearest pixel.\n"
     ]
    },
    {
     "name": "stdout",
     "output_type": "stream",
     "text": [
      "i= 25,radius=0.20689655172413793\n",
      "-----------\n",
      "Initializing structure...\n",
      "Halving computational cell along direction x\n",
      "Halving computational cell along direction y\n",
      "time for choose_chunkdivision = 0.00123501 s\n",
      "Working in 3D dimensions.\n",
      "Computational cell is 0.5 x 0.5 x 7.65 with resolution 20\n",
      "     block, center = (0,0,0.24)\n",
      "          size (1e+20,1e+20,7.64)\n",
      "          axes (1,0,0), (0,1,0), (0,0,1)\n",
      "          dielectric constant epsilon diagonal = (2.1025,2.1025,2.1025)\n",
      "     block, center = (0,0,2.89)\n",
      "          size (1e+20,1e+20,0.3)\n",
      "          axes (1,0,0), (0,1,0), (0,0,1)\n",
      "          dielectric constant epsilon diagonal = (1,1,1)\n",
      "     cylinder, center = (0,0,0.24)\n",
      "          radius 0.215172, height 5, axis (0, 0, 1)\n",
      "          dielectric constant epsilon diagonal = (1,1,1)\n",
      "time for set_epsilon = 0.113842 s\n",
      "-----------\n",
      "run 0 finished at t = 200.0 (8000 timesteps)\n",
      "MPB solved for frequency_1(0,0,0.645161) = 0.645161 after 6 iters\n",
      "Dominant planewave for band 1: (0.000000,0.000000,0.645161)\n"
     ]
    },
    {
     "name": "stderr",
     "output_type": "stream",
     "text": [
      " 90%|████████████████████████████████████████████████████████████████████████████████████████████████████████████████████████████████████████████████████████████▌                 | 27/30 [00:34<00:03,  1.31s/it]Warning: grid volume is not an integer number of pixels; cell size will be rounded to nearest pixel.\n"
     ]
    },
    {
     "name": "stdout",
     "output_type": "stream",
     "text": [
      "i= 26,radius=0.21517241379310345\n",
      "-----------\n",
      "Initializing structure...\n",
      "Halving computational cell along direction x\n",
      "Halving computational cell along direction y\n",
      "time for choose_chunkdivision = 0.000743151 s\n",
      "Working in 3D dimensions.\n",
      "Computational cell is 0.5 x 0.5 x 7.65 with resolution 20\n",
      "     block, center = (0,0,0.24)\n",
      "          size (1e+20,1e+20,7.64)\n",
      "          axes (1,0,0), (0,1,0), (0,0,1)\n",
      "          dielectric constant epsilon diagonal = (2.1025,2.1025,2.1025)\n",
      "     block, center = (0,0,2.89)\n",
      "          size (1e+20,1e+20,0.3)\n",
      "          axes (1,0,0), (0,1,0), (0,0,1)\n",
      "          dielectric constant epsilon diagonal = (1,1,1)\n",
      "     cylinder, center = (0,0,0.24)\n",
      "          radius 0.223448, height 5, axis (0, 0, 1)\n",
      "          dielectric constant epsilon diagonal = (1,1,1)\n",
      "time for set_epsilon = 0.132098 s\n",
      "-----------\n",
      "run 0 finished at t = 200.0 (8000 timesteps)\n",
      "MPB solved for frequency_1(0,0,0.645161) = 0.645161 after 6 iters\n",
      "Dominant planewave for band 1: (0.000000,0.000000,0.645161)\n"
     ]
    },
    {
     "name": "stderr",
     "output_type": "stream",
     "text": [
      " 93%|██████████████████████████████████████████████████████████████████████████████████████████████████████████████████████████████████████████████████████████████████▍           | 28/30 [00:35<00:02,  1.30s/it]Warning: grid volume is not an integer number of pixels; cell size will be rounded to nearest pixel.\n"
     ]
    },
    {
     "name": "stdout",
     "output_type": "stream",
     "text": [
      "i= 27,radius=0.22344827586206897\n",
      "-----------\n",
      "Initializing structure...\n",
      "Halving computational cell along direction x\n",
      "Halving computational cell along direction y\n",
      "time for choose_chunkdivision = 0.000898123 s\n",
      "Working in 3D dimensions.\n",
      "Computational cell is 0.5 x 0.5 x 7.65 with resolution 20\n",
      "     block, center = (0,0,0.24)\n",
      "          size (1e+20,1e+20,7.64)\n",
      "          axes (1,0,0), (0,1,0), (0,0,1)\n",
      "          dielectric constant epsilon diagonal = (2.1025,2.1025,2.1025)\n",
      "     block, center = (0,0,2.89)\n",
      "          size (1e+20,1e+20,0.3)\n",
      "          axes (1,0,0), (0,1,0), (0,0,1)\n",
      "          dielectric constant epsilon diagonal = (1,1,1)\n",
      "     cylinder, center = (0,0,0.24)\n",
      "          radius 0.231724, height 5, axis (0, 0, 1)\n",
      "          dielectric constant epsilon diagonal = (1,1,1)\n",
      "time for set_epsilon = 0.120222 s\n",
      "-----------\n",
      "run 0 finished at t = 200.0 (8000 timesteps)\n",
      "MPB solved for frequency_1(0,0,0.645161) = 0.645161 after 6 iters\n",
      "Dominant planewave for band 1: (0.000000,0.000000,0.645161)\n"
     ]
    },
    {
     "name": "stderr",
     "output_type": "stream",
     "text": [
      " 97%|████████████████████████████████████████████████████████████████████████████████████████████████████████████████████████████████████████████████████████████████████████▏     | 29/30 [00:36<00:01,  1.29s/it]Warning: grid volume is not an integer number of pixels; cell size will be rounded to nearest pixel.\n"
     ]
    },
    {
     "name": "stdout",
     "output_type": "stream",
     "text": [
      "i= 28,radius=0.2317241379310345\n",
      "-----------\n",
      "Initializing structure...\n",
      "Halving computational cell along direction x\n",
      "Halving computational cell along direction y\n",
      "time for choose_chunkdivision = 0.00101995 s\n",
      "Working in 3D dimensions.\n",
      "Computational cell is 0.5 x 0.5 x 7.65 with resolution 20\n",
      "     block, center = (0,0,0.24)\n",
      "          size (1e+20,1e+20,7.64)\n",
      "          axes (1,0,0), (0,1,0), (0,0,1)\n",
      "          dielectric constant epsilon diagonal = (2.1025,2.1025,2.1025)\n",
      "     block, center = (0,0,2.89)\n",
      "          size (1e+20,1e+20,0.3)\n",
      "          axes (1,0,0), (0,1,0), (0,0,1)\n",
      "          dielectric constant epsilon diagonal = (1,1,1)\n",
      "     cylinder, center = (0,0,0.24)\n",
      "          radius 0.24, height 5, axis (0, 0, 1)\n",
      "          dielectric constant epsilon diagonal = (1,1,1)\n",
      "time for set_epsilon = 0.092869 s\n",
      "-----------\n",
      "run 0 finished at t = 200.0 (8000 timesteps)\n",
      "MPB solved for frequency_1(0,0,0.645161) = 0.645161 after 6 iters\n",
      "Dominant planewave for band 1: (0.000000,0.000000,0.645161)\n"
     ]
    },
    {
     "name": "stderr",
     "output_type": "stream",
     "text": [
      "                                                                                                                                                                                                                   \r"
     ]
    }
   ],
   "source": [
    "sim.run(until=200)\n",
    "\n",
    "initial_flux = mp.get_fluxes(flux_object)[0]     # initial flux\n",
    "sim.reset_meep()\n",
    "\n",
    "pbar = tqdm(total=num,leave=False)\n",
    "for i,radius in enumerate(np.linspace(min,max,num=num)):\n",
    "\n",
    "    geometry.append(mp.Cylinder(radius=radius,\n",
    "                        height=height_hole,\n",
    "                        axis=mp.Vector3(0,0,1),\n",
    "                        center=mp.Vector3(0,0,center_hole),\n",
    "                        material=mp.Medium(index=n_air)))\n",
    "                                \n",
    "    #geometry=mp.Cylinder(radius=radius,\n",
    "\n",
    "\n",
    "    sim = mp.Simulation(cell_size=cell_size,\n",
    "                        geometry=geometry,\n",
    "                        sources=sources,\n",
    "                        k_point=k_point,\n",
    "                        boundary_layers=pml_layers,\n",
    "                        symmetries=symmetries,\n",
    "                        resolution=resolution)\n",
    "\n",
    "    flux_object = sim.add_flux(freq, df, nfreq, fr)  \n",
    "\n",
    "    sim.run(until=200)\n",
    "    \n",
    "    res = sim.get_eigenmode_coefficients(flux_object, [1], eig_parity=mp.ODD_Y)\n",
    "    coeffs = res.alpha\n",
    "\n",
    "    flux = abs(coeffs[0,0,0]**2)\n",
    "    phase = np.angle(coeffs[0,0,0]) \n",
    "    \n",
    "    data[0,i] = radius\n",
    "    data[1,i] = flux\n",
    "    data[2,i] = phase\n",
    "\n",
    "    \n",
    "    if(radius!=max):\n",
    "        sim.reset_meep()\n",
    "        print(f\"i= {i},radius={radius}\")\n",
    "        geometry.pop(-1)\n",
    "    pbar.update(1)\n",
    "pbar.close()\n"
   ]
  },
  {
   "cell_type": "code",
   "execution_count": 80,
   "id": "85d592d1",
   "metadata": {},
   "outputs": [
    {
     "name": "stderr",
     "output_type": "stream",
     "text": [
      "Warning: grid volume is not an integer number of pixels; cell size will be rounded to nearest pixel.\n"
     ]
    },
    {
     "name": "stdout",
     "output_type": "stream",
     "text": [
      "     block, center = (0,0,0.24)\n",
      "          size (1e+20,1e+20,7.64)\n",
      "          axes (1,0,0), (0,1,0), (0,0,1)\n",
      "          dielectric constant epsilon diagonal = (2.1025,2.1025,2.1025)\n",
      "     block, center = (0,0,2.89)\n",
      "          size (1e+20,1e+20,0.3)\n",
      "          axes (1,0,0), (0,1,0), (0,0,1)\n",
      "          dielectric constant epsilon diagonal = (1,1,1)\n",
      "     cylinder, center = (0,0,0.24)\n",
      "          radius 0.24, height 5, axis (0, 0, 1)\n",
      "          dielectric constant epsilon diagonal = (1,1,1)\n"
     ]
    },
    {
     "data": {
      "image/png": "[encoded data removed]",
      "text/plain": [
       "<Figure size 1000x1000 with 1 Axes>"
      ]
     },
     "metadata": {},
     "output_type": "display_data"
    }
   ],
   "source": [
    "# plot an x-z cross section\n",
    "\n",
    "plt.figure(figsize=(10,10))\n",
    "plot_plane = mp.Volume(center=mp.Vector3(0,0.0*a,0),\n",
    "                            size=mp.Vector3(a,0,cell_z))\n",
    "field_func = lambda x: 20*np.log10(np.abs(x))\n",
    "sim.plot2D(output_plane=plot_plane\n",
    "           #fields=mp.Ey\n",
    "           )\n",
    "plt.grid(False)"
   ]
  },
  {
   "cell_type": "code",
   "execution_count": 81,
   "id": "e6d7e6e7-c489-474e-9156-fb3bcfd1aac5",
   "metadata": {},
   "outputs": [
    {
     "data": {
      "text/plain": [
       "30"
      ]
     },
     "execution_count": 81,
     "metadata": {},
     "output_type": "execute_result"
    }
   ],
   "source": [
    "len(data[1])"
   ]
  },
  {
   "cell_type": "code",
   "execution_count": 82,
   "id": "761619e8",
   "metadata": {},
   "outputs": [
    {
     "data": {
      "image/png": "[encoded data removed]",
      "text/plain": [
       "<Figure size 800x500 with 2 Axes>"
      ]
     },
     "metadata": {},
     "output_type": "display_data"
    }
   ],
   "source": [
    "radii = data[0,:]\n",
    "flux_list = data[1,0:] / initial_flux\n",
    "phase_list = data[2,0:]\n",
    "\n",
    "#plt.style.use('seaborn')\n",
    "\n",
    "results = {\"radii\": radii, \"flux\": flux_list, \"phase\": phase_list}\n",
    "# this section plots radius vs. phas and transmission\n",
    "\n",
    "tickfontsize=22\n",
    "labelfontsize=26\n",
    "titlefontsize=30\n",
    "\n",
    "fig,ax = plt.subplots(figsize=(8,5)) # may want to change. Also see DPI keyword\n",
    "\n",
    "fig.suptitle(\"Meta-atom Transmission\",fontsize=titlefontsize)\n",
    "\n",
    "#ax.set_title(\"Transmission Magnitude\",fontsize=titlefontsize)\n",
    "\n",
    "ax.set_xlabel(\"Radius (nm)\",fontsize=labelfontsize)\n",
    "ax.set_xticks([0.000,0.050,0.100,0.150,0.200,0.250])\n",
    "ax.set_xticklabels([0,50,100,150,200,250],fontsize=tickfontsize)\n",
    "ax.set_ylim([0,1])\n",
    "ax.set_ylabel(r'Percent Transmitted ($\\%$)',fontsize=labelfontsize, color = 'blue')\n",
    "#ax.plot(radii,flux_list,'b',label='Transmission')\n",
    "ax.plot(radii, flux_list, 'b', label='Transmission')\n",
    "ax.tick_params(axis='y', labelcolor = 'blue')\n",
    "\n",
    "ax.set_yticks([0,0.2,0.4,0.6,0.8,1])\n",
    "ax.set_yticklabels([0, 20,40,60,80,100],fontsize=tickfontsize)\n",
    "#ax.set_yticks([0.6,0.7,0.8,0.9,1])\n",
    "#ax.set_yticklabels([60,70,80,90,100],fontsize=tickfontsize)\n",
    "\n",
    "twin1 = ax.twinx()ight_space, 3)\n",
    "\n",
    "z_air = height_space\n",
    "\n",
    "center_siox = round(0.5*(pml_thickness + height_siox) - 0.5*cell_z, 3)\n",
    "center_hole = round(pml_thickness + height_siox + 0.5*height_hole\n",
    "                    - 0.5*cell_z, 3) \n",
    "center_air = round(0.5*(height_hole + height_space + pml_thickness) \n",
    "                    + (pml_thickness + height_siox) - 0.5*cell_z, 3)\n",
    "\n",
    "#z_siox = pml_thickness + height_siox +height_space\n",
    "\n",
    "\n",
    "#ax[1].set_title(\"Transmission Phase\",fontsize=titlefontsize)S\n",
    "#ax[1].set_xlabel(\"Radius (nm)\",fontsize=labelfontsize)\n",
    "#ax[1].set_xticks([0.075,0.100,0.125,0.150,0.175,0.200,0.225,0.250])cd meep\n",
    "\n",
    "#ax[1].set_xticklabels([75,100,125,150,175,200,225,250],fontsize=tickfontsize)\n",
    "twin1.set_ylim([-np.pi,np.pi])\n",
    "twin1.set_ylabel(r'Phase Delay (rad)',fontsize=labelfontsize, color = 'red')\n",
    "twin1.set_yticks([-np.pi, -(0.5*np.pi),0, np.pi / 2, np.pi])\n",
    "twin1.set_yticklabels([r'-$\\pi$',r'-$\\frac{\\pi}{2}$',r'0',r'$\\frac{\\pi}{2}$',r'$\\pi$'],fontsize=tickfontsize+4)\n",
    "twin1.plot(radii,phase_list,'r',label='Phase')\n",
    "twin1.tick_params(axis='y', labelcolor = 'red')\n",
    "#ax[1].legend(loc=\"upper right\")\n",
    "#plt.legend(loc=\"upper right\")\n",
    "plt.grid(False)\n",
    "plt.tight_layout()\n",
    "\n",
    "\n"
   ]
  }
 ],
 "metadata": {
  "kernelspec": {
   "display_name": "Python 3 (ipykernel)",
   "language": "python",
   "name": "python3"
  },
  "language_info": {
   "codemirror_mode": {
    "name": "ipython",
    "version": 3
   },
   "file_extension": ".py",
   "mimetype": "text/x-python",
   "name": "python",
   "nbconvert_exporter": "python",
   "pygments_lexer": "ipython3",
   "version": "3.10.10"
  }
 },
 "nbformat": 4,
 "nbformat_minor": 5
}
